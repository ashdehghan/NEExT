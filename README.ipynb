{
 "cells": [
  {
   "cell_type": "markdown",
   "id": "bbfbadf5-981c-4cd0-b2f5-71461876a485",
   "metadata": {},
   "source": [
    "# NEExT\n",
    "\n",
    "### Network Embedding Exploration Tool\n",
    "\n",
    "NEExT is a tool for exploring and building graph embeddings. This tool allows for:\n",
    "* Cleansing and standardizing a collection of graph data.\n",
    "* Creating node and structural features for nodes in the graph collection.\n",
    "* Creating embeddings for graphs.\n",
    "\n",
    "### Installation Process\n",
    "NEExT uses Python 3.x (currently tested using Python 3.11).\n",
    "You can install NEExT using the following:\n",
    "```console\n",
    "pip install NEExT\n",
    "```\n",
    "\n",
    "### Graph Data Format\n",
    "You can use a few different data formats to upload data into NEExT. Currently, it allows for:\n",
    "* CSV files\n",
    "* NetworkX Objects (comming soon)\n",
    "See below for examples of using different data formats.\n",
    "\n",
    "#### Using CSV Files\n",
    "Data can be categorized into the following groups:\n",
    "* Edge File (captures which nodes are connected to which nodes)\n",
    "* Node Graph Mapping (captures which belongs to which graph)\n",
    "* Graph Label Mapping [optional] (captures labels for each graph)\n",
    "* Node Features [optional] (captures the features for each node)\n",
    "\n",
    "Below we show example of how each of the above files should be formatted:\n",
    "\n",
    "##### Edge File:\n",
    "|node_a|node_b|\n",
    "|---|---|\n",
    "|1|2|\n",
    "|3|2|\n",
    "|.|.|\n",
    "\n",
    "#### Node Graph Mapping:\n",
    "|node_id|graph_id|\n",
    "|---|---|\n",
    "|0|1|\n",
    "|1|1|\n",
    "|2|1|\n",
    "|3|2|\n",
    "|4|2|\n",
    "|.|.|\n",
    "\n",
    "#### Graph Label Mapping:\n",
    "|graph_id|graph_label|\n",
    "|---|---|\n",
    "|0|0|\n",
    "|1|0|\n",
    "|2|1|\n",
    "|3|0|\n",
    "|4|1|\n",
    "|.|.|\n",
    "\n",
    "#### Node Features:\n",
    "|node_id|node_feat_0|node_feat_1|...|\n",
    "|---|---|---|---|\n",
    "|0|0.34| 3.2| .|\n",
    "|1|0.1| 2.9| .|\n",
    "|2|1.9| 1.3| .|\n",
    "|3|0.0| 2.2| .|\n",
    "|4|11.2| 12.3| .|\n",
    "|.|.| .| .|\n",
    "\n",
    "Note that NEExT can not handle non-numerical features. Some feature engineering on the node features must be done by the end-user.\n",
    "Data standardization, however, will be done.\n",
    "\n",
    "\n",
    "\n",
    "\n"
   ]
  },
  {
   "cell_type": "markdown",
   "id": "bf5c70d2-e5f2-4718-83a5-b2700a741e1c",
   "metadata": {},
   "source": [
    "# NEExT Tutorial [Getting Started]"
   ]
  },
  {
   "cell_type": "markdown",
   "id": "cb439c6b-aeee-4bfd-878a-ac1cc1999dae",
   "metadata": {},
   "source": [
    "In this notebook, we showcase how to use NEExT to analyze graph embeddings."
   ]
  },
  {
   "cell_type": "code",
   "execution_count": 1,
   "id": "ceea0e83-9542-430c-a2f9-01c6f19325a0",
   "metadata": {},
   "outputs": [],
   "source": [
    "from NEExT.NEExT import NEExT"
   ]
  },
  {
   "cell_type": "markdown",
   "id": "d2944177-5c39-4b6c-bf63-ff53a0dc64f5",
   "metadata": {},
   "source": [
    "The following are link to some graph data, which we will use in this tutorial.\n",
    "Note that we have Graph Labels in this dataset, which are optional data, for using NEExT. The datasets were genearted using the ABCD Framework found here (https://github.com/bkamins/ABCDGraphGenerator.jl)"
   ]
  },
  {
   "cell_type": "markdown",
   "id": "18020620-6fe8-4044-b1b3-a9caee83a22b",
   "metadata": {},
   "source": [
    "## Loading Data"
   ]
  },
  {
   "cell_type": "markdown",
   "id": "87c54540-9287-4bad-afa4-073276011e66",
   "metadata": {},
   "source": [
    "First we deine a path to the datasets. They are `csv` files, with format as defined in the README file."
   ]
  },
  {
   "cell_type": "code",
   "execution_count": 2,
   "id": "cfe3e94b-0c7c-4a81-84ca-de86c7880060",
   "metadata": {},
   "outputs": [],
   "source": [
    "edge_file = \"https://raw.githubusercontent.com/elmspace/ugaf_experiments_data/main/abcd/xi_n/edge_file.csv\"\n",
    "graph_label_file = \"https://raw.githubusercontent.com/elmspace/ugaf_experiments_data/main/abcd/xi_n/graph_label_mapping_file.csv\"\n",
    "node_graph_mapping_file = \"https://raw.githubusercontent.com/elmspace/ugaf_experiments_data/main/abcd/xi_n/node_graph_mapping_file.csv\""
   ]
  },
  {
   "cell_type": "markdown",
   "id": "9b05139b-f698-4594-aae0-4aaec99b5f5a",
   "metadata": {},
   "source": [
    "Now we can instantiate a NEExT object."
   ]
  },
  {
   "cell_type": "code",
   "execution_count": 3,
   "id": "eeeca871-bf4c-4618-8c46-2d395aff849e",
   "metadata": {},
   "outputs": [],
   "source": [
    "nxt = NEExT(quiet_mode=\"on\")"
   ]
  },
  {
   "cell_type": "markdown",
   "id": "fadd3012-ac6f-49ac-84c0-d2b699137ed2",
   "metadata": {},
   "source": [
    "You can load data using the `load_data_from_csv` method:"
   ]
  },
  {
   "cell_type": "code",
   "execution_count": 4,
   "id": "b646b750-a26e-4527-a476-cd5e6a4e0aab",
   "metadata": {},
   "outputs": [],
   "source": [
    "nxt.load_data_from_csv(edge_file=edge_file, node_graph_mapping_file=node_graph_mapping_file, graph_label_file=graph_label_file)"
   ]
  },
  {
   "cell_type": "markdown",
   "id": "0aa77051-2ae6-48da-b038-80fe7ae09316",
   "metadata": {},
   "source": [
    "## Building Features"
   ]
  },
  {
   "cell_type": "markdown",
   "id": "6e1ee641-f245-49b9-a2c8-064742dd4f08",
   "metadata": {},
   "source": [
    "You can now compute various features on nodes of the subgraphs in the graph collection loaded above.<br>\n",
    "This can be done using the method `compute_graph_feature`. <br>\n",
    "To get the list of available node features, you can use the function `get_list_of_graph_features`."
   ]
  },
  {
   "cell_type": "code",
   "execution_count": 5,
   "id": "056bfc42-278c-470f-8000-18c4beb566f4",
   "metadata": {},
   "outputs": [
    {
     "data": {
      "text/plain": [
       "['lsme',\n",
       " 'self_walk',\n",
       " 'basic_expansion',\n",
       " 'basic_node_features',\n",
       " 'page_rank',\n",
       " 'degree_centrality',\n",
       " 'closeness_centrality',\n",
       " 'load_centrality',\n",
       " 'eigenvector_centrality',\n",
       " 'anomaly_score_CADA',\n",
       " 'normalized_anomaly_score_CADA',\n",
       " 'community_association_strength',\n",
       " 'normalized_within_module_degree',\n",
       " 'participation_coefficient']"
      ]
     },
     "execution_count": 5,
     "metadata": {},
     "output_type": "execute_result"
    }
   ],
   "source": [
    "nxt.get_list_of_graph_features()"
   ]
  },
  {
   "cell_type": "markdown",
   "id": "bec82b8f-20cc-4233-be79-bd15ec468b42",
   "metadata": {},
   "source": [
    "These are the type of node features you can compute on every node on each graph in the graph collection. <br>\n",
    "So for example, let's compute `page_rank`. We also need to defined what the feature vector size should be."
   ]
  },
  {
   "cell_type": "code",
   "execution_count": 6,
   "id": "0072c647-7bcc-48db-8882-664e96ac99f9",
   "metadata": {},
   "outputs": [],
   "source": [
    "nxt.compute_graph_feature(feat_name=\"page_rank\", feat_vect_len=4)"
   ]
  },
  {
   "cell_type": "markdown",
   "id": "ed80d105-53a9-4c87-8c2e-0542ad546dcd",
   "metadata": {},
   "source": [
    "To compute additional features, simply use the same function, and provide the length of the vector size.<br>\n",
    "Let's add degree centrality to the list of computed features."
   ]
  },
  {
   "cell_type": "code",
   "execution_count": 7,
   "id": "ffdb6a61-841c-40f8-a0a7-e607b9c049a6",
   "metadata": {},
   "outputs": [],
   "source": [
    "nxt.compute_graph_feature(feat_name=\"degree_centrality\", feat_vect_len=4)"
   ]
  },
  {
   "cell_type": "markdown",
   "id": "88b2217b-bce8-40e0-a6f9-8c6efd68a55f",
   "metadata": {},
   "source": [
    "## Building Global Feature Object"
   ]
  },
  {
   "cell_type": "markdown",
   "id": "11f1e418-e28d-41f8-ba95-9ba2780550d8",
   "metadata": {},
   "source": [
    "Right now, we have 2 features computed on every node, for every graph. We can use these features to construct a overall pooled feature vector, which can be used to construct graph embeddings. <br>\n",
    "To do this, we can pool the features using the `pool_grpah_features` method."
   ]
  },
  {
   "cell_type": "code",
   "execution_count": 8,
   "id": "dc31a0fc-94ff-480e-a847-24d8767a6c82",
   "metadata": {},
   "outputs": [],
   "source": [
    "nxt.pool_graph_features(pool_method=\"concat\")"
   ]
  },
  {
   "cell_type": "markdown",
   "id": "ca9a7871-f00d-4550-b4c2-98606d2ccb2a",
   "metadata": {},
   "source": [
    "The overall feature (which we call global feature) is a concatenated vector of whatever features you have computed on the graph. In this example it would be a 8 dimensional vector of `page_rank` and `degree_centrality`.<br>\n",
    "You can access the global vector by using the `get_global_feature_vector` method."
   ]
  },
  {
   "cell_type": "code",
   "execution_count": 9,
   "id": "01e2ca8e-4454-4454-8798-afc2f72f650e",
   "metadata": {},
   "outputs": [
    {
     "data": {
      "text/html": [
       "<div>\n",
       "<style scoped>\n",
       "    .dataframe tbody tr th:only-of-type {\n",
       "        vertical-align: middle;\n",
       "    }\n",
       "\n",
       "    .dataframe tbody tr th {\n",
       "        vertical-align: top;\n",
       "    }\n",
       "\n",
       "    .dataframe thead th {\n",
       "        text-align: right;\n",
       "    }\n",
       "</style>\n",
       "<table border=\"1\" class=\"dataframe\">\n",
       "  <thead>\n",
       "    <tr style=\"text-align: right;\">\n",
       "      <th></th>\n",
       "      <th>node_id</th>\n",
       "      <th>graph_id</th>\n",
       "      <th>feat_page_rank_0</th>\n",
       "      <th>feat_page_rank_1</th>\n",
       "      <th>feat_page_rank_2</th>\n",
       "      <th>feat_page_rank_3</th>\n",
       "      <th>feat_degree_centrality_0</th>\n",
       "      <th>feat_degree_centrality_1</th>\n",
       "      <th>feat_degree_centrality_2</th>\n",
       "      <th>feat_degree_centrality_3</th>\n",
       "    </tr>\n",
       "  </thead>\n",
       "  <tbody>\n",
       "    <tr>\n",
       "      <th>0</th>\n",
       "      <td>0</td>\n",
       "      <td>0</td>\n",
       "      <td>4.014656</td>\n",
       "      <td>1.825315</td>\n",
       "      <td>2.003575</td>\n",
       "      <td>2.062771</td>\n",
       "      <td>4.094288</td>\n",
       "      <td>1.723672</td>\n",
       "      <td>2.023497</td>\n",
       "      <td>2.122162</td>\n",
       "    </tr>\n",
       "    <tr>\n",
       "      <th>1</th>\n",
       "      <td>1</td>\n",
       "      <td>0</td>\n",
       "      <td>2.651835</td>\n",
       "      <td>1.745939</td>\n",
       "      <td>2.042548</td>\n",
       "      <td>2.045115</td>\n",
       "      <td>2.682074</td>\n",
       "      <td>1.689427</td>\n",
       "      <td>2.023497</td>\n",
       "      <td>2.082461</td>\n",
       "    </tr>\n",
       "    <tr>\n",
       "      <th>2</th>\n",
       "      <td>2</td>\n",
       "      <td>0</td>\n",
       "      <td>2.672592</td>\n",
       "      <td>1.696518</td>\n",
       "      <td>2.058271</td>\n",
       "      <td>2.071704</td>\n",
       "      <td>2.682074</td>\n",
       "      <td>1.578132</td>\n",
       "      <td>2.120736</td>\n",
       "      <td>2.131372</td>\n",
       "    </tr>\n",
       "  </tbody>\n",
       "</table>\n",
       "</div>"
      ],
      "text/plain": [
       "   node_id  graph_id  feat_page_rank_0  feat_page_rank_1  feat_page_rank_2  \\\n",
       "0        0         0          4.014656          1.825315          2.003575   \n",
       "1        1         0          2.651835          1.745939          2.042548   \n",
       "2        2         0          2.672592          1.696518          2.058271   \n",
       "\n",
       "   feat_page_rank_3  feat_degree_centrality_0  feat_degree_centrality_1  \\\n",
       "0          2.062771                  4.094288                  1.723672   \n",
       "1          2.045115                  2.682074                  1.689427   \n",
       "2          2.071704                  2.682074                  1.578132   \n",
       "\n",
       "   feat_degree_centrality_2  feat_degree_centrality_3  \n",
       "0                  2.023497                  2.122162  \n",
       "1                  2.023497                  2.082461  \n",
       "2                  2.120736                  2.131372  "
      ]
     },
     "execution_count": 9,
     "metadata": {},
     "output_type": "execute_result"
    }
   ],
   "source": [
    "df = nxt.get_global_feature_vector()\n",
    "df.head(3)"
   ]
  },
  {
   "cell_type": "markdown",
   "id": "08fa44ac-316b-4313-8dd8-119afab149c8",
   "metadata": {},
   "source": [
    "## Dimensionality Reduction"
   ]
  },
  {
   "cell_type": "markdown",
   "id": "d67d7d1d-edb2-4ff3-b685-9a307d46cd84",
   "metadata": {},
   "source": [
    "We may wish to reduce the number of dimensions of our data, which could help downstream tasks such as Embedding generation or machine learning tasks. This can be done using the `apply_dim_reduc_to_graph_feats`."
   ]
  },
  {
   "cell_type": "code",
   "execution_count": 10,
   "id": "341b89ab-3158-47a7-9453-6e2d11f0b159",
   "metadata": {},
   "outputs": [],
   "source": [
    "nxt.apply_dim_reduc_to_graph_feats(dim_size=4, reducer_type=\"pca\")"
   ]
  },
  {
   "cell_type": "markdown",
   "id": "6037267d-9e56-4a1b-afc3-1e3dd1339cdc",
   "metadata": {},
   "source": [
    "If we take a look at the `global feature vector` we can see that it is upaded with the new size of dimension."
   ]
  },
  {
   "cell_type": "code",
   "execution_count": 11,
   "id": "681cbb6d-0be4-40da-9f0c-8956dbd499d6",
   "metadata": {},
   "outputs": [
    {
     "data": {
      "text/html": [
       "<div>\n",
       "<style scoped>\n",
       "    .dataframe tbody tr th:only-of-type {\n",
       "        vertical-align: middle;\n",
       "    }\n",
       "\n",
       "    .dataframe tbody tr th {\n",
       "        vertical-align: top;\n",
       "    }\n",
       "\n",
       "    .dataframe thead th {\n",
       "        text-align: right;\n",
       "    }\n",
       "</style>\n",
       "<table border=\"1\" class=\"dataframe\">\n",
       "  <thead>\n",
       "    <tr style=\"text-align: right;\">\n",
       "      <th></th>\n",
       "      <th>node_id</th>\n",
       "      <th>graph_id</th>\n",
       "      <th>feat_0</th>\n",
       "      <th>feat_1</th>\n",
       "      <th>feat_2</th>\n",
       "      <th>feat_3</th>\n",
       "    </tr>\n",
       "  </thead>\n",
       "  <tbody>\n",
       "    <tr>\n",
       "      <th>0</th>\n",
       "      <td>0</td>\n",
       "      <td>0</td>\n",
       "      <td>2.560267</td>\n",
       "      <td>3.463473</td>\n",
       "      <td>1.190519</td>\n",
       "      <td>1.075334</td>\n",
       "    </tr>\n",
       "    <tr>\n",
       "      <th>1</th>\n",
       "      <td>1</td>\n",
       "      <td>0</td>\n",
       "      <td>2.219077</td>\n",
       "      <td>1.481326</td>\n",
       "      <td>1.365794</td>\n",
       "      <td>0.532872</td>\n",
       "    </tr>\n",
       "    <tr>\n",
       "      <th>2</th>\n",
       "      <td>2</td>\n",
       "      <td>0</td>\n",
       "      <td>2.225506</td>\n",
       "      <td>1.488865</td>\n",
       "      <td>1.925751</td>\n",
       "      <td>0.467088</td>\n",
       "    </tr>\n",
       "    <tr>\n",
       "      <th>3</th>\n",
       "      <td>3</td>\n",
       "      <td>0</td>\n",
       "      <td>2.129568</td>\n",
       "      <td>0.363245</td>\n",
       "      <td>-0.311636</td>\n",
       "      <td>1.752476</td>\n",
       "    </tr>\n",
       "    <tr>\n",
       "      <th>4</th>\n",
       "      <td>4</td>\n",
       "      <td>0</td>\n",
       "      <td>2.009336</td>\n",
       "      <td>0.529704</td>\n",
       "      <td>3.251858</td>\n",
       "      <td>-1.665345</td>\n",
       "    </tr>\n",
       "  </tbody>\n",
       "</table>\n",
       "</div>"
      ],
      "text/plain": [
       "   node_id  graph_id    feat_0    feat_1    feat_2    feat_3\n",
       "0        0         0  2.560267  3.463473  1.190519  1.075334\n",
       "1        1         0  2.219077  1.481326  1.365794  0.532872\n",
       "2        2         0  2.225506  1.488865  1.925751  0.467088\n",
       "3        3         0  2.129568  0.363245 -0.311636  1.752476\n",
       "4        4         0  2.009336  0.529704  3.251858 -1.665345"
      ]
     },
     "execution_count": 11,
     "metadata": {},
     "output_type": "execute_result"
    }
   ],
   "source": [
    "df = nxt.get_global_feature_vector()\n",
    "df.head()"
   ]
  },
  {
   "cell_type": "markdown",
   "id": "b8265377-847b-4f97-a9c1-1888a3e664e7",
   "metadata": {},
   "source": [
    "You still have access to the pre-dimensionality reduction global vector by using the method `get_archived_global_feature_vector`."
   ]
  },
  {
   "cell_type": "code",
   "execution_count": 12,
   "id": "309f478c-d47f-487a-8aed-eaf3a551593d",
   "metadata": {},
   "outputs": [
    {
     "data": {
      "text/html": [
       "<div>\n",
       "<style scoped>\n",
       "    .dataframe tbody tr th:only-of-type {\n",
       "        vertical-align: middle;\n",
       "    }\n",
       "\n",
       "    .dataframe tbody tr th {\n",
       "        vertical-align: top;\n",
       "    }\n",
       "\n",
       "    .dataframe thead th {\n",
       "        text-align: right;\n",
       "    }\n",
       "</style>\n",
       "<table border=\"1\" class=\"dataframe\">\n",
       "  <thead>\n",
       "    <tr style=\"text-align: right;\">\n",
       "      <th></th>\n",
       "      <th>node_id</th>\n",
       "      <th>graph_id</th>\n",
       "      <th>feat_page_rank_0</th>\n",
       "      <th>feat_page_rank_1</th>\n",
       "      <th>feat_page_rank_2</th>\n",
       "      <th>feat_page_rank_3</th>\n",
       "      <th>feat_degree_centrality_0</th>\n",
       "      <th>feat_degree_centrality_1</th>\n",
       "      <th>feat_degree_centrality_2</th>\n",
       "      <th>feat_degree_centrality_3</th>\n",
       "    </tr>\n",
       "  </thead>\n",
       "  <tbody>\n",
       "    <tr>\n",
       "      <th>0</th>\n",
       "      <td>0</td>\n",
       "      <td>0</td>\n",
       "      <td>4.014656</td>\n",
       "      <td>1.825315</td>\n",
       "      <td>2.003575</td>\n",
       "      <td>2.062771</td>\n",
       "      <td>4.094288</td>\n",
       "      <td>1.723672</td>\n",
       "      <td>2.023497</td>\n",
       "      <td>2.122162</td>\n",
       "    </tr>\n",
       "    <tr>\n",
       "      <th>1</th>\n",
       "      <td>1</td>\n",
       "      <td>0</td>\n",
       "      <td>2.651835</td>\n",
       "      <td>1.745939</td>\n",
       "      <td>2.042548</td>\n",
       "      <td>2.045115</td>\n",
       "      <td>2.682074</td>\n",
       "      <td>1.689427</td>\n",
       "      <td>2.023497</td>\n",
       "      <td>2.082461</td>\n",
       "    </tr>\n",
       "    <tr>\n",
       "      <th>2</th>\n",
       "      <td>2</td>\n",
       "      <td>0</td>\n",
       "      <td>2.672592</td>\n",
       "      <td>1.696518</td>\n",
       "      <td>2.058271</td>\n",
       "      <td>2.071704</td>\n",
       "      <td>2.682074</td>\n",
       "      <td>1.578132</td>\n",
       "      <td>2.120736</td>\n",
       "      <td>2.131372</td>\n",
       "    </tr>\n",
       "    <tr>\n",
       "      <th>3</th>\n",
       "      <td>3</td>\n",
       "      <td>0</td>\n",
       "      <td>1.968745</td>\n",
       "      <td>2.028736</td>\n",
       "      <td>1.879435</td>\n",
       "      <td>2.154684</td>\n",
       "      <td>1.975967</td>\n",
       "      <td>2.082671</td>\n",
       "      <td>1.851304</td>\n",
       "      <td>2.161749</td>\n",
       "    </tr>\n",
       "    <tr>\n",
       "      <th>4</th>\n",
       "      <td>4</td>\n",
       "      <td>0</td>\n",
       "      <td>1.940827</td>\n",
       "      <td>1.384500</td>\n",
       "      <td>2.274468</td>\n",
       "      <td>1.972817</td>\n",
       "      <td>1.975967</td>\n",
       "      <td>1.355541</td>\n",
       "      <td>2.346133</td>\n",
       "      <td>1.966471</td>\n",
       "    </tr>\n",
       "  </tbody>\n",
       "</table>\n",
       "</div>"
      ],
      "text/plain": [
       "   node_id  graph_id  feat_page_rank_0  feat_page_rank_1  feat_page_rank_2  \\\n",
       "0        0         0          4.014656          1.825315          2.003575   \n",
       "1        1         0          2.651835          1.745939          2.042548   \n",
       "2        2         0          2.672592          1.696518          2.058271   \n",
       "3        3         0          1.968745          2.028736          1.879435   \n",
       "4        4         0          1.940827          1.384500          2.274468   \n",
       "\n",
       "   feat_page_rank_3  feat_degree_centrality_0  feat_degree_centrality_1  \\\n",
       "0          2.062771                  4.094288                  1.723672   \n",
       "1          2.045115                  2.682074                  1.689427   \n",
       "2          2.071704                  2.682074                  1.578132   \n",
       "3          2.154684                  1.975967                  2.082671   \n",
       "4          1.972817                  1.975967                  1.355541   \n",
       "\n",
       "   feat_degree_centrality_2  feat_degree_centrality_3  \n",
       "0                  2.023497                  2.122162  \n",
       "1                  2.023497                  2.082461  \n",
       "2                  2.120736                  2.131372  \n",
       "3                  1.851304                  2.161749  \n",
       "4                  2.346133                  1.966471  "
      ]
     },
     "execution_count": 12,
     "metadata": {},
     "output_type": "execute_result"
    }
   ],
   "source": [
    "df = nxt.get_archived_global_feature_vector()\n",
    "df.head()"
   ]
  },
  {
   "cell_type": "markdown",
   "id": "a46a51a3-43a7-46c2-aff2-554e40dd4e8e",
   "metadata": {},
   "source": [
    "## Building Graph Embeddings"
   ]
  },
  {
   "cell_type": "markdown",
   "id": "ea91383b-9c9c-4713-bb4e-3f88c4dd5a3e",
   "metadata": {},
   "source": [
    "This function returns a Pandas DataFrame, with the collection features and how they map to the graphs and nodes. <br>\n",
    "One thing to note is that the data is standardized across all graphs."
   ]
  },
  {
   "cell_type": "markdown",
   "id": "89daac06-e76c-486b-b7f2-e17d4380d1ec",
   "metadata": {},
   "source": [
    "We can use the features computed on the graphs to build graph embeddings. To see what graph embedding engines are available to use, we can use the `get_list_of_graph_embedding_engines` function."
   ]
  },
  {
   "cell_type": "code",
   "execution_count": 13,
   "id": "84c3aae5-fdb4-47ab-a4ff-603b194702bd",
   "metadata": {},
   "outputs": [
    {
     "data": {
      "text/plain": [
       "['approx_wasserstein', 'wasserstein', 'sinkhornvectorizer']"
      ]
     },
     "execution_count": 13,
     "metadata": {},
     "output_type": "execute_result"
    }
   ],
   "source": [
    "nxt.get_list_of_graph_embedding_engines()"
   ]
  },
  {
   "cell_type": "markdown",
   "id": "1c99fd3b-f4a0-4382-b9ff-7bceec225e12",
   "metadata": {},
   "source": [
    "Now, let's build a 3 dimensional embedding for every graph in graph collection using the Approximate Wasserstein embedding engine. This can be done by using the method `build_graph_embedding`."
   ]
  },
  {
   "cell_type": "code",
   "execution_count": 14,
   "id": "eb765783-7016-493b-b2e2-69926d1e6f04",
   "metadata": {},
   "outputs": [],
   "source": [
    "nxt.build_graph_embedding(emb_dim_len=3, emb_engine=\"approx_wasserstein\")"
   ]
  },
  {
   "cell_type": "markdown",
   "id": "0ffb003b-560b-4329-b38c-06b35b41ac18",
   "metadata": {},
   "source": [
    "You can access the embedding results by using the method `get_graph_embeddings`."
   ]
  },
  {
   "cell_type": "code",
   "execution_count": 15,
   "id": "3b6504b4-f7fc-49e5-b696-4ce09fade6a8",
   "metadata": {},
   "outputs": [
    {
     "data": {
      "text/html": [
       "<div>\n",
       "<style scoped>\n",
       "    .dataframe tbody tr th:only-of-type {\n",
       "        vertical-align: middle;\n",
       "    }\n",
       "\n",
       "    .dataframe tbody tr th {\n",
       "        vertical-align: top;\n",
       "    }\n",
       "\n",
       "    .dataframe thead th {\n",
       "        text-align: right;\n",
       "    }\n",
       "</style>\n",
       "<table border=\"1\" class=\"dataframe\">\n",
       "  <thead>\n",
       "    <tr style=\"text-align: right;\">\n",
       "      <th></th>\n",
       "      <th>emb_0</th>\n",
       "      <th>emb_1</th>\n",
       "      <th>emb_2</th>\n",
       "      <th>graph_id</th>\n",
       "    </tr>\n",
       "  </thead>\n",
       "  <tbody>\n",
       "    <tr>\n",
       "      <th>0</th>\n",
       "      <td>2.121117</td>\n",
       "      <td>1.715908</td>\n",
       "      <td>0.420738</td>\n",
       "      <td>0</td>\n",
       "    </tr>\n",
       "    <tr>\n",
       "      <th>1</th>\n",
       "      <td>0.927579</td>\n",
       "      <td>1.293987</td>\n",
       "      <td>1.120732</td>\n",
       "      <td>1</td>\n",
       "    </tr>\n",
       "    <tr>\n",
       "      <th>2</th>\n",
       "      <td>0.070954</td>\n",
       "      <td>1.024027</td>\n",
       "      <td>0.343173</td>\n",
       "      <td>2</td>\n",
       "    </tr>\n",
       "    <tr>\n",
       "      <th>3</th>\n",
       "      <td>-0.682049</td>\n",
       "      <td>0.990811</td>\n",
       "      <td>0.106760</td>\n",
       "      <td>3</td>\n",
       "    </tr>\n",
       "    <tr>\n",
       "      <th>4</th>\n",
       "      <td>-1.281254</td>\n",
       "      <td>0.773949</td>\n",
       "      <td>0.212976</td>\n",
       "      <td>4</td>\n",
       "    </tr>\n",
       "  </tbody>\n",
       "</table>\n",
       "</div>"
      ],
      "text/plain": [
       "      emb_0     emb_1     emb_2  graph_id\n",
       "0  2.121117  1.715908  0.420738         0\n",
       "1  0.927579  1.293987  1.120732         1\n",
       "2  0.070954  1.024027  0.343173         2\n",
       "3 -0.682049  0.990811  0.106760         3\n",
       "4 -1.281254  0.773949  0.212976         4"
      ]
     },
     "execution_count": 15,
     "metadata": {},
     "output_type": "execute_result"
    }
   ],
   "source": [
    "df = nxt.get_graph_embeddings()\n",
    "df.head()"
   ]
  },
  {
   "cell_type": "markdown",
   "id": "cd534de4-7052-44f4-9c85-a50184fa5d9a",
   "metadata": {},
   "source": [
    "## Visualize Embeddings"
   ]
  },
  {
   "cell_type": "markdown",
   "id": "534ed1d2-b8fe-49cf-8476-80c5bed7fe67",
   "metadata": {},
   "source": [
    "You can use the builtin visualization function to gain quick insights into the performance of your embeddings. This can be done by using the method `visualize_graph_embedding`. If you have labels for your graph (like the case here), we can color the embedding distributions using the labels. By default, embeddings are not colored."
   ]
  },
  {
   "cell_type": "markdown",
   "id": "35da9379-a2db-44d0-9019-e0d99f36677a",
   "metadata": {},
   "source": [
    "## Using Sampled Sub-Graphs"
   ]
  },
  {
   "cell_type": "markdown",
   "id": "8646695f-f104-489a-8411-202db695dd8f",
   "metadata": {},
   "source": [
    "We may often have to deal with large graphs, both in the number of sub-graphs in the collection, and also the size of each graph. To allow for faster computation, we can sample each sub-graph and compute metrics and features for a fraction of nodes on each sub-graph. This can be done by using the method `build_node_sample_collection`. It takes as input the fraction of sampled nodes. Once this method is called all further computation will use the sampled node collection."
   ]
  },
  {
   "cell_type": "code",
   "execution_count": 16,
   "id": "b3de3e6d-706c-4823-af21-ff8841e3145c",
   "metadata": {},
   "outputs": [],
   "source": [
    "nxt.build_node_sample_collection(sample_rate=0.1)"
   ]
  },
  {
   "cell_type": "markdown",
   "id": "28346d34-4954-4727-b443-dc9ba7a41198",
   "metadata": {},
   "source": [
    "## Adding Custom Node Feature Function"
   ]
  },
  {
   "cell_type": "markdown",
   "id": "f76623dc-9289-43d4-8e26-31b56f9702da",
   "metadata": {},
   "source": [
    "You can define and load into `NEExT` you own node feature function. Below, we show an example of loading a custom function into `NEExT` and using it to compute node features. The only thing to keep in mind is the interface for the function, meaning the input and output format.\n",
    "\n",
    "#### Input:\n",
    "Your custom function should have the following inputs:\n",
    "```\n",
    "func(G, feat_vect_len):\n",
    "    ...\n",
    "```\n",
    "Where `G` is a `NetworkX` graph object and `feat_vect_len` is an `int` indicating the length of the node feature vector.\n",
    "#### Output:\n",
    "Your function should have the following output:\n",
    "```\n",
    "func(G, feat_vect_len):\n",
    "    ...\n",
    "    feat_vect = {node_id : [v1, v2, v3, ...], ...}\n",
    "    return feat_vect\n",
    "```\n",
    "Where the output is a `dict`, where the keys are the node ids and the values of list, with elements being the values of features for that node. The length of the feature vector should be the same as the input `feat_vect_len`.\n",
    "\n",
    "One thing to note is that, if you have applied `sampling` (as we have done above), `NEExT` will automatically load a sampled version of the graphs into your custom function. The NetworkX graph G passed to your function is a sub-graph with only a fraction of nodes, as defined by the sampling rate.\n",
    "\n",
    "Below, we show an example of:\n",
    "* Creating a custom function, where we have a feature vector of only zero (you can do something more complicated)\n",
    "* Loading the custom function into NEExT using `load_custom_node_feature_function` with two parameters (function and function_name)\n",
    "* Calling the custom function to compute features.\n",
    "* Concatinating the new features with the old one (from above)\n",
    "* Displaying the new gloabl feature DataFrame."
   ]
  },
  {
   "cell_type": "code",
   "execution_count": 21,
   "id": "7215def0-b585-4d57-8307-231303533ce6",
   "metadata": {},
   "outputs": [
    {
     "data": {
      "text/plain": [
       "['lsme',\n",
       " 'self_walk',\n",
       " 'basic_expansion',\n",
       " 'basic_node_features',\n",
       " 'page_rank',\n",
       " 'degree_centrality',\n",
       " 'closeness_centrality',\n",
       " 'load_centrality',\n",
       " 'eigenvector_centrality',\n",
       " 'anomaly_score_CADA',\n",
       " 'normalized_anomaly_score_CADA',\n",
       " 'community_association_strength',\n",
       " 'normalized_within_module_degree',\n",
       " 'participation_coefficient',\n",
       " 'my_custom_node_feature']"
      ]
     },
     "execution_count": 21,
     "metadata": {},
     "output_type": "execute_result"
    }
   ],
   "source": [
    "def my_custom_node_feature(G, feat_vect_len):\n",
    "    feat_vect = {}\n",
    "    for i in G.nodes:\n",
    "        feat_vect[i] = [0]*feat_vect_len\n",
    "    return feat_vect\n",
    "\n",
    "nxt.load_custom_node_feature_function(function=my_custom_node_feature, function_name=\"my_custom_node_feature\")\n",
    "nxt.get_list_of_graph_features()"
   ]
  },
  {
   "cell_type": "code",
   "execution_count": 22,
   "id": "bfe4064f-5c8a-4fc0-815b-32054ab93772",
   "metadata": {},
   "outputs": [],
   "source": [
    "nxt.compute_graph_feature(feat_name=\"my_custom_node_feature\", feat_vect_len=4)"
   ]
  },
  {
   "cell_type": "code",
   "execution_count": 23,
   "id": "75ccdebd-3116-4b59-a358-a030e91f3196",
   "metadata": {},
   "outputs": [],
   "source": [
    "nxt.pool_graph_features(pool_method=\"concat\")"
   ]
  },
  {
   "cell_type": "code",
   "execution_count": 24,
   "id": "2d2adedd-3fb3-4d17-9b79-173f5191f4fc",
   "metadata": {},
   "outputs": [
    {
     "data": {
      "text/html": [
       "<div>\n",
       "<style scoped>\n",
       "    .dataframe tbody tr th:only-of-type {\n",
       "        vertical-align: middle;\n",
       "    }\n",
       "\n",
       "    .dataframe tbody tr th {\n",
       "        vertical-align: top;\n",
       "    }\n",
       "\n",
       "    .dataframe thead th {\n",
       "        text-align: right;\n",
       "    }\n",
       "</style>\n",
       "<table border=\"1\" class=\"dataframe\">\n",
       "  <thead>\n",
       "    <tr style=\"text-align: right;\">\n",
       "      <th></th>\n",
       "      <th>node_id</th>\n",
       "      <th>graph_id</th>\n",
       "      <th>feat_page_rank_0</th>\n",
       "      <th>feat_page_rank_1</th>\n",
       "      <th>feat_page_rank_2</th>\n",
       "      <th>feat_page_rank_3</th>\n",
       "      <th>feat_my_custom_node_feature_0</th>\n",
       "      <th>feat_my_custom_node_feature_1</th>\n",
       "      <th>feat_my_custom_node_feature_2</th>\n",
       "      <th>feat_my_custom_node_feature_3</th>\n",
       "      <th>feat_degree_centrality_0</th>\n",
       "      <th>feat_degree_centrality_1</th>\n",
       "      <th>feat_degree_centrality_2</th>\n",
       "      <th>feat_degree_centrality_3</th>\n",
       "    </tr>\n",
       "  </thead>\n",
       "  <tbody>\n",
       "    <tr>\n",
       "      <th>0</th>\n",
       "      <td>11</td>\n",
       "      <td>0</td>\n",
       "      <td>3.978217</td>\n",
       "      <td>1.732728</td>\n",
       "      <td>2.377843</td>\n",
       "      <td>1.849140</td>\n",
       "      <td>0.0</td>\n",
       "      <td>0.0</td>\n",
       "      <td>0.0</td>\n",
       "      <td>0.0</td>\n",
       "      <td>4.133798</td>\n",
       "      <td>1.745547</td>\n",
       "      <td>2.449535</td>\n",
       "      <td>1.847807</td>\n",
       "    </tr>\n",
       "    <tr>\n",
       "      <th>1</th>\n",
       "      <td>12</td>\n",
       "      <td>0</td>\n",
       "      <td>3.942675</td>\n",
       "      <td>1.658170</td>\n",
       "      <td>2.117825</td>\n",
       "      <td>1.998154</td>\n",
       "      <td>0.0</td>\n",
       "      <td>0.0</td>\n",
       "      <td>0.0</td>\n",
       "      <td>0.0</td>\n",
       "      <td>4.133798</td>\n",
       "      <td>1.642117</td>\n",
       "      <td>2.125281</td>\n",
       "      <td>2.004648</td>\n",
       "    </tr>\n",
       "    <tr>\n",
       "      <th>2</th>\n",
       "      <td>24</td>\n",
       "      <td>0</td>\n",
       "      <td>2.992725</td>\n",
       "      <td>1.334683</td>\n",
       "      <td>2.173900</td>\n",
       "      <td>2.100552</td>\n",
       "      <td>0.0</td>\n",
       "      <td>0.0</td>\n",
       "      <td>0.0</td>\n",
       "      <td>0.0</td>\n",
       "      <td>2.709091</td>\n",
       "      <td>1.073250</td>\n",
       "      <td>2.190615</td>\n",
       "      <td>2.223901</td>\n",
       "    </tr>\n",
       "  </tbody>\n",
       "</table>\n",
       "</div>"
      ],
      "text/plain": [
       "   node_id  graph_id  feat_page_rank_0  feat_page_rank_1  feat_page_rank_2  \\\n",
       "0       11         0          3.978217          1.732728          2.377843   \n",
       "1       12         0          3.942675          1.658170          2.117825   \n",
       "2       24         0          2.992725          1.334683          2.173900   \n",
       "\n",
       "   feat_page_rank_3  feat_my_custom_node_feature_0  \\\n",
       "0          1.849140                            0.0   \n",
       "1          1.998154                            0.0   \n",
       "2          2.100552                            0.0   \n",
       "\n",
       "   feat_my_custom_node_feature_1  feat_my_custom_node_feature_2  \\\n",
       "0                            0.0                            0.0   \n",
       "1                            0.0                            0.0   \n",
       "2                            0.0                            0.0   \n",
       "\n",
       "   feat_my_custom_node_feature_3  feat_degree_centrality_0  \\\n",
       "0                            0.0                  4.133798   \n",
       "1                            0.0                  4.133798   \n",
       "2                            0.0                  2.709091   \n",
       "\n",
       "   feat_degree_centrality_1  feat_degree_centrality_2  \\\n",
       "0                  1.745547                  2.449535   \n",
       "1                  1.642117                  2.125281   \n",
       "2                  1.073250                  2.190615   \n",
       "\n",
       "   feat_degree_centrality_3  \n",
       "0                  1.847807  \n",
       "1                  2.004648  \n",
       "2                  2.223901  "
      ]
     },
     "execution_count": 24,
     "metadata": {},
     "output_type": "execute_result"
    }
   ],
   "source": [
    "df = nxt.get_global_feature_vector()\n",
    "df.head(3)"
   ]
  },
  {
   "cell_type": "code",
   "execution_count": null,
   "id": "6ff1fa77-e5ee-4c1c-9d3d-d7f661d1f690",
   "metadata": {},
   "outputs": [],
   "source": []
  }
 ],
 "metadata": {
  "kernelspec": {
   "display_name": "Python 3 (ipykernel)",
   "language": "python",
   "name": "python3"
  },
  "language_info": {
   "codemirror_mode": {
    "name": "ipython",
    "version": 3
   },
   "file_extension": ".py",
   "mimetype": "text/x-python",
   "name": "python",
   "nbconvert_exporter": "python",
   "pygments_lexer": "ipython3",
   "version": "3.11.9"
  }
 },
 "nbformat": 4,
 "nbformat_minor": 5
}
