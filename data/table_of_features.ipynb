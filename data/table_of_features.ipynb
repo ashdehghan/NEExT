{
 "cells": [
  {
   "cell_type": "code",
   "execution_count": 1,
   "id": "bbd9f9ab-4ab5-41f8-b646-c845a42b2390",
   "metadata": {},
   "outputs": [],
   "source": [
    "import pandas as pd"
   ]
  },
  {
   "cell_type": "code",
   "execution_count": 4,
   "id": "3dd11187-eccc-48db-9e93-bf15717be1e3",
   "metadata": {},
   "outputs": [],
   "source": [
    "BZR = pd.read_csv(\"./BZR_Feat_Imp.csv\")\n",
    "IMDB = pd.read_csv(\"./IMDB_Feat_Imp.csv\")\n",
    "MUTAG = pd.read_csv(\"./MUTAG_Feat_Imp.csv\")\n",
    "NCI1 = pd.read_csv(\"./NCI1_Feat_Imp.csv\")\n",
    "PROTEINS = pd.read_csv(\"./PROTEINS_Feat_Imp.csv\")"
   ]
  },
  {
   "cell_type": "code",
   "execution_count": 5,
   "id": "86791135-5ca3-45c6-9fbe-24e8f85160d3",
   "metadata": {},
   "outputs": [],
   "source": [
    "BZR = BZR[[\"selected_features\"]].copy(deep=True)\n",
    "IMDB = IMDB[[\"selected_features\"]].copy(deep=True)\n",
    "MUTAG = MUTAG[[\"selected_features\"]].copy(deep=True)\n",
    "NCI1 = NCI1[[\"selected_features\"]].copy(deep=True)\n",
    "PROTEINS = PROTEINS[[\"selected_features\"]].copy(deep=True)"
   ]
  },
  {
   "cell_type": "code",
   "execution_count": 8,
   "id": "9e2e70f4-cde6-43fc-a71a-fe8108848b84",
   "metadata": {},
   "outputs": [],
   "source": [
    "BZR.columns = [\"BZR\"]\n",
    "IMDB.columns = [\"IMDB\"]\n",
    "MUTAG.columns = [\"MUTAG\"]\n",
    "NCI1.columns = [\"NCI1\"]\n",
    "PROTEINS.columns = [\"PROTEINS\"]"
   ]
  },
  {
   "cell_type": "code",
   "execution_count": 14,
   "id": "a43e3649-8cb6-4ffa-866e-956986b8a9af",
   "metadata": {},
   "outputs": [
    {
     "data": {
      "text/html": [
       "<div>\n",
       "<style scoped>\n",
       "    .dataframe tbody tr th:only-of-type {\n",
       "        vertical-align: middle;\n",
       "    }\n",
       "\n",
       "    .dataframe tbody tr th {\n",
       "        vertical-align: top;\n",
       "    }\n",
       "\n",
       "    .dataframe thead th {\n",
       "        text-align: right;\n",
       "    }\n",
       "</style>\n",
       "<table border=\"1\" class=\"dataframe\">\n",
       "  <thead>\n",
       "    <tr style=\"text-align: right;\">\n",
       "      <th></th>\n",
       "      <th>BZR</th>\n",
       "      <th>IMDB</th>\n",
       "      <th>MUTAG</th>\n",
       "      <th>NCI1</th>\n",
       "      <th>PROTEINS</th>\n",
       "    </tr>\n",
       "  </thead>\n",
       "  <tbody>\n",
       "    <tr>\n",
       "      <th>0</th>\n",
       "      <td>feat_page_rank_0</td>\n",
       "      <td>feat_selfwalk_0</td>\n",
       "      <td>feat_page_rank_0</td>\n",
       "      <td>feat_page_rank_0</td>\n",
       "      <td>feat_page_rank_0</td>\n",
       "    </tr>\n",
       "    <tr>\n",
       "      <th>1</th>\n",
       "      <td>feat_selfwalk_1</td>\n",
       "      <td>feat_eigenvector_centrality_2</td>\n",
       "      <td>feat_page_rank_3</td>\n",
       "      <td>feat_load_centrality_2</td>\n",
       "      <td>feat_basic_expansion_1</td>\n",
       "    </tr>\n",
       "    <tr>\n",
       "      <th>2</th>\n",
       "      <td>feat_lsme_3</td>\n",
       "      <td>feat_selfwalk_1</td>\n",
       "      <td>feat_selfwalk_2</td>\n",
       "      <td>feat_load_centrality_3</td>\n",
       "      <td>feat_lsme_3</td>\n",
       "    </tr>\n",
       "  </tbody>\n",
       "</table>\n",
       "</div>"
      ],
      "text/plain": [
       "                BZR                           IMDB             MUTAG  \\\n",
       "0  feat_page_rank_0                feat_selfwalk_0  feat_page_rank_0   \n",
       "1   feat_selfwalk_1  feat_eigenvector_centrality_2  feat_page_rank_3   \n",
       "2       feat_lsme_3                feat_selfwalk_1   feat_selfwalk_2   \n",
       "\n",
       "                     NCI1                PROTEINS  \n",
       "0        feat_page_rank_0        feat_page_rank_0  \n",
       "1  feat_load_centrality_2  feat_basic_expansion_1  \n",
       "2  feat_load_centrality_3             feat_lsme_3  "
      ]
     },
     "execution_count": 14,
     "metadata": {},
     "output_type": "execute_result"
    }
   ],
   "source": [
    "df = pd.DataFrame()\n",
    "df[\"BZR\"] = BZR[\"BZR\"]\n",
    "df[\"IMDB\"] = IMDB[\"IMDB\"]\n",
    "df[\"MUTAG\"] = MUTAG[\"MUTAG\"]\n",
    "df[\"NCI1\"] = NCI1[\"NCI1\"]\n",
    "df[\"PROTEINS\"] = PROTEINS[\"PROTEINS\"]\n",
    "df.head(3)"
   ]
  },
  {
   "cell_type": "code",
   "execution_count": 16,
   "id": "28332baa-7565-4572-b846-52dff5e1c502",
   "metadata": {},
   "outputs": [
    {
     "data": {
      "text/html": [
       "<div>\n",
       "<style scoped>\n",
       "    .dataframe tbody tr th:only-of-type {\n",
       "        vertical-align: middle;\n",
       "    }\n",
       "\n",
       "    .dataframe tbody tr th {\n",
       "        vertical-align: top;\n",
       "    }\n",
       "\n",
       "    .dataframe thead th {\n",
       "        text-align: right;\n",
       "    }\n",
       "</style>\n",
       "<table border=\"1\" class=\"dataframe\">\n",
       "  <thead>\n",
       "    <tr style=\"text-align: right;\">\n",
       "      <th></th>\n",
       "      <th>BZR</th>\n",
       "      <th>IMDB</th>\n",
       "      <th>MUTAG</th>\n",
       "      <th>NCI1</th>\n",
       "      <th>PROTEINS</th>\n",
       "    </tr>\n",
       "  </thead>\n",
       "  <tbody>\n",
       "    <tr>\n",
       "      <th>0</th>\n",
       "      <td>Page Rank 0</td>\n",
       "      <td>Selfwalk 0</td>\n",
       "      <td>Page Rank 0</td>\n",
       "      <td>Page Rank 0</td>\n",
       "      <td>Page Rank 0</td>\n",
       "    </tr>\n",
       "    <tr>\n",
       "      <th>1</th>\n",
       "      <td>Selfwalk 1</td>\n",
       "      <td>Eigenvector Centrality 2</td>\n",
       "      <td>Page Rank 3</td>\n",
       "      <td>Load Centrality 2</td>\n",
       "      <td>Basic Expansion 1</td>\n",
       "    </tr>\n",
       "    <tr>\n",
       "      <th>2</th>\n",
       "      <td>Lsme 3</td>\n",
       "      <td>Selfwalk 1</td>\n",
       "      <td>Selfwalk 2</td>\n",
       "      <td>Load Centrality 3</td>\n",
       "      <td>Lsme 3</td>\n",
       "    </tr>\n",
       "  </tbody>\n",
       "</table>\n",
       "</div>"
      ],
      "text/plain": [
       "           BZR                      IMDB        MUTAG               NCI1  \\\n",
       "0  Page Rank 0                Selfwalk 0  Page Rank 0        Page Rank 0   \n",
       "1   Selfwalk 1  Eigenvector Centrality 2  Page Rank 3  Load Centrality 2   \n",
       "2       Lsme 3                Selfwalk 1   Selfwalk 2  Load Centrality 3   \n",
       "\n",
       "            PROTEINS  \n",
       "0        Page Rank 0  \n",
       "1  Basic Expansion 1  \n",
       "2             Lsme 3  "
      ]
     },
     "execution_count": 16,
     "metadata": {},
     "output_type": "execute_result"
    }
   ],
   "source": [
    "def clean_feat(x):\n",
    "    x = x.replace(\"feat_\", \"\")\n",
    "    x = x.replace(\"_\", \" \")\n",
    "    x = x.title()\n",
    "    return x\n",
    "\n",
    "\n",
    "for col in df.columns:\n",
    "    df[col] = df[col].apply(clean_feat)\n",
    "\n",
    "df.head(3)"
   ]
  },
  {
   "cell_type": "code",
   "execution_count": 18,
   "id": "f515347a-e602-48d3-8c38-2964aac48514",
   "metadata": {},
   "outputs": [
    {
     "name": "stdout",
     "output_type": "stream",
     "text": [
      "\\begin{tabular}{llllll}\n",
      "\\toprule\n",
      " & BZR & IMDB & MUTAG & NCI1 & PROTEINS \\\\\n",
      "\\midrule\n",
      "0 & Page Rank 0 & Selfwalk 0 & Page Rank 0 & Page Rank 0 & Page Rank 0 \\\\\n",
      "1 & Selfwalk 1 & Eigenvector Centrality 2 & Page Rank 3 & Load Centrality 2 & Basic Expansion 1 \\\\\n",
      "2 & Lsme 3 & Selfwalk 1 & Selfwalk 2 & Load Centrality 3 & Lsme 3 \\\\\n",
      "3 & Closeness Centrality 2 & Load Centrality 1 & Load Centrality 2 & Selfwalk 3 & Degree Centrality 0 \\\\\n",
      "4 & Eigenvector Centrality 3 & Load Centrality 3 & Lsme 3 & Load Centrality 1 & Eigenvector Centrality 1 \\\\\n",
      "5 & Page Rank 1 & Basic Expansion 0 & Load Centrality 0 & Load Centrality 0 & Basic Expansion 0 \\\\\n",
      "6 & Basic Expansion 2 & Degree Centrality 2 & Eigenvector Centrality 3 & Basic Expansion 2 & Basic Expansion 3 \\\\\n",
      "7 & Basic Expansion 0 & Selfwalk 2 & Degree Centrality 2 & Degree Centrality 0 & Eigenvector Centrality 3 \\\\\n",
      "8 & Closeness Centrality 3 & Basic Expansion 1 & Load Centrality 1 & Lsme 1 & Selfwalk 1 \\\\\n",
      "9 & Selfwalk 0 & Load Centrality 0 & Basic Expansion 0 & Eigenvector Centrality 0 & Lsme 0 \\\\\n",
      "10 & Degree Centrality 0 & Degree Centrality 3 & Basic Expansion 2 & Eigenvector Centrality 1 & Load Centrality 0 \\\\\n",
      "11 & Page Rank 3 & Closeness Centrality 1 & Lsme 2 & Eigenvector Centrality 3 & Closeness Centrality 0 \\\\\n",
      "12 & Load Centrality 3 & Degree Centrality 1 & Selfwalk 3 & Selfwalk 0 & Lsme 1 \\\\\n",
      "13 & Lsme 0 & Eigenvector Centrality 3 & Selfwalk 1 & Page Rank 2 & Eigenvector Centrality 0 \\\\\n",
      "14 & Page Rank 2 & Basic Expansion 2 & Load Centrality 3 & Degree Centrality 2 & Lsme 2 \\\\\n",
      "15 & Load Centrality 0 & Closeness Centrality 0 & Basic Expansion 1 & Closeness Centrality 0 & Selfwalk 0 \\\\\n",
      "16 & Degree Centrality 3 & Selfwalk 3 & Eigenvector Centrality 2 & Closeness Centrality 2 & Page Rank 3 \\\\\n",
      "17 & Closeness Centrality 0 & Page Rank 1 & Selfwalk 0 & Page Rank 1 & Load Centrality 3 \\\\\n",
      "18 & Selfwalk 2 & Eigenvector Centrality 1 & Page Rank 2 & Closeness Centrality 3 & Selfwalk 3 \\\\\n",
      "19 & Closeness Centrality 1 & Lsme 1 & Lsme 1 & Degree Centrality 3 & Closeness Centrality 2 \\\\\n",
      "20 & Lsme 1 & Basic Expansion 3 & Closeness Centrality 3 & Eigenvector Centrality 2 & Load Centrality 1 \\\\\n",
      "21 & Degree Centrality 2 & Lsme 0 & Degree Centrality 0 & Page Rank 3 & Degree Centrality 3 \\\\\n",
      "22 & Basic Expansion 1 & Degree Centrality 0 & Page Rank 1 & Degree Centrality 1 & Basic Expansion 2 \\\\\n",
      "23 & Load Centrality 2 & Page Rank 2 & Degree Centrality 1 & Selfwalk 1 & Closeness Centrality 3 \\\\\n",
      "24 & Degree Centrality 1 & Closeness Centrality 2 & Lsme 0 & Selfwalk 2 & Closeness Centrality 1 \\\\\n",
      "25 & Basic Expansion 3 & Lsme 2 & Eigenvector Centrality 0 & Basic Expansion 3 & Page Rank 1 \\\\\n",
      "26 & Selfwalk 3 & Load Centrality 2 & Closeness Centrality 1 & Basic Expansion 1 & Selfwalk 2 \\\\\n",
      "27 & Eigenvector Centrality 2 & Lsme 3 & Eigenvector Centrality 1 & Basic Expansion 0 & Degree Centrality 1 \\\\\n",
      "28 & Eigenvector Centrality 0 & Page Rank 0 & Degree Centrality 3 & Closeness Centrality 1 & Degree Centrality 2 \\\\\n",
      "29 & Eigenvector Centrality 1 & Eigenvector Centrality 0 & Basic Expansion 3 & Lsme 0 & Page Rank 2 \\\\\n",
      "30 & Load Centrality 1 & Closeness Centrality 3 & Closeness Centrality 0 & Lsme 2 & Load Centrality 2 \\\\\n",
      "31 & Lsme 2 & Page Rank 3 & Closeness Centrality 2 & Lsme 3 & Eigenvector Centrality 2 \\\\\n",
      "\\bottomrule\n",
      "\\end{tabular}\n",
      "\n"
     ]
    }
   ],
   "source": [
    "print(df.to_latex())"
   ]
  },
  {
   "cell_type": "code",
   "execution_count": null,
   "id": "36ef1330-ac55-4d6c-a20b-b2882a6963fc",
   "metadata": {},
   "outputs": [],
   "source": []
  }
 ],
 "metadata": {
  "kernelspec": {
   "display_name": "Python 3 (ipykernel)",
   "language": "python",
   "name": "python3"
  },
  "language_info": {
   "codemirror_mode": {
    "name": "ipython",
    "version": 3
   },
   "file_extension": ".py",
   "mimetype": "text/x-python",
   "name": "python",
   "nbconvert_exporter": "python",
   "pygments_lexer": "ipython3",
   "version": "3.11.9"
  }
 },
 "nbformat": 4,
 "nbformat_minor": 5
}
