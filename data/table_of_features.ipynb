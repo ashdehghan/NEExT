{
 "cells": [
  {
   "cell_type": "code",
   "execution_count": 1,
   "id": "bbd9f9ab-4ab5-41f8-b646-c845a42b2390",
   "metadata": {},
   "outputs": [],
   "source": [
    "import pandas as pd"
   ]
  },
  {
   "cell_type": "code",
   "execution_count": 2,
   "id": "6ec17c26-2d05-4e4a-9399-2f036c3ca0c2",
   "metadata": {},
   "outputs": [],
   "source": [
    "source = \"greedy\""
   ]
  },
  {
   "cell_type": "code",
   "execution_count": 3,
   "id": "6d02cb89-9e9b-47e9-8870-75e20e876d84",
   "metadata": {},
   "outputs": [],
   "source": [
    "BZR = pd.read_csv(\"./\"+source+\"_method/BZR.csv\")\n",
    "IMDB = pd.read_csv(\"./\"+source+\"_method/IMDB.csv\")\n",
    "MUTAG = pd.read_csv(\"./\"+source+\"_method/MUTAG.csv\")\n",
    "NCI1 = pd.read_csv(\"./\"+source+\"_method/NCI1.csv\")\n",
    "PROTEINS = pd.read_csv(\"./\"+source+\"_method/PROTEINS.csv\")"
   ]
  },
  {
   "cell_type": "code",
   "execution_count": 4,
   "id": "1dc1a1cb-cd49-4b48-8fdf-9c0946320c89",
   "metadata": {},
   "outputs": [],
   "source": [
    "if source == \"greedy\":\n",
    "\n",
    "    def update_name(x):\n",
    "        x_split = x.split(\"_\")\n",
    "        x_split[-1] = str(int(x_split[-1])+1)\n",
    "        x_split = \"_\".join(x_split)\n",
    "        if \"selfwalk\" in x_split:\n",
    "            x_split = x_split.replace(\"selfwalk\", \"self_walk\")\n",
    "        return x_split\n",
    "\n",
    "    BZR[\"selected_features\"] = BZR[\"selected_features\"].apply(update_name)\n",
    "    IMDB[\"selected_features\"] = IMDB[\"selected_features\"].apply(update_name)\n",
    "    MUTAG[\"selected_features\"] = MUTAG[\"selected_features\"].apply(update_name)\n",
    "    NCI1[\"selected_features\"] = NCI1[\"selected_features\"].apply(update_name)\n",
    "    PROTEINS[\"selected_features\"] = PROTEINS[\"selected_features\"].apply(update_name)"
   ]
  },
  {
   "cell_type": "code",
   "execution_count": 5,
   "id": "86791135-5ca3-45c6-9fbe-24e8f85160d3",
   "metadata": {},
   "outputs": [],
   "source": [
    "BZR = BZR[[\"selected_features\"]].copy(deep=True)\n",
    "IMDB = IMDB[[\"selected_features\"]].copy(deep=True)\n",
    "MUTAG = MUTAG[[\"selected_features\"]].copy(deep=True)\n",
    "NCI1 = NCI1[[\"selected_features\"]].copy(deep=True)\n",
    "PROTEINS = PROTEINS[[\"selected_features\"]].copy(deep=True)"
   ]
  },
  {
   "cell_type": "code",
   "execution_count": 6,
   "id": "9e2e70f4-cde6-43fc-a71a-fe8108848b84",
   "metadata": {},
   "outputs": [],
   "source": [
    "BZR.columns = [\"BZR\"]\n",
    "IMDB.columns = [\"IMDB\"]\n",
    "MUTAG.columns = [\"MUTAG\"]\n",
    "NCI1.columns = [\"NCI1\"]\n",
    "PROTEINS.columns = [\"PROTEINS\"]"
   ]
  },
  {
   "cell_type": "code",
   "execution_count": 7,
   "id": "a43e3649-8cb6-4ffa-866e-956986b8a9af",
   "metadata": {},
   "outputs": [
    {
     "data": {
      "text/html": [
       "<div>\n",
       "<style scoped>\n",
       "    .dataframe tbody tr th:only-of-type {\n",
       "        vertical-align: middle;\n",
       "    }\n",
       "\n",
       "    .dataframe tbody tr th {\n",
       "        vertical-align: top;\n",
       "    }\n",
       "\n",
       "    .dataframe thead th {\n",
       "        text-align: right;\n",
       "    }\n",
       "</style>\n",
       "<table border=\"1\" class=\"dataframe\">\n",
       "  <thead>\n",
       "    <tr style=\"text-align: right;\">\n",
       "      <th></th>\n",
       "      <th>BZR</th>\n",
       "      <th>IMDB</th>\n",
       "      <th>MUTAG</th>\n",
       "      <th>NCI1</th>\n",
       "      <th>PROTEINS</th>\n",
       "    </tr>\n",
       "  </thead>\n",
       "  <tbody>\n",
       "    <tr>\n",
       "      <th>0</th>\n",
       "      <td>feat_page_rank_1</td>\n",
       "      <td>feat_self_walk_1</td>\n",
       "      <td>feat_page_rank_1</td>\n",
       "      <td>feat_page_rank_1</td>\n",
       "      <td>feat_page_rank_1</td>\n",
       "    </tr>\n",
       "    <tr>\n",
       "      <th>1</th>\n",
       "      <td>feat_self_walk_2</td>\n",
       "      <td>feat_eigenvector_centrality_3</td>\n",
       "      <td>feat_page_rank_4</td>\n",
       "      <td>feat_load_centrality_3</td>\n",
       "      <td>feat_basic_expansion_2</td>\n",
       "    </tr>\n",
       "    <tr>\n",
       "      <th>2</th>\n",
       "      <td>feat_lsme_4</td>\n",
       "      <td>feat_self_walk_2</td>\n",
       "      <td>feat_self_walk_3</td>\n",
       "      <td>feat_load_centrality_4</td>\n",
       "      <td>feat_lsme_4</td>\n",
       "    </tr>\n",
       "  </tbody>\n",
       "</table>\n",
       "</div>"
      ],
      "text/plain": [
       "                BZR                           IMDB             MUTAG  \\\n",
       "0  feat_page_rank_1               feat_self_walk_1  feat_page_rank_1   \n",
       "1  feat_self_walk_2  feat_eigenvector_centrality_3  feat_page_rank_4   \n",
       "2       feat_lsme_4               feat_self_walk_2  feat_self_walk_3   \n",
       "\n",
       "                     NCI1                PROTEINS  \n",
       "0        feat_page_rank_1        feat_page_rank_1  \n",
       "1  feat_load_centrality_3  feat_basic_expansion_2  \n",
       "2  feat_load_centrality_4             feat_lsme_4  "
      ]
     },
     "execution_count": 7,
     "metadata": {},
     "output_type": "execute_result"
    }
   ],
   "source": [
    "df = pd.DataFrame()\n",
    "df[\"BZR\"] = BZR[\"BZR\"]\n",
    "df[\"IMDB\"] = IMDB[\"IMDB\"]\n",
    "df[\"MUTAG\"] = MUTAG[\"MUTAG\"]\n",
    "df[\"NCI1\"] = NCI1[\"NCI1\"]\n",
    "df[\"PROTEINS\"] = PROTEINS[\"PROTEINS\"]\n",
    "df.head(3)"
   ]
  },
  {
   "cell_type": "code",
   "execution_count": 8,
   "id": "28332baa-7565-4572-b846-52dff5e1c502",
   "metadata": {},
   "outputs": [],
   "source": [
    "def clean_feat(x):\n",
    "    x = x.replace(\"feat_\", \"\")\n",
    "    x = x.replace(\"_\", \" \")\n",
    "    x = x.title()\n",
    "    return x\n",
    "\n",
    "\n",
    "for col in df.columns:\n",
    "    df[col] = df[col].apply(clean_feat)"
   ]
  },
  {
   "cell_type": "code",
   "execution_count": 9,
   "id": "a2f46586-9767-4518-bbd4-007af69e6f47",
   "metadata": {},
   "outputs": [],
   "source": [
    "df.insert(0, \"Feature Rank\", df.index)\n",
    "df[\"Feature Rank\"] += 1"
   ]
  },
  {
   "cell_type": "code",
   "execution_count": 11,
   "id": "227a5792-1685-49e6-a4d5-7b1f9831065c",
   "metadata": {},
   "outputs": [
    {
     "data": {
      "text/html": [
       "<div>\n",
       "<style scoped>\n",
       "    .dataframe tbody tr th:only-of-type {\n",
       "        vertical-align: middle;\n",
       "    }\n",
       "\n",
       "    .dataframe tbody tr th {\n",
       "        vertical-align: top;\n",
       "    }\n",
       "\n",
       "    .dataframe thead th {\n",
       "        text-align: right;\n",
       "    }\n",
       "</style>\n",
       "<table border=\"1\" class=\"dataframe\">\n",
       "  <thead>\n",
       "    <tr style=\"text-align: right;\">\n",
       "      <th></th>\n",
       "      <th>Feature Rank</th>\n",
       "      <th>BZR</th>\n",
       "      <th>IMDB</th>\n",
       "      <th>MUTAG</th>\n",
       "      <th>NCI1</th>\n",
       "      <th>PROTEINS</th>\n",
       "    </tr>\n",
       "  </thead>\n",
       "  <tbody>\n",
       "    <tr>\n",
       "      <th>0</th>\n",
       "      <td>1</td>\n",
       "      <td>Page Rank 1</td>\n",
       "      <td>Self Walk 1</td>\n",
       "      <td>Page Rank 1</td>\n",
       "      <td>Page Rank 1</td>\n",
       "      <td>Page Rank 1</td>\n",
       "    </tr>\n",
       "    <tr>\n",
       "      <th>1</th>\n",
       "      <td>2</td>\n",
       "      <td>Self Walk 2</td>\n",
       "      <td>Eigenvector Centrality 3</td>\n",
       "      <td>Page Rank 4</td>\n",
       "      <td>Load Centrality 3</td>\n",
       "      <td>Basic Expansion 2</td>\n",
       "    </tr>\n",
       "    <tr>\n",
       "      <th>2</th>\n",
       "      <td>3</td>\n",
       "      <td>Lsme 4</td>\n",
       "      <td>Self Walk 2</td>\n",
       "      <td>Self Walk 3</td>\n",
       "      <td>Load Centrality 4</td>\n",
       "      <td>Lsme 4</td>\n",
       "    </tr>\n",
       "  </tbody>\n",
       "</table>\n",
       "</div>"
      ],
      "text/plain": [
       "   Feature Rank          BZR                      IMDB        MUTAG  \\\n",
       "0             1  Page Rank 1               Self Walk 1  Page Rank 1   \n",
       "1             2  Self Walk 2  Eigenvector Centrality 3  Page Rank 4   \n",
       "2             3       Lsme 4               Self Walk 2  Self Walk 3   \n",
       "\n",
       "                NCI1           PROTEINS  \n",
       "0        Page Rank 1        Page Rank 1  \n",
       "1  Load Centrality 3  Basic Expansion 2  \n",
       "2  Load Centrality 4             Lsme 4  "
      ]
     },
     "execution_count": 11,
     "metadata": {},
     "output_type": "execute_result"
    }
   ],
   "source": [
    "df.head(3)"
   ]
  },
  {
   "cell_type": "code",
   "execution_count": 12,
   "id": "f515347a-e602-48d3-8c38-2964aac48514",
   "metadata": {},
   "outputs": [
    {
     "name": "stdout",
     "output_type": "stream",
     "text": [
      "\\begin{tabular}{rlllll}\n",
      "\\toprule\n",
      "Feature Rank & BZR & IMDB & MUTAG & NCI1 & PROTEINS \\\\\n",
      "\\midrule\n",
      "1 & Page Rank 1 & Self Walk 1 & Page Rank 1 & Page Rank 1 & Page Rank 1 \\\\\n",
      "2 & Self Walk 2 & Eigenvector Centrality 3 & Page Rank 4 & Load Centrality 3 & Basic Expansion 2 \\\\\n",
      "3 & Lsme 4 & Self Walk 2 & Self Walk 3 & Load Centrality 4 & Lsme 4 \\\\\n",
      "4 & Closeness Centrality 3 & Load Centrality 2 & Load Centrality 3 & Self Walk 4 & Degree Centrality 1 \\\\\n",
      "5 & Eigenvector Centrality 4 & Load Centrality 4 & Lsme 4 & Load Centrality 2 & Eigenvector Centrality 2 \\\\\n",
      "6 & Page Rank 2 & Basic Expansion 1 & Load Centrality 1 & Load Centrality 1 & Basic Expansion 1 \\\\\n",
      "7 & Basic Expansion 3 & Degree Centrality 3 & Eigenvector Centrality 4 & Basic Expansion 3 & Basic Expansion 4 \\\\\n",
      "8 & Basic Expansion 1 & Self Walk 3 & Degree Centrality 3 & Degree Centrality 1 & Eigenvector Centrality 4 \\\\\n",
      "9 & Closeness Centrality 4 & Basic Expansion 2 & Load Centrality 2 & Lsme 2 & Self Walk 2 \\\\\n",
      "10 & Self Walk 1 & Load Centrality 1 & Basic Expansion 1 & Eigenvector Centrality 1 & Lsme 1 \\\\\n",
      "11 & Degree Centrality 1 & Degree Centrality 4 & Basic Expansion 3 & Eigenvector Centrality 2 & Load Centrality 1 \\\\\n",
      "12 & Page Rank 4 & Closeness Centrality 2 & Lsme 3 & Eigenvector Centrality 4 & Closeness Centrality 1 \\\\\n",
      "13 & Load Centrality 4 & Degree Centrality 2 & Self Walk 4 & Self Walk 1 & Lsme 2 \\\\\n",
      "14 & Lsme 1 & Eigenvector Centrality 4 & Self Walk 2 & Page Rank 3 & Eigenvector Centrality 1 \\\\\n",
      "15 & Page Rank 3 & Basic Expansion 3 & Load Centrality 4 & Degree Centrality 3 & Lsme 3 \\\\\n",
      "16 & Load Centrality 1 & Closeness Centrality 1 & Basic Expansion 2 & Closeness Centrality 1 & Self Walk 1 \\\\\n",
      "17 & Degree Centrality 4 & Self Walk 4 & Eigenvector Centrality 3 & Closeness Centrality 3 & Page Rank 4 \\\\\n",
      "18 & Closeness Centrality 1 & Page Rank 2 & Self Walk 1 & Page Rank 2 & Load Centrality 4 \\\\\n",
      "19 & Self Walk 3 & Eigenvector Centrality 2 & Page Rank 3 & Closeness Centrality 4 & Self Walk 4 \\\\\n",
      "20 & Closeness Centrality 2 & Lsme 2 & Lsme 2 & Degree Centrality 4 & Closeness Centrality 3 \\\\\n",
      "21 & Lsme 2 & Basic Expansion 4 & Closeness Centrality 4 & Eigenvector Centrality 3 & Load Centrality 2 \\\\\n",
      "22 & Degree Centrality 3 & Lsme 1 & Degree Centrality 1 & Page Rank 4 & Degree Centrality 4 \\\\\n",
      "23 & Basic Expansion 2 & Degree Centrality 1 & Page Rank 2 & Degree Centrality 2 & Basic Expansion 3 \\\\\n",
      "24 & Load Centrality 3 & Page Rank 3 & Degree Centrality 2 & Self Walk 2 & Closeness Centrality 4 \\\\\n",
      "25 & Degree Centrality 2 & Closeness Centrality 3 & Lsme 1 & Self Walk 3 & Closeness Centrality 2 \\\\\n",
      "26 & Basic Expansion 4 & Lsme 3 & Eigenvector Centrality 1 & Basic Expansion 4 & Page Rank 2 \\\\\n",
      "27 & Self Walk 4 & Load Centrality 3 & Closeness Centrality 2 & Basic Expansion 2 & Self Walk 3 \\\\\n",
      "28 & Eigenvector Centrality 3 & Lsme 4 & Eigenvector Centrality 2 & Basic Expansion 1 & Degree Centrality 2 \\\\\n",
      "29 & Eigenvector Centrality 1 & Page Rank 1 & Degree Centrality 4 & Closeness Centrality 2 & Degree Centrality 3 \\\\\n",
      "30 & Eigenvector Centrality 2 & Eigenvector Centrality 1 & Basic Expansion 4 & Lsme 1 & Page Rank 3 \\\\\n",
      "31 & Load Centrality 2 & Closeness Centrality 4 & Closeness Centrality 1 & Lsme 3 & Load Centrality 3 \\\\\n",
      "32 & Lsme 3 & Page Rank 4 & Closeness Centrality 3 & Lsme 4 & Eigenvector Centrality 3 \\\\\n",
      "\\bottomrule\n",
      "\\end{tabular}\n",
      "\n"
     ]
    }
   ],
   "source": [
    "print(df.to_latex(index=False))"
   ]
  },
  {
   "cell_type": "code",
   "execution_count": null,
   "id": "36ef1330-ac55-4d6c-a20b-b2882a6963fc",
   "metadata": {},
   "outputs": [],
   "source": []
  }
 ],
 "metadata": {
  "kernelspec": {
   "display_name": "Python 3 (ipykernel)",
   "language": "python",
   "name": "python3"
  },
  "language_info": {
   "codemirror_mode": {
    "name": "ipython",
    "version": 3
   },
   "file_extension": ".py",
   "mimetype": "text/x-python",
   "name": "python",
   "nbconvert_exporter": "python",
   "pygments_lexer": "ipython3",
   "version": "3.11.9"
  }
 },
 "nbformat": 4,
 "nbformat_minor": 5
}
