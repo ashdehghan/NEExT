{
 "cells": [
  {
   "cell_type": "code",
   "execution_count": 1,
   "id": "2f08610b-f4a5-44e6-9d21-45bf11ee2698",
   "metadata": {},
   "outputs": [],
   "source": [
    "import pandas as pd"
   ]
  },
  {
   "cell_type": "code",
   "execution_count": 2,
   "id": "50764ff0-3123-431f-9ae5-3ced67c18b21",
   "metadata": {},
   "outputs": [],
   "source": [
    "d1 = pd.read_csv(\"./NCI1_1.csv\")\n",
    "d2 = pd.read_csv(\"./NCI1_2.csv\")"
   ]
  },
  {
   "cell_type": "code",
   "execution_count": 3,
   "id": "c0d003e4-d049-4024-ac61-9e99349cc1b5",
   "metadata": {},
   "outputs": [
    {
     "data": {
      "text/html": [
       "<div>\n",
       "<style scoped>\n",
       "    .dataframe tbody tr th:only-of-type {\n",
       "        vertical-align: middle;\n",
       "    }\n",
       "\n",
       "    .dataframe tbody tr th {\n",
       "        vertical-align: top;\n",
       "    }\n",
       "\n",
       "    .dataframe thead th {\n",
       "        text-align: right;\n",
       "    }\n",
       "</style>\n",
       "<table border=\"1\" class=\"dataframe\">\n",
       "  <thead>\n",
       "    <tr style=\"text-align: right;\">\n",
       "      <th></th>\n",
       "      <th>selected_features</th>\n",
       "      <th>accuracy_contribution</th>\n",
       "      <th>accuracy_contribution_std</th>\n",
       "    </tr>\n",
       "  </thead>\n",
       "  <tbody>\n",
       "    <tr>\n",
       "      <th>0</th>\n",
       "      <td>page_rank_1</td>\n",
       "      <td>0.546715</td>\n",
       "      <td>0.013330</td>\n",
       "    </tr>\n",
       "    <tr>\n",
       "      <th>1</th>\n",
       "      <td>page_rank_0</td>\n",
       "      <td>0.573966</td>\n",
       "      <td>0.015340</td>\n",
       "    </tr>\n",
       "    <tr>\n",
       "      <th>2</th>\n",
       "      <td>degree_centrality_1</td>\n",
       "      <td>0.611868</td>\n",
       "      <td>0.014447</td>\n",
       "    </tr>\n",
       "    <tr>\n",
       "      <th>3</th>\n",
       "      <td>page_rank_2</td>\n",
       "      <td>0.623439</td>\n",
       "      <td>0.020790</td>\n",
       "    </tr>\n",
       "    <tr>\n",
       "      <th>4</th>\n",
       "      <td>closeness_centrality_1</td>\n",
       "      <td>0.645472</td>\n",
       "      <td>0.013569</td>\n",
       "    </tr>\n",
       "  </tbody>\n",
       "</table>\n",
       "</div>"
      ],
      "text/plain": [
       "        selected_features  accuracy_contribution  accuracy_contribution_std\n",
       "0             page_rank_1               0.546715                   0.013330\n",
       "1             page_rank_0               0.573966                   0.015340\n",
       "2     degree_centrality_1               0.611868                   0.014447\n",
       "3             page_rank_2               0.623439                   0.020790\n",
       "4  closeness_centrality_1               0.645472                   0.013569"
      ]
     },
     "execution_count": 3,
     "metadata": {},
     "output_type": "execute_result"
    }
   ],
   "source": [
    "d1.head()"
   ]
  },
  {
   "cell_type": "code",
   "execution_count": 6,
   "id": "906fcaef-4906-4adb-8783-3681efb52dac",
   "metadata": {},
   "outputs": [],
   "source": [
    "feats = []\n",
    "vals = []\n",
    "vals_std = []\n",
    "for i in range(len(d1)):\n",
    "    feats.append(d1.iloc[i][\"selected_features\"])\n",
    "    vals.append(max([d1.iloc[i][\"accuracy_contribution\"], d2.iloc[i][\"accuracy_contribution\"]]))\n",
    "    vals_std.append(d1.iloc[i][\"accuracy_contribution_std\"])"
   ]
  },
  {
   "cell_type": "code",
   "execution_count": 7,
   "id": "e676dfd5-57d0-434a-a359-e5b21c3ffb11",
   "metadata": {},
   "outputs": [],
   "source": [
    "df = pd.DataFrame()\n",
    "df[\"selected_features\"] = feats\n",
    "df[\"accuracy_contribution\"] = vals\n",
    "df[\"accuracy_contribution_std\"] = vals_std"
   ]
  },
  {
   "cell_type": "code",
   "execution_count": 8,
   "id": "fbc3e183-8c8f-48e2-a56c-ad7a4d9924fa",
   "metadata": {},
   "outputs": [],
   "source": [
    "df.to_csv(\"./NCI1.csv\", index=False)"
   ]
  },
  {
   "cell_type": "code",
   "execution_count": null,
   "id": "f786db0a-4e79-4a0f-9a9c-2d86b9d68e69",
   "metadata": {},
   "outputs": [],
   "source": []
  }
 ],
 "metadata": {
  "kernelspec": {
   "display_name": "Python 3 (ipykernel)",
   "language": "python",
   "name": "python3"
  },
  "language_info": {
   "codemirror_mode": {
    "name": "ipython",
    "version": 3
   },
   "file_extension": ".py",
   "mimetype": "text/x-python",
   "name": "python",
   "nbconvert_exporter": "python",
   "pygments_lexer": "ipython3",
   "version": "3.11.9"
  }
 },
 "nbformat": 4,
 "nbformat_minor": 5
}
