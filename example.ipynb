{
 "cells": [
  {
   "cell_type": "markdown",
   "id": "bbfbadf5-981c-4cd0-b2f5-71461876a485",
   "metadata": {},
   "source": [
    "# NEExT Tutorial"
   ]
  },
  {
   "cell_type": "markdown",
   "id": "cb439c6b-aeee-4bfd-878a-ac1cc1999dae",
   "metadata": {},
   "source": [
    "In this notebook, we showcase how to use NEExT to analyze graph embeddings."
   ]
  },
  {
   "cell_type": "code",
   "execution_count": 1,
   "id": "ceea0e83-9542-430c-a2f9-01c6f19325a0",
   "metadata": {},
   "outputs": [],
   "source": [
    "from NEExT.NEExT import NEExT"
   ]
  },
  {
   "cell_type": "markdown",
   "id": "d2944177-5c39-4b6c-bf63-ff53a0dc64f5",
   "metadata": {},
   "source": [
    "The following are link to some graph data, which we will use in this tutorial.\n",
    "Note that we have both \"Graph Label\" and \"Node Features\", which are optional data, for using NEExT."
   ]
  },
  {
   "cell_type": "code",
   "execution_count": 13,
   "id": "cfe3e94b-0c7c-4a81-84ca-de86c7880060",
   "metadata": {},
   "outputs": [],
   "source": [
    "edge_file = \"https://raw.githubusercontent.com/elmspace/ugaf_experiments_data/main/real_world_graphs/BZR/processed_data/edge_file.csv\"\n",
    "graph_label_file = \"https://raw.githubusercontent.com/elmspace/ugaf_experiments_data/main/real_world_graphs/BZR/processed_data/graph_label_mapping_file.csv\"\n",
    "node_graph_mapping_file = \"https://raw.githubusercontent.com/elmspace/ugaf_experiments_data/main/real_world_graphs/BZR/processed_data/node_graph_mapping_file.csv\"\n",
    "node_features_file = \"https://raw.githubusercontent.com/elmspace/ugaf_experiments_data/main/real_world_graphs/BZR/processed_data/node_feature_file.csv\""
   ]
  },
  {
   "cell_type": "code",
   "execution_count": 14,
   "id": "eeeca871-bf4c-4618-8c46-2d395aff849e",
   "metadata": {},
   "outputs": [],
   "source": [
    "nxt = NEExT()"
   ]
  },
  {
   "cell_type": "code",
   "execution_count": 15,
   "id": "b646b750-a26e-4527-a476-cd5e6a4e0aab",
   "metadata": {},
   "outputs": [],
   "source": [
    "nxt.load_data_from_csv(edge_file, node_graph_mapping_file, node_features_file, graph_label_file)"
   ]
  },
  {
   "cell_type": "code",
   "execution_count": null,
   "id": "056bfc42-278c-470f-8000-18c4beb566f4",
   "metadata": {},
   "outputs": [],
   "source": [
    "nxt.extract_graph_features()"
   ]
  },
  {
   "cell_type": "code",
   "execution_count": null,
   "id": "780022e3-95f1-49cf-af6e-29bf0f8d1b15",
   "metadata": {},
   "outputs": [],
   "source": []
  }
 ],
 "metadata": {
  "kernelspec": {
   "display_name": "Python 3 (ipykernel)",
   "language": "python",
   "name": "python3"
  },
  "language_info": {
   "codemirror_mode": {
    "name": "ipython",
    "version": 3
   },
   "file_extension": ".py",
   "mimetype": "text/x-python",
   "name": "python",
   "nbconvert_exporter": "python",
   "pygments_lexer": "ipython3",
   "version": "3.11.7"
  }
 },
 "nbformat": 4,
 "nbformat_minor": 5
}
