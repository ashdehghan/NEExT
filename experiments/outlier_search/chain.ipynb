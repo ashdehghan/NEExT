{
 "cells": [
  {
   "cell_type": "code",
   "execution_count": 1,
   "id": "6193ff8e",
   "metadata": {},
   "outputs": [
    {
     "name": "stderr",
     "output_type": "stream",
     "text": [
      "/home/quak/development/NEExT/.venv/lib/python3.12/site-packages/xgboost/core.py:377: FutureWarning: Your system has an old version of glibc (< 2.28). We will stop supporting Linux distros with glibc older than 2.28 after **May 31, 2025**. Please upgrade to a recent Linux distro (with glibc >= 2.28) to use future versions of XGBoost.\n",
      "Note: You have installed the 'manylinux2014' variant of XGBoost. Certain features such as GPU algorithms or federated learning are not available. To use these features, please upgrade to a recent Linux distro with glibc 2.28+, and install the 'manylinux_2_28' variant.\n",
      "  warnings.warn(\n"
     ]
    }
   ],
   "source": [
    "import pandas as pd\n",
    "from NEExT.io import GraphIO\n",
    "import igraph as ig\n",
    "from matplotlib import pyplot as plt\n",
    "import numpy as np\n",
    "\n",
    "from NEExT.collections.egonet_collection import EgonetCollection\n",
    "from NEExT.features.structural_node_features import StructuralNodeFeatures\n",
    "from NEExT.features.node_features import NodeFeatures\n",
    "from NEExT.builders.embedding_builder import EmbeddingBuilder\n",
    "import seaborn as sns\n",
    "\n",
    "%reload_ext autoreload\n",
    "%autoreload 2"
   ]
  },
  {
   "cell_type": "code",
   "execution_count": 2,
   "id": "b6490ff1",
   "metadata": {},
   "outputs": [],
   "source": [
    "edges_df = pd.read_csv(\"data/chain\", delimiter=\" \", header=None)\n",
    "edges_df.columns = [\"src_node_id\", \"dest_node_id\"]\n",
    "\n",
    "nodes = list(set(edges_df[\"src_node_id\"].unique().tolist() + edges_df[\"dest_node_id\"].unique().tolist()))\n",
    "features_df = pd.DataFrame()\n",
    "features_df[\"node_id\"] = nodes\n",
    "# for this problem as an outlier we define nodes at the edges\n",
    "features_df[\"is_outlier\"] = 0\n",
    "features_df.loc[[0, len(features_df) - 1], \"is_outlier\"] = 1\n",
    "\n",
    "mapping_df = pd.DataFrame()\n",
    "mapping_df[\"node_id\"] = nodes\n",
    "mapping_df[\"graph_id\"] = 0\n",
    "\n",
    "graph_io = GraphIO()\n",
    "graph_collection = graph_io.load_from_dfs(\n",
    "    edges_df=edges_df,\n",
    "    node_graph_df=mapping_df,\n",
    "    node_features_df=features_df,\n",
    "    graph_type=\"igraph\",\n",
    "    filter_largest_component=False,\n",
    ")"
   ]
  },
  {
   "cell_type": "code",
   "execution_count": 3,
   "id": "a6793b15",
   "metadata": {},
   "outputs": [
    {
     "data": {
      "image/png": "[encoded data removed]",
      "text/plain": [
       "<Figure size 640x480 with 1 Axes>"
      ]
     },
     "metadata": {},
     "output_type": "display_data"
    }
   ],
   "source": [
    "graph = graph_collection.graphs[0].G\n",
    "\n",
    "node_colors = [\"red\" if node[\"is_outlier\"] else \"lightblue\" for node in graph.vs]\n",
    "edge_colors = [\"black\" for _ in graph.es]\n",
    "layout = graph.layout(\"fr\")\n",
    "\n",
    "visual_style = {}\n",
    "visual_style[\"vertex_size\"] = 10\n",
    "visual_style[\"vertex_color\"] = node_colors\n",
    "visual_style[\"edge_color\"] = edge_colors\n",
    "visual_style[\"edge_width\"] = 0.5\n",
    "visual_style[\"layout\"] = layout\n",
    "visual_style[\"vertex_label\"] = None\n",
    "visual_style[\"bbox\"] = (600, 600)\n",
    "visual_style[\"margin\"] = 20\n",
    "\n",
    "\n",
    "fig, ax = plt.subplots()\n",
    "ig.plot(graph, target=ax, **visual_style)\n",
    "plt.show()"
   ]
  },
  {
   "cell_type": "code",
   "execution_count": 5,
   "id": "53a2c0c3",
   "metadata": {},
   "outputs": [
    {
     "name": "stdout",
     "output_type": "stream",
     "text": [
      "0 [1, 2] 2\n",
      "1 [0, 2, 3] 1\n",
      "2 [1, 3, 0, 4] 1\n",
      "3 [2, 4, 1, 5] 0\n",
      "4 [3, 5, 2, 6] 0\n",
      "5 [4, 6, 3, 7] 0\n",
      "6 [5, 7, 4, 8] 0\n",
      "7 [6, 8, 5, 9] 0\n",
      "8 [7, 9, 6, 10] 1\n",
      "9 [8, 10, 7] 1\n",
      "10 [9, 8] 2\n"
     ]
    }
   ],
   "source": [
    "# the caputring if the specific nodes has an outlier in its neighborhood\n",
    "k_hop = 2\n",
    "outlier_in_neighborhood = []\n",
    "\n",
    "outlier_nodes = features_df.query(\"is_outlier == 1\")[\"node_id\"].tolist()\n",
    "for node in range(graph.vcount()):\n",
    "    neighbors = list(i for i in graph.neighborhood(node, order=k_hop) if i != node)\n",
    "    if any(n in outlier_nodes for n in neighbors):\n",
    "        outlier_in_neighborhood.append(1)\n",
    "    elif node in outlier_nodes:\n",
    "        outlier_in_neighborhood.append(2)\n",
    "    else:\n",
    "        outlier_in_neighborhood.append(0)\n",
    "    print(node, neighbors, outlier_in_neighborhood[-1])"
   ]
  },
  {
   "cell_type": "code",
   "execution_count": 6,
   "id": "d9f8d6b8",
   "metadata": {},
   "outputs": [
    {
     "data": {
      "application/vnd.jupyter.widget-view+json": {
       "model_id": "0cef3c54f154449a9dc8e0b0c23797d4",
       "version_major": 2,
       "version_minor": 0
      },
      "text/plain": [
       "Computing structural node features:   0%|          | 0/1 [00:00<?, ?it/s]"
      ]
     },
     "metadata": {},
     "output_type": "display_data"
    }
   ],
   "source": [
    "global_structural_node_features = StructuralNodeFeatures(\n",
    "    graph_collection=graph_collection,\n",
    "    suffix=\"global\",\n",
    "    feature_list=[\"degree_centrality\"],\n",
    "    feature_vector_length=2,\n",
    "    n_jobs=1,\n",
    ").compute()\n",
    "graph_collection.add_node_features(global_structural_node_features.features_df)\n",
    "\n",
    "egonet_collection = EgonetCollection(skip_features=[\"is_outlier\"])\n",
    "egonet_collection.compute_k_hop_egonets(graph_collection, k_hop, nodes_to_sample={0:[0, 10]},sample_fraction=.5)\n",
    "egonet_sampled_nodes = [graph.original_node_id for graph in egonet_collection.graphs]\n",
    "################################\n",
    "node_features = NodeFeatures(\n",
    "    egonet_collection,\n",
    "    feature_list=global_structural_node_features.feature_columns,\n",
    "    n_jobs=1,\n",
    ")\n",
    "global_features = node_features.compute()\n",
    "############################\n",
    "emb_builder = EmbeddingBuilder(\n",
    "    graph_collection=egonet_collection,\n",
    "    # structural_features=structural_features,\n",
    "    features=global_features,\n",
    "    embeddings_dimension=1,\n",
    ")\n",
    "embeddings = emb_builder.compute(\"feature_embeddings\")"
   ]
  },
  {
   "cell_type": "code",
   "execution_count": 7,
   "id": "8f36d8f7",
   "metadata": {},
   "outputs": [
    {
     "data": {
      "image/png": "[encoded data removed]",
      "text/plain": [
       "<Figure size 800x400 with 1 Axes>"
      ]
     },
     "metadata": {},
     "output_type": "display_data"
    }
   ],
   "source": [
    "fig, ax = plt.subplots(1, 1, figsize=(8, 4))\n",
    "sns.scatterplot(\n",
    "    x=embeddings.embeddings_df.iloc[:, 0],\n",
    "    y=embeddings.embeddings_df.iloc[:, 1],\n",
    "    # hue=features_df['is_outlier'],\n",
    "    hue=np.array(outlier_in_neighborhood)[egonet_sampled_nodes],\n",
    "    ax=ax,\n",
    "    palette='viridis',\n",
    ")\n",
    "ax.set_xlabel(\"node_id\")\n",
    "ax.set_ylabel(\"emb_0\")\n",
    "fig.tight_layout()"
   ]
  },
  {
   "cell_type": "code",
   "execution_count": null,
   "id": "d5b7ce00",
   "metadata": {},
   "outputs": [],
   "source": []
  }
 ],
 "metadata": {
  "kernelspec": {
   "display_name": ".venv",
   "language": "python",
   "name": "python3"
  },
  "language_info": {
   "codemirror_mode": {
    "name": "ipython",
    "version": 3
   },
   "file_extension": ".py",
   "mimetype": "text/x-python",
   "name": "python",
   "nbconvert_exporter": "python",
   "pygments_lexer": "ipython3",
   "version": "3.12.10"
  }
 },
 "nbformat": 4,
 "nbformat_minor": 5
}
