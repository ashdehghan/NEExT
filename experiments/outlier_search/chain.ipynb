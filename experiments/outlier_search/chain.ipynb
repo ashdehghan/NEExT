{
 "cells": [
  {
   "cell_type": "code",
   "execution_count": null,
   "id": "6193ff8e",
   "metadata": {},
   "outputs": [
    {
     "name": "stderr",
     "output_type": "stream",
     "text": [
      "/home/quak/development/NEExT/.venv/lib/python3.12/site-packages/xgboost/core.py:377: FutureWarning: Your system has an old version of glibc (< 2.28). We will stop supporting Linux distros with glibc older than 2.28 after **May 31, 2025**. Please upgrade to a recent Linux distro (with glibc >= 2.28) to use future versions of XGBoost.\n",
      "Note: You have installed the 'manylinux2014' variant of XGBoost. Certain features such as GPU algorithms or federated learning are not available. To use these features, please upgrade to a recent Linux distro with glibc 2.28+, and install the 'manylinux_2_28' variant.\n",
      "  warnings.warn(\n"
     ]
    }
   ],
   "source": [
    "import pandas as pd\n",
    "from NEExT.io import GraphIO\n",
    "import igraph as ig\n",
    "from matplotlib import pyplot as plt\n",
    "\n",
    "%reload_ext autoreload\n",
    "%autoreload 2"
   ]
  },
  {
   "cell_type": "code",
   "execution_count": null,
   "id": "b6490ff1",
   "metadata": {},
   "outputs": [],
   "source": [
    "edges_df = pd.read_csv(\"data/chain\", delimiter=\" \", header=None)\n",
    "edges_df.columns = [\"src_node_id\", \"dest_node_id\"]\n",
    "\n",
    "nodes = list(set(edges_df[\"src_node_id\"].unique().tolist() + edges_df[\"dest_node_id\"].unique().tolist()))\n",
    "features_df = pd.DataFrame()\n",
    "features_df[\"node_id\"] = nodes\n",
    "# for this problem as an outlier we define nodes at the edges\n",
    "features_df[\"is_outlier\"] = 0\n",
    "features_df.loc[[0, len(features_df) - 1], \"is_outlier\"] = 1\n",
    "\n",
    "mapping_df = pd.DataFrame()\n",
    "mapping_df[\"node_id\"] = nodes\n",
    "mapping_df[\"graph_id\"] = 0"
   ]
  },
  {
   "cell_type": "code",
   "execution_count": 4,
   "id": "2f0e8d31",
   "metadata": {},
   "outputs": [],
   "source": [
    "graph_io = GraphIO()\n",
    "graph_collection = graph_io.load_from_dfs(\n",
    "    edges_df=edges_df,\n",
    "    node_graph_df=mapping_df,\n",
    "    node_features_df=features_df,\n",
    "    graph_type=\"igraph\",\n",
    "    filter_largest_component=False,\n",
    ")"
   ]
  },
  {
   "cell_type": "code",
   "execution_count": 24,
   "id": "a6793b15",
   "metadata": {},
   "outputs": [
    {
     "data": {
      "image/png": "[encoded data removed]",
      "text/plain": [
       "<Figure size 640x480 with 1 Axes>"
      ]
     },
     "metadata": {},
     "output_type": "display_data"
    }
   ],
   "source": [
    "graph = graph_collection.graphs[0].G\n",
    "\n",
    "node_colors = [\"red\" if node[\"is_outlier\"] else \"lightblue\" for node in graph.vs]\n",
    "edge_colors = [\"black\" for _ in graph.es]\n",
    "layout = graph.layout(\"fr\")\n",
    "\n",
    "visual_style = {}\n",
    "visual_style[\"vertex_size\"] = 10\n",
    "visual_style[\"vertex_color\"] = node_colors\n",
    "visual_style[\"edge_color\"] = edge_colors\n",
    "visual_style[\"edge_width\"] = 0.5\n",
    "visual_style[\"layout\"] = layout\n",
    "visual_style[\"vertex_label\"] = None\n",
    "visual_style[\"bbox\"] = (600, 600)\n",
    "visual_style[\"margin\"] = 20\n",
    "\n",
    "\n",
    "fig, ax = plt.subplots()\n",
    "ig.plot(graph, target=ax, **visual_style)\n",
    "plt.show()"
   ]
  },
  {
   "cell_type": "code",
   "execution_count": 39,
   "id": "53a2c0c3",
   "metadata": {},
   "outputs": [
    {
     "name": "stdout",
     "output_type": "stream",
     "text": [
      "0 [1, 2]\n",
      "1 [0, 2, 3]\n",
      "2 [1, 3, 0, 4]\n",
      "3 [2, 4, 1, 5]\n",
      "4 [3, 5, 2, 6]\n",
      "5 [4, 6, 3, 7]\n",
      "6 [5, 7, 4, 8]\n",
      "7 [6, 8, 5, 9]\n",
      "8 [7, 9, 6, 10]\n",
      "9 [8, 10, 7]\n",
      "10 [9, 8]\n"
     ]
    }
   ],
   "source": [
    "# the caputring if the specific nodes has an outlier in its neighborhood\n",
    "k_hop = 2\n",
    "outlier_in_neighbors = []\n",
    "\n",
    "outlier_nodes = features_df.query(\"is_outlier == 1\")[\"node_id\"].tolist()\n",
    "for node in range(graph.vcount()):\n",
    "    neighbors = list(i for i in graph.neighborhood(node, order=k_hop) if i != node)\n",
    "    print(node, neighbors)\n",
    "    if any(n in outlier_nodes for n in neighbors):\n",
    "        outlier_in_neighbors.append(1)\n",
    "    else:\n",
    "        outlier_in_neighbors.append(0)"
   ]
  },
  {
   "cell_type": "code",
   "execution_count": 38,
   "id": "d9f8d6b8",
   "metadata": {},
   "outputs": [
    {
     "data": {
      "text/plain": [
       "[0, 1, 1, 0, 0, 0, 0, 0, 1, 1, 0]"
      ]
     },
     "execution_count": 38,
     "metadata": {},
     "output_type": "execute_result"
    }
   ],
   "source": [
    "outlier_in_neighbors"
   ]
  }
 ],
 "metadata": {
  "kernelspec": {
   "display_name": ".venv",
   "language": "python",
   "name": "python3"
  },
  "language_info": {
   "codemirror_mode": {
    "name": "ipython",
    "version": 3
   },
   "file_extension": ".py",
   "mimetype": "text/x-python",
   "name": "python",
   "nbconvert_exporter": "python",
   "pygments_lexer": "ipython3",
   "version": "3.12.10"
  }
 },
 "nbformat": 4,
 "nbformat_minor": 5
}
