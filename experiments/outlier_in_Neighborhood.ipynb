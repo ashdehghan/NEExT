{
 "cells": [
  {
   "cell_type": "code",
   "execution_count": 1,
   "metadata": {},
   "outputs": [],
   "source": [
    "import os\n",
    "from functools import partial\n",
    "from itertools import product\n",
    "\n",
    "import lightgbm as lgbm\n",
    "import matplotlib.pyplot as plt\n",
    "import numpy as np\n",
    "import optuna\n",
    "import pandas as pd\n",
    "from sklearn.metrics import make_scorer, roc_auc_score\n",
    "from sklearn.model_selection import StratifiedKFold, cross_val_score\n",
    "\n",
    "from NEExT.collections import EgonetCollection\n",
    "from NEExT.io import GraphIO\n",
    "from NEExT.ml_models import OutlierDataset\n",
    "\n",
    "%reload_ext autoreload\n",
    "%autoreload 2"
   ]
  },
  {
   "cell_type": "code",
   "execution_count": 2,
   "metadata": {},
   "outputs": [],
   "source": [
    "from sklearn.neighbors import KNeighborsClassifier\n",
    "from NEExT.experiment_utils.data_loading import initialize_graph, semi_supervised_set\n",
    "from NEExT.experiment_utils.embed import build_embeddings, build_features\n",
    "from NEExT.experiment_utils.models import score_unlabeled_gt\n",
    "from NEExT.ml_models import CosineOutlierDetector\n",
    "\n",
    "\n",
    "def objective(trial: optuna.Trial, model: str):\n",
    "    structural_embedding_dimension = trial.suggest_int(\"structural_embedding_dimension\", 1, 20)\n",
    "    strategy = \"structural_embedding\"\n",
    "    feature_embedding_dimension = 1\n",
    "\n",
    "    embeddings = build_embeddings(\n",
    "        subgraph_collection,\n",
    "        structural_features,\n",
    "        features,\n",
    "        strategy=strategy,\n",
    "        structural_embedding_dimension=structural_embedding_dimension,\n",
    "        feature_embedding_dimension=feature_embedding_dimension,\n",
    "    )\n",
    "    dataset = OutlierDataset(subgraph_collection, embeddings, standardize=False)\n",
    "    if model == \"cosine\":\n",
    "        top_k = trial.suggest_int(\"top_k\", 1, 20)\n",
    "        detector = CosineOutlierDetector(top_k=top_k)\n",
    "    elif model == \"knn\":\n",
    "        n_neighbors = trial.suggest_int(\"n_neighbors\", 1, 50)\n",
    "        detector = KNeighborsClassifier(n_neighbors=n_neighbors)\n",
    "\n",
    "    metric = cross_val_score(\n",
    "        detector,\n",
    "        dataset.X_labeled,\n",
    "        dataset.y_labeled,\n",
    "        cv=StratifiedKFold(5),\n",
    "        n_jobs=-1,\n",
    "        scoring=make_scorer(roc_auc_score),\n",
    "    )\n",
    "    return metric.mean()"
   ]
  },
  {
   "cell_type": "code",
   "execution_count": 3,
   "metadata": {},
   "outputs": [],
   "source": [
    "graph_io = GraphIO()\n",
    "path = \"../local/data/simulated\"\n",
    "name = \"abcdo_data_1000_200_0.1\"\n",
    "frac = (0.8, 0.8)\n",
    "\n",
    "graph_data = {\n",
    "    \"name\": name,\n",
    "    \"edge_file_path\": f\"{path}/{name}/edges.csv\",\n",
    "    \"node_graph_mapping_file_path\": f\"{path}/{name}/graph_mapping.csv\",\n",
    "    \"features_file_path\": f\"{path}/{name}/features.csv\",\n",
    "    \"skip_features\": [\"community_id\", \"random_community_feature\"],\n",
    "    \"feature_list\": [],\n",
    "    \"target\": \"is_outlier\",\n",
    "}\n",
    "edges_df, mapping_df, features_df, ground_truth_df = initialize_graph(graph_data, frac)"
   ]
  },
  {
   "cell_type": "code",
   "execution_count": 4,
   "metadata": {},
   "outputs": [],
   "source": [
    "graph_collection = graph_io.load_from_dfs(\n",
    "    edges_df=edges_df,\n",
    "    node_graph_df=mapping_df,\n",
    "    node_features_df=features_df,\n",
    "    graph_type=\"igraph\",\n",
    ")\n",
    "subgraph_collection = EgonetCollection()\n",
    "subgraph_collection.create_egonets_from_graphs(\n",
    "    graph_collection=graph_collection,\n",
    "    egonet_target=graph_data[\"target\"],\n",
    "    egonet_algorithm=\"k_hop_egonet\",\n",
    "    skip_features=graph_data[\"skip_features\"],\n",
    "    max_hop_length=1,\n",
    ")\n",
    "structural_features, features = build_features(subgraph_collection, feature_vector_length=6, feature_list=graph_data[\"feature_list\"])"
   ]
  },
  {
   "cell_type": "code",
   "execution_count": 5,
   "metadata": {},
   "outputs": [
    {
     "name": "stderr",
     "output_type": "stream",
     "text": [
      "[I 2025-03-23 18:12:33,413] A new study created in memory with name: no-name-f3a130cc-4592-4d3e-a345-5724a16885c1\n"
     ]
    },
    {
     "name": "stderr",
     "output_type": "stream",
     "text": [
      "[I 2025-03-23 18:12:51,379] Trial 1 finished with value: 0.6375 and parameters: {'structural_embedding_dimension': 6, 'top_k': 16}. Best is trial 1 with value: 0.6375.\n",
      "[I 2025-03-23 18:12:51,385] Trial 3 finished with value: 0.58125 and parameters: {'structural_embedding_dimension': 12, 'top_k': 20}. Best is trial 1 with value: 0.6375.\n",
      "[I 2025-03-23 18:12:51,799] Trial 2 finished with value: 0.6875 and parameters: {'structural_embedding_dimension': 9, 'top_k': 19}. Best is trial 2 with value: 0.6875.\n",
      "[I 2025-03-23 18:12:52,147] Trial 0 finished with value: 0.609375 and parameters: {'structural_embedding_dimension': 4, 'top_k': 20}. Best is trial 2 with value: 0.6875.\n",
      "[I 2025-03-23 18:12:52,670] Trial 5 finished with value: 0.759375 and parameters: {'structural_embedding_dimension': 12, 'top_k': 13}. Best is trial 5 with value: 0.759375.\n",
      "[I 2025-03-23 18:12:52,963] Trial 4 finished with value: 0.578125 and parameters: {'structural_embedding_dimension': 2, 'top_k': 11}. Best is trial 5 with value: 0.759375.\n",
      "[I 2025-03-23 18:12:53,075] Trial 6 finished with value: 0.721875 and parameters: {'structural_embedding_dimension': 17, 'top_k': 9}. Best is trial 5 with value: 0.759375.\n",
      "[I 2025-03-23 18:12:53,181] Trial 7 finished with value: 0.709375 and parameters: {'structural_embedding_dimension': 16, 'top_k': 6}. Best is trial 5 with value: 0.759375.\n",
      "[I 2025-03-23 18:12:53,269] Trial 8 finished with value: 0.696875 and parameters: {'structural_embedding_dimension': 9, 'top_k': 2}. Best is trial 5 with value: 0.759375.\n",
      "[I 2025-03-23 18:12:53,549] Trial 9 finished with value: 0.5 and parameters: {'structural_embedding_dimension': 1, 'top_k': 15}. Best is trial 5 with value: 0.759375.\n",
      "[I 2025-03-23 18:12:54,387] Trial 11 finished with value: 0.58125 and parameters: {'structural_embedding_dimension': 2, 'top_k': 7}. Best is trial 5 with value: 0.759375.\n",
      "[I 2025-03-23 18:12:54,443] Trial 10 finished with value: 0.8 and parameters: {'structural_embedding_dimension': 15, 'top_k': 5}. Best is trial 10 with value: 0.8.\n",
      "[I 2025-03-23 18:12:54,450] Trial 12 finished with value: 0.759375 and parameters: {'structural_embedding_dimension': 5, 'top_k': 17}. Best is trial 10 with value: 0.8.\n",
      "[I 2025-03-23 18:12:54,451] Trial 13 finished with value: 0.584375 and parameters: {'structural_embedding_dimension': 2, 'top_k': 6}. Best is trial 10 with value: 0.8.\n",
      "[I 2025-03-23 18:12:54,917] Trial 14 finished with value: 0.76875 and parameters: {'structural_embedding_dimension': 20, 'top_k': 13}. Best is trial 10 with value: 0.8.\n",
      "[I 2025-03-23 18:12:55,422] Trial 17 finished with value: 0.6875 and parameters: {'structural_embedding_dimension': 20, 'top_k': 12}. Best is trial 10 with value: 0.8.\n",
      "[I 2025-03-23 18:12:55,732] Trial 15 finished with value: 0.753125 and parameters: {'structural_embedding_dimension': 19, 'top_k': 11}. Best is trial 10 with value: 0.8.\n",
      "[I 2025-03-23 18:12:55,876] Trial 16 finished with value: 0.6875 and parameters: {'structural_embedding_dimension': 20, 'top_k': 12}. Best is trial 10 with value: 0.8.\n",
      "[I 2025-03-23 18:12:56,070] Trial 18 finished with value: 0.7125 and parameters: {'structural_embedding_dimension': 14, 'top_k': 1}. Best is trial 10 with value: 0.8.\n",
      "[I 2025-03-23 18:12:56,535] Trial 19 finished with value: 0.70625 and parameters: {'structural_embedding_dimension': 20, 'top_k': 1}. Best is trial 10 with value: 0.8.\n",
      "[I 2025-03-23 18:12:57,044] Trial 22 finished with value: 0.7875 and parameters: {'structural_embedding_dimension': 16, 'top_k': 3}. Best is trial 10 with value: 0.8.\n",
      "[I 2025-03-23 18:12:57,239] Trial 20 finished with value: 0.70625 and parameters: {'structural_embedding_dimension': 20, 'top_k': 1}. Best is trial 10 with value: 0.8.\n",
      "[I 2025-03-23 18:12:57,317] Trial 21 finished with value: 0.703125 and parameters: {'structural_embedding_dimension': 15, 'top_k': 1}. Best is trial 10 with value: 0.8.\n",
      "[I 2025-03-23 18:12:57,761] Trial 23 finished with value: 0.640625 and parameters: {'structural_embedding_dimension': 17, 'top_k': 4}. Best is trial 10 with value: 0.8.\n",
      "[I 2025-03-23 18:12:57,875] Trial 24 finished with value: 0.640625 and parameters: {'structural_embedding_dimension': 17, 'top_k': 4}. Best is trial 10 with value: 0.8.\n",
      "[I 2025-03-23 18:12:58,353] Trial 25 finished with value: 0.640625 and parameters: {'structural_embedding_dimension': 17, 'top_k': 4}. Best is trial 10 with value: 0.8.\n",
      "[I 2025-03-23 18:12:58,918] Trial 26 finished with value: 0.640625 and parameters: {'structural_embedding_dimension': 17, 'top_k': 4}. Best is trial 10 with value: 0.8.\n",
      "[I 2025-03-23 18:12:59,021] Trial 27 finished with value: 0.640625 and parameters: {'structural_embedding_dimension': 17, 'top_k': 4}. Best is trial 10 with value: 0.8.\n",
      "[I 2025-03-23 18:12:59,271] Trial 29 finished with value: 0.778125 and parameters: {'structural_embedding_dimension': 13, 'top_k': 3}. Best is trial 10 with value: 0.8.\n",
      "[I 2025-03-23 18:12:59,305] Trial 28 finished with value: 0.6875 and parameters: {'structural_embedding_dimension': 18, 'top_k': 4}. Best is trial 10 with value: 0.8.\n",
      "[I 2025-03-23 18:12:59,659] Trial 30 finished with value: 0.703125 and parameters: {'structural_embedding_dimension': 14, 'top_k': 8}. Best is trial 10 with value: 0.8.\n",
      "[I 2025-03-23 18:13:00,155] Trial 32 finished with value: 0.75 and parameters: {'structural_embedding_dimension': 13, 'top_k': 8}. Best is trial 10 with value: 0.8.\n",
      "[I 2025-03-23 18:13:00,239] Trial 31 finished with value: 0.628125 and parameters: {'structural_embedding_dimension': 13, 'top_k': 10}. Best is trial 10 with value: 0.8.\n",
      "[I 2025-03-23 18:13:00,973] Trial 34 finished with value: 0.75 and parameters: {'structural_embedding_dimension': 13, 'top_k': 8}. Best is trial 10 with value: 0.8.\n",
      "[I 2025-03-23 18:13:01,049] Trial 33 finished with value: 0.703125 and parameters: {'structural_embedding_dimension': 14, 'top_k': 8}. Best is trial 10 with value: 0.8.\n",
      "[I 2025-03-23 18:13:01,403] Trial 35 finished with value: 0.853125 and parameters: {'structural_embedding_dimension': 12, 'top_k': 9}. Best is trial 35 with value: 0.853125.\n",
      "[I 2025-03-23 18:13:01,722] Trial 36 finished with value: 0.70625 and parameters: {'structural_embedding_dimension': 11, 'top_k': 6}. Best is trial 35 with value: 0.853125.\n",
      "[I 2025-03-23 18:13:01,746] Trial 37 finished with value: 0.653125 and parameters: {'structural_embedding_dimension': 10, 'top_k': 14}. Best is trial 35 with value: 0.853125.\n",
      "[I 2025-03-23 18:13:02,236] Trial 38 finished with value: 0.63125 and parameters: {'structural_embedding_dimension': 11, 'top_k': 14}. Best is trial 35 with value: 0.853125.\n",
      "[I 2025-03-23 18:13:02,440] Trial 40 finished with value: 0.70625 and parameters: {'structural_embedding_dimension': 11, 'top_k': 6}. Best is trial 35 with value: 0.853125.\n",
      "[I 2025-03-23 18:13:02,467] Trial 39 finished with value: 0.63125 and parameters: {'structural_embedding_dimension': 11, 'top_k': 14}. Best is trial 35 with value: 0.853125.\n",
      "[I 2025-03-23 18:13:03,010] Trial 42 finished with value: 0.815625 and parameters: {'structural_embedding_dimension': 7, 'top_k': 3}. Best is trial 35 with value: 0.853125.\n",
      "[I 2025-03-23 18:13:03,150] Trial 41 finished with value: 0.740625 and parameters: {'structural_embedding_dimension': 9, 'top_k': 3}. Best is trial 35 with value: 0.853125.\n",
      "[I 2025-03-23 18:13:03,781] Trial 44 finished with value: 0.775 and parameters: {'structural_embedding_dimension': 15, 'top_k': 3}. Best is trial 35 with value: 0.853125.\n",
      "[I 2025-03-23 18:13:04,081] Trial 45 finished with value: 0.775 and parameters: {'structural_embedding_dimension': 15, 'top_k': 3}. Best is trial 35 with value: 0.853125.\n",
      "[I 2025-03-23 18:13:04,114] Trial 43 finished with value: 0.775 and parameters: {'structural_embedding_dimension': 15, 'top_k': 3}. Best is trial 35 with value: 0.853125.\n",
      "[I 2025-03-23 18:13:04,135] Trial 47 finished with value: 0.815625 and parameters: {'structural_embedding_dimension': 7, 'top_k': 3}. Best is trial 35 with value: 0.853125.\n",
      "[I 2025-03-23 18:13:04,304] Trial 46 finished with value: 0.815625 and parameters: {'structural_embedding_dimension': 7, 'top_k': 3}. Best is trial 35 with value: 0.853125.\n",
      "[I 2025-03-23 18:13:04,589] Trial 49 finished with value: 0.734375 and parameters: {'structural_embedding_dimension': 7, 'top_k': 5}. Best is trial 35 with value: 0.853125.\n",
      "[I 2025-03-23 18:13:04,593] Trial 48 finished with value: 0.665625 and parameters: {'structural_embedding_dimension': 7, 'top_k': 2}. Best is trial 35 with value: 0.853125.\n"
     ]
    }
   ],
   "source": [
    "model = 'cosine'\n",
    "study = optuna.create_study(direction=\"maximize\")\n",
    "study.optimize(partial(objective, model=model), n_trials=50, n_jobs=5)"
   ]
  },
  {
   "cell_type": "code",
   "execution_count": null,
   "metadata": {},
   "outputs": [
    {
     "data": {
      "text/plain": [
       "0.76875"
      ]
     },
     "execution_count": 6,
     "metadata": {},
     "output_type": "execute_result"
    }
   ],
   "source": [
    "structural_embedding_dimension = study.best_params['structural_embedding_dimension']\n",
    "strategy = \"structural_embedding\"\n",
    "feature_embedding_dimension = 1\n",
    "    \n",
    "embeddings = build_embeddings(\n",
    "    subgraph_collection,\n",
    "    structural_features,\n",
    "    features,\n",
    "    strategy=strategy,\n",
    "    structural_embedding_dimension=structural_embedding_dimension,\n",
    "    feature_embedding_dimension=feature_embedding_dimension,\n",
    ")\n",
    "dataset = OutlierDataset(subgraph_collection, embeddings, standardize=False)\n",
    "if model == \"cosine\":\n",
    "    new_var = study.best_params['top_k']\n",
    "    detector = CosineOutlierDetector(top_k=new_var)\n",
    "elif model == \"knn\":\n",
    "    n_neighbors = study.best_params['n_neighbors']\n",
    "    detector = KNeighborsClassifier(n_neighbors=n_neighbors)\n",
    "    \n",
    "score_unlabeled_gt(dataset, detector, ground_truth_df)"
   ]
  }
 ],
 "metadata": {
  "kernelspec": {
   "display_name": "neext",
   "language": "python",
   "name": "python3"
  },
  "language_info": {
   "codemirror_mode": {
    "name": "ipython",
    "version": 3
   },
   "file_extension": ".py",
   "mimetype": "text/x-python",
   "name": "python",
   "nbconvert_exporter": "python",
   "pygments_lexer": "ipython3",
   "version": "3.11.11"
  }
 },
 "nbformat": 4,
 "nbformat_minor": 2
}
