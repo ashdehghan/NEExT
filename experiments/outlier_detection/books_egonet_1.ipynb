{
 "cells": [
  {
   "cell_type": "code",
   "execution_count": 86,
   "id": "1794691d",
   "metadata": {},
   "outputs": [],
   "source": [
    "from functools import partial\n",
    "\n",
    "import mlflow\n",
    "from config import Params\n",
    "from joblib import Parallel, delayed\n",
    "\n",
    "from experiment import evaluation_loop\n",
    "from NEExT.outliers.benchmark_utils.data_loading import load_abcdo_data, load_pygod_data"
   ]
  },
  {
   "cell_type": "code",
   "execution_count": 87,
   "id": "ceed54d5",
   "metadata": {},
   "outputs": [],
   "source": [
    "def prepare_dataset(data: str):\n",
    "    edges_df, mapping_df, features_df, _ = load_pygod_data(data, hide_frac={0: 0, 1: 0})\n",
    "    community_id = features_df.is_outlier\n",
    "    return edges_df, mapping_df, features_df, community_id\n",
    "\n",
    "\n",
    "data = \"books\"\n",
    "mlflow.set_tracking_uri(uri=\"http://127.0.0.1:5001\")\n",
    "experiment_name = f\"/{data}\"\n",
    "mlflow.set_experiment(experiment_name)\n",
    "\n",
    "data_fun = partial(prepare_dataset, data=data)"
   ]
  },
  {
   "cell_type": "code",
   "execution_count": 88,
   "id": "ead095c2",
   "metadata": {},
   "outputs": [],
   "source": [
    "feature = ['all']\n",
    "# feature = []\n",
    "vec_len = 1\n",
    "k_hop = 1\n",
    "param = Params(\n",
    "    comment=f\"global_structural_features_{feature}_{k_hop}_{vec_len}\",\n",
    "    global_structural_feature_list=feature,\n",
    "    global_feature_vector_length=vec_len,\n",
    "    embeddings_strategy=\"feature_embeddings\",\n",
    "    egonet_k_hop=k_hop,\n",
    "    local_node_features=[f'x_{i}' for i in range(1, 21)]\n",
    ")"
   ]
  },
  {
   "cell_type": "code",
   "execution_count": 89,
   "id": "6a0bfebe",
   "metadata": {},
   "outputs": [
    {
     "name": "stderr",
     "output_type": "stream",
     "text": [
      "/home/quak/development/NEExT/.venv/lib/python3.11/site-packages/pygod/utils/utility.py:173: FutureWarning: You are using `torch.load` with `weights_only=False` (the current default value), which uses the default pickle module implicitly. It is possible to construct malicious pickle data which will execute arbitrary code during unpickling (See https://github.com/pytorch/pytorch/blob/main/SECURITY.md#untrusted-models for more details). In a future release, the default value for `weights_only` will be flipped to `True`. This limits the functions that could be executed during unpickling. Arbitrary objects will no longer be allowed to be loaded via this mode unless they are explicitly allowlisted by the user via `torch.serialization.add_safe_globals`. We recommend you start setting `weights_only=True` for any use case where you don't have full control of the loaded file. Please open an issue on GitHub for any issues related to this experimental feature.\n",
      "  data = torch.load(file_path)\n"
     ]
    },
    {
     "name": "stdout",
     "output_type": "stream",
     "text": [
      "🏃 View run global_structural_features_['all']_1_1 at: http://127.0.0.1:5001/#/experiments/873880819927185239/runs/edd81676290d46999395fc7e34732af4\n",
      "🧪 View experiment at: http://127.0.0.1:5001/#/experiments/873880819927185239\n"
     ]
    }
   ],
   "source": [
    "import traceback\n",
    "from functools import partial\n",
    "from typing import Callable\n",
    "\n",
    "import mlflow\n",
    "from config import Params\n",
    "from embedding_utils import (\n",
    "    add_positional_features,\n",
    "    compute_embedding,\n",
    "    compute_global_features,\n",
    "    compute_local_node_features,\n",
    "    compute_local_structural_features,\n",
    "    node2vec_embedding,\n",
    ")\n",
    "from joblib import Parallel, delayed\n",
    "from modeling_utils import make_charts, run_experiments, train_random_model\n",
    "\n",
    "from NEExT.collections import EgonetCollection\n",
    "from NEExT.datasets import GraphDataset\n",
    "from NEExT.io import GraphIO\n",
    "\n",
    "with mlflow.start_run(run_name=param.comment):\n",
    "    partial_metrics = {}\n",
    "    edges_df, mapping_df, features_df, community_id = data_fun()\n",
    "    graph_io = GraphIO()\n",
    "    graph_collection = graph_io.load_from_dfs(\n",
    "        edges_df=edges_df,\n",
    "        node_graph_df=mapping_df,\n",
    "        node_features_df=features_df,\n",
    "        graph_type=\"igraph\",\n",
    "        filter_largest_component=param.filter_largest_component,\n",
    "    )\n",
    "\n",
    "    global_structural_node_features = compute_global_features(param, partial_metrics, graph_collection)\n",
    "    \n",
    "    egonet_collection = EgonetCollection(egonet_feature_target=param.egonet_target, skip_features=param.egonet_skip_features)\n",
    "    egonet_collection.compute_k_hop_egonets(graph_collection, param.egonet_k_hop)\n",
    "\n",
    "    structural_features = compute_local_structural_features(param, partial_metrics, egonet_collection)\n",
    "    features = compute_local_node_features(param, egonet_collection, global_structural_node_features)\n",
    "\n",
    "    structural_features, features = add_positional_features(param, egonet_collection, structural_features, features)\n",
    "\n",
    "    embeddings = compute_embedding(param, egonet_collection, structural_features, features)\n",
    "\n",
    "    # dataset = GraphDataset(egonet_collection, embeddings)\n",
    "    # run_experiments(param, partial_metrics, dataset)\n",
    "    # make_charts(param, features_df, community_id, dataset)"
   ]
  },
  {
   "cell_type": "code",
   "execution_count": 90,
   "id": "51e7ca40",
   "metadata": {},
   "outputs": [],
   "source": [
    "dataset = GraphDataset(egonet_collection, embeddings)"
   ]
  },
  {
   "cell_type": "code",
   "execution_count": 103,
   "id": "972d30b5",
   "metadata": {},
   "outputs": [
    {
     "name": "stdout",
     "output_type": "stream",
     "text": [
      "{'accuracy_metric': 0.9788732394366197, 'auc_metric': 0.6870503597122303, 'ap_metric': 0.059750086248528345, 'f1_metric': 0.9788732394366197}\n"
     ]
    }
   ],
   "source": [
    "from sklearn.ensemble import IsolationForest\n",
    "import colorcet as cc\n",
    "import matplotlib.pyplot as plt\n",
    "from sklearn.neighbors import LocalOutlierFactor\n",
    "import mlflow\n",
    "import numpy as np\n",
    "import seaborn as sns\n",
    "import umap\n",
    "from lightgbm import LGBMClassifier\n",
    "from sklearn.dummy import DummyClassifier\n",
    "from sklearn.linear_model import LogisticRegression\n",
    "from sklearn.metrics import accuracy_score, average_precision_score, f1_score, roc_auc_score\n",
    "from sklearn.model_selection import train_test_split\n",
    "\n",
    "\n",
    "model_name, model = (\"lr\", LogisticRegression(max_iter=1000, random_state=13))\n",
    "x_train, x_test, y_train, y_test = train_test_split(\n",
    "    dataset.X_labeled,\n",
    "    dataset.y_labeled,\n",
    "    test_size=0.2,\n",
    "    random_state=13,\n",
    "    stratify=dataset.y_labeled,\n",
    ")\n",
    "\n",
    "model.fit(x_train, y_train)\n",
    "y_pred = model.predict(x_test)\n",
    "y_pred_prob = model.predict_proba(x_test)[:, 1]\n",
    "\n",
    "metrics = dict(\n",
    "    accuracy_metric=accuracy_score(y_test, y_pred),\n",
    "    auc_metric=roc_auc_score(y_test, y_pred_prob, average=\"micro\", multi_class=\"ovr\"),\n",
    "    ap_metric=average_precision_score(y_test, y_pred_prob, average=\"micro\"),\n",
    "    f1_metric=f1_score(y_test, y_pred, average=\"micro\"),\n",
    ")\n",
    "print(metrics)"
   ]
  },
  {
   "cell_type": "code",
   "execution_count": 97,
   "id": "a2a86cf6",
   "metadata": {},
   "outputs": [
    {
     "data": {
      "text/plain": [
       "0.5"
      ]
     },
     "execution_count": 97,
     "metadata": {},
     "output_type": "execute_result"
    }
   ],
   "source": [
    "from sklearn.model_selection import TunedThresholdClassifierCV\n",
    "from sklearn.metrics import make_scorer\n",
    "scorer = make_scorer(roc_auc_score)\n",
    "\n",
    "th_model = TunedThresholdClassifierCV(model, scoring=scorer)\n",
    "X, y = x_train, y_train\n",
    "scorer(th_model.fit(X, y), X, y)"
   ]
  },
  {
   "cell_type": "code",
   "execution_count": 104,
   "id": "b05ede79",
   "metadata": {},
   "outputs": [
    {
     "data": {
      "text/plain": [
       "<sklearn.metrics._plot.confusion_matrix.ConfusionMatrixDisplay at 0x75e49605bd90>"
      ]
     },
     "execution_count": 104,
     "metadata": {},
     "output_type": "execute_result"
    },
    {
     "data": {
      "image/png": "[encoded data removed]",
      "text/plain": [
       "<Figure size 640x480 with 2 Axes>"
      ]
     },
     "metadata": {},
     "output_type": "display_data"
    }
   ],
   "source": [
    "from sklearn.metrics import ConfusionMatrixDisplay\n",
    "ConfusionMatrixDisplay.from_estimator(model, X, y)"
   ]
  },
  {
   "cell_type": "code",
   "execution_count": 110,
   "id": "fcb7dcad",
   "metadata": {},
   "outputs": [
    {
     "name": "stdout",
     "output_type": "stream",
     "text": [
      "loc {'accuracy_metric': 0.8871650211565585, 'auc_metric': 0.540005138746146, 'precision': 0.035211267605633804, 'recall': 0.17857142857142858}\n",
      "if {'accuracy_metric': 0.8229901269393513, 'auc_metric': 0.5247687564234327, 'precision': 0.02553191489361702, 'recall': 0.21428571428571427}\n"
     ]
    }
   ],
   "source": [
    "from sklearn.metrics import precision_score, recall_score\n",
    "\n",
    "\n",
    "models = [\n",
    "    (\"loc\", LocalOutlierFactor(n_neighbors=20, contamination=0.1)),\n",
    "    (\"if\", IsolationForest(random_state=13)),\n",
    "]                    \n",
    "for model_name, model in models:\n",
    "    extended_params = dict(param) | {\"model_name\": model_name, \"status\": \"OK\"}\n",
    "    y_pred = model.fit_predict(dataset.X_labeled)\n",
    "    y_pred = np.where(y_pred == -1, 1 ,0)\n",
    "\n",
    "\n",
    "    metrics = dict(\n",
    "        accuracy_metric = accuracy_score(dataset.y_labeled, y_pred),\n",
    "        auc_metric = roc_auc_score(dataset.y_labeled, y_pred, average=\"micro\", multi_class=\"ovr\"),\n",
    "        precision=precision_score(dataset.y_labeled, y_pred),\n",
    "        recall=recall_score(dataset.y_labeled, y_pred),\n",
    "    )\n",
    "    print(model_name, metrics)\n"
   ]
  },
  {
   "cell_type": "code",
   "execution_count": 111,
   "id": "10130b92",
   "metadata": {},
   "outputs": [
    {
     "data": {
      "text/plain": [
       "<sklearn.metrics._plot.confusion_matrix.ConfusionMatrixDisplay at 0x75e4945c3a90>"
      ]
     },
     "execution_count": 111,
     "metadata": {},
     "output_type": "execute_result"
    },
    {
     "data": {
      "image/png": "[encoded data removed]",
      "text/plain": [
       "<Figure size 640x480 with 2 Axes>"
      ]
     },
     "metadata": {},
     "output_type": "display_data"
    }
   ],
   "source": [
    "from sklearn.metrics import confusion_matrix\n",
    "\n",
    "ConfusionMatrixDisplay(confusion_matrix(dataset.y_labeled, y_pred)).plot()"
   ]
  }
 ],
 "metadata": {
  "kernelspec": {
   "display_name": ".venv",
   "language": "python",
   "name": "python3"
  },
  "language_info": {
   "codemirror_mode": {
    "name": "ipython",
    "version": 3
   },
   "file_extension": ".py",
   "mimetype": "text/x-python",
   "name": "python",
   "nbconvert_exporter": "python",
   "pygments_lexer": "ipython3",
   "version": "3.11.12"
  }
 },
 "nbformat": 4,
 "nbformat_minor": 5
}
