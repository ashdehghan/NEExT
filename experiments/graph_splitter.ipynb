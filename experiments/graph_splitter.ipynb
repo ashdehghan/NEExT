{
 "cells": [
  {
   "cell_type": "code",
   "execution_count": 1,
   "metadata": {},
   "outputs": [],
   "source": [
    "import matplotlib.pyplot as plt\n",
    "import numpy as np\n",
    "import pandas as pd\n",
    "from tqdm import tqdm\n",
    "\n",
    "from NEExT import NEExT\n",
    "\n",
    "%reload_ext autoreload\n",
    "%autoreload 2"
   ]
  },
  {
   "cell_type": "code",
   "execution_count": 2,
   "metadata": {},
   "outputs": [],
   "source": [
    "edge_file_path = \"../data/ABCDO-full/edges.csv\"\n",
    "node_graph_mapping_file_path = \"../data/ABCDO-full/graph_mapping.csv\"\n",
    "features_file_path = \"../data/ABCDO-full/features.csv\""
   ]
  },
  {
   "cell_type": "code",
   "execution_count": null,
   "metadata": {},
   "outputs": [],
   "source": [
    "from NEExT.collections import EgonetCollection\n",
    "from NEExT.features import NodeFeatures, StructuralNodeFeatures\n",
    "from NEExT.io import GraphIO\n",
    "from NEExT.ml_models import MLModels\n",
    "\n",
    "target = \"is_outlier\"\n",
    "sample_size = 5\n",
    "\n",
    "graph_io = GraphIO()\n",
    "subgraph_collection = EgonetCollection()\n",
    "\n",
    "\n",
    "graph_collection = graph_io.read_from_csv(\n",
    "    edges_path=edge_file_path,\n",
    "    node_graph_mapping_path=node_graph_mapping_file_path,\n",
    "    node_features_path=features_file_path,\n",
    "    graph_type=\"igraph\",\n",
    ")\n",
    "subgraph_collection.create_egonets_from_graphs(\n",
    "    graph_collection=graph_collection,\n",
    "    egonet_target=target,\n",
    "    egonet_algorithm=\"k_hop_egonet\",\n",
    "    skip_features=[\"community_id\"],\n",
    "    max_hop_length=1\n",
    ")"
   ]
  },
  {
   "cell_type": "code",
   "execution_count": null,
   "metadata": {},
   "outputs": [
    {
     "data": {
      "application/vnd.jupyter.widget-view+json": {
       "model_id": "59f7a5aecb8e4252886eb2f10a6275d7",
       "version_major": 2,
       "version_minor": 0
      },
      "text/plain": [
       "Computing structural node features:   0%|          | 0/1000 [00:00<?, ?it/s]"
      ]
     },
     "metadata": {},
     "output_type": "display_data"
    }
   ],
   "source": [
    "structural_node_features = StructuralNodeFeatures(\n",
    "    graph_collection=subgraph_collection,\n",
    "    feature_list=[\"all\"],\n",
    "    feature_vector_length=3,\n",
    "    n_jobs=8,\n",
    ")\n",
    "node_features = NodeFeatures(\n",
    "    subgraph_collection,\n",
    "    feature_list=[\"random_community_feature\"],\n",
    ")\n",
    "\n",
    "structural_features = structural_node_features.compute()\n",
    "features = node_features.compute()"
   ]
  },
  {
   "cell_type": "code",
   "execution_count": 6,
   "metadata": {},
   "outputs": [
    {
     "name": "stdout",
     "output_type": "stream",
     "text": [
      "separate_embedding Model trained with average accuracy: 0.9580\n",
      "combined_embedding Model trained with average accuracy: 0.9560\n",
      "structural_embedding Model trained with average accuracy: 0.9580\n",
      "merge_egonet_node_features Model trained with average accuracy: 0.9767\n",
      "only_egonet_node_features Model trained with average accuracy: 0.9453\n"
     ]
    }
   ],
   "source": [
    "from NEExT.builders import EmbeddingBuilder\n",
    "\n",
    "for s in [\"separate_embedding\", \"combined_embedding\", \"structural_embedding\", \"merge_egonet_node_features\", \"only_egonet_node_features\"]:\n",
    "    emb_builder = EmbeddingBuilder(subgraph_collection, strategy=s, structural_features=structural_features, features=features,)\n",
    "    embeddings = emb_builder.compute(10, 6)\n",
    "    \n",
    "    ml_models = MLModels(\n",
    "        graph_collection=subgraph_collection,\n",
    "        embedding=embeddings,   \n",
    "        model_type='classifier',\n",
    "    )\n",
    "\n",
    "    results = ml_models.compute()\n",
    "    print(s, f\"Model trained with average accuracy: {np.mean(results['accuracy']):.4f}\")"
   ]
  }
 ],
 "metadata": {
  "kernelspec": {
   "display_name": "neext",
   "language": "python",
   "name": "python3"
  },
  "language_info": {
   "codemirror_mode": {
    "name": "ipython",
    "version": 3
   },
   "file_extension": ".py",
   "mimetype": "text/x-python",
   "name": "python",
   "nbconvert_exporter": "python",
   "pygments_lexer": "ipython3",
   "version": "3.11.11"
  }
 },
 "nbformat": 4,
 "nbformat_minor": 2
}
