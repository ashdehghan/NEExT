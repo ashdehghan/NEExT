{
 "cells": [
  {
   "cell_type": "code",
   "execution_count": 1,
   "metadata": {},
   "outputs": [],
   "source": [
    "import matplotlib.pyplot as plt\n",
    "import numpy as np\n",
    "import pandas as pd\n",
    "from tqdm import tqdm\n",
    "\n",
    "from NEExT import NEExT\n",
    "\n",
    "%reload_ext autoreload\n",
    "%autoreload 2"
   ]
  },
  {
   "cell_type": "code",
   "execution_count": 2,
   "metadata": {},
   "outputs": [],
   "source": [
    "edge_file_path = \"../data/ABCDO-full/edges.csv\"\n",
    "node_graph_mapping_file_path = \"../data/ABCDO-full/graph_mapping.csv\"\n",
    "features_file_path = \"../data/ABCDO-full/features.csv\"\n",
    "\n",
    "edges = pd.read_csv(edge_file_path)\n",
    "mapping = pd.read_csv(node_graph_mapping_file_path)\n",
    "_features = pd.read_csv(features_file_path)"
   ]
  },
  {
   "cell_type": "code",
   "execution_count": null,
   "metadata": {},
   "outputs": [],
   "source": [
    "import os\n",
    "\n",
    "\n",
    "def semi_supervised_set(df, col=\"is_outlier\", hide_frac={0: 0.1, 1: 0.1}, seed=42):\n",
    "    np.random.seed(seed)\n",
    "\n",
    "    for _cls, frac in hide_frac.items():\n",
    "        mask = df[col] == _cls\n",
    "        drop_indices = np.random.choice(df[mask].index, size=int(len(df[mask]) * frac), replace=False)\n",
    "        df.loc[drop_indices, col] = -1\n",
    "\n",
    "    return df\n",
    "\n",
    "\n",
    "_features = semi_supervised_set(_features)\n",
    "\n",
    "edge_file_path = \"../data/ABCDO-partial/edges.csv\"\n",
    "node_graph_mapping_file_path = \"../data/ABCDO-partial/graph_mapping.csv\"\n",
    "features_file_path = \"../data/ABCDO-partial/features.csv\"\n",
    "\n",
    "os.makedirs(\"../data/ABCDO-partial/\", exist_ok=True)\n",
    "edges.to_csv(edge_file_path, index=False)\n",
    "mapping.to_csv(node_graph_mapping_file_path, index=False)\n",
    "_features.to_csv(features_file_path, index=False)"
   ]
  },
  {
   "cell_type": "code",
   "execution_count": 4,
   "metadata": {},
   "outputs": [],
   "source": [
    "from NEExT.collections import EgonetCollection\n",
    "from NEExT.features import NodeFeatures, StructuralNodeFeatures\n",
    "from NEExT.io import GraphIO\n",
    "from NEExT.ml_models import MLModels\n",
    "\n",
    "target = \"is_outlier\"\n",
    "sample_size = 5\n",
    "\n",
    "graph_io = GraphIO()\n",
    "subgraph_collection = EgonetCollection()\n",
    "\n",
    "\n",
    "graph_collection = graph_io.read_from_csv(\n",
    "    edges_path=edge_file_path,\n",
    "    node_graph_mapping_path=node_graph_mapping_file_path,\n",
    "    node_features_path=features_file_path,\n",
    "    graph_type=\"igraph\",\n",
    ")\n",
    "subgraph_collection.create_egonets_from_graphs(\n",
    "    graph_collection=graph_collection,\n",
    "    egonet_target=target,\n",
    "    egonet_algorithm=\"k_hop_egonet\",\n",
    "    skip_features=[\"community_id\"],\n",
    "    max_hop_length=1,\n",
    ")"
   ]
  },
  {
   "cell_type": "code",
   "execution_count": 5,
   "metadata": {},
   "outputs": [
    {
     "data": {
      "application/vnd.jupyter.widget-view+json": {
       "model_id": "14cb409f4ee64a9bbaff48300c7afc2f",
       "version_major": 2,
       "version_minor": 0
      },
      "text/plain": [
       "Computing structural node features:   0%|          | 0/1000 [00:00<?, ?it/s]"
      ]
     },
     "metadata": {},
     "output_type": "display_data"
    }
   ],
   "source": [
    "structural_node_features = StructuralNodeFeatures(\n",
    "    graph_collection=subgraph_collection,\n",
    "    feature_list=[\"all\"],\n",
    "    feature_vector_length=3,\n",
    "    n_jobs=8,\n",
    ")\n",
    "node_features = NodeFeatures(\n",
    "    subgraph_collection,\n",
    "    feature_list=[\"random_community_feature\"],\n",
    ")\n",
    "\n",
    "structural_features = structural_node_features.compute()\n",
    "features = node_features.compute()"
   ]
  },
  {
   "cell_type": "code",
   "execution_count": null,
   "metadata": {},
   "outputs": [],
   "source": [
    "from NEExT.builders import EmbeddingBuilder\n",
    "\n",
    "for s in [\"structural_embedding\"]:\n",
    "    emb_builder = EmbeddingBuilder(\n",
    "        subgraph_collection,\n",
    "        strategy=s,\n",
    "        structural_features=structural_features,\n",
    "        features=features,\n",
    "    )\n",
    "    embeddings = emb_builder.compute(10, 6)\n",
    "\n",
    "    ml_models = MLModels(\n",
    "        graph_collection=subgraph_collection,\n",
    "        embedding=embeddings,\n",
    "        model_type=\"semi-supervised\",\n",
    "    )\n",
    "\n",
    "    results = ml_models.compute()\n",
    "    # print(s, f\"Model trained with average accuracy: {np.mean(results['accuracy']):.4f}\")"
   ]
  },
  {
   "cell_type": "code",
   "execution_count": null,
   "metadata": {},
   "outputs": [],
   "source": [
    "from sklearn.metrics.pairwise import cosine_similarity, euclidean_distances\n",
    "from sklearn.preprocessing import StandardScaler\n",
    "\n",
    "\n",
    "class OutlierDetector:\n",
    "    def __init__(self, graph_collection, embedding, top_k=10):\n",
    "        self.graph_collection = graph_collection\n",
    "        self.data_df = embedding.embeddings_df\n",
    "        self.top_k = top_k\n",
    "\n",
    "        self.labels_df = self._prepare_labels_df()\n",
    "\n",
    "        # Merge embeddings with labels\n",
    "        self.data_df = pd.merge(self.data_df, self.labels_df, on=\"graph_id\")\n",
    "        self.unlabeled = self.data_df.query(\"label == -1\")[\"graph_id\"].to_list()\n",
    "        self.feature_cols = [col for col in self.data_df.columns if col not in [\"graph_id\", \"label\"]]\n",
    "\n",
    "    def _prepare_labels_df(self) -> pd.DataFrame:\n",
    "        \"\"\"\n",
    "        Prepare DataFrame with graph IDs and labels.\n",
    "\n",
    "        Returns:\n",
    "            pd.DataFrame: DataFrame with graph_id and label columns\n",
    "        \"\"\"\n",
    "        graph_ids = []\n",
    "        graph_labels = []\n",
    "\n",
    "        for graph in self.graph_collection.graphs:\n",
    "            graph_ids.append(graph.graph_id)\n",
    "            graph_labels.append(graph.graph_label)\n",
    "\n",
    "        return pd.DataFrame({\"graph_id\": graph_ids, \"label\": graph_labels})\n",
    "\n",
    "    def _vector_prediction(self, vector):\n",
    "\n",
    "        vectors = self.data_df[self.feature_cols].values\n",
    "        # vectors = StandardScaler().fit_transform(vectors)\n",
    "        similarities = cosine_similarity(vectors, [vector]).reshape(-1)\n",
    "\n",
    "        ind = np.argpartition(similarities, -self.top_k)[-self.top_k - 1 : -1]\n",
    "        similar_labels = self.data_df.loc[ind, \"label\"].values\n",
    "        similar_labels = np.array([i for i in similar_labels if i != -1])\n",
    "        return np.mean(similar_labels)\n",
    "\n",
    "    def predict(self):\n",
    "        df = []\n",
    "        for unlabeled_id in self.unlabeled:\n",
    "            vector = self.data_df.query(f\"graph_id=={unlabeled_id}\")[self.feature_cols].values.flatten()\n",
    "            prob = self._vector_prediction(vector)\n",
    "            df.append((unlabeled_id, prob))\n",
    "        df = pd.DataFrame(df, columns=[\"graph_id\", \"label_prob\"])\n",
    "        df[\"pred\"] = np.where(df[\"label_prob\"] > 0, 1, 0)\n",
    "        return df\n",
    "\n",
    "\n",
    "detector = OutlierDetector(subgraph_collection, embeddings)\n",
    "out = detector.predict()"
   ]
  },
  {
   "cell_type": "code",
   "execution_count": null,
   "metadata": {},
   "outputs": [
    {
     "data": {
      "text/plain": [
       "0.8210526315789474"
      ]
     },
     "execution_count": 63,
     "metadata": {},
     "output_type": "execute_result"
    }
   ],
   "source": [
    "from sklearn.metrics import accuracy_score, balanced_accuracy_score\n",
    "features_file_path = \"../data/ABCDO-full/features.csv\"\n",
    "_features = pd.read_csv(features_file_path)\n",
    "out = (\n",
    "    out\n",
    "    .merge(_features[_features[\"node_id\"].isin(out[\"graph_id\"])]\n",
    "    .rename(columns={\"node_id\": \"graph_id\"}))\n",
    "    .sort_values(\"is_outlier\", ascending=False)\n",
    ")\n",
    "balanced_accuracy_score(out['is_outlier'], out['pred'])"
   ]
  }
 ],
 "metadata": {
  "kernelspec": {
   "display_name": "neext",
   "language": "python",
   "name": "python3"
  },
  "language_info": {
   "codemirror_mode": {
    "name": "ipython",
    "version": 3
   },
   "file_extension": ".py",
   "mimetype": "text/x-python",
   "name": "python",
   "nbconvert_exporter": "python",
   "pygments_lexer": "ipython3",
   "version": "3.11.11"
  }
 },
 "nbformat": 4,
 "nbformat_minor": 2
}
