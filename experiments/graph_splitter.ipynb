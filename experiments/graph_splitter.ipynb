{
 "cells": [
  {
   "cell_type": "code",
   "execution_count": 1,
   "metadata": {},
   "outputs": [],
   "source": [
    "import matplotlib.pyplot as plt\n",
    "import numpy as np\n",
    "import pandas as pd\n",
    "from tqdm import tqdm\n",
    "\n",
    "from NEExT import NEExT\n",
    "\n",
    "%reload_ext autoreload\n",
    "%autoreload 2"
   ]
  },
  {
   "cell_type": "code",
   "execution_count": 2,
   "metadata": {},
   "outputs": [],
   "source": [
    "edge_file_path = \"../data/ABCDO-full/edges.csv\"\n",
    "node_graph_mapping_file_path = \"../data/ABCDO-full/graph_mapping.csv\"\n",
    "features_file_path = \"../data/ABCDO-full/features.csv\"\n",
    "\n",
    "edges = pd.read_csv(edge_file_path)\n",
    "mapping = pd.read_csv(node_graph_mapping_file_path)\n",
    "_features = pd.read_csv(features_file_path)"
   ]
  },
  {
   "cell_type": "code",
   "execution_count": null,
   "metadata": {},
   "outputs": [],
   "source": [
    "import os\n",
    "\n",
    "\n",
    "def semi_supervised_set(df, col=\"is_outlier\", hide_frac={0: 0.1, 1: 0.1}, seed=42):\n",
    "    np.random.seed(seed)\n",
    "\n",
    "    for _cls, frac in hide_frac.items():\n",
    "        mask = df[col] == _cls\n",
    "        drop_indices = np.random.choice(df[mask].index, size=int(len(df[mask]) * frac), replace=False)\n",
    "        df.loc[drop_indices, col] = -1\n",
    "\n",
    "    return df\n",
    "\n",
    "\n",
    "_features = semi_supervised_set(_features)\n",
    "\n",
    "edge_file_path = \"../data/ABCDO-partial/edges.csv\"\n",
    "node_graph_mapping_file_path = \"../data/ABCDO-partial/graph_mapping.csv\"\n",
    "features_file_path = \"../data/ABCDO-partial/features.csv\"\n",
    "\n",
    "os.makedirs(\"../data/ABCDO-partial/\", exist_ok=True)\n",
    "edges.to_csv(edge_file_path, index=False)\n",
    "mapping.to_csv(node_graph_mapping_file_path, index=False)\n",
    "_features.to_csv(features_file_path, index=False)"
   ]
  },
  {
   "cell_type": "code",
   "execution_count": 4,
   "metadata": {},
   "outputs": [],
   "source": [
    "from NEExT.collections import EgonetCollection\n",
    "from NEExT.features import NodeFeatures, StructuralNodeFeatures\n",
    "from NEExT.io import GraphIO\n",
    "from NEExT.ml_models import MLModels\n",
    "\n",
    "target = \"is_outlier\"\n",
    "sample_size = 5\n",
    "\n",
    "graph_io = GraphIO()\n",
    "subgraph_collection = EgonetCollection()\n",
    "\n",
    "\n",
    "graph_collection = graph_io.read_from_csv(\n",
    "    edges_path=edge_file_path,\n",
    "    node_graph_mapping_path=node_graph_mapping_file_path,\n",
    "    node_features_path=features_file_path,\n",
    "    graph_type=\"igraph\",\n",
    ")\n",
    "subgraph_collection.create_egonets_from_graphs(\n",
    "    graph_collection=graph_collection,\n",
    "    egonet_target=target,\n",
    "    egonet_algorithm=\"k_hop_egonet\",\n",
    "    skip_features=[\"community_id\"],\n",
    "    max_hop_length=1,\n",
    ")"
   ]
  },
  {
   "cell_type": "code",
   "execution_count": 5,
   "metadata": {},
   "outputs": [
    {
     "data": {
      "application/vnd.jupyter.widget-view+json": {
       "model_id": "14cb409f4ee64a9bbaff48300c7afc2f",
       "version_major": 2,
       "version_minor": 0
      },
      "text/plain": [
       "Computing structural node features:   0%|          | 0/1000 [00:00<?, ?it/s]"
      ]
     },
     "metadata": {},
     "output_type": "display_data"
    }
   ],
   "source": [
    "structural_node_features = StructuralNodeFeatures(\n",
    "    graph_collection=subgraph_collection,\n",
    "    feature_list=[\"all\"],\n",
    "    feature_vector_length=3,\n",
    "    n_jobs=8,\n",
    ")\n",
    "node_features = NodeFeatures(\n",
    "    subgraph_collection,\n",
    "    feature_list=[\"random_community_feature\"],\n",
    ")\n",
    "\n",
    "structural_features = structural_node_features.compute()\n",
    "features = node_features.compute()"
   ]
  },
  {
   "cell_type": "code",
   "execution_count": null,
   "metadata": {},
   "outputs": [],
   "source": [
    "from NEExT.builders import EmbeddingBuilder\n",
    "\n",
    "for s in [\"structural_embedding\"]:\n",
    "    emb_builder = EmbeddingBuilder(\n",
    "        subgraph_collection,\n",
    "        strategy=s,\n",
    "        structural_features=structural_features,\n",
    "        features=features,\n",
    "    )\n",
    "    embeddings = emb_builder.compute(10, 6)\n",
    "\n",
    "    ml_models = MLModels(\n",
    "        graph_collection=subgraph_collection,\n",
    "        embedding=embeddings,\n",
    "        model_type=\"semi-supervised\",\n",
    "    )\n",
    "\n",
    "    results = ml_models.compute()\n",
    "    # print(s, f\"Model trained with average accuracy: {np.mean(results['accuracy']):.4f}\")"
   ]
  },
  {
   "cell_type": "code",
   "execution_count": 94,
   "metadata": {},
   "outputs": [],
   "source": [
    "from NEExT.ml_models import OutlierDetector\n",
    "\n",
    "\n",
    "detector = OutlierDetector(subgraph_collection, embeddings, standardize=False)\n",
    "out = detector.predict_full_df()\n"
   ]
  },
  {
   "cell_type": "code",
   "execution_count": 95,
   "metadata": {},
   "outputs": [
    {
     "data": {
      "text/plain": [
       "0.8210526315789474"
      ]
     },
     "execution_count": 95,
     "metadata": {},
     "output_type": "execute_result"
    }
   ],
   "source": [
    "from sklearn.metrics import accuracy_score, balanced_accuracy_score\n",
    "\n",
    "features_file_path = \"../data/ABCDO-full/features.csv\"\n",
    "_features = pd.read_csv(features_file_path)\n",
    "out = out.merge(_features[_features[\"node_id\"].isin(out[\"graph_id\"])].rename(columns={\"node_id\": \"graph_id\"})).sort_values(\n",
    "    \"is_outlier\", ascending=False\n",
    ")\n",
    "balanced_accuracy_score(out[\"is_outlier\"], out[\"pred\"])"
   ]
  }
 ],
 "metadata": {
  "kernelspec": {
   "display_name": "neext",
   "language": "python",
   "name": "python3"
  },
  "language_info": {
   "codemirror_mode": {
    "name": "ipython",
    "version": 3
   },
   "file_extension": ".py",
   "mimetype": "text/x-python",
   "name": "python",
   "nbconvert_exporter": "python",
   "pygments_lexer": "ipython3",
   "version": "3.11.11"
  }
 },
 "nbformat": 4,
 "nbformat_minor": 2
}
