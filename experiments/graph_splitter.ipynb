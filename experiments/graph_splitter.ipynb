{
 "cells": [
  {
   "cell_type": "code",
   "execution_count": 1,
   "metadata": {},
   "outputs": [],
   "source": [
    "import matplotlib.pyplot as plt\n",
    "import numpy as np\n",
    "import pandas as pd\n",
    "from tqdm import tqdm\n",
    "\n",
    "from NEExT import NEExT\n",
    "\n",
    "%reload_ext autoreload\n",
    "%autoreload 2"
   ]
  },
  {
   "cell_type": "code",
   "execution_count": 2,
   "metadata": {},
   "outputs": [],
   "source": [
    "edge_file_path = \"../data/ABCDO-full/edges.csv\"\n",
    "node_graph_mapping_file_path = \"../data/ABCDO-full/graph_mapping.csv\"\n",
    "features_file_path = \"../data/ABCDO-full/features.csv\"\n",
    "\n",
    "edges = pd.read_csv(edge_file_path)\n",
    "mapping = pd.read_csv(node_graph_mapping_file_path)\n",
    "_features = pd.read_csv(features_file_path)"
   ]
  },
  {
   "cell_type": "code",
   "execution_count": 3,
   "metadata": {},
   "outputs": [],
   "source": [
    "import os\n",
    "\n",
    "def semi_supervised_set(df, col=\"is_outlier\", hide_frac={0: 0.1, 1: 0.1}, seed=42):\n",
    "    np.random.seed(seed)\n",
    "\n",
    "    for _cls, frac in hide_frac.items():\n",
    "        mask = df[col] == _cls  \n",
    "        drop_indices = np.random.choice(df[mask].index, size=int(len(df[mask]) * frac), replace=False)\n",
    "        df.loc[drop_indices, col] = -1\n",
    "    \n",
    "    return df\n",
    "\n",
    "\n",
    "_features = semi_supervised_set(_features)\n",
    "\n",
    "edge_file_path = \"../data/ABCDO-partial/edges.csv\"\n",
    "node_graph_mapping_file_path = \"../data/ABCDO-partial/graph_mapping.csv\"\n",
    "features_file_path = \"../data/ABCDO-partial/features.csv\"\n",
    "\n",
    "os.makedirs('../data/ABCDO-partial/', exist_ok=True)\n",
    "edges.to_csv(edge_file_path, index=False)\n",
    "mapping.to_csv(node_graph_mapping_file_path, index=False)\n",
    "_features.to_csv(features_file_path, index=False)"
   ]
  },
  {
   "cell_type": "code",
   "execution_count": 4,
   "metadata": {},
   "outputs": [],
   "source": [
    "from NEExT.collections import EgonetCollection\n",
    "from NEExT.features import NodeFeatures, StructuralNodeFeatures\n",
    "from NEExT.io import GraphIO\n",
    "from NEExT.ml_models import MLModels\n",
    "\n",
    "target = \"is_outlier\"\n",
    "sample_size = 5\n",
    "\n",
    "graph_io = GraphIO()\n",
    "subgraph_collection = EgonetCollection()\n",
    "\n",
    "\n",
    "graph_collection = graph_io.read_from_csv(\n",
    "    edges_path=edge_file_path,\n",
    "    node_graph_mapping_path=node_graph_mapping_file_path,\n",
    "    node_features_path=features_file_path,\n",
    "    graph_type=\"igraph\",\n",
    ")\n",
    "subgraph_collection.create_egonets_from_graphs(\n",
    "    graph_collection=graph_collection,\n",
    "    egonet_target=target,\n",
    "    egonet_algorithm=\"k_hop_egonet\",\n",
    "    skip_features=[\"community_id\"],\n",
    "    max_hop_length=1,\n",
    ")"
   ]
  },
  {
   "cell_type": "code",
   "execution_count": 5,
   "metadata": {},
   "outputs": [
    {
     "data": {
      "application/vnd.jupyter.widget-view+json": {
       "model_id": "de1432b7ed5046d8b8fea9e619cc164a",
       "version_major": 2,
       "version_minor": 0
      },
      "text/plain": [
       "Computing structural node features:   0%|          | 0/1000 [00:00<?, ?it/s]"
      ]
     },
     "metadata": {},
     "output_type": "display_data"
    }
   ],
   "source": [
    "structural_node_features = StructuralNodeFeatures(\n",
    "    graph_collection=subgraph_collection,\n",
    "    feature_list=[\"all\"],\n",
    "    feature_vector_length=3,\n",
    "    n_jobs=8,\n",
    ")\n",
    "node_features = NodeFeatures(\n",
    "    subgraph_collection,\n",
    "    feature_list=[\"random_community_feature\"],\n",
    ")\n",
    "\n",
    "structural_features = structural_node_features.compute()\n",
    "features = node_features.compute()"
   ]
  },
  {
   "cell_type": "code",
   "execution_count": 6,
   "metadata": {},
   "outputs": [],
   "source": [
    "from NEExT.builders import EmbeddingBuilder\n",
    "\n",
    "for s in [\"structural_embedding\"]:\n",
    "    emb_builder = EmbeddingBuilder(subgraph_collection, strategy=s, structural_features=structural_features, features=features,)\n",
    "    embeddings = emb_builder.compute(10, 6)\n",
    "    \n",
    "    ml_models = MLModels(\n",
    "        graph_collection=subgraph_collection,\n",
    "        embedding=embeddings,   \n",
    "        model_type='classifier',\n",
    "    )\n",
    "\n",
    "    # results = ml_models.compute()\n",
    "    # print(s, f\"Model trained with average accuracy: {np.mean(results['accuracy']):.4f}\")"
   ]
  },
  {
   "cell_type": "code",
   "execution_count": 7,
   "metadata": {},
   "outputs": [],
   "source": [
    "import logging\n",
    "import multiprocessing\n",
    "from concurrent.futures import ProcessPoolExecutor, ThreadPoolExecutor\n",
    "from typing import Any, Dict, List, Literal, Optional, Union\n",
    "\n",
    "import numpy as np\n",
    "import pandas as pd\n",
    "from pydantic import BaseModel, Field, validator\n",
    "from sklearn.metrics import accuracy_score, f1_score, mean_absolute_error, mean_squared_error, precision_score, recall_score\n",
    "from sklearn.model_selection import train_test_split\n",
    "from sklearn.preprocessing import LabelEncoder\n",
    "\n",
    "from NEExT.collections import GraphCollection\n",
    "from NEExT.embeddings import Embeddings\n",
    "\n",
    "# Try to import XGBoost, but provide fallbacks if it fails\n",
    "try:\n",
    "    from xgboost import XGBClassifier, XGBRegressor\n",
    "    XGBOOST_AVAILABLE = True\n",
    "except ImportError:\n",
    "    XGBOOST_AVAILABLE = False\n",
    "\n",
    "# Try to import SMOTE, but handle if it's not available\n",
    "try:\n",
    "    from imblearn.over_sampling import SMOTE\n",
    "    SMOTE_AVAILABLE = True\n",
    "except ImportError:\n",
    "    SMOTE_AVAILABLE = False\n",
    "\n",
    "# Import sklearn models as fallbacks\n",
    "from sklearn.ensemble import RandomForestClassifier, RandomForestRegressor\n",
    "from sklearn.linear_model import LogisticRegression, Ridge\n",
    "\n",
    "\n",
    "def _train_classifier_iteration(self, iteration_data: Dict[str, Any]) -> Dict[str, Any]:\n",
    "        \"\"\"Train and evaluate a classifier for a single iteration.\"\"\"\n",
    "        i = iteration_data['i']\n",
    "        X = iteration_data['X']\n",
    "        y = iteration_data['y']\n",
    "        feature_cols = iteration_data['feature_cols']\n",
    "        test_size = iteration_data['test_size']\n",
    "        random_state = iteration_data['random_state'] + i\n",
    "        balance_dataset = iteration_data['balance_dataset']\n",
    "        num_classes = iteration_data['num_classes']\n",
    "        \n",
    "        # Split data\n",
    "        X_train, X_test, y_train, y_test = train_test_split(\n",
    "            X[feature_cols], y, test_size=test_size, random_state=random_state,  shuffle=True,\n",
    "        )\n",
    "        \n",
    "        # # Balance dataset if requested\n",
    "        # if balance_dataset:\n",
    "        #     from imblearn.over_sampling import SMOTE\n",
    "        #     smote = SMOTE(random_state=random_state)\n",
    "        #     X_train, y_train = smote.fit_resample(X_train, y_train)\n",
    "        \n",
    "        # Train model based on selected algorithm\n",
    "        if self.config.model_name == \"xgboost\" and XGBOOST_AVAILABLE:\n",
    "            model = XGBClassifier(random_state=random_state, n_jobs=1)\n",
    "        else:\n",
    "            model = RandomForestClassifier(\n",
    "                n_estimators=100,\n",
    "                random_state=random_state,\n",
    "                n_jobs=1\n",
    "            )\n",
    "        from sklearn.semi_supervised import SelfTrainingClassifier\n",
    "        model = SelfTrainingClassifier(model, max_iter=10)\n",
    "\n",
    "        # Fit the model\n",
    "        model.fit(X_train, y_train)\n",
    "        \n",
    "        # Make predictions\n",
    "        y_pred = model.predict(X_test)\n",
    "        \n",
    "        # Get feature importance if requested\n",
    "        feature_importance = None\n",
    "        if self.config.compute_feature_importance:\n",
    "            if self.config.model_name == \"xgboost\" and XGBOOST_AVAILABLE:\n",
    "                importance = model.feature_importances_\n",
    "            else:\n",
    "                importance = model.feature_importances_\n",
    "            \n",
    "            # Create feature importance ranking\n",
    "            importance_dict = dict(zip(feature_cols, importance))\n",
    "            sorted_features = sorted(importance_dict.items(), key=lambda x: x[1], reverse=True)\n",
    "            feature_importance = {feat: rank for rank, (feat, _) in enumerate(sorted_features, 1)}\n",
    "        \n",
    "        # Return results\n",
    "        return {\n",
    "            'model': model,\n",
    "            # these scores are useless here\n",
    "            # 'accuracy': accuracy_score(y_test, y_pred),\n",
    "            # 'recall': recall_score(y_test, y_pred, average='macro'),\n",
    "            # 'precision': precision_score(y_test, y_pred, average='macro'),\n",
    "            # 'f1_score': f1_score(y_test, y_pred, average='macro'),\n",
    "            'feature_importance': feature_importance\n",
    "        }\n",
    "\n",
    "self = ml_models\n",
    "feature_cols = [col for col in self.data_df.columns \n",
    "                       if col not in [\"graph_id\", \"label\", \"encoded_label\"]]\n",
    "\n",
    "iteration_data = [\n",
    "            {\n",
    "                'i': i,\n",
    "                'X': self.data_df,\n",
    "                'y': self.data_df[\"encoded_label\"],\n",
    "                'feature_cols': feature_cols,\n",
    "                'test_size': self.config.test_size,\n",
    "                'random_state': self.config.random_state,\n",
    "                'balance_dataset': self.config.balance_dataset,\n",
    "                'num_classes': self.num_classes\n",
    "            }\n",
    "            for i in range(self.config.sample_size)\n",
    "        ]\n",
    "executor_class = ProcessPoolExecutor if self.config.parallel_backend == \"process\" else ThreadPoolExecutor\n",
    "results = []\n",
    "\n",
    "results = [_train_classifier_iteration(self, iteration) for iteration in iteration_data]\n",
    "        \n",
    "        \n",
    "# Collect results\n",
    "models = [r['model'] for r in results]\n",
    "# accuracy_scores = [r['accuracy'] for r in results]\n",
    "# recall_scores = [r['recall'] for r in results]\n",
    "# precision_scores = [r['precision'] for r in results]\n",
    "# f1_scores = [r['f1_score'] for r in results]\n",
    "\n",
    "# Process feature importance if computed\n",
    "feature_importance_df = None\n",
    "if self.config.compute_feature_importance:\n",
    "    # Collect all rankings\n",
    "    all_rankings = []\n",
    "    for r in results:\n",
    "        all_rankings.append(r['feature_importance'])\n",
    "    \n",
    "    # Calculate average rank for each feature\n",
    "    feature_ranks = {}\n",
    "    for feature in feature_cols:\n",
    "        ranks = [r[feature] for r in all_rankings]\n",
    "        feature_ranks[feature] = np.mean(ranks)\n",
    "    \n",
    "    # Create sorted DataFrame\n",
    "    feature_importance_df = pd.DataFrame({'average_rank': feature_ranks}).sort_values('average_rank')\n",
    "\n",
    "# Return results with means and standard deviations\n",
    "out= {\n",
    "    \"model_type\": \"classifier\",\n",
    "    # \"accuracy\": accuracy_scores,\n",
    "    # \"accuracy_mean\": np.mean(accuracy_scores),\n",
    "    # \"accuracy_std\": np.std(accuracy_scores),\n",
    "    # \"recall\": recall_scores,\n",
    "    # \"recall_mean\": np.mean(recall_scores),\n",
    "    # \"recall_std\": np.std(recall_scores),\n",
    "    # \"precision\": precision_scores,\n",
    "    # \"precision_mean\": np.mean(precision_scores),\n",
    "    # \"precision_std\": np.std(precision_scores),\n",
    "    # \"f1_score\": f1_scores,\n",
    "    # \"f1_score_mean\": np.mean(f1_scores),\n",
    "    # \"f1_score_std\": np.std(f1_scores),\n",
    "    \"model\": models[-1],\n",
    "    \"classes\": [0, 1],\n",
    "    \"feature_columns\": feature_cols,\n",
    "    \"feature_importance\": feature_importance_df\n",
    "}"
   ]
  },
  {
   "cell_type": "code",
   "execution_count": 8,
   "metadata": {},
   "outputs": [],
   "source": [
    "df = ml_models.data_df[out['feature_columns']]\n",
    "\n",
    "from sklearn.manifold import MDS\n",
    "\n",
    "mds = MDS()\n",
    "df_latent = mds.fit_transform(df)"
   ]
  },
  {
   "cell_type": "code",
   "execution_count": 9,
   "metadata": {},
   "outputs": [],
   "source": [
    "color = {0:'blue', 1:'red', -1:'gray'}\n",
    "labels = _features['is_outlier'].map(color)"
   ]
  },
  {
   "cell_type": "code",
   "execution_count": 10,
   "metadata": {},
   "outputs": [],
   "source": [
    "model_labels = out['model'].predict(df)\n",
    "model_labels = pd.Series(model_labels).map(color)"
   ]
  },
  {
   "cell_type": "code",
   "execution_count": 11,
   "metadata": {},
   "outputs": [],
   "source": [
    "# model_labels"
   ]
  },
  {
   "cell_type": "code",
   "execution_count": 12,
   "metadata": {},
   "outputs": [
    {
     "data": {
      "image/png": "[encoded data removed]",
      "text/plain": [
       "<Figure size 800x800 with 2 Axes>"
      ]
     },
     "metadata": {},
     "output_type": "display_data"
    }
   ],
   "source": [
    "\n",
    "fig, ax = plt.subplots(2, 1, figsize=(8, 8))\n",
    "ax[0].scatter(df_latent[:,0], df_latent[:,1], c=labels)\n",
    "ax[1].scatter(df_latent[:,0], df_latent[:,1], c=model_labels)\n",
    "\n",
    "fig.tight_layout()"
   ]
  },
  {
   "cell_type": "code",
   "execution_count": 26,
   "metadata": {},
   "outputs": [],
   "source": [
    "from sklearn.metrics.pairwise import cosine_similarity, euclidean_distances\n",
    "\n",
    "df = ml_models.data_df"
   ]
  },
  {
   "cell_type": "code",
   "execution_count": 55,
   "metadata": {},
   "outputs": [],
   "source": [
    "bots = df.query('encoded_label == 1')[out['feature_columns']]\n",
    "vectors = df[out['feature_columns']].values\n",
    "for bot in range(len(bots)):\n",
    "    bot_vec = bots.values[bot, :]\n",
    "    similarities = cosine_similarity(vectors, [bot_vec]).reshape(-1)\n",
    "    \n",
    "    if bot == 5:\n",
    "        break"
   ]
  },
  {
   "cell_type": "code",
   "execution_count": 59,
   "metadata": {},
   "outputs": [
    {
     "data": {
      "application/vnd.microsoft.datawrangler.viewer.v0+json": {
       "columns": [
        {
         "name": "index",
         "rawType": "int64",
         "type": "integer"
        },
        {
         "name": "graph_id",
         "rawType": "int64",
         "type": "integer"
        },
        {
         "name": "emb_0_struct",
         "rawType": "float64",
         "type": "float"
        },
        {
         "name": "emb_1_struct",
         "rawType": "float64",
         "type": "float"
        },
        {
         "name": "emb_2_struct",
         "rawType": "float64",
         "type": "float"
        },
        {
         "name": "emb_3_struct",
         "rawType": "float64",
         "type": "float"
        },
        {
         "name": "emb_4_struct",
         "rawType": "float64",
         "type": "float"
        },
        {
         "name": "emb_5_struct",
         "rawType": "float64",
         "type": "float"
        },
        {
         "name": "emb_6_struct",
         "rawType": "float64",
         "type": "float"
        },
        {
         "name": "emb_7_struct",
         "rawType": "float64",
         "type": "float"
        },
        {
         "name": "emb_8_struct",
         "rawType": "float64",
         "type": "float"
        },
        {
         "name": "emb_9_struct",
         "rawType": "float64",
         "type": "float"
        },
        {
         "name": "label",
         "rawType": "float64",
         "type": "float"
        },
        {
         "name": "encoded_label",
         "rawType": "float64",
         "type": "float"
        }
       ],
       "conversionMethod": "pd.DataFrame",
       "ref": "9406f286-48bf-4e10-9fcd-6eb8c5172665",
       "rows": [
        [
         "148",
         "148",
         "1.669162888421011",
         "-0.15700285398598304",
         "-0.497265897133489",
         "0.10307959698306389",
         "-0.07434447313482917",
         "-0.24288382984989537",
         "0.0030569491414716137",
         "-0.1038224421914467",
         "0.05937920372397797",
         "-0.07227819892549169",
         "1.0",
         "1.0"
        ],
        [
         "158",
         "158",
         "1.669162888421011",
         "-0.15700285398598304",
         "-0.497265897133489",
         "0.10307959698306389",
         "-0.07434447313482917",
         "-0.24288382984989537",
         "0.0030569491414716137",
         "-0.1038224421914467",
         "0.05937920372397797",
         "-0.07227819892549169",
         "1.0",
         "1.0"
        ],
        [
         "167",
         "167",
         "1.3860993683571037",
         "-0.21471815687297205",
         "-0.4592535168544042",
         "0.06862001738150236",
         "-0.03568041900921287",
         "-0.19198338785195748",
         "-0.0031687296675176964",
         "-0.07965636692586861",
         "0.0587023655465832",
         "-0.056670974796310204",
         "1.0",
         "1.0"
        ],
        [
         "198",
         "198",
         "1.1295123533006728",
         "-0.26032613242818864",
         "-0.41639150641742684",
         "0.04566057942232378",
         "0.0028434047606678814",
         "-0.14646046149660105",
         "-0.008159653830144319",
         "-0.05758561975201119",
         "0.053893682294588026",
         "-0.04071725759034384",
         "1.0",
         "1.0"
        ],
        [
         "227",
         "227",
         "1.1295123533006728",
         "-0.26032613242818864",
         "-0.41639150641742684",
         "0.04566057942232378",
         "0.0028434047606678814",
         "-0.14646046149660105",
         "-0.008159653830144319",
         "-0.05758561975201119",
         "0.053893682294588026",
         "-0.04071725759034384",
         "0.0",
         "0.0"
        ]
       ],
       "shape": {
        "columns": 13,
        "rows": 5
       }
      },
      "text/html": [
       "<div>\n",
       "<style scoped>\n",
       "    .dataframe tbody tr th:only-of-type {\n",
       "        vertical-align: middle;\n",
       "    }\n",
       "\n",
       "    .dataframe tbody tr th {\n",
       "        vertical-align: top;\n",
       "    }\n",
       "\n",
       "    .dataframe thead th {\n",
       "        text-align: right;\n",
       "    }\n",
       "</style>\n",
       "<table border=\"1\" class=\"dataframe\">\n",
       "  <thead>\n",
       "    <tr style=\"text-align: right;\">\n",
       "      <th></th>\n",
       "      <th>graph_id</th>\n",
       "      <th>emb_0_struct</th>\n",
       "      <th>emb_1_struct</th>\n",
       "      <th>emb_2_struct</th>\n",
       "      <th>emb_3_struct</th>\n",
       "      <th>emb_4_struct</th>\n",
       "      <th>emb_5_struct</th>\n",
       "      <th>emb_6_struct</th>\n",
       "      <th>emb_7_struct</th>\n",
       "      <th>emb_8_struct</th>\n",
       "      <th>emb_9_struct</th>\n",
       "      <th>label</th>\n",
       "      <th>encoded_label</th>\n",
       "    </tr>\n",
       "  </thead>\n",
       "  <tbody>\n",
       "    <tr>\n",
       "      <th>148</th>\n",
       "      <td>148</td>\n",
       "      <td>1.669163</td>\n",
       "      <td>-0.157003</td>\n",
       "      <td>-0.497266</td>\n",
       "      <td>0.103080</td>\n",
       "      <td>-0.074344</td>\n",
       "      <td>-0.242884</td>\n",
       "      <td>0.003057</td>\n",
       "      <td>-0.103822</td>\n",
       "      <td>0.059379</td>\n",
       "      <td>-0.072278</td>\n",
       "      <td>1.0</td>\n",
       "      <td>1.0</td>\n",
       "    </tr>\n",
       "    <tr>\n",
       "      <th>158</th>\n",
       "      <td>158</td>\n",
       "      <td>1.669163</td>\n",
       "      <td>-0.157003</td>\n",
       "      <td>-0.497266</td>\n",
       "      <td>0.103080</td>\n",
       "      <td>-0.074344</td>\n",
       "      <td>-0.242884</td>\n",
       "      <td>0.003057</td>\n",
       "      <td>-0.103822</td>\n",
       "      <td>0.059379</td>\n",
       "      <td>-0.072278</td>\n",
       "      <td>1.0</td>\n",
       "      <td>1.0</td>\n",
       "    </tr>\n",
       "    <tr>\n",
       "      <th>167</th>\n",
       "      <td>167</td>\n",
       "      <td>1.386099</td>\n",
       "      <td>-0.214718</td>\n",
       "      <td>-0.459254</td>\n",
       "      <td>0.068620</td>\n",
       "      <td>-0.035680</td>\n",
       "      <td>-0.191983</td>\n",
       "      <td>-0.003169</td>\n",
       "      <td>-0.079656</td>\n",
       "      <td>0.058702</td>\n",
       "      <td>-0.056671</td>\n",
       "      <td>1.0</td>\n",
       "      <td>1.0</td>\n",
       "    </tr>\n",
       "    <tr>\n",
       "      <th>198</th>\n",
       "      <td>198</td>\n",
       "      <td>1.129512</td>\n",
       "      <td>-0.260326</td>\n",
       "      <td>-0.416392</td>\n",
       "      <td>0.045661</td>\n",
       "      <td>0.002843</td>\n",
       "      <td>-0.146460</td>\n",
       "      <td>-0.008160</td>\n",
       "      <td>-0.057586</td>\n",
       "      <td>0.053894</td>\n",
       "      <td>-0.040717</td>\n",
       "      <td>1.0</td>\n",
       "      <td>1.0</td>\n",
       "    </tr>\n",
       "    <tr>\n",
       "      <th>227</th>\n",
       "      <td>227</td>\n",
       "      <td>1.129512</td>\n",
       "      <td>-0.260326</td>\n",
       "      <td>-0.416392</td>\n",
       "      <td>0.045661</td>\n",
       "      <td>0.002843</td>\n",
       "      <td>-0.146460</td>\n",
       "      <td>-0.008160</td>\n",
       "      <td>-0.057586</td>\n",
       "      <td>0.053894</td>\n",
       "      <td>-0.040717</td>\n",
       "      <td>0.0</td>\n",
       "      <td>0.0</td>\n",
       "    </tr>\n",
       "  </tbody>\n",
       "</table>\n",
       "</div>"
      ],
      "text/plain": [
       "     graph_id  emb_0_struct  emb_1_struct  emb_2_struct  emb_3_struct  \\\n",
       "148       148      1.669163     -0.157003     -0.497266      0.103080   \n",
       "158       158      1.669163     -0.157003     -0.497266      0.103080   \n",
       "167       167      1.386099     -0.214718     -0.459254      0.068620   \n",
       "198       198      1.129512     -0.260326     -0.416392      0.045661   \n",
       "227       227      1.129512     -0.260326     -0.416392      0.045661   \n",
       "\n",
       "     emb_4_struct  emb_5_struct  emb_6_struct  emb_7_struct  emb_8_struct  \\\n",
       "148     -0.074344     -0.242884      0.003057     -0.103822      0.059379   \n",
       "158     -0.074344     -0.242884      0.003057     -0.103822      0.059379   \n",
       "167     -0.035680     -0.191983     -0.003169     -0.079656      0.058702   \n",
       "198      0.002843     -0.146460     -0.008160     -0.057586      0.053894   \n",
       "227      0.002843     -0.146460     -0.008160     -0.057586      0.053894   \n",
       "\n",
       "     emb_9_struct  label  encoded_label  \n",
       "148     -0.072278    1.0            1.0  \n",
       "158     -0.072278    1.0            1.0  \n",
       "167     -0.056671    1.0            1.0  \n",
       "198     -0.040717    1.0            1.0  \n",
       "227     -0.040717    0.0            0.0  "
      ]
     },
     "execution_count": 59,
     "metadata": {},
     "output_type": "execute_result"
    }
   ],
   "source": [
    "top_k = 5\n",
    "ind = np.argpartition(similarities, -top_k)[-top_k:]\n",
    "df.iloc[ind, :].sort_values('graph_id')"
   ]
  },
  {
   "cell_type": "code",
   "execution_count": 58,
   "metadata": {},
   "outputs": [
    {
     "data": {
      "application/vnd.microsoft.datawrangler.viewer.v0+json": {
       "columns": [
        {
         "name": "index",
         "rawType": "int64",
         "type": "integer"
        },
        {
         "name": "node_id",
         "rawType": "int64",
         "type": "integer"
        },
        {
         "name": "random_community_feature",
         "rawType": "float64",
         "type": "float"
        },
        {
         "name": "community_id",
         "rawType": "int64",
         "type": "integer"
        },
        {
         "name": "is_outlier",
         "rawType": "int64",
         "type": "integer"
        }
       ],
       "conversionMethod": "pd.DataFrame",
       "ref": "a4659a2b-99d5-4f84-a670-cef1a73f6103",
       "rows": [
        [
         "5",
         "148",
         "41.75851267389485",
         "0",
         "1"
        ],
        [
         "6",
         "158",
         "35.92578143353565",
         "0",
         "1"
        ],
        [
         "7",
         "167",
         "49.39197330043745",
         "0",
         "1"
        ],
        [
         "8",
         "198",
         "40.315927258861",
         "0",
         "1"
        ],
        [
         "75",
         "227",
         "25.5650691017366",
         "1",
         "0"
        ]
       ],
       "shape": {
        "columns": 4,
        "rows": 5
       }
      },
      "text/html": [
       "<div>\n",
       "<style scoped>\n",
       "    .dataframe tbody tr th:only-of-type {\n",
       "        vertical-align: middle;\n",
       "    }\n",
       "\n",
       "    .dataframe tbody tr th {\n",
       "        vertical-align: top;\n",
       "    }\n",
       "\n",
       "    .dataframe thead th {\n",
       "        text-align: right;\n",
       "    }\n",
       "</style>\n",
       "<table border=\"1\" class=\"dataframe\">\n",
       "  <thead>\n",
       "    <tr style=\"text-align: right;\">\n",
       "      <th></th>\n",
       "      <th>node_id</th>\n",
       "      <th>random_community_feature</th>\n",
       "      <th>community_id</th>\n",
       "      <th>is_outlier</th>\n",
       "    </tr>\n",
       "  </thead>\n",
       "  <tbody>\n",
       "    <tr>\n",
       "      <th>5</th>\n",
       "      <td>148</td>\n",
       "      <td>41.758513</td>\n",
       "      <td>0</td>\n",
       "      <td>1</td>\n",
       "    </tr>\n",
       "    <tr>\n",
       "      <th>6</th>\n",
       "      <td>158</td>\n",
       "      <td>35.925781</td>\n",
       "      <td>0</td>\n",
       "      <td>1</td>\n",
       "    </tr>\n",
       "    <tr>\n",
       "      <th>7</th>\n",
       "      <td>167</td>\n",
       "      <td>49.391973</td>\n",
       "      <td>0</td>\n",
       "      <td>1</td>\n",
       "    </tr>\n",
       "    <tr>\n",
       "      <th>8</th>\n",
       "      <td>198</td>\n",
       "      <td>40.315927</td>\n",
       "      <td>0</td>\n",
       "      <td>1</td>\n",
       "    </tr>\n",
       "    <tr>\n",
       "      <th>75</th>\n",
       "      <td>227</td>\n",
       "      <td>25.565069</td>\n",
       "      <td>1</td>\n",
       "      <td>0</td>\n",
       "    </tr>\n",
       "  </tbody>\n",
       "</table>\n",
       "</div>"
      ],
      "text/plain": [
       "    node_id  random_community_feature  community_id  is_outlier\n",
       "5       148                 41.758513             0           1\n",
       "6       158                 35.925781             0           1\n",
       "7       167                 49.391973             0           1\n",
       "8       198                 40.315927             0           1\n",
       "75      227                 25.565069             1           0"
      ]
     },
     "execution_count": 58,
     "metadata": {},
     "output_type": "execute_result"
    }
   ],
   "source": [
    "features_file_path = \"../data/ABCDO-full/features.csv\"\n",
    "_features = pd.read_csv(features_file_path)\n",
    "# _features['is_outlier'][ind]\n",
    "_features[_features.node_id.isin(ind)].sort_values('node_id')"
   ]
  },
  {
   "cell_type": "code",
   "execution_count": 70,
   "metadata": {},
   "outputs": [],
   "source": [
    "bots = df.query('encoded_label == -1')[out['feature_columns']]\n",
    "graph_ids = df.query('encoded_label == -1')['graph_id']\n",
    "vectors = df[out['feature_columns']].values\n",
    "for bot, graph_id in zip(range(len(bots)), graph_ids):\n",
    "    bot_vec = bots.values[bot, :]\n",
    "    similarities = cosine_similarity(vectors, [bot_vec]).reshape(-1)\n",
    "    \n",
    "    if graph_id == 272:\n",
    "        break"
   ]
  },
  {
   "cell_type": "code",
   "execution_count": 72,
   "metadata": {},
   "outputs": [
    {
     "data": {
      "text/plain": [
       "239    1.0\n",
       "244    0.0\n",
       "245    0.0\n",
       "269    0.0\n",
       "272   -1.0\n",
       "273   -1.0\n",
       "287    0.0\n",
       "295    1.0\n",
       "300    0.0\n",
       "303   -1.0\n",
       "Name: encoded_label, dtype: float64"
      ]
     },
     "execution_count": 72,
     "metadata": {},
     "output_type": "execute_result"
    }
   ],
   "source": [
    "top_k = 10\n",
    "ind = np.argpartition(similarities, -top_k)[-top_k:]\n",
    "df.iloc[ind, :].sort_values('graph_id')['encoded_label']"
   ]
  },
  {
   "cell_type": "code",
   "execution_count": 68,
   "metadata": {},
   "outputs": [],
   "source": [
    "unknown_index = df.query('encoded_label == -1')['graph_id'].index"
   ]
  },
  {
   "cell_type": "code",
   "execution_count": 69,
   "metadata": {},
   "outputs": [
    {
     "data": {
      "application/vnd.microsoft.datawrangler.viewer.v0+json": {
       "columns": [
        {
         "name": "index",
         "rawType": "int64",
         "type": "integer"
        },
        {
         "name": "node_id",
         "rawType": "int64",
         "type": "integer"
        },
        {
         "name": "random_community_feature",
         "rawType": "float64",
         "type": "float"
        },
        {
         "name": "community_id",
         "rawType": "int64",
         "type": "integer"
        },
        {
         "name": "is_outlier",
         "rawType": "int64",
         "type": "integer"
        }
       ],
       "conversionMethod": "pd.DataFrame",
       "ref": "996dc47d-d7f0-45c2-9349-71bf28dd42c8",
       "rows": [
        [
         "686",
         "5",
         "14.591529391661703",
         "9",
         "0"
        ],
        [
         "492",
         "8",
         "-27.70649474337828",
         "6",
         "0"
        ],
        [
         "248",
         "18",
         "-34.72299221348686",
         "3",
         "0"
        ],
        [
         "249",
         "20",
         "-32.13713742477142",
         "3",
         "0"
        ],
        [
         "563",
         "27",
         "65.23951018275648",
         "7",
         "0"
        ],
        [
         "628",
         "30",
         "4.255436929245819",
         "8",
         "0"
        ],
        [
         "344",
         "35",
         "-0.9313530076289496",
         "4",
         "0"
        ],
        [
         "421",
         "45",
         "-2.1035993986462302",
         "5",
         "0"
        ],
        [
         "157",
         "74",
         "12.190552439974024",
         "2",
         "0"
        ],
        [
         "914",
         "78",
         "-12.05225048881116",
         "13",
         "0"
        ],
        [
         "430",
         "95",
         "4.817089704924338",
         "5",
         "0"
        ],
        [
         "431",
         "100",
         "-10.486686726013431",
         "5",
         "0"
        ],
        [
         "807",
         "173",
         "1.3072240116017897",
         "11",
         "0"
        ],
        [
         "438",
         "176",
         "-8.631348412094876",
         "5",
         "0"
        ],
        [
         "259",
         "182",
         "-32.02383056301957",
         "3",
         "0"
        ],
        [
         "919",
         "188",
         "-4.271598880960297",
         "13",
         "0"
        ],
        [
         "260",
         "202",
         "-32.36673057272074",
         "3",
         "0"
        ],
        [
         "809",
         "208",
         "-36.22134841379184",
         "11",
         "0"
        ],
        [
         "73",
         "211",
         "43.11771111765318",
         "1",
         "0"
        ],
        [
         "503",
         "225",
         "-23.187297734649743",
         "6",
         "0"
        ],
        [
         "360",
         "232",
         "-5.540080021084434",
         "4",
         "0"
        ],
        [
         "362",
         "246",
         "-6.125416296077714",
         "4",
         "0"
        ],
        [
         "507",
         "256",
         "-24.720180927755354",
         "6",
         "0"
        ],
        [
         "924",
         "260",
         "-10.913857173444814",
         "13",
         "0"
        ],
        [
         "265",
         "263",
         "-35.69224109986725",
         "3",
         "0"
        ],
        [
         "874",
         "270",
         "14.333302316613274",
         "12",
         "0"
        ],
        [
         "15",
         "272",
         "37.52993645919612",
         "0",
         "1"
        ],
        [
         "80",
         "273",
         "29.490608851206964",
         "1",
         "0"
        ],
        [
         "706",
         "296",
         "16.576585663584833",
         "9",
         "0"
        ],
        [
         "707",
         "303",
         "16.082980720387",
         "9",
         "0"
        ],
        [
         "708",
         "311",
         "14.944489310325803",
         "9",
         "0"
        ],
        [
         "879",
         "316",
         "17.109659756522063",
         "12",
         "0"
        ],
        [
         "880",
         "325",
         "18.45172491427118",
         "12",
         "0"
        ],
        [
         "186",
         "352",
         "15.977849825823494",
         "2",
         "0"
        ],
        [
         "761",
         "353",
         "-33.56954820843322",
         "10",
         "0"
        ],
        [
         "575",
         "362",
         "60.273729079915896",
         "7",
         "0"
        ],
        [
         "89",
         "365",
         "28.351611156714224",
         "1",
         "0"
        ],
        [
         "189",
         "392",
         "10.667576958229343",
         "2",
         "0"
        ],
        [
         "514",
         "401",
         "-26.459764879018223",
         "6",
         "0"
        ],
        [
         "766",
         "405",
         "-34.52624648195723",
         "10",
         "0"
        ],
        [
         "281",
         "422",
         "-38.30449628917226",
         "3",
         "0"
        ],
        [
         "974",
         "430",
         "21.35072352792367",
         "14",
         "0"
        ],
        [
         "654",
         "446",
         "-7.491093830203098",
         "8",
         "0"
        ],
        [
         "580",
         "451",
         "61.15127812470487",
         "7",
         "0"
        ],
        [
         "26",
         "487",
         "40.27442426123599",
         "0",
         "1"
        ],
        [
         "979",
         "498",
         "38.194147016030094",
         "14",
         "0"
        ],
        [
         "527",
         "511",
         "-27.96839059408224",
         "6",
         "0"
        ],
        [
         "27",
         "515",
         "35.748451121851275",
         "0",
         "1"
        ],
        [
         "455",
         "528",
         "-10.655824341931185",
         "5",
         "0"
        ],
        [
         "109",
         "540",
         "28.811184871463357",
         "1",
         "0"
        ]
       ],
       "shape": {
        "columns": 4,
        "rows": 100
       }
      },
      "text/html": [
       "<div>\n",
       "<style scoped>\n",
       "    .dataframe tbody tr th:only-of-type {\n",
       "        vertical-align: middle;\n",
       "    }\n",
       "\n",
       "    .dataframe tbody tr th {\n",
       "        vertical-align: top;\n",
       "    }\n",
       "\n",
       "    .dataframe thead th {\n",
       "        text-align: right;\n",
       "    }\n",
       "</style>\n",
       "<table border=\"1\" class=\"dataframe\">\n",
       "  <thead>\n",
       "    <tr style=\"text-align: right;\">\n",
       "      <th></th>\n",
       "      <th>node_id</th>\n",
       "      <th>random_community_feature</th>\n",
       "      <th>community_id</th>\n",
       "      <th>is_outlier</th>\n",
       "    </tr>\n",
       "  </thead>\n",
       "  <tbody>\n",
       "    <tr>\n",
       "      <th>686</th>\n",
       "      <td>5</td>\n",
       "      <td>14.591529</td>\n",
       "      <td>9</td>\n",
       "      <td>0</td>\n",
       "    </tr>\n",
       "    <tr>\n",
       "      <th>492</th>\n",
       "      <td>8</td>\n",
       "      <td>-27.706495</td>\n",
       "      <td>6</td>\n",
       "      <td>0</td>\n",
       "    </tr>\n",
       "    <tr>\n",
       "      <th>248</th>\n",
       "      <td>18</td>\n",
       "      <td>-34.722992</td>\n",
       "      <td>3</td>\n",
       "      <td>0</td>\n",
       "    </tr>\n",
       "    <tr>\n",
       "      <th>249</th>\n",
       "      <td>20</td>\n",
       "      <td>-32.137137</td>\n",
       "      <td>3</td>\n",
       "      <td>0</td>\n",
       "    </tr>\n",
       "    <tr>\n",
       "      <th>563</th>\n",
       "      <td>27</td>\n",
       "      <td>65.239510</td>\n",
       "      <td>7</td>\n",
       "      <td>0</td>\n",
       "    </tr>\n",
       "    <tr>\n",
       "      <th>...</th>\n",
       "      <td>...</td>\n",
       "      <td>...</td>\n",
       "      <td>...</td>\n",
       "      <td>...</td>\n",
       "    </tr>\n",
       "    <tr>\n",
       "      <th>413</th>\n",
       "      <td>958</td>\n",
       "      <td>-15.295397</td>\n",
       "      <td>4</td>\n",
       "      <td>0</td>\n",
       "    </tr>\n",
       "    <tr>\n",
       "      <th>620</th>\n",
       "      <td>961</td>\n",
       "      <td>59.498007</td>\n",
       "      <td>7</td>\n",
       "      <td>0</td>\n",
       "    </tr>\n",
       "    <tr>\n",
       "      <th>857</th>\n",
       "      <td>976</td>\n",
       "      <td>1.970740</td>\n",
       "      <td>11</td>\n",
       "      <td>0</td>\n",
       "    </tr>\n",
       "    <tr>\n",
       "      <th>743</th>\n",
       "      <td>982</td>\n",
       "      <td>14.769718</td>\n",
       "      <td>9</td>\n",
       "      <td>0</td>\n",
       "    </tr>\n",
       "    <tr>\n",
       "      <th>490</th>\n",
       "      <td>984</td>\n",
       "      <td>-11.738320</td>\n",
       "      <td>5</td>\n",
       "      <td>0</td>\n",
       "    </tr>\n",
       "  </tbody>\n",
       "</table>\n",
       "<p>100 rows × 4 columns</p>\n",
       "</div>"
      ],
      "text/plain": [
       "     node_id  random_community_feature  community_id  is_outlier\n",
       "686        5                 14.591529             9           0\n",
       "492        8                -27.706495             6           0\n",
       "248       18                -34.722992             3           0\n",
       "249       20                -32.137137             3           0\n",
       "563       27                 65.239510             7           0\n",
       "..       ...                       ...           ...         ...\n",
       "413      958                -15.295397             4           0\n",
       "620      961                 59.498007             7           0\n",
       "857      976                  1.970740            11           0\n",
       "743      982                 14.769718             9           0\n",
       "490      984                -11.738320             5           0\n",
       "\n",
       "[100 rows x 4 columns]"
      ]
     },
     "execution_count": 69,
     "metadata": {},
     "output_type": "execute_result"
    }
   ],
   "source": [
    "features_file_path = \"../data/ABCDO-full/features.csv\"\n",
    "_features = pd.read_csv(features_file_path)\n",
    "# _features['is_outlier'][ind]\n",
    "_features[_features.node_id.isin(unknown_index)].sort_values('node_id')"
   ]
  },
  {
   "cell_type": "code",
   "execution_count": 22,
   "metadata": {},
   "outputs": [],
   "source": [
    "feature_cols = [col for col in self.data_df.columns \n",
    "                       if col not in [\"graph_id\", \"label\", \"encoded_label\"]]\n",
    "        \n",
    "y_pred = out['model'].predict(self.data_df[feature_cols])"
   ]
  },
  {
   "cell_type": "code",
   "execution_count": 23,
   "metadata": {},
   "outputs": [],
   "source": [
    "edge_file_path = \"../data/ABCDO-full/edges.csv\"\n",
    "node_graph_mapping_file_path = \"../data/ABCDO-full/graph_mapping.csv\"\n",
    "features_file_path = \"../data/ABCDO-full/features.csv\"\n",
    "\n",
    "edges = pd.read_csv(edge_file_path)\n",
    "mapping = pd.read_csv(node_graph_mapping_file_path)\n",
    "_features = pd.read_csv(features_file_path)"
   ]
  },
  {
   "cell_type": "code",
   "execution_count": 24,
   "metadata": {},
   "outputs": [],
   "source": [
    "y_test = _features.sort_values('node_id')['is_outlier'].values"
   ]
  },
  {
   "cell_type": "code",
   "execution_count": 25,
   "metadata": {},
   "outputs": [
    {
     "data": {
      "text/plain": [
       "0.96"
      ]
     },
     "execution_count": 25,
     "metadata": {},
     "output_type": "execute_result"
    }
   ],
   "source": [
    "accuracy_score(y_test, y_pred)"
   ]
  },
  {
   "cell_type": "code",
   "execution_count": 26,
   "metadata": {},
   "outputs": [
    {
     "data": {
      "text/plain": [
       "0.42857142857142855"
      ]
     },
     "execution_count": 26,
     "metadata": {},
     "output_type": "execute_result"
    }
   ],
   "source": [
    "f1_score(y_test, y_pred)"
   ]
  }
 ],
 "metadata": {
  "kernelspec": {
   "display_name": "neext",
   "language": "python",
   "name": "python3"
  },
  "language_info": {
   "codemirror_mode": {
    "name": "ipython",
    "version": 3
   },
   "file_extension": ".py",
   "mimetype": "text/x-python",
   "name": "python",
   "nbconvert_exporter": "python",
   "pygments_lexer": "ipython3",
   "version": "3.11.11"
  }
 },
 "nbformat": 4,
 "nbformat_minor": 2
}
