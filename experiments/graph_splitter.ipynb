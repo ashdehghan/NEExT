{
 "cells": [
  {
   "cell_type": "code",
   "execution_count": 1,
   "metadata": {},
   "outputs": [],
   "source": [
    "import matplotlib.pyplot as plt\n",
    "import numpy as np\n",
    "import pandas as pd\n",
    "from tqdm import tqdm\n",
    "\n",
    "from NEExT import NEExT\n",
    "\n",
    "%reload_ext autoreload\n",
    "%autoreload 2"
   ]
  },
  {
   "cell_type": "code",
   "execution_count": 2,
   "metadata": {},
   "outputs": [],
   "source": [
    "edge_file_path = \"../data/ABCDO-full/edges.csv\"\n",
    "node_graph_mapping_file_path = \"../data/ABCDO-full/graph_mapping.csv\"\n",
    "features_file_path = \"../data/ABCDO-full/features.csv\"\n",
    "\n",
    "edges_df = pd.read_csv(edge_file_path)\n",
    "mapping_df = pd.read_csv(node_graph_mapping_file_path)\n",
    "features_df = pd.read_csv(features_file_path)"
   ]
  },
  {
   "cell_type": "code",
   "execution_count": 3,
   "metadata": {},
   "outputs": [],
   "source": [
    "import os\n",
    "\n",
    "\n",
    "def semi_supervised_set(df, col=\"is_outlier\", hide_frac={0: 0.1, 1: 0.1}, seed=42):\n",
    "    _df = df.copy()\n",
    "    np.random.seed(seed)\n",
    "\n",
    "    for _cls, frac in hide_frac.items():\n",
    "        mask = _df[col] == _cls\n",
    "        drop_indices = np.random.choice(_df[mask].index, size=int(len(_df[mask]) * frac), replace=False)\n",
    "        _df.loc[drop_indices, col] = -1\n",
    "\n",
    "    return _df\n",
    "\n",
    "ground_truth_df = features_df.copy()\n",
    "features_df = semi_supervised_set(ground_truth_df)\n",
    "ground_truth_df = ground_truth_df.rename(columns={\"node_id\": \"graph_id\"})[[\"graph_id\", \"is_outlier\"]].sort_values(\"graph_id\").reset_index(drop=True)\n",
    "\n",
    "edge_file_path = \"../data/ABCDO-partial/edges.csv\"\n",
    "node_graph_mapping_file_path = \"../data/ABCDO-partial/graph_mapping.csv\"\n",
    "features_file_path = \"../data/ABCDO-partial/features.csv\"\n",
    "ground_truth_labels_file_path = \"../data/ABCDO-partial/ground_truth_labels.csv\"\n",
    "\n",
    "os.makedirs(\"../data/ABCDO-partial/\", exist_ok=True)\n",
    "edges_df.to_csv(edge_file_path, index=False)\n",
    "mapping_df.to_csv(node_graph_mapping_file_path, index=False)\n",
    "features_df.to_csv(features_file_path, index=False)\n",
    "ground_truth_df.to_csv(ground_truth_labels_file_path, index=False)"
   ]
  },
  {
   "cell_type": "code",
   "execution_count": 4,
   "metadata": {},
   "outputs": [],
   "source": [
    "from NEExT.collections import EgonetCollection\n",
    "from NEExT.features import NodeFeatures, StructuralNodeFeatures\n",
    "from NEExT.io import GraphIO\n",
    "from NEExT.ml_models import MLModels\n",
    "\n",
    "target = \"is_outlier\"\n",
    "sample_size = 5\n",
    "\n",
    "graph_io = GraphIO()\n",
    "subgraph_collection = EgonetCollection()\n",
    "\n",
    "\n",
    "# graph_collection = graph_io.read_from_csv(\n",
    "#     edges_path=edge_file_path,\n",
    "#     node_graph_mapping_path=node_graph_mapping_file_path,\n",
    "#     node_features_path=features_file_path,\n",
    "#     graph_type=\"igraph\",\n",
    "# )\n",
    "graph_collection = graph_io.load_from_dfs(\n",
    "    edges_df=edges_df,\n",
    "    node_graph_df=mapping_df,\n",
    "    node_features_df=features_df,\n",
    "    graph_type=\"igraph\",\n",
    ")\n",
    "subgraph_collection.create_egonets_from_graphs(\n",
    "    graph_collection=graph_collection,\n",
    "    egonet_target=target,\n",
    "    egonet_algorithm=\"k_hop_egonet\",\n",
    "    skip_features=[\"community_id\"],\n",
    "    max_hop_length=1,\n",
    ")"
   ]
  },
  {
   "cell_type": "code",
   "execution_count": 5,
   "metadata": {},
   "outputs": [
    {
     "data": {
      "application/vnd.jupyter.widget-view+json": {
       "model_id": "f7e32cff1d65463481a99760df3dd992",
       "version_major": 2,
       "version_minor": 0
      },
      "text/plain": [
       "Computing structural node features:   0%|          | 0/1000 [00:00<?, ?it/s]"
      ]
     },
     "metadata": {},
     "output_type": "display_data"
    }
   ],
   "source": [
    "structural_node_features = StructuralNodeFeatures(\n",
    "    graph_collection=subgraph_collection,\n",
    "    feature_list=[\"all\"],\n",
    "    feature_vector_length=3,\n",
    "    n_jobs=8,\n",
    ")\n",
    "node_features = NodeFeatures(\n",
    "    subgraph_collection,\n",
    "    feature_list=[\"random_community_feature\"],\n",
    ")\n",
    "\n",
    "structural_features = structural_node_features.compute()\n",
    "features = node_features.compute()"
   ]
  },
  {
   "cell_type": "code",
   "execution_count": 27,
   "metadata": {},
   "outputs": [
    {
     "name": "stdout",
     "output_type": "stream",
     "text": [
      "structural_embedding Model trained with average balanced accuracy: 0.8000 on unknown nodes\n",
      "structural_embedding Model trained with average balanced accuracy: 0.8516 on entire set\n"
     ]
    }
   ],
   "source": [
    "from NEExT.builders import EmbeddingBuilder\n",
    "from NEExT.ml_models import OutlierDetector, OutlierDataset\n",
    "from sklearn.metrics import accuracy_score, balanced_accuracy_score\n",
    "\n",
    "for s in [\"structural_embedding\"]:\n",
    "    emb_builder = EmbeddingBuilder(\n",
    "        subgraph_collection,\n",
    "        strategy=s,\n",
    "        structural_features=structural_features,\n",
    "        features=features,\n",
    "    )\n",
    "    embeddings = emb_builder.compute(10, 6)\n",
    "\n",
    "    # ml_models = MLModels(\n",
    "    #     graph_collection=subgraph_collection,\n",
    "    #     embedding=embeddings,\n",
    "    #     model_type=\"semi-supervised\",\n",
    "    # )\n",
    "\n",
    "    # results = ml_models.compute()\n",
    "    # print(s, f\"Model trained with average accuracy: {np.mean(results['accuracy']):.4f}\")\n",
    "    \n",
    "\n",
    "    dataset = OutlierDataset(subgraph_collection, embeddings, standardize=False)\n",
    "    detector = OutlierDetector().fit(dataset.X, dataset.y)\n",
    "    out = detector.predict_full_df(dataset.unlabeled_graphs, dataset.X_unlabeled)\n",
    "    \n",
    "    out_unlab = out.merge(ground_truth_df[ground_truth_df[\"graph_id\"].isin(out[\"graph_id\"])]).sort_values(\n",
    "        \"is_outlier\", ascending=False\n",
    "    )\n",
    "    bl_acc = balanced_accuracy_score(out_unlab[\"is_outlier\"], out_unlab[\"pred\"])\n",
    "    print(s, f\"Model trained with average balanced accuracy: {bl_acc:.4f} on unknown nodes\")\n",
    "    \n",
    "    out = detector.predict(dataset.X)\n",
    "    bl_acc = balanced_accuracy_score(ground_truth_df[\"is_outlier\"], out)\n",
    "    print(s, f\"Model trained with average balanced accuracy: {bl_acc:.4f} on entire set\")"
   ]
  }
 ],
 "metadata": {
  "kernelspec": {
   "display_name": "neext",
   "language": "python",
   "name": "python3"
  },
  "language_info": {
   "codemirror_mode": {
    "name": "ipython",
    "version": 3
   },
   "file_extension": ".py",
   "mimetype": "text/x-python",
   "name": "python",
   "nbconvert_exporter": "python",
   "pygments_lexer": "ipython3",
   "version": "3.11.11"
  }
 },
 "nbformat": 4,
 "nbformat_minor": 2
}
