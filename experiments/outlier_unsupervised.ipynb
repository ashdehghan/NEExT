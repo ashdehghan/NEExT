{
 "cells": [
  {
   "cell_type": "code",
   "execution_count": 13,
   "metadata": {},
   "outputs": [],
   "source": [
    "import matplotlib.pyplot as plt\n",
    "import numpy as np\n",
    "import seaborn as sns\n",
    "from sklearn.ensemble import IsolationForest\n",
    "from sklearn.metrics import roc_auc_score\n",
    "from sklearn.neighbors import LocalOutlierFactor\n",
    "\n",
    "from NEExT.collections import EgonetCollection\n",
    "from NEExT.experiment_utils.data_loading import load_abcdo_data, load_pygod_data\n",
    "from NEExT.experiment_utils.embed import build_embeddings, build_features\n",
    "from NEExT.io import GraphIO\n",
    "from NEExT.outliers import OutlierDataset\n",
    "\n",
    "%reload_ext autoreload\n",
    "%autoreload 2"
   ]
  },
  {
   "cell_type": "code",
   "execution_count": 14,
   "metadata": {},
   "outputs": [
    {
     "name": "stderr",
     "output_type": "stream",
     "text": [
      "/home/quak/miniconda3/envs/neext/lib/python3.11/site-packages/pygod/utils/utility.py:173: FutureWarning: You are using `torch.load` with `weights_only=False` (the current default value), which uses the default pickle module implicitly. It is possible to construct malicious pickle data which will execute arbitrary code during unpickling (See https://github.com/pytorch/pytorch/blob/main/SECURITY.md#untrusted-models for more details). In a future release, the default value for `weights_only` will be flipped to `True`. This limits the functions that could be executed during unpickling. Arbitrary objects will no longer be allowed to be loaded via this mode unless they are explicitly allowlisted by the user via `torch.serialization.add_safe_globals`. We recommend you start setting `weights_only=True` for any use case where you don't have full control of the loaded file. Please open an issue on GitHub for any issues related to this experimental feature.\n",
      "  data = torch.load(file_path)\n"
     ]
    }
   ],
   "source": [
    "graph_io = GraphIO()\n",
    "\n",
    "edges_df, mapping_df, features_df, ground_truth_df = load_pygod_data()\n",
    "# edges_df, mapping_df, features_df, ground_truth_df = load_abcdo_data()\n",
    "\n",
    "graph_data = {\n",
    "    \"target\": \"is_outlier\",\n",
    "    \"skip_features\": [],\n",
    "    # \"feature_list\": [],\n",
    "    \"feature_list\": [i for i in features_df.columns[1:-1]],\n",
    "}"
   ]
  },
  {
   "cell_type": "code",
   "execution_count": 15,
   "metadata": {},
   "outputs": [],
   "source": [
    "graph_collection = graph_io.load_from_dfs(\n",
    "    edges_df=edges_df,\n",
    "    node_graph_df=mapping_df,\n",
    "    node_features_df=features_df,\n",
    "    graph_type=\"igraph\",\n",
    "    filter_largest_component=False,\n",
    ")\n",
    "subgraph_collection = EgonetCollection()\n",
    "subgraph_collection.create_egonets_from_graphs(\n",
    "    graph_collection=graph_collection,\n",
    "    egonet_target=graph_data[\"target\"],\n",
    "    egonet_algorithm=\"k_hop_egonet\",\n",
    "    skip_features=graph_data[\"skip_features\"],\n",
    "    max_hop_length=1,\n",
    ")\n",
    "structural_features, features = build_features(subgraph_collection, feature_vector_length=5, feature_list=graph_data[\"feature_list\"])"
   ]
  },
  {
   "cell_type": "code",
   "execution_count": 16,
   "metadata": {},
   "outputs": [],
   "source": [
    "embeddings = build_embeddings(\n",
    "    subgraph_collection,\n",
    "    structural_features,\n",
    "    features,\n",
    "    strategy=\"structural_embedding\",\n",
    "    structural_embedding_dimension=5,\n",
    "    feature_embedding_dimension=5,\n",
    "    embedding_algorithm=\"approx_wasserstein\",\n",
    "    # approx_wasserstein, wasserstein, sinkhornvectorizer\n",
    ")\n",
    "dataset = OutlierDataset(subgraph_collection, embeddings, standardize=False)"
   ]
  },
  {
   "cell_type": "code",
   "execution_count": 11,
   "metadata": {},
   "outputs": [
    {
     "name": "stdout",
     "output_type": "stream",
     "text": [
      "1 0.6693766937669378\n",
      "10 0.768970189701897\n",
      "50 0.790650406504065\n",
      "100 0.7567750677506776\n",
      "250 0.7628726287262872\n",
      "1000 0.7567750677506776\n",
      "0.7509033423667569 0.038220964243047155 0.790650406504065\n"
     ]
    }
   ],
   "source": [
    "model = 'LOF' # 'IF'\n",
    "\n",
    "hyperparames = {\n",
    "    'LOF': [int(i * 10) for i in [0.5, 1, 5, 10, 15]],\n",
    "    'IF': [int(i * 10) for i in [0.5, 1, 5, 10, 25, 100]],\n",
    "}\n",
    "\n",
    "res = []\n",
    "for i in hyperparames[model]:\n",
    "    if model == 'LOF':\n",
    "        detector = LocalOutlierFactor(n_neighbors=i)\n",
    "    elif model == 'IF':\n",
    "        detector = IsolationForest(n_estimators=i)\n",
    "    y_pred = detector.fit_predict(dataset.X_unlabeled)\n",
    "    y_pred = np.where(y_pred == 1, 0, 1)\n",
    "    s = roc_auc_score(ground_truth_df[\"is_outlier\"], y_pred)\n",
    "    res.append(s)\n",
    "    \n",
    "\n",
    "np.mean(res), np.std(res), np.max(res)"
   ]
  },
  {
   "cell_type": "code",
   "execution_count": 12,
   "metadata": {},
   "outputs": [
    {
     "data": {
      "text/plain": [
       "<Axes: xlabel='emb_0_struct', ylabel='emb_1_struct'>"
      ]
     },
     "execution_count": 12,
     "metadata": {},
     "output_type": "execute_result"
    },
    {
     "data": {
      "image/png": "[encoded data removed]",
      "text/plain": [
       "<Figure size 640x480 with 1 Axes>"
      ]
     },
     "metadata": {},
     "output_type": "display_data"
    }
   ],
   "source": [
    "sns.scatterplot(x=embeddings.embeddings_df.iloc[:, 1], y=embeddings.embeddings_df.iloc[:, 2], hue=ground_truth_df[\"is_outlier\"])"
   ]
  }
 ],
 "metadata": {
  "kernelspec": {
   "display_name": "neext",
   "language": "python",
   "name": "python3"
  },
  "language_info": {
   "codemirror_mode": {
    "name": "ipython",
    "version": 3
   },
   "file_extension": ".py",
   "mimetype": "text/x-python",
   "name": "python",
   "nbconvert_exporter": "python",
   "pygments_lexer": "ipython3",
   "version": "3.11.11"
  }
 },
 "nbformat": 4,
 "nbformat_minor": 2
}
