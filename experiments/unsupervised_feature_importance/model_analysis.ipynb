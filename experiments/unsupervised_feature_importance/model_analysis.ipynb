{
 "cells": [
  {
   "cell_type": "code",
   "execution_count": 1,
   "id": "49b5a524-95b6-47c1-81c3-74321b6e7ec4",
   "metadata": {},
   "outputs": [],
   "source": [
    "import pandas as pd\n",
    "import numpy as np\n",
    "from tqdm import tqdm\n",
    "from sklearn.preprocessing import StandardScaler\n",
    "from sklearn.model_selection import train_test_split\n",
    "from sklearn.ensemble import RandomForestClassifier\n",
    "import matplotlib.pyplot as plt\n",
    "import xgboost\n",
    "import plotly.express as px\n",
    "from sklearn.metrics import accuracy_score, f1_score, mean_absolute_error, mean_squared_error, precision_score, recall_score\n",
    "import warnings\n",
    "from plotly.subplots import make_subplots\n",
    "import plotly.graph_objects as go\n",
    "warnings.filterwarnings('ignore')"
   ]
  },
  {
   "cell_type": "code",
   "execution_count": 2,
   "id": "24aaaadf-e2ee-4da5-9f9b-28056794c8f8",
   "metadata": {},
   "outputs": [],
   "source": [
    "embeddings = pd.read_csv(\"./data/embeddings.csv\")\n",
    "feat_importance = pd.read_csv(\"./data/feat_importance.csv\")"
   ]
  },
  {
   "cell_type": "code",
   "execution_count": 3,
   "id": "019b798d-9c75-4ecc-b784-47d4603e1ba1",
   "metadata": {},
   "outputs": [],
   "source": [
    "datasets = [\"BZR\", \"NCI1\", \"MUTAG\", \"PROTEINS\", \"IMDB\"]\n",
    "fixed_cols = [\"graph_id\", \"graph_label\", \"dataset\", \"feat_len\"]"
   ]
  },
  {
   "cell_type": "code",
   "execution_count": 4,
   "id": "bbbbd0bc-9e3f-4a5e-94a9-667ef4a3c495",
   "metadata": {},
   "outputs": [],
   "source": [
    "\n",
    "emb_data = pd.DataFrame()\n",
    "for dataset in datasets:\n",
    "    df = embeddings[embeddings[\"dataset\"] == dataset].copy(deep=True)\n",
    "    dfm = pd.DataFrame()\n",
    "    for feat_len in df[\"feat_len\"].unique().tolist():\n",
    "        tmp = df[df[\"feat_len\"] == feat_len].copy(deep=True)\n",
    "        col_rename = {}\n",
    "        for col in tmp.columns:\n",
    "            if col not in fixed_cols:\n",
    "                col_rename[col] = col +\"_\"+ str(feat_len-1)\n",
    "        tmp.rename(columns=col_rename, inplace=True)\n",
    "        tmp = tmp.drop('feat_len', axis=1)\n",
    "        tmp = tmp.drop('dataset', axis=1)\n",
    "        if dfm.empty:\n",
    "            dfm = tmp.copy(deep=True)\n",
    "        else:\n",
    "            dfm = dfm.merge(tmp, on=[\"graph_id\", \"graph_label\"])\n",
    "    dfm[\"dataset\"] = dataset        \n",
    "    if emb_data.empty:\n",
    "        emb_data = dfm.copy(deep=True)\n",
    "    else:\n",
    "        emb_data = pd.concat([emb_data, dfm])"
   ]
  },
  {
   "cell_type": "code",
   "execution_count": 5,
   "id": "70295080-796e-47b5-a6cf-684ec12204fd",
   "metadata": {},
   "outputs": [
    {
     "data": {
      "text/html": [
       "<div>\n",
       "<style scoped>\n",
       "    .dataframe tbody tr th:only-of-type {\n",
       "        vertical-align: middle;\n",
       "    }\n",
       "\n",
       "    .dataframe tbody tr th {\n",
       "        vertical-align: top;\n",
       "    }\n",
       "\n",
       "    .dataframe thead th {\n",
       "        text-align: right;\n",
       "    }\n",
       "</style>\n",
       "<table border=\"1\" class=\"dataframe\">\n",
       "  <thead>\n",
       "    <tr style=\"text-align: right;\">\n",
       "      <th></th>\n",
       "      <th>graph_id</th>\n",
       "      <th>graph_label</th>\n",
       "      <th>basic_expansion_0</th>\n",
       "      <th>self_walk_0</th>\n",
       "      <th>page_rank_0</th>\n",
       "      <th>degree_centrality_0</th>\n",
       "      <th>closeness_centrality_0</th>\n",
       "      <th>load_centrality_0</th>\n",
       "      <th>eigenvector_centrality_0</th>\n",
       "      <th>lsme_0</th>\n",
       "      <th>...</th>\n",
       "      <th>lsme_2</th>\n",
       "      <th>basic_expansion_3</th>\n",
       "      <th>self_walk_3</th>\n",
       "      <th>page_rank_3</th>\n",
       "      <th>degree_centrality_3</th>\n",
       "      <th>closeness_centrality_3</th>\n",
       "      <th>load_centrality_3</th>\n",
       "      <th>eigenvector_centrality_3</th>\n",
       "      <th>lsme_3</th>\n",
       "      <th>dataset</th>\n",
       "    </tr>\n",
       "  </thead>\n",
       "  <tbody>\n",
       "    <tr>\n",
       "      <th>0</th>\n",
       "      <td>0</td>\n",
       "      <td>-1</td>\n",
       "      <td>1.946408e-09</td>\n",
       "      <td>-0.021841</td>\n",
       "      <td>0.216180</td>\n",
       "      <td>0.202306</td>\n",
       "      <td>0.289911</td>\n",
       "      <td>0.026240</td>\n",
       "      <td>0.199050</td>\n",
       "      <td>-0.070985</td>\n",
       "      <td>...</td>\n",
       "      <td>-0.009453</td>\n",
       "      <td>-0.210577</td>\n",
       "      <td>-0.203792</td>\n",
       "      <td>0.308946</td>\n",
       "      <td>0.291383</td>\n",
       "      <td>-0.376381</td>\n",
       "      <td>-0.196976</td>\n",
       "      <td>-0.286197</td>\n",
       "      <td>-0.149529</td>\n",
       "      <td>BZR</td>\n",
       "    </tr>\n",
       "    <tr>\n",
       "      <th>1</th>\n",
       "      <td>1</td>\n",
       "      <td>-1</td>\n",
       "      <td>4.386578e-09</td>\n",
       "      <td>-0.044379</td>\n",
       "      <td>0.097098</td>\n",
       "      <td>0.079057</td>\n",
       "      <td>0.198728</td>\n",
       "      <td>-0.028358</td>\n",
       "      <td>0.110442</td>\n",
       "      <td>0.012324</td>\n",
       "      <td>...</td>\n",
       "      <td>-0.098743</td>\n",
       "      <td>0.004913</td>\n",
       "      <td>-0.210504</td>\n",
       "      <td>0.228915</td>\n",
       "      <td>0.200574</td>\n",
       "      <td>-0.279066</td>\n",
       "      <td>-0.166603</td>\n",
       "      <td>-0.232289</td>\n",
       "      <td>0.101702</td>\n",
       "      <td>BZR</td>\n",
       "    </tr>\n",
       "  </tbody>\n",
       "</table>\n",
       "<p>2 rows × 35 columns</p>\n",
       "</div>"
      ],
      "text/plain": [
       "   graph_id  graph_label  basic_expansion_0  self_walk_0  page_rank_0  \\\n",
       "0         0           -1       1.946408e-09    -0.021841     0.216180   \n",
       "1         1           -1       4.386578e-09    -0.044379     0.097098   \n",
       "\n",
       "   degree_centrality_0  closeness_centrality_0  load_centrality_0  \\\n",
       "0             0.202306                0.289911           0.026240   \n",
       "1             0.079057                0.198728          -0.028358   \n",
       "\n",
       "   eigenvector_centrality_0    lsme_0  ...    lsme_2  basic_expansion_3  \\\n",
       "0                  0.199050 -0.070985  ... -0.009453          -0.210577   \n",
       "1                  0.110442  0.012324  ... -0.098743           0.004913   \n",
       "\n",
       "   self_walk_3  page_rank_3  degree_centrality_3  closeness_centrality_3  \\\n",
       "0    -0.203792     0.308946             0.291383               -0.376381   \n",
       "1    -0.210504     0.228915             0.200574               -0.279066   \n",
       "\n",
       "   load_centrality_3  eigenvector_centrality_3    lsme_3  dataset  \n",
       "0          -0.196976                 -0.286197 -0.149529      BZR  \n",
       "1          -0.166603                 -0.232289  0.101702      BZR  \n",
       "\n",
       "[2 rows x 35 columns]"
      ]
     },
     "execution_count": 5,
     "metadata": {},
     "output_type": "execute_result"
    }
   ],
   "source": [
    "emb_data.head(2)"
   ]
  },
  {
   "cell_type": "code",
   "execution_count": 8,
   "id": "3d7bafde-dd4f-48b4-a8b4-22321fb9affd",
   "metadata": {},
   "outputs": [],
   "source": [
    "def build_models(data, dataset, feat_imp):\n",
    "\n",
    "    feat_imp_df = feat_imp[feat_imp[\"dataset\"] == dataset].copy(deep=True)\n",
    "    data_df = data[data[\"dataset\"] == dataset].copy(deep=True)\n",
    "\n",
    "    raw_classes = data_df[\"graph_label\"].unique().tolist()\n",
    "    class_map = {}\n",
    "    class_remap = 0\n",
    "    for class_val in raw_classes:\n",
    "        class_map[class_val] = class_remap\n",
    "        class_remap += 1\n",
    "    data_df[\"graph_label\"] = data_df[\"graph_label\"].apply(lambda x: class_map[x])\n",
    "    \n",
    "    feat_imp_list = feat_imp_df[\"features\"].tolist()\n",
    "\n",
    "    selected_feat = []\n",
    "    feat_list = []\n",
    "    accuracy_mean = []\n",
    "    accuracy_std = []\n",
    "    for feat in tqdm(feat_imp_list):\n",
    "        acc = []\n",
    "        for i in range(30):\n",
    "            selected_feat.append(feat)\n",
    "            selected_feat = list(set(selected_feat))\n",
    "    \n",
    "            X = data_df[selected_feat].copy(deep=True)\n",
    "            y = data_df[[\"graph_label\"]].copy(deep=True)\n",
    "            X_train, X_test, y_train, y_test = train_test_split(X, y, test_size=0.3, shuffle=True)\n",
    "        \n",
    "            scaler = StandardScaler()\n",
    "            scaler.fit(X_train)\n",
    "            X_train = scaler.fit_transform(X_train)\n",
    "            X_test = scaler.fit_transform(X_test)\n",
    "    \n",
    "            # Random Forrest\n",
    "            model = RandomForestClassifier()\n",
    "            model.fit(X_train, y_train)\n",
    "            y_pred = model.predict(X_test).flatten()\n",
    "            accuracy = accuracy_score(y_test, y_pred)\n",
    "    \n",
    "            acc.append(accuracy)\n",
    "            \n",
    "        feat_list.append(feat)\n",
    "        accuracy_mean.append(np.mean(np.array(acc)))\n",
    "        accuracy_std.append(np.std(np.array(acc)))\n",
    "\n",
    "    results = pd.DataFrame()\n",
    "    results[\"selected_features\"] = feat_list\n",
    "    results[\"accuracy_contribution\"] = accuracy_mean\n",
    "    results[\"accuracy_contribution_std\"] = accuracy_std\n",
    "    return results"
   ]
  },
  {
   "cell_type": "code",
   "execution_count": 9,
   "id": "6c03d16b-59ad-418f-9355-39a8a58c7dc6",
   "metadata": {},
   "outputs": [
    {
     "name": "stderr",
     "output_type": "stream",
     "text": [
      "100%|██████████████████████████████████████████████████████████████████████████████████| 32/32 [05:58<00:00, 11.22s/it]\n"
     ]
    }
   ],
   "source": [
    "NCI1 = build_models(emb_data, \"NCI1\", feat_importance)"
   ]
  },
  {
   "cell_type": "code",
   "execution_count": 12,
   "id": "64ef9698-baad-43d9-bbca-acee219b8750",
   "metadata": {},
   "outputs": [],
   "source": [
    "NCI1.to_csv(\"./results/NCI1.csv\", index=False)"
   ]
  },
  {
   "cell_type": "code",
   "execution_count": 11,
   "id": "45c94202-b7d8-4ca2-96ea-bfdc16e3b02c",
   "metadata": {},
   "outputs": [
    {
     "data": {
      "image/png": "[encoded data removed]",
      "text/plain": [
       "<Figure size 640x480 with 1 Axes>"
      ]
     },
     "metadata": {},
     "output_type": "display_data"
    }
   ],
   "source": []
  },
  {
   "cell_type": "code",
   "execution_count": null,
   "id": "8f0b59fb-c88c-4e6d-8a34-da57273d3725",
   "metadata": {},
   "outputs": [],
   "source": []
  }
 ],
 "metadata": {
  "kernelspec": {
   "display_name": "Python 3 (ipykernel)",
   "language": "python",
   "name": "python3"
  },
  "language_info": {
   "codemirror_mode": {
    "name": "ipython",
    "version": 3
   },
   "file_extension": ".py",
   "mimetype": "text/x-python",
   "name": "python",
   "nbconvert_exporter": "python",
   "pygments_lexer": "ipython3",
   "version": "3.11.9"
  }
 },
 "nbformat": 4,
 "nbformat_minor": 5
}
