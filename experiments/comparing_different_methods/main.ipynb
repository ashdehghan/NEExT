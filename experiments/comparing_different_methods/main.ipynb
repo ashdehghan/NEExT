{
 "cells": [
  {
   "cell_type": "code",
   "execution_count": 1,
   "id": "cddc41d8-9fa9-45a3-b504-81e48d7eeaa3",
   "metadata": {},
   "outputs": [],
   "source": [
    "import pandas as pd\n",
    "import numpy as np\n",
    "from NEExT.NEExT import NEExT\n",
    "from tqdm import tqdm\n",
    "from sklearn.decomposition import PCA\n",
    "from sklearn.preprocessing import StandardScaler\n",
    "from sklearn.model_selection import train_test_split\n",
    "from sklearn.ensemble import RandomForestClassifier\n",
    "import matplotlib.pyplot as plt\n",
    "import xgboost\n",
    "import random\n",
    "import plotly.express as px\n",
    "from scipy.stats import wasserstein_distance\n",
    "from sklearn.metrics import accuracy_score, f1_score, mean_absolute_error, mean_squared_error, precision_score, recall_score"
   ]
  },
  {
   "cell_type": "code",
   "execution_count": 2,
   "id": "69971b7f-d3eb-4600-9511-8305ee7aa0f7",
   "metadata": {},
   "outputs": [],
   "source": [
    "def build_model(dataset_name, features):\n",
    "    \n",
    "    edge_file = \"https://raw.githubusercontent.com/elmspace/ugaf_experiments_data/main/real_world_graphs/%s/processed_data/edge_file.csv\"%(dataset_name)\n",
    "    graph_label_file = \"https://raw.githubusercontent.com/elmspace/ugaf_experiments_data/main/real_world_graphs/%s/processed_data/graph_label_mapping_file.csv\"%(dataset_name)\n",
    "    node_graph_mapping_file = \"https://raw.githubusercontent.com/elmspace/ugaf_experiments_data/main/real_world_graphs/%s/processed_data/node_graph_mapping_file.csv\"%(dataset_name)\n",
    "\n",
    "    nxt = NEExT(quiet_mode=\"off\")\n",
    "    nxt.load_data_from_csv(edge_file=edge_file, node_graph_mapping_file=node_graph_mapping_file, graph_label_file=graph_label_file)\n",
    "\n",
    "    for feats in features:\n",
    "        nxt.compute_graph_feature(feat_name=feats[0], feat_vect_len=feats[1])\n",
    "    \n",
    "    nxt.pool_graph_features(pool_method=\"concat\")\n",
    "\n",
    "    nxt.build_graph_embedding(emb_dim_len=len(features), emb_engine=\"approx_wasserstein\")\n",
    "    nxt.build_classification_model(sample_size=30, balance_classes=False)\n",
    "\n",
    "    return nxt.ml_model_results"
   ]
  },
  {
   "cell_type": "code",
   "execution_count": 3,
   "id": "ca71cb1e-d922-446e-9887-1553431081d0",
   "metadata": {},
   "outputs": [],
   "source": [
    "# features = [\"basic_expansion\", \"self_walk\", \"page_rank\", \"degree_centrality\", \"closeness_centrality\", \"load_centrality\",\n",
    "#            \"eigenvector_centrality\", \"lsme\"]"
   ]
  },
  {
   "cell_type": "markdown",
   "id": "161f000b-550c-4ea0-8f92-e8b5f08c27bb",
   "metadata": {},
   "source": [
    "# Supervised"
   ]
  },
  {
   "cell_type": "code",
   "execution_count": 4,
   "id": "1b0c4d60-948a-4af2-aafb-b23453a2e37b",
   "metadata": {},
   "outputs": [
    {
     "name": "stderr",
     "output_type": "stream",
     "text": [
      "Building subgraphs:: 100%|███████████████████████████████████████████████████████| 4110/4110 [00:01<00:00, 3918.41it/s]\n",
      "Filtering graphs:: 100%|█████████████████████████████████████████████████████████| 4110/4110 [00:01<00:00, 2100.42it/s]\n",
      "Resrting node indices:: 100%|███████████████████████████████████████████████████| 4110/4110 [00:00<00:00, 17455.72it/s]\n",
      "Assigning graph labels:: 100%|████████████████████████████████████████████████| 4110/4110 [00:00<00:00, 2860227.22it/s]\n",
      "Building features: 100%|██████████████████████████████████████████████████████████| 4110/4110 [00:05<00:00, 694.00it/s]\n",
      "Building features: 100%|█████████████████████████████████████████████████████████| 4110/4110 [00:03<00:00, 1249.22it/s]\n",
      "Building features: 100%|█████████████████████████████████████████████████████████| 4110/4110 [00:03<00:00, 1190.50it/s]\n",
      "Building features: 100%|█████████████████████████████████████████████████████████| 4110/4110 [00:01<00:00, 2266.42it/s]\n",
      "Building features: 100%|█████████████████████████████████████████████████████████| 4110/4110 [00:02<00:00, 1392.67it/s]\n",
      "Pooling features: 100%|██████████████████████████████████████████████████████████| 4110/4110 [00:03<00:00, 1283.24it/s]\n",
      "Standardizing features: 100%|████████████████████████████████████████████████████| 4110/4110 [00:00<00:00, 4225.26it/s]\n",
      "Updating features: 100%|█████████████████████████████████████████████████████████| 4110/4110 [00:00<00:00, 8843.96it/s]\n",
      "Building models:: 100%|████████████████████████████████████████████████████████████████| 30/30 [00:05<00:00,  5.35it/s]\n"
     ]
    }
   ],
   "source": [
    "features = [\n",
    "    [\"page_rank\", 0],\n",
    "    [\"load_centrality\", 2],\n",
    "    [\"load_centrality\", 3],\n",
    "    [\"self_walk\", 3],\n",
    "    [\"load_centrality\", 1]\n",
    "]\n",
    "supervised = build_model(\"NCI1\", features)"
   ]
  },
  {
   "cell_type": "markdown",
   "id": "72442555-cb63-42eb-8289-9e6b1532c580",
   "metadata": {},
   "source": [
    "# Unsupervised"
   ]
  },
  {
   "cell_type": "code",
   "execution_count": 5,
   "id": "cf355171-d54c-491f-891e-e2ed2cd08595",
   "metadata": {},
   "outputs": [
    {
     "name": "stderr",
     "output_type": "stream",
     "text": [
      "Building subgraphs:: 100%|███████████████████████████████████████████████████████| 4110/4110 [00:01<00:00, 4022.29it/s]\n",
      "Filtering graphs:: 100%|█████████████████████████████████████████████████████████| 4110/4110 [00:01<00:00, 2086.71it/s]\n",
      "Resrting node indices:: 100%|███████████████████████████████████████████████████| 4110/4110 [00:00<00:00, 17299.00it/s]\n",
      "Assigning graph labels:: 100%|████████████████████████████████████████████████| 4110/4110 [00:00<00:00, 2648423.63it/s]\n",
      "Building features: 100%|██████████████████████████████████████████████████████████| 4110/4110 [00:05<00:00, 691.13it/s]\n",
      "Building features: 100%|███████████████████████████████████████████████████████████| 4110/4110 [02:16<00:00, 30.09it/s]\n",
      "Building features: 100%|██████████████████████████████████████████████████████████| 4110/4110 [00:06<00:00, 683.30it/s]\n",
      "Building features: 100%|█████████████████████████████████████████████████████████| 4110/4110 [00:00<00:00, 5823.95it/s]\n",
      "Building features: 100%|█████████████████████████████████████████████████████████| 4110/4110 [00:00<00:00, 5934.07it/s]\n",
      "Pooling features: 100%|██████████████████████████████████████████████████████████| 4110/4110 [00:03<00:00, 1275.87it/s]\n",
      "Standardizing features: 100%|████████████████████████████████████████████████████| 4110/4110 [00:00<00:00, 4684.59it/s]\n",
      "Updating features: 100%|█████████████████████████████████████████████████████████| 4110/4110 [00:00<00:00, 8801.75it/s]\n",
      "Building models:: 100%|████████████████████████████████████████████████████████████████| 30/30 [00:05<00:00,  5.61it/s]\n"
     ]
    }
   ],
   "source": [
    "features = [\n",
    "    [\"page_rank\", 0],\n",
    "    [\"lsme\", 1],\n",
    "    [\"page_rank\", 1],\n",
    "    [\"degree_centrality\", 0],\n",
    "    [\"degree_centrality\", 1]\n",
    "]\n",
    "unsupervised = build_model(\"NCI1\", features)"
   ]
  },
  {
   "cell_type": "markdown",
   "id": "1f073432-13ef-4762-8bbe-6acb68775009",
   "metadata": {},
   "source": [
    "# Random"
   ]
  },
  {
   "cell_type": "code",
   "execution_count": 13,
   "id": "5e52f040-ff98-48f3-980d-02018d07f01b",
   "metadata": {},
   "outputs": [
    {
     "name": "stdout",
     "output_type": "stream",
     "text": [
      "[['closeness_centrality', 3], ['lsme', 3], ['basic_expansion', 2], ['load_centrality', 4], ['load_centrality', 1]]\n"
     ]
    }
   ],
   "source": [
    "feature_set = [\"basic_expansion\", \"self_walk\", \"page_rank\", \"degree_centrality\", \"closeness_centrality\", \"load_centrality\", \"eigenvector_centrality\", \"lsme\"]\n",
    "feat_len_set = [1, 2, 3, 4]\n",
    "features = []\n",
    "for i in range(5):\n",
    "    feat_name = random.sample(feature_set, 1)[0]\n",
    "    feat_len = random.sample(feat_len_set, 1)[0]\n",
    "    features.append([feat_name, feat_len])\n",
    "print(features)"
   ]
  },
  {
   "cell_type": "code",
   "execution_count": 14,
   "id": "d70b2f90-03bc-4986-8ce2-c454ed2b40ca",
   "metadata": {},
   "outputs": [
    {
     "name": "stderr",
     "output_type": "stream",
     "text": [
      "Building subgraphs:: 100%|███████████████████████████████████████████████████████| 4110/4110 [00:00<00:00, 4120.73it/s]\n",
      "Filtering graphs:: 100%|█████████████████████████████████████████████████████████| 4110/4110 [00:01<00:00, 2080.43it/s]\n",
      "Resrting node indices:: 100%|███████████████████████████████████████████████████| 4110/4110 [00:00<00:00, 15964.82it/s]\n",
      "Assigning graph labels:: 100%|████████████████████████████████████████████████| 4110/4110 [00:00<00:00, 2146238.73it/s]\n",
      "Building features: 100%|█████████████████████████████████████████████████████████| 4110/4110 [00:02<00:00, 1512.94it/s]\n",
      "Building features: 100%|███████████████████████████████████████████████████████████| 4110/4110 [02:18<00:00, 29.73it/s]\n",
      "Building features: 100%|█████████████████████████████████████████████████████████| 4110/4110 [00:01<00:00, 3013.86it/s]\n",
      "Building features: 100%|█████████████████████████████████████████████████████████| 4110/4110 [00:03<00:00, 1070.30it/s]\n",
      "Building features: 100%|█████████████████████████████████████████████████████████| 4110/4110 [00:03<00:00, 1364.34it/s]\n",
      "Pooling features: 100%|███████████████████████████████████████████████████████████| 4110/4110 [00:04<00:00, 830.51it/s]\n",
      "Standardizing features: 100%|████████████████████████████████████████████████████| 4110/4110 [00:01<00:00, 2560.37it/s]\n",
      "Updating features: 100%|█████████████████████████████████████████████████████████| 4110/4110 [00:00<00:00, 8274.40it/s]\n",
      "Building models:: 100%|████████████████████████████████████████████████████████████████| 30/30 [00:07<00:00,  4.24it/s]\n"
     ]
    }
   ],
   "source": [
    "random_model = build_model(\"NCI1\", features)"
   ]
  },
  {
   "cell_type": "markdown",
   "id": "9d3d73b8-7ce7-4e19-927c-94e10908c136",
   "metadata": {},
   "source": [
    "# Analysis"
   ]
  },
  {
   "cell_type": "code",
   "execution_count": 15,
   "id": "55045c36-2e70-4bd4-b338-1a29ef06b31a",
   "metadata": {},
   "outputs": [],
   "source": [
    "df_supervised = pd.DataFrame()\n",
    "df_supervised[\"Accuracy\"] = supervised[\"accuracy\"]\n",
    "df_supervised[\"Method\"] = \"Supervised\"\n",
    "\n",
    "df_unsupervised = pd.DataFrame()\n",
    "df_unsupervised[\"Accuracy\"] = unsupervised[\"accuracy\"]\n",
    "df_unsupervised[\"Method\"] = \"Unsupervised\"\n",
    "\n",
    "df_random = pd.DataFrame()\n",
    "df_random[\"Accuracy\"] = random_model[\"accuracy\"]\n",
    "df_random[\"Method\"] = \"Random\""
   ]
  },
  {
   "cell_type": "code",
   "execution_count": 16,
   "id": "84a7d795-6c76-46a9-a08b-c28eabfb91e2",
   "metadata": {},
   "outputs": [],
   "source": [
    "results = pd.concat([df_supervised, df_unsupervised, df_random])"
   ]
  },
  {
   "cell_type": "code",
   "execution_count": 17,
   "id": "98cf2bf1-76db-4989-8b89-1c7b4a1f3a38",
   "metadata": {},
   "outputs": [
    {
     "data": {
      "text/html": [
       "<div>\n",
       "<style scoped>\n",
       "    .dataframe tbody tr th:only-of-type {\n",
       "        vertical-align: middle;\n",
       "    }\n",
       "\n",
       "    .dataframe tbody tr th {\n",
       "        vertical-align: top;\n",
       "    }\n",
       "\n",
       "    .dataframe thead th {\n",
       "        text-align: right;\n",
       "    }\n",
       "</style>\n",
       "<table border=\"1\" class=\"dataframe\">\n",
       "  <thead>\n",
       "    <tr style=\"text-align: right;\">\n",
       "      <th></th>\n",
       "      <th>Accuracy</th>\n",
       "      <th>Method</th>\n",
       "    </tr>\n",
       "  </thead>\n",
       "  <tbody>\n",
       "    <tr>\n",
       "      <th>0</th>\n",
       "      <td>0.645580</td>\n",
       "      <td>Supervised</td>\n",
       "    </tr>\n",
       "    <tr>\n",
       "      <th>1</th>\n",
       "      <td>0.658556</td>\n",
       "      <td>Supervised</td>\n",
       "    </tr>\n",
       "    <tr>\n",
       "      <th>2</th>\n",
       "      <td>0.638281</td>\n",
       "      <td>Supervised</td>\n",
       "    </tr>\n",
       "    <tr>\n",
       "      <th>3</th>\n",
       "      <td>0.649635</td>\n",
       "      <td>Supervised</td>\n",
       "    </tr>\n",
       "    <tr>\n",
       "      <th>4</th>\n",
       "      <td>0.630981</td>\n",
       "      <td>Supervised</td>\n",
       "    </tr>\n",
       "  </tbody>\n",
       "</table>\n",
       "</div>"
      ],
      "text/plain": [
       "   Accuracy      Method\n",
       "0  0.645580  Supervised\n",
       "1  0.658556  Supervised\n",
       "2  0.638281  Supervised\n",
       "3  0.649635  Supervised\n",
       "4  0.630981  Supervised"
      ]
     },
     "execution_count": 17,
     "metadata": {},
     "output_type": "execute_result"
    }
   ],
   "source": [
    "results.head()"
   ]
  },
  {
   "cell_type": "code",
   "execution_count": 18,
   "id": "d9dee6c3-1ff3-4b01-8344-90dcb2d76c2a",
   "metadata": {},
   "outputs": [
    {
     "data": {
      "application/vnd.plotly.v1+json": {
       "config": {
        "plotlyServerURL": "https://plot.ly"
       },
       "data": [
        {
         "alignmentgroup": "True",
         "hovertemplate": "Method=%{x}<br>Accuracy=%{y}<extra></extra>",
         "legendgroup": "",
         "marker": {
          "color": "#636efa",
          "line": {
           "color": "black",
           "width": 1
          }
         },
         "name": "",
         "notched": false,
         "offsetgroup": "",
         "opacity": 1,
         "orientation": "v",
         "showlegend": false,
         "type": "box",
         "x": [
          "Supervised",
          "Supervised",
          "Supervised",
          "Supervised",
          "Supervised",
          "Supervised",
          "Supervised",
          "Supervised",
          "Supervised",
          "Supervised",
          "Supervised",
          "Supervised",
          "Supervised",
          "Supervised",
          "Supervised",
          "Supervised",
          "Supervised",
          "Supervised",
          "Supervised",
          "Supervised",
          "Supervised",
          "Supervised",
          "Supervised",
          "Supervised",
          "Supervised",
          "Supervised",
          "Supervised",
          "Supervised",
          "Supervised",
          "Supervised",
          "Unsupervised",
          "Unsupervised",
          "Unsupervised",
          "Unsupervised",
          "Unsupervised",
          "Unsupervised",
          "Unsupervised",
          "Unsupervised",
          "Unsupervised",
          "Unsupervised",
          "Unsupervised",
          "Unsupervised",
          "Unsupervised",
          "Unsupervised",
          "Unsupervised",
          "Unsupervised",
          "Unsupervised",
          "Unsupervised",
          "Unsupervised",
          "Unsupervised",
          "Unsupervised",
          "Unsupervised",
          "Unsupervised",
          "Unsupervised",
          "Unsupervised",
          "Unsupervised",
          "Unsupervised",
          "Unsupervised",
          "Unsupervised",
          "Unsupervised",
          "Random",
          "Random",
          "Random",
          "Random",
          "Random",
          "Random",
          "Random",
          "Random",
          "Random",
          "Random",
          "Random",
          "Random",
          "Random",
          "Random",
          "Random",
          "Random",
          "Random",
          "Random",
          "Random",
          "Random",
          "Random",
          "Random",
          "Random",
          "Random",
          "Random",
          "Random",
          "Random",
          "Random",
          "Random",
          "Random"
         ],
         "x0": " ",
         "xaxis": "x",
         "y": [
          0.6455798864557989,
          0.6585563665855637,
          0.6382806163828062,
          0.6496350364963503,
          0.6309813463098135,
          0.656934306569343,
          0.6374695863746959,
          0.6472019464720195,
          0.6642335766423357,
          0.6204379562043796,
          0.6212489862124899,
          0.64882400648824,
          0.6358475263584753,
          0.6212489862124899,
          0.6528791565287916,
          0.6212489862124899,
          0.6342254663422546,
          0.6472019464720195,
          0.6447688564476886,
          0.656934306569343,
          0.6455798864557989,
          0.6472019464720195,
          0.6180048661800487,
          0.6342254663422546,
          0.6455798864557989,
          0.6447688564476886,
          0.6407137064071371,
          0.6520681265206812,
          0.643146796431468,
          0.64882400648824,
          0.6009732360097324,
          0.5798864557988646,
          0.6155717761557178,
          0.5896188158961881,
          0.5815085158150851,
          0.5879967558799676,
          0.5993511759935117,
          0.5961070559610706,
          0.5831305758313058,
          0.5815085158150851,
          0.583941605839416,
          0.5823195458231955,
          0.6058394160583942,
          0.6139497161394971,
          0.6082725060827251,
          0.5936739659367397,
          0.5717761557177615,
          0.5936739659367397,
          0.616382806163828,
          0.5928629359286294,
          0.6082725060827251,
          0.6017842660178426,
          0.5879967558799676,
          0.6147607461476075,
          0.5879967558799676,
          0.5863746958637469,
          0.6090835360908353,
          0.6034063260340633,
          0.6009732360097324,
          0.5961070559610706,
          0.6277372262773723,
          0.6366585563665855,
          0.5993511759935117,
          0.6001622060016221,
          0.6042173560421735,
          0.6188158961881589,
          0.5993511759935117,
          0.5912408759124088,
          0.6180048661800487,
          0.6180048661800487,
          0.6366585563665855,
          0.6123276561232766,
          0.602595296025953,
          0.6131386861313869,
          0.6212489862124899,
          0.6423357664233577,
          0.6253041362530414,
          0.6374695863746959,
          0.6058394160583942,
          0.6399026763990268,
          0.6131386861313869,
          0.6366585563665855,
          0.6212489862124899,
          0.6123276561232766,
          0.6001622060016221,
          0.5928629359286294,
          0.6139497161394971,
          0.6066504460665044,
          0.6196269261962692,
          0.5774533657745337
         ],
         "y0": " ",
         "yaxis": "y"
        }
       ],
       "layout": {
        "boxmode": "group",
        "font": {
         "color": "black",
         "size": 18
        },
        "height": 700,
        "legend": {
         "tracegroupgap": 0
        },
        "margin": {
         "t": 60
        },
        "paper_bgcolor": "white",
        "plot_bgcolor": "white",
        "showlegend": false,
        "template": {
         "data": {
          "bar": [
           {
            "error_x": {
             "color": "#2a3f5f"
            },
            "error_y": {
             "color": "#2a3f5f"
            },
            "marker": {
             "line": {
              "color": "#E5ECF6",
              "width": 0.5
             },
             "pattern": {
              "fillmode": "overlay",
              "size": 10,
              "solidity": 0.2
             }
            },
            "type": "bar"
           }
          ],
          "barpolar": [
           {
            "marker": {
             "line": {
              "color": "#E5ECF6",
              "width": 0.5
             },
             "pattern": {
              "fillmode": "overlay",
              "size": 10,
              "solidity": 0.2
             }
            },
            "type": "barpolar"
           }
          ],
          "carpet": [
           {
            "aaxis": {
             "endlinecolor": "#2a3f5f",
             "gridcolor": "white",
             "linecolor": "white",
             "minorgridcolor": "white",
             "startlinecolor": "#2a3f5f"
            },
            "baxis": {
             "endlinecolor": "#2a3f5f",
             "gridcolor": "white",
             "linecolor": "white",
             "minorgridcolor": "white",
             "startlinecolor": "#2a3f5f"
            },
            "type": "carpet"
           }
          ],
          "choropleth": [
           {
            "colorbar": {
             "outlinewidth": 0,
             "ticks": ""
            },
            "type": "choropleth"
           }
          ],
          "contour": [
           {
            "colorbar": {
             "outlinewidth": 0,
             "ticks": ""
            },
            "colorscale": [
             [
              0,
              "#0d0887"
             ],
             [
              0.1111111111111111,
              "#46039f"
             ],
             [
              0.2222222222222222,
              "#7201a8"
             ],
             [
              0.3333333333333333,
              "#9c179e"
             ],
             [
              0.4444444444444444,
              "#bd3786"
             ],
             [
              0.5555555555555556,
              "#d8576b"
             ],
             [
              0.6666666666666666,
              "#ed7953"
             ],
             [
              0.7777777777777778,
              "#fb9f3a"
             ],
             [
              0.8888888888888888,
              "#fdca26"
             ],
             [
              1,
              "#f0f921"
             ]
            ],
            "type": "contour"
           }
          ],
          "contourcarpet": [
           {
            "colorbar": {
             "outlinewidth": 0,
             "ticks": ""
            },
            "type": "contourcarpet"
           }
          ],
          "heatmap": [
           {
            "colorbar": {
             "outlinewidth": 0,
             "ticks": ""
            },
            "colorscale": [
             [
              0,
              "#0d0887"
             ],
             [
              0.1111111111111111,
              "#46039f"
             ],
             [
              0.2222222222222222,
              "#7201a8"
             ],
             [
              0.3333333333333333,
              "#9c179e"
             ],
             [
              0.4444444444444444,
              "#bd3786"
             ],
             [
              0.5555555555555556,
              "#d8576b"
             ],
             [
              0.6666666666666666,
              "#ed7953"
             ],
             [
              0.7777777777777778,
              "#fb9f3a"
             ],
             [
              0.8888888888888888,
              "#fdca26"
             ],
             [
              1,
              "#f0f921"
             ]
            ],
            "type": "heatmap"
           }
          ],
          "heatmapgl": [
           {
            "colorbar": {
             "outlinewidth": 0,
             "ticks": ""
            },
            "colorscale": [
             [
              0,
              "#0d0887"
             ],
             [
              0.1111111111111111,
              "#46039f"
             ],
             [
              0.2222222222222222,
              "#7201a8"
             ],
             [
              0.3333333333333333,
              "#9c179e"
             ],
             [
              0.4444444444444444,
              "#bd3786"
             ],
             [
              0.5555555555555556,
              "#d8576b"
             ],
             [
              0.6666666666666666,
              "#ed7953"
             ],
             [
              0.7777777777777778,
              "#fb9f3a"
             ],
             [
              0.8888888888888888,
              "#fdca26"
             ],
             [
              1,
              "#f0f921"
             ]
            ],
            "type": "heatmapgl"
           }
          ],
          "histogram": [
           {
            "marker": {
             "pattern": {
              "fillmode": "overlay",
              "size": 10,
              "solidity": 0.2
             }
            },
            "type": "histogram"
           }
          ],
          "histogram2d": [
           {
            "colorbar": {
             "outlinewidth": 0,
             "ticks": ""
            },
            "colorscale": [
             [
              0,
              "#0d0887"
             ],
             [
              0.1111111111111111,
              "#46039f"
             ],
             [
              0.2222222222222222,
              "#7201a8"
             ],
             [
              0.3333333333333333,
              "#9c179e"
             ],
             [
              0.4444444444444444,
              "#bd3786"
             ],
             [
              0.5555555555555556,
              "#d8576b"
             ],
             [
              0.6666666666666666,
              "#ed7953"
             ],
             [
              0.7777777777777778,
              "#fb9f3a"
             ],
             [
              0.8888888888888888,
              "#fdca26"
             ],
             [
              1,
              "#f0f921"
             ]
            ],
            "type": "histogram2d"
           }
          ],
          "histogram2dcontour": [
           {
            "colorbar": {
             "outlinewidth": 0,
             "ticks": ""
            },
            "colorscale": [
             [
              0,
              "#0d0887"
             ],
             [
              0.1111111111111111,
              "#46039f"
             ],
             [
              0.2222222222222222,
              "#7201a8"
             ],
             [
              0.3333333333333333,
              "#9c179e"
             ],
             [
              0.4444444444444444,
              "#bd3786"
             ],
             [
              0.5555555555555556,
              "#d8576b"
             ],
             [
              0.6666666666666666,
              "#ed7953"
             ],
             [
              0.7777777777777778,
              "#fb9f3a"
             ],
             [
              0.8888888888888888,
              "#fdca26"
             ],
             [
              1,
              "#f0f921"
             ]
            ],
            "type": "histogram2dcontour"
           }
          ],
          "mesh3d": [
           {
            "colorbar": {
             "outlinewidth": 0,
             "ticks": ""
            },
            "type": "mesh3d"
           }
          ],
          "parcoords": [
           {
            "line": {
             "colorbar": {
              "outlinewidth": 0,
              "ticks": ""
             }
            },
            "type": "parcoords"
           }
          ],
          "pie": [
           {
            "automargin": true,
            "type": "pie"
           }
          ],
          "scatter": [
           {
            "fillpattern": {
             "fillmode": "overlay",
             "size": 10,
             "solidity": 0.2
            },
            "type": "scatter"
           }
          ],
          "scatter3d": [
           {
            "line": {
             "colorbar": {
              "outlinewidth": 0,
              "ticks": ""
             }
            },
            "marker": {
             "colorbar": {
              "outlinewidth": 0,
              "ticks": ""
             }
            },
            "type": "scatter3d"
           }
          ],
          "scattercarpet": [
           {
            "marker": {
             "colorbar": {
              "outlinewidth": 0,
              "ticks": ""
             }
            },
            "type": "scattercarpet"
           }
          ],
          "scattergeo": [
           {
            "marker": {
             "colorbar": {
              "outlinewidth": 0,
              "ticks": ""
             }
            },
            "type": "scattergeo"
           }
          ],
          "scattergl": [
           {
            "marker": {
             "colorbar": {
              "outlinewidth": 0,
              "ticks": ""
             }
            },
            "type": "scattergl"
           }
          ],
          "scattermapbox": [
           {
            "marker": {
             "colorbar": {
              "outlinewidth": 0,
              "ticks": ""
             }
            },
            "type": "scattermapbox"
           }
          ],
          "scatterpolar": [
           {
            "marker": {
             "colorbar": {
              "outlinewidth": 0,
              "ticks": ""
             }
            },
            "type": "scatterpolar"
           }
          ],
          "scatterpolargl": [
           {
            "marker": {
             "colorbar": {
              "outlinewidth": 0,
              "ticks": ""
             }
            },
            "type": "scatterpolargl"
           }
          ],
          "scatterternary": [
           {
            "marker": {
             "colorbar": {
              "outlinewidth": 0,
              "ticks": ""
             }
            },
            "type": "scatterternary"
           }
          ],
          "surface": [
           {
            "colorbar": {
             "outlinewidth": 0,
             "ticks": ""
            },
            "colorscale": [
             [
              0,
              "#0d0887"
             ],
             [
              0.1111111111111111,
              "#46039f"
             ],
             [
              0.2222222222222222,
              "#7201a8"
             ],
             [
              0.3333333333333333,
              "#9c179e"
             ],
             [
              0.4444444444444444,
              "#bd3786"
             ],
             [
              0.5555555555555556,
              "#d8576b"
             ],
             [
              0.6666666666666666,
              "#ed7953"
             ],
             [
              0.7777777777777778,
              "#fb9f3a"
             ],
             [
              0.8888888888888888,
              "#fdca26"
             ],
             [
              1,
              "#f0f921"
             ]
            ],
            "type": "surface"
           }
          ],
          "table": [
           {
            "cells": {
             "fill": {
              "color": "#EBF0F8"
             },
             "line": {
              "color": "white"
             }
            },
            "header": {
             "fill": {
              "color": "#C8D4E3"
             },
             "line": {
              "color": "white"
             }
            },
            "type": "table"
           }
          ]
         },
         "layout": {
          "annotationdefaults": {
           "arrowcolor": "#2a3f5f",
           "arrowhead": 0,
           "arrowwidth": 1
          },
          "autotypenumbers": "strict",
          "coloraxis": {
           "colorbar": {
            "outlinewidth": 0,
            "ticks": ""
           }
          },
          "colorscale": {
           "diverging": [
            [
             0,
             "#8e0152"
            ],
            [
             0.1,
             "#c51b7d"
            ],
            [
             0.2,
             "#de77ae"
            ],
            [
             0.3,
             "#f1b6da"
            ],
            [
             0.4,
             "#fde0ef"
            ],
            [
             0.5,
             "#f7f7f7"
            ],
            [
             0.6,
             "#e6f5d0"
            ],
            [
             0.7,
             "#b8e186"
            ],
            [
             0.8,
             "#7fbc41"
            ],
            [
             0.9,
             "#4d9221"
            ],
            [
             1,
             "#276419"
            ]
           ],
           "sequential": [
            [
             0,
             "#0d0887"
            ],
            [
             0.1111111111111111,
             "#46039f"
            ],
            [
             0.2222222222222222,
             "#7201a8"
            ],
            [
             0.3333333333333333,
             "#9c179e"
            ],
            [
             0.4444444444444444,
             "#bd3786"
            ],
            [
             0.5555555555555556,
             "#d8576b"
            ],
            [
             0.6666666666666666,
             "#ed7953"
            ],
            [
             0.7777777777777778,
             "#fb9f3a"
            ],
            [
             0.8888888888888888,
             "#fdca26"
            ],
            [
             1,
             "#f0f921"
            ]
           ],
           "sequentialminus": [
            [
             0,
             "#0d0887"
            ],
            [
             0.1111111111111111,
             "#46039f"
            ],
            [
             0.2222222222222222,
             "#7201a8"
            ],
            [
             0.3333333333333333,
             "#9c179e"
            ],
            [
             0.4444444444444444,
             "#bd3786"
            ],
            [
             0.5555555555555556,
             "#d8576b"
            ],
            [
             0.6666666666666666,
             "#ed7953"
            ],
            [
             0.7777777777777778,
             "#fb9f3a"
            ],
            [
             0.8888888888888888,
             "#fdca26"
            ],
            [
             1,
             "#f0f921"
            ]
           ]
          },
          "colorway": [
           "#636efa",
           "#EF553B",
           "#00cc96",
           "#ab63fa",
           "#FFA15A",
           "#19d3f3",
           "#FF6692",
           "#B6E880",
           "#FF97FF",
           "#FECB52"
          ],
          "font": {
           "color": "#2a3f5f"
          },
          "geo": {
           "bgcolor": "white",
           "lakecolor": "white",
           "landcolor": "#E5ECF6",
           "showlakes": true,
           "showland": true,
           "subunitcolor": "white"
          },
          "hoverlabel": {
           "align": "left"
          },
          "hovermode": "closest",
          "mapbox": {
           "style": "light"
          },
          "paper_bgcolor": "white",
          "plot_bgcolor": "#E5ECF6",
          "polar": {
           "angularaxis": {
            "gridcolor": "white",
            "linecolor": "white",
            "ticks": ""
           },
           "bgcolor": "#E5ECF6",
           "radialaxis": {
            "gridcolor": "white",
            "linecolor": "white",
            "ticks": ""
           }
          },
          "scene": {
           "xaxis": {
            "backgroundcolor": "#E5ECF6",
            "gridcolor": "white",
            "gridwidth": 2,
            "linecolor": "white",
            "showbackground": true,
            "ticks": "",
            "zerolinecolor": "white"
           },
           "yaxis": {
            "backgroundcolor": "#E5ECF6",
            "gridcolor": "white",
            "gridwidth": 2,
            "linecolor": "white",
            "showbackground": true,
            "ticks": "",
            "zerolinecolor": "white"
           },
           "zaxis": {
            "backgroundcolor": "#E5ECF6",
            "gridcolor": "white",
            "gridwidth": 2,
            "linecolor": "white",
            "showbackground": true,
            "ticks": "",
            "zerolinecolor": "white"
           }
          },
          "shapedefaults": {
           "line": {
            "color": "#2a3f5f"
           }
          },
          "ternary": {
           "aaxis": {
            "gridcolor": "white",
            "linecolor": "white",
            "ticks": ""
           },
           "baxis": {
            "gridcolor": "white",
            "linecolor": "white",
            "ticks": ""
           },
           "bgcolor": "#E5ECF6",
           "caxis": {
            "gridcolor": "white",
            "linecolor": "white",
            "ticks": ""
           }
          },
          "title": {
           "x": 0.05
          },
          "xaxis": {
           "automargin": true,
           "gridcolor": "white",
           "linecolor": "white",
           "ticks": "",
           "title": {
            "standoff": 15
           },
           "zerolinecolor": "white",
           "zerolinewidth": 2
          },
          "yaxis": {
           "automargin": true,
           "gridcolor": "white",
           "linecolor": "white",
           "ticks": "",
           "title": {
            "standoff": 15
           },
           "zerolinecolor": "white",
           "zerolinewidth": 2
          }
         }
        },
        "title": {
         "text": "NCI1",
         "x": 0.9,
         "xanchor": "center",
         "y": 0.45,
         "yanchor": "top"
        },
        "width": 1150,
        "xaxis": {
         "anchor": "y",
         "autorange": true,
         "domain": [
          0,
          1
         ],
         "gridcolor": "#e3e1e1",
         "gridwidth": 2,
         "linecolor": "black",
         "linewidth": 2,
         "mirror": true,
         "range": [
          -0.5,
          2.5
         ],
         "showgrid": true,
         "showline": true,
         "title": {
          "text": ""
         },
         "type": "category",
         "zeroline": true
        },
        "yaxis": {
         "anchor": "x",
         "color": "black",
         "domain": [
          0,
          1
         ],
         "gridcolor": "grey",
         "gridwidth": 0.5,
         "linecolor": "black",
         "linewidth": 2,
         "mirror": true,
         "range": [
          0.5,
          0.8
         ],
         "showgrid": false,
         "showline": true,
         "title": {
          "text": "Accuracy"
         },
         "type": "linear",
         "zeroline": true
        }
       }
      },
      "image/png": "[encoded data removed]",
      "text/html": [
       "<div>                            <div id=\"8b7b337d-70f5-410f-bb62-92fba118506c\" class=\"plotly-graph-div\" style=\"height:700px; width:1150px;\"></div>            <script type=\"text/javascript\">                require([\"plotly\"], function(Plotly) {                    window.PLOTLYENV=window.PLOTLYENV || {};                                    if (document.getElementById(\"8b7b337d-70f5-410f-bb62-92fba118506c\")) {                    Plotly.newPlot(                        \"8b7b337d-70f5-410f-bb62-92fba118506c\",                        [{\"alignmentgroup\":\"True\",\"hovertemplate\":\"Method=%{x}\\u003cbr\\u003eAccuracy=%{y}\\u003cextra\\u003e\\u003c\\u002fextra\\u003e\",\"legendgroup\":\"\",\"marker\":{\"color\":\"#636efa\",\"line\":{\"color\":\"black\",\"width\":1.0}},\"name\":\"\",\"notched\":false,\"offsetgroup\":\"\",\"orientation\":\"v\",\"showlegend\":false,\"x\":[\"Supervised\",\"Supervised\",\"Supervised\",\"Supervised\",\"Supervised\",\"Supervised\",\"Supervised\",\"Supervised\",\"Supervised\",\"Supervised\",\"Supervised\",\"Supervised\",\"Supervised\",\"Supervised\",\"Supervised\",\"Supervised\",\"Supervised\",\"Supervised\",\"Supervised\",\"Supervised\",\"Supervised\",\"Supervised\",\"Supervised\",\"Supervised\",\"Supervised\",\"Supervised\",\"Supervised\",\"Supervised\",\"Supervised\",\"Supervised\",\"Unsupervised\",\"Unsupervised\",\"Unsupervised\",\"Unsupervised\",\"Unsupervised\",\"Unsupervised\",\"Unsupervised\",\"Unsupervised\",\"Unsupervised\",\"Unsupervised\",\"Unsupervised\",\"Unsupervised\",\"Unsupervised\",\"Unsupervised\",\"Unsupervised\",\"Unsupervised\",\"Unsupervised\",\"Unsupervised\",\"Unsupervised\",\"Unsupervised\",\"Unsupervised\",\"Unsupervised\",\"Unsupervised\",\"Unsupervised\",\"Unsupervised\",\"Unsupervised\",\"Unsupervised\",\"Unsupervised\",\"Unsupervised\",\"Unsupervised\",\"Random\",\"Random\",\"Random\",\"Random\",\"Random\",\"Random\",\"Random\",\"Random\",\"Random\",\"Random\",\"Random\",\"Random\",\"Random\",\"Random\",\"Random\",\"Random\",\"Random\",\"Random\",\"Random\",\"Random\",\"Random\",\"Random\",\"Random\",\"Random\",\"Random\",\"Random\",\"Random\",\"Random\",\"Random\",\"Random\"],\"x0\":\" \",\"xaxis\":\"x\",\"y\":[0.6455798864557989,0.6585563665855637,0.6382806163828062,0.6496350364963503,0.6309813463098135,0.656934306569343,0.6374695863746959,0.6472019464720195,0.6642335766423357,0.6204379562043796,0.6212489862124899,0.64882400648824,0.6358475263584753,0.6212489862124899,0.6528791565287916,0.6212489862124899,0.6342254663422546,0.6472019464720195,0.6447688564476886,0.656934306569343,0.6455798864557989,0.6472019464720195,0.6180048661800487,0.6342254663422546,0.6455798864557989,0.6447688564476886,0.6407137064071371,0.6520681265206812,0.643146796431468,0.64882400648824,0.6009732360097324,0.5798864557988646,0.6155717761557178,0.5896188158961881,0.5815085158150851,0.5879967558799676,0.5993511759935117,0.5961070559610706,0.5831305758313058,0.5815085158150851,0.583941605839416,0.5823195458231955,0.6058394160583942,0.6139497161394971,0.6082725060827251,0.5936739659367397,0.5717761557177615,0.5936739659367397,0.616382806163828,0.5928629359286294,0.6082725060827251,0.6017842660178426,0.5879967558799676,0.6147607461476075,0.5879967558799676,0.5863746958637469,0.6090835360908353,0.6034063260340633,0.6009732360097324,0.5961070559610706,0.6277372262773723,0.6366585563665855,0.5993511759935117,0.6001622060016221,0.6042173560421735,0.6188158961881589,0.5993511759935117,0.5912408759124088,0.6180048661800487,0.6180048661800487,0.6366585563665855,0.6123276561232766,0.602595296025953,0.6131386861313869,0.6212489862124899,0.6423357664233577,0.6253041362530414,0.6374695863746959,0.6058394160583942,0.6399026763990268,0.6131386861313869,0.6366585563665855,0.6212489862124899,0.6123276561232766,0.6001622060016221,0.5928629359286294,0.6139497161394971,0.6066504460665044,0.6196269261962692,0.5774533657745337],\"y0\":\" \",\"yaxis\":\"y\",\"type\":\"box\",\"opacity\":1.0}],                        {\"template\":{\"data\":{\"histogram2dcontour\":[{\"type\":\"histogram2dcontour\",\"colorbar\":{\"outlinewidth\":0,\"ticks\":\"\"},\"colorscale\":[[0.0,\"#0d0887\"],[0.1111111111111111,\"#46039f\"],[0.2222222222222222,\"#7201a8\"],[0.3333333333333333,\"#9c179e\"],[0.4444444444444444,\"#bd3786\"],[0.5555555555555556,\"#d8576b\"],[0.6666666666666666,\"#ed7953\"],[0.7777777777777778,\"#fb9f3a\"],[0.8888888888888888,\"#fdca26\"],[1.0,\"#f0f921\"]]}],\"choropleth\":[{\"type\":\"choropleth\",\"colorbar\":{\"outlinewidth\":0,\"ticks\":\"\"}}],\"histogram2d\":[{\"type\":\"histogram2d\",\"colorbar\":{\"outlinewidth\":0,\"ticks\":\"\"},\"colorscale\":[[0.0,\"#0d0887\"],[0.1111111111111111,\"#46039f\"],[0.2222222222222222,\"#7201a8\"],[0.3333333333333333,\"#9c179e\"],[0.4444444444444444,\"#bd3786\"],[0.5555555555555556,\"#d8576b\"],[0.6666666666666666,\"#ed7953\"],[0.7777777777777778,\"#fb9f3a\"],[0.8888888888888888,\"#fdca26\"],[1.0,\"#f0f921\"]]}],\"heatmap\":[{\"type\":\"heatmap\",\"colorbar\":{\"outlinewidth\":0,\"ticks\":\"\"},\"colorscale\":[[0.0,\"#0d0887\"],[0.1111111111111111,\"#46039f\"],[0.2222222222222222,\"#7201a8\"],[0.3333333333333333,\"#9c179e\"],[0.4444444444444444,\"#bd3786\"],[0.5555555555555556,\"#d8576b\"],[0.6666666666666666,\"#ed7953\"],[0.7777777777777778,\"#fb9f3a\"],[0.8888888888888888,\"#fdca26\"],[1.0,\"#f0f921\"]]}],\"heatmapgl\":[{\"type\":\"heatmapgl\",\"colorbar\":{\"outlinewidth\":0,\"ticks\":\"\"},\"colorscale\":[[0.0,\"#0d0887\"],[0.1111111111111111,\"#46039f\"],[0.2222222222222222,\"#7201a8\"],[0.3333333333333333,\"#9c179e\"],[0.4444444444444444,\"#bd3786\"],[0.5555555555555556,\"#d8576b\"],[0.6666666666666666,\"#ed7953\"],[0.7777777777777778,\"#fb9f3a\"],[0.8888888888888888,\"#fdca26\"],[1.0,\"#f0f921\"]]}],\"contourcarpet\":[{\"type\":\"contourcarpet\",\"colorbar\":{\"outlinewidth\":0,\"ticks\":\"\"}}],\"contour\":[{\"type\":\"contour\",\"colorbar\":{\"outlinewidth\":0,\"ticks\":\"\"},\"colorscale\":[[0.0,\"#0d0887\"],[0.1111111111111111,\"#46039f\"],[0.2222222222222222,\"#7201a8\"],[0.3333333333333333,\"#9c179e\"],[0.4444444444444444,\"#bd3786\"],[0.5555555555555556,\"#d8576b\"],[0.6666666666666666,\"#ed7953\"],[0.7777777777777778,\"#fb9f3a\"],[0.8888888888888888,\"#fdca26\"],[1.0,\"#f0f921\"]]}],\"surface\":[{\"type\":\"surface\",\"colorbar\":{\"outlinewidth\":0,\"ticks\":\"\"},\"colorscale\":[[0.0,\"#0d0887\"],[0.1111111111111111,\"#46039f\"],[0.2222222222222222,\"#7201a8\"],[0.3333333333333333,\"#9c179e\"],[0.4444444444444444,\"#bd3786\"],[0.5555555555555556,\"#d8576b\"],[0.6666666666666666,\"#ed7953\"],[0.7777777777777778,\"#fb9f3a\"],[0.8888888888888888,\"#fdca26\"],[1.0,\"#f0f921\"]]}],\"mesh3d\":[{\"type\":\"mesh3d\",\"colorbar\":{\"outlinewidth\":0,\"ticks\":\"\"}}],\"scatter\":[{\"fillpattern\":{\"fillmode\":\"overlay\",\"size\":10,\"solidity\":0.2},\"type\":\"scatter\"}],\"parcoords\":[{\"type\":\"parcoords\",\"line\":{\"colorbar\":{\"outlinewidth\":0,\"ticks\":\"\"}}}],\"scatterpolargl\":[{\"type\":\"scatterpolargl\",\"marker\":{\"colorbar\":{\"outlinewidth\":0,\"ticks\":\"\"}}}],\"bar\":[{\"error_x\":{\"color\":\"#2a3f5f\"},\"error_y\":{\"color\":\"#2a3f5f\"},\"marker\":{\"line\":{\"color\":\"#E5ECF6\",\"width\":0.5},\"pattern\":{\"fillmode\":\"overlay\",\"size\":10,\"solidity\":0.2}},\"type\":\"bar\"}],\"scattergeo\":[{\"type\":\"scattergeo\",\"marker\":{\"colorbar\":{\"outlinewidth\":0,\"ticks\":\"\"}}}],\"scatterpolar\":[{\"type\":\"scatterpolar\",\"marker\":{\"colorbar\":{\"outlinewidth\":0,\"ticks\":\"\"}}}],\"histogram\":[{\"marker\":{\"pattern\":{\"fillmode\":\"overlay\",\"size\":10,\"solidity\":0.2}},\"type\":\"histogram\"}],\"scattergl\":[{\"type\":\"scattergl\",\"marker\":{\"colorbar\":{\"outlinewidth\":0,\"ticks\":\"\"}}}],\"scatter3d\":[{\"type\":\"scatter3d\",\"line\":{\"colorbar\":{\"outlinewidth\":0,\"ticks\":\"\"}},\"marker\":{\"colorbar\":{\"outlinewidth\":0,\"ticks\":\"\"}}}],\"scattermapbox\":[{\"type\":\"scattermapbox\",\"marker\":{\"colorbar\":{\"outlinewidth\":0,\"ticks\":\"\"}}}],\"scatterternary\":[{\"type\":\"scatterternary\",\"marker\":{\"colorbar\":{\"outlinewidth\":0,\"ticks\":\"\"}}}],\"scattercarpet\":[{\"type\":\"scattercarpet\",\"marker\":{\"colorbar\":{\"outlinewidth\":0,\"ticks\":\"\"}}}],\"carpet\":[{\"aaxis\":{\"endlinecolor\":\"#2a3f5f\",\"gridcolor\":\"white\",\"linecolor\":\"white\",\"minorgridcolor\":\"white\",\"startlinecolor\":\"#2a3f5f\"},\"baxis\":{\"endlinecolor\":\"#2a3f5f\",\"gridcolor\":\"white\",\"linecolor\":\"white\",\"minorgridcolor\":\"white\",\"startlinecolor\":\"#2a3f5f\"},\"type\":\"carpet\"}],\"table\":[{\"cells\":{\"fill\":{\"color\":\"#EBF0F8\"},\"line\":{\"color\":\"white\"}},\"header\":{\"fill\":{\"color\":\"#C8D4E3\"},\"line\":{\"color\":\"white\"}},\"type\":\"table\"}],\"barpolar\":[{\"marker\":{\"line\":{\"color\":\"#E5ECF6\",\"width\":0.5},\"pattern\":{\"fillmode\":\"overlay\",\"size\":10,\"solidity\":0.2}},\"type\":\"barpolar\"}],\"pie\":[{\"automargin\":true,\"type\":\"pie\"}]},\"layout\":{\"autotypenumbers\":\"strict\",\"colorway\":[\"#636efa\",\"#EF553B\",\"#00cc96\",\"#ab63fa\",\"#FFA15A\",\"#19d3f3\",\"#FF6692\",\"#B6E880\",\"#FF97FF\",\"#FECB52\"],\"font\":{\"color\":\"#2a3f5f\"},\"hovermode\":\"closest\",\"hoverlabel\":{\"align\":\"left\"},\"paper_bgcolor\":\"white\",\"plot_bgcolor\":\"#E5ECF6\",\"polar\":{\"bgcolor\":\"#E5ECF6\",\"angularaxis\":{\"gridcolor\":\"white\",\"linecolor\":\"white\",\"ticks\":\"\"},\"radialaxis\":{\"gridcolor\":\"white\",\"linecolor\":\"white\",\"ticks\":\"\"}},\"ternary\":{\"bgcolor\":\"#E5ECF6\",\"aaxis\":{\"gridcolor\":\"white\",\"linecolor\":\"white\",\"ticks\":\"\"},\"baxis\":{\"gridcolor\":\"white\",\"linecolor\":\"white\",\"ticks\":\"\"},\"caxis\":{\"gridcolor\":\"white\",\"linecolor\":\"white\",\"ticks\":\"\"}},\"coloraxis\":{\"colorbar\":{\"outlinewidth\":0,\"ticks\":\"\"}},\"colorscale\":{\"sequential\":[[0.0,\"#0d0887\"],[0.1111111111111111,\"#46039f\"],[0.2222222222222222,\"#7201a8\"],[0.3333333333333333,\"#9c179e\"],[0.4444444444444444,\"#bd3786\"],[0.5555555555555556,\"#d8576b\"],[0.6666666666666666,\"#ed7953\"],[0.7777777777777778,\"#fb9f3a\"],[0.8888888888888888,\"#fdca26\"],[1.0,\"#f0f921\"]],\"sequentialminus\":[[0.0,\"#0d0887\"],[0.1111111111111111,\"#46039f\"],[0.2222222222222222,\"#7201a8\"],[0.3333333333333333,\"#9c179e\"],[0.4444444444444444,\"#bd3786\"],[0.5555555555555556,\"#d8576b\"],[0.6666666666666666,\"#ed7953\"],[0.7777777777777778,\"#fb9f3a\"],[0.8888888888888888,\"#fdca26\"],[1.0,\"#f0f921\"]],\"diverging\":[[0,\"#8e0152\"],[0.1,\"#c51b7d\"],[0.2,\"#de77ae\"],[0.3,\"#f1b6da\"],[0.4,\"#fde0ef\"],[0.5,\"#f7f7f7\"],[0.6,\"#e6f5d0\"],[0.7,\"#b8e186\"],[0.8,\"#7fbc41\"],[0.9,\"#4d9221\"],[1,\"#276419\"]]},\"xaxis\":{\"gridcolor\":\"white\",\"linecolor\":\"white\",\"ticks\":\"\",\"title\":{\"standoff\":15},\"zerolinecolor\":\"white\",\"automargin\":true,\"zerolinewidth\":2},\"yaxis\":{\"gridcolor\":\"white\",\"linecolor\":\"white\",\"ticks\":\"\",\"title\":{\"standoff\":15},\"zerolinecolor\":\"white\",\"automargin\":true,\"zerolinewidth\":2},\"scene\":{\"xaxis\":{\"backgroundcolor\":\"#E5ECF6\",\"gridcolor\":\"white\",\"linecolor\":\"white\",\"showbackground\":true,\"ticks\":\"\",\"zerolinecolor\":\"white\",\"gridwidth\":2},\"yaxis\":{\"backgroundcolor\":\"#E5ECF6\",\"gridcolor\":\"white\",\"linecolor\":\"white\",\"showbackground\":true,\"ticks\":\"\",\"zerolinecolor\":\"white\",\"gridwidth\":2},\"zaxis\":{\"backgroundcolor\":\"#E5ECF6\",\"gridcolor\":\"white\",\"linecolor\":\"white\",\"showbackground\":true,\"ticks\":\"\",\"zerolinecolor\":\"white\",\"gridwidth\":2}},\"shapedefaults\":{\"line\":{\"color\":\"#2a3f5f\"}},\"annotationdefaults\":{\"arrowcolor\":\"#2a3f5f\",\"arrowhead\":0,\"arrowwidth\":1},\"geo\":{\"bgcolor\":\"white\",\"landcolor\":\"#E5ECF6\",\"subunitcolor\":\"white\",\"showland\":true,\"showlakes\":true,\"lakecolor\":\"white\"},\"title\":{\"x\":0.05},\"mapbox\":{\"style\":\"light\"}}},\"xaxis\":{\"anchor\":\"y\",\"domain\":[0.0,1.0],\"title\":{\"text\":\"\"},\"mirror\":true,\"zeroline\":true,\"showline\":true,\"linecolor\":\"black\",\"linewidth\":2,\"showgrid\":true,\"gridwidth\":2.0,\"gridcolor\":\"#e3e1e1\"},\"yaxis\":{\"anchor\":\"x\",\"domain\":[0.0,1.0],\"title\":{\"text\":\"Accuracy\"},\"color\":\"black\",\"zeroline\":true,\"showline\":true,\"linecolor\":\"black\",\"mirror\":true,\"linewidth\":2,\"range\":[0.5,0.8],\"showgrid\":false,\"gridwidth\":0.5,\"gridcolor\":\"grey\"},\"legend\":{\"tracegroupgap\":0},\"margin\":{\"t\":60},\"boxmode\":\"group\",\"paper_bgcolor\":\"white\",\"plot_bgcolor\":\"white\",\"font\":{\"size\":18,\"color\":\"black\"},\"width\":1150,\"height\":700,\"title\":{\"text\":\"NCI1\",\"y\":0.45,\"x\":0.9,\"xanchor\":\"center\",\"yanchor\":\"top\"},\"showlegend\":false},                        {\"responsive\": true}                    ).then(function(){\n",
       "                            \n",
       "var gd = document.getElementById('8b7b337d-70f5-410f-bb62-92fba118506c');\n",
       "var x = new MutationObserver(function (mutations, observer) {{\n",
       "        var display = window.getComputedStyle(gd).display;\n",
       "        if (!display || display === 'none') {{\n",
       "            console.log([gd, 'removed!']);\n",
       "            Plotly.purge(gd);\n",
       "            observer.disconnect();\n",
       "        }}\n",
       "}});\n",
       "\n",
       "// Listen for the removal of the full notebook cells\n",
       "var notebookContainer = gd.closest('#notebook-container');\n",
       "if (notebookContainer) {{\n",
       "    x.observe(notebookContainer, {childList: true});\n",
       "}}\n",
       "\n",
       "// Listen for the clearing of the current output cell\n",
       "var outputEl = gd.closest('.output');\n",
       "if (outputEl) {{\n",
       "    x.observe(outputEl, {childList: true});\n",
       "}}\n",
       "\n",
       "                        })                };                });            </script>        </div>"
      ]
     },
     "metadata": {},
     "output_type": "display_data"
    }
   ],
   "source": [
    "fig = px.box(results, x=\"Method\", y=\"Accuracy\")\n",
    "\n",
    "\n",
    "fig.update_layout(paper_bgcolor='white')\n",
    "fig.update_layout(plot_bgcolor='white')\n",
    "fig.update_yaxes(color='black')\n",
    "fig.update_layout(\n",
    "    yaxis = dict(\n",
    "        title = \"Accuracy\",\n",
    "        zeroline=True,\n",
    "        showline = True,\n",
    "        linecolor = 'black',\n",
    "        mirror=True,\n",
    "        linewidth = 2\n",
    "    ),\n",
    "    xaxis = dict(\n",
    "        title = \"\",\n",
    "        mirror=True,\n",
    "        zeroline=True,\n",
    "        showline = True,\n",
    "        linecolor = 'black',\n",
    "        linewidth = 2,\n",
    "    ),\n",
    "    width=1150,\n",
    "    height=700,\n",
    "    font=dict(\n",
    "    size=18,\n",
    "    color=\"black\")  \n",
    ")\n",
    "fig.update_layout(title={'text':'NCI1', 'y':0.45, 'x':0.9,'xanchor': 'center','yanchor': 'top'})\n",
    "fig.update_layout(showlegend=False)\n",
    "fig.update_layout(yaxis_range=[0.5,0.8])\n",
    "fig.update_xaxes(showgrid=True, gridwidth=2.0, gridcolor='#e3e1e1')\n",
    "fig.update_yaxes(showgrid=False, gridwidth=0.5, gridcolor='grey')\n",
    "fig.update_traces(marker_line_color='black', marker_line_width=1.0, opacity=1.0)\n",
    "\n",
    "\n",
    "fig.show()"
   ]
  },
  {
   "cell_type": "code",
   "execution_count": null,
   "id": "942f39a0-3dc7-44ac-89e9-058680a53cbb",
   "metadata": {},
   "outputs": [],
   "source": []
  }
 ],
 "metadata": {
  "kernelspec": {
   "display_name": "Python 3 (ipykernel)",
   "language": "python",
   "name": "python3"
  },
  "language_info": {
   "codemirror_mode": {
    "name": "ipython",
    "version": 3
   },
   "file_extension": ".py",
   "mimetype": "text/x-python",
   "name": "python",
   "nbconvert_exporter": "python",
   "pygments_lexer": "ipython3",
   "version": "3.11.9"
  }
 },
 "nbformat": 4,
 "nbformat_minor": 5
}
