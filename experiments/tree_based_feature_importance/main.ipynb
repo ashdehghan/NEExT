{
 "cells": [
  {
   "cell_type": "code",
   "execution_count": 1,
   "id": "1ba4a2d2-c048-4915-abc0-7cf964553afd",
   "metadata": {},
   "outputs": [],
   "source": [
    "import pandas as pd\n",
    "import numpy as np\n",
    "from NEExT.NEExT import NEExT\n",
    "from tqdm import tqdm\n",
    "from sklearn.preprocessing import StandardScaler\n",
    "from sklearn.model_selection import train_test_split\n",
    "from sklearn.ensemble import RandomForestClassifier\n",
    "import matplotlib.pyplot as plt\n",
    "import xgboost\n",
    "import plotly.express as px\n",
    "from sklearn.metrics import accuracy_score, f1_score, mean_absolute_error, mean_squared_error, precision_score, recall_score\n",
    "import warnings\n",
    "from plotly.subplots import make_subplots\n",
    "import plotly.graph_objects as go\n",
    "warnings.filterwarnings('ignore')"
   ]
  },
  {
   "cell_type": "code",
   "execution_count": 2,
   "id": "de8c65e6-0e38-4bd1-a8e0-95f09bda7744",
   "metadata": {},
   "outputs": [],
   "source": [
    "def build_embedding(dataset_name, feat_name, feat_vect_len):\n",
    "    edge_file = \"https://raw.githubusercontent.com/elmspace/ugaf_experiments_data/main/real_world_graphs/%s/processed_data/edge_file.csv\"%(dataset_name)\n",
    "    graph_label_file = \"https://raw.githubusercontent.com/elmspace/ugaf_experiments_data/main/real_world_graphs/%s/processed_data/graph_label_mapping_file.csv\"%(dataset_name)\n",
    "    node_graph_mapping_file = \"https://raw.githubusercontent.com/elmspace/ugaf_experiments_data/main/real_world_graphs/%s/processed_data/node_graph_mapping_file.csv\"%(dataset_name)\n",
    "\n",
    "    nxt = NEExT(quiet_mode=\"on\")\n",
    "    nxt.load_data_from_csv(edge_file=edge_file, node_graph_mapping_file=node_graph_mapping_file, graph_label_file=graph_label_file)\n",
    "\n",
    "    nxt.compute_graph_feature(feat_name=feat_name, feat_vect_len=feat_vect_len)\n",
    "    \n",
    "    nxt.pool_graph_features(pool_method=\"concat\")\n",
    "    \n",
    "    node_ids = nxt.graph_c.global_feature_vector[\"node_id\"]\n",
    "    graph_ids = nxt.graph_c.global_feature_vector[\"graph_id\"]\n",
    "    feature = nxt.graph_c.global_feature_vector[\"feat_\"+feat_name+\"_\"+str(feat_vect_len-1)]\n",
    "    \n",
    "    # Filter for a specific node feat len\n",
    "    df = pd.DataFrame()\n",
    "    df[\"node_id\"] = node_ids\n",
    "    df[\"graph_id\"] = graph_ids\n",
    "    df[\"feat_\"+feat_name+\"_\"+str(feat_vect_len-1)] = feature\n",
    "    nxt.graph_c.global_feature_vector = df.copy(deep=True)\n",
    "    nxt.graph_c.global_feature_vector_cols = [\"feat_\"+feat_name+\"_\"+str(feat_vect_len-1)]\n",
    "\n",
    "\n",
    "    \n",
    "    nxt.build_graph_embedding(emb_dim_len=1, emb_engine=\"approx_wasserstein\")\n",
    "\n",
    "    data = nxt.graph_embedding[\"graph_embedding_df\"]\n",
    "    data = nxt.graph_c.grpah_labels_df.merge(data, on=\"graph_id\")\n",
    "    data.columns = [\"graph_id\", \"graph_label\", feat_name]\n",
    "    return data"
   ]
  },
  {
   "cell_type": "code",
   "execution_count": 3,
   "id": "7d63dc02-9d0e-4e23-94fd-4e2b9bc22711",
   "metadata": {},
   "outputs": [
    {
     "name": "stderr",
     "output_type": "stream",
     "text": [
      "feat_len: 100%|█████████████████████████████████████████████████████████████████████████| 4/4 [24:26<00:00, 366.64s/it]\n"
     ]
    }
   ],
   "source": [
    "features = [\"basic_expansion\", \"self_walk\", \"page_rank\", \"degree_centrality\", \"closeness_centrality\", \"load_centrality\",\n",
    "           \"eigenvector_centrality\", \"lsme\"]\n",
    "\n",
    "datasets = [\"BZR\", \"IMDB\", \"NCI1\", \"MUTAG\", \"PROTEINS\"]\n",
    "\n",
    "all_all_res = pd.DataFrame()\n",
    "for feat_vect_len in tqdm([1, 2, 3, 4], desc=\"feat_len\"):\n",
    "    \n",
    "    all_res = pd.DataFrame()\n",
    "    for dataset_name in datasets:\n",
    "        \n",
    "        res = pd.DataFrame()\n",
    "        for feat_name in features:\n",
    "                \n",
    "            df = build_embedding(dataset_name, feat_name, feat_vect_len)\n",
    "            if res.empty:\n",
    "                res = df.copy(deep=True)\n",
    "            else:\n",
    "                res = res.merge(df, on=[\"graph_id\", \"graph_label\"])\n",
    "                \n",
    "        res[\"dataset\"] = dataset_name\n",
    "        if all_res.empty:\n",
    "            all_res = res.copy(deep=True)\n",
    "        else:\n",
    "            all_res = pd.concat([all_res, res])\n",
    "\n",
    "    all_res[\"feat_len\"] = feat_vect_len\n",
    "    if all_all_res.empty:\n",
    "        all_all_res = all_res.copy(deep=True)\n",
    "    else:\n",
    "        all_all_res = pd.concat([all_all_res, all_res])\n"
   ]
  },
  {
   "cell_type": "code",
   "execution_count": 4,
   "id": "0d3e9f9c-34e2-4bbe-8cf1-52b4e7e09a16",
   "metadata": {},
   "outputs": [
    {
     "data": {
      "text/html": [
       "<div>\n",
       "<style scoped>\n",
       "    .dataframe tbody tr th:only-of-type {\n",
       "        vertical-align: middle;\n",
       "    }\n",
       "\n",
       "    .dataframe tbody tr th {\n",
       "        vertical-align: top;\n",
       "    }\n",
       "\n",
       "    .dataframe thead th {\n",
       "        text-align: right;\n",
       "    }\n",
       "</style>\n",
       "<table border=\"1\" class=\"dataframe\">\n",
       "  <thead>\n",
       "    <tr style=\"text-align: right;\">\n",
       "      <th></th>\n",
       "      <th>graph_id</th>\n",
       "      <th>graph_label</th>\n",
       "      <th>basic_expansion</th>\n",
       "      <th>self_walk</th>\n",
       "      <th>page_rank</th>\n",
       "      <th>degree_centrality</th>\n",
       "      <th>closeness_centrality</th>\n",
       "      <th>load_centrality</th>\n",
       "      <th>eigenvector_centrality</th>\n",
       "      <th>lsme</th>\n",
       "      <th>dataset</th>\n",
       "      <th>feat_len</th>\n",
       "    </tr>\n",
       "  </thead>\n",
       "  <tbody>\n",
       "    <tr>\n",
       "      <th>0</th>\n",
       "      <td>0</td>\n",
       "      <td>-1</td>\n",
       "      <td>1.946408e-09</td>\n",
       "      <td>-0.021841</td>\n",
       "      <td>0.216180</td>\n",
       "      <td>0.202306</td>\n",
       "      <td>0.289911</td>\n",
       "      <td>0.026240</td>\n",
       "      <td>0.199050</td>\n",
       "      <td>-0.070985</td>\n",
       "      <td>BZR</td>\n",
       "      <td>1</td>\n",
       "    </tr>\n",
       "    <tr>\n",
       "      <th>1</th>\n",
       "      <td>1</td>\n",
       "      <td>-1</td>\n",
       "      <td>4.386578e-09</td>\n",
       "      <td>-0.044379</td>\n",
       "      <td>0.097098</td>\n",
       "      <td>0.079057</td>\n",
       "      <td>0.198728</td>\n",
       "      <td>-0.028358</td>\n",
       "      <td>0.110442</td>\n",
       "      <td>0.012324</td>\n",
       "      <td>BZR</td>\n",
       "      <td>1</td>\n",
       "    </tr>\n",
       "    <tr>\n",
       "      <th>2</th>\n",
       "      <td>2</td>\n",
       "      <td>-1</td>\n",
       "      <td>1.946408e-09</td>\n",
       "      <td>-0.021841</td>\n",
       "      <td>0.216180</td>\n",
       "      <td>0.202306</td>\n",
       "      <td>0.289911</td>\n",
       "      <td>0.026240</td>\n",
       "      <td>0.199050</td>\n",
       "      <td>-0.096869</td>\n",
       "      <td>BZR</td>\n",
       "      <td>1</td>\n",
       "    </tr>\n",
       "    <tr>\n",
       "      <th>3</th>\n",
       "      <td>3</td>\n",
       "      <td>-1</td>\n",
       "      <td>4.386578e-09</td>\n",
       "      <td>-0.044379</td>\n",
       "      <td>0.097098</td>\n",
       "      <td>0.079057</td>\n",
       "      <td>0.198728</td>\n",
       "      <td>-0.028358</td>\n",
       "      <td>0.110442</td>\n",
       "      <td>-0.107305</td>\n",
       "      <td>BZR</td>\n",
       "      <td>1</td>\n",
       "    </tr>\n",
       "    <tr>\n",
       "      <th>4</th>\n",
       "      <td>4</td>\n",
       "      <td>-1</td>\n",
       "      <td>5.839223e-10</td>\n",
       "      <td>-0.021841</td>\n",
       "      <td>0.216180</td>\n",
       "      <td>0.202306</td>\n",
       "      <td>0.289911</td>\n",
       "      <td>0.026240</td>\n",
       "      <td>0.199050</td>\n",
       "      <td>-0.113180</td>\n",
       "      <td>BZR</td>\n",
       "      <td>1</td>\n",
       "    </tr>\n",
       "    <tr>\n",
       "      <th>...</th>\n",
       "      <td>...</td>\n",
       "      <td>...</td>\n",
       "      <td>...</td>\n",
       "      <td>...</td>\n",
       "      <td>...</td>\n",
       "      <td>...</td>\n",
       "      <td>...</td>\n",
       "      <td>...</td>\n",
       "      <td>...</td>\n",
       "      <td>...</td>\n",
       "      <td>...</td>\n",
       "      <td>...</td>\n",
       "    </tr>\n",
       "    <tr>\n",
       "      <th>1108</th>\n",
       "      <td>1108</td>\n",
       "      <td>2</td>\n",
       "      <td>-3.690765e-01</td>\n",
       "      <td>0.109909</td>\n",
       "      <td>0.201150</td>\n",
       "      <td>0.195601</td>\n",
       "      <td>0.321649</td>\n",
       "      <td>0.225433</td>\n",
       "      <td>0.223581</td>\n",
       "      <td>-0.001515</td>\n",
       "      <td>PROTEINS</td>\n",
       "      <td>4</td>\n",
       "    </tr>\n",
       "    <tr>\n",
       "      <th>1109</th>\n",
       "      <td>1109</td>\n",
       "      <td>2</td>\n",
       "      <td>2.159440e-02</td>\n",
       "      <td>0.062254</td>\n",
       "      <td>-0.577729</td>\n",
       "      <td>-0.555695</td>\n",
       "      <td>-0.425012</td>\n",
       "      <td>-0.181825</td>\n",
       "      <td>-0.328415</td>\n",
       "      <td>0.141617</td>\n",
       "      <td>PROTEINS</td>\n",
       "      <td>4</td>\n",
       "    </tr>\n",
       "    <tr>\n",
       "      <th>1110</th>\n",
       "      <td>1110</td>\n",
       "      <td>2</td>\n",
       "      <td>2.882937e-03</td>\n",
       "      <td>0.046296</td>\n",
       "      <td>-0.563832</td>\n",
       "      <td>-0.551371</td>\n",
       "      <td>-0.399817</td>\n",
       "      <td>-0.366948</td>\n",
       "      <td>-0.569554</td>\n",
       "      <td>0.072547</td>\n",
       "      <td>PROTEINS</td>\n",
       "      <td>4</td>\n",
       "    </tr>\n",
       "    <tr>\n",
       "      <th>1111</th>\n",
       "      <td>1111</td>\n",
       "      <td>2</td>\n",
       "      <td>-3.690765e-01</td>\n",
       "      <td>0.109909</td>\n",
       "      <td>0.201150</td>\n",
       "      <td>0.195601</td>\n",
       "      <td>0.321649</td>\n",
       "      <td>0.225433</td>\n",
       "      <td>0.223581</td>\n",
       "      <td>-0.001515</td>\n",
       "      <td>PROTEINS</td>\n",
       "      <td>4</td>\n",
       "    </tr>\n",
       "    <tr>\n",
       "      <th>1112</th>\n",
       "      <td>1112</td>\n",
       "      <td>2</td>\n",
       "      <td>5.646289e-01</td>\n",
       "      <td>0.091753</td>\n",
       "      <td>-0.054481</td>\n",
       "      <td>-0.046920</td>\n",
       "      <td>-0.104120</td>\n",
       "      <td>0.096535</td>\n",
       "      <td>-0.266453</td>\n",
       "      <td>-0.207863</td>\n",
       "      <td>PROTEINS</td>\n",
       "      <td>4</td>\n",
       "    </tr>\n",
       "  </tbody>\n",
       "</table>\n",
       "<p>27264 rows × 12 columns</p>\n",
       "</div>"
      ],
      "text/plain": [
       "      graph_id  graph_label  basic_expansion  self_walk  page_rank  \\\n",
       "0            0           -1     1.946408e-09  -0.021841   0.216180   \n",
       "1            1           -1     4.386578e-09  -0.044379   0.097098   \n",
       "2            2           -1     1.946408e-09  -0.021841   0.216180   \n",
       "3            3           -1     4.386578e-09  -0.044379   0.097098   \n",
       "4            4           -1     5.839223e-10  -0.021841   0.216180   \n",
       "...        ...          ...              ...        ...        ...   \n",
       "1108      1108            2    -3.690765e-01   0.109909   0.201150   \n",
       "1109      1109            2     2.159440e-02   0.062254  -0.577729   \n",
       "1110      1110            2     2.882937e-03   0.046296  -0.563832   \n",
       "1111      1111            2    -3.690765e-01   0.109909   0.201150   \n",
       "1112      1112            2     5.646289e-01   0.091753  -0.054481   \n",
       "\n",
       "      degree_centrality  closeness_centrality  load_centrality  \\\n",
       "0              0.202306              0.289911         0.026240   \n",
       "1              0.079057              0.198728        -0.028358   \n",
       "2              0.202306              0.289911         0.026240   \n",
       "3              0.079057              0.198728        -0.028358   \n",
       "4              0.202306              0.289911         0.026240   \n",
       "...                 ...                   ...              ...   \n",
       "1108           0.195601              0.321649         0.225433   \n",
       "1109          -0.555695             -0.425012        -0.181825   \n",
       "1110          -0.551371             -0.399817        -0.366948   \n",
       "1111           0.195601              0.321649         0.225433   \n",
       "1112          -0.046920             -0.104120         0.096535   \n",
       "\n",
       "      eigenvector_centrality      lsme   dataset  feat_len  \n",
       "0                   0.199050 -0.070985       BZR         1  \n",
       "1                   0.110442  0.012324       BZR         1  \n",
       "2                   0.199050 -0.096869       BZR         1  \n",
       "3                   0.110442 -0.107305       BZR         1  \n",
       "4                   0.199050 -0.113180       BZR         1  \n",
       "...                      ...       ...       ...       ...  \n",
       "1108                0.223581 -0.001515  PROTEINS         4  \n",
       "1109               -0.328415  0.141617  PROTEINS         4  \n",
       "1110               -0.569554  0.072547  PROTEINS         4  \n",
       "1111                0.223581 -0.001515  PROTEINS         4  \n",
       "1112               -0.266453 -0.207863  PROTEINS         4  \n",
       "\n",
       "[27264 rows x 12 columns]"
      ]
     },
     "execution_count": 4,
     "metadata": {},
     "output_type": "execute_result"
    }
   ],
   "source": [
    "all_all_res"
   ]
  },
  {
   "cell_type": "code",
   "execution_count": 5,
   "id": "19e06174-561f-4245-8037-43894f114fda",
   "metadata": {},
   "outputs": [],
   "source": [
    "all_all_res.to_csv(\"./data/results.csv\", index=False)"
   ]
  },
  {
   "cell_type": "markdown",
   "id": "95c49417-212e-4cd9-8c7c-6f7643481144",
   "metadata": {},
   "source": [
    "# Build Model"
   ]
  },
  {
   "cell_type": "code",
   "execution_count": 14,
   "id": "ce1f7177-e574-470d-9d71-9188db16ee41",
   "metadata": {},
   "outputs": [],
   "source": [
    "ml_data = all_all_res.copy(deep=True)"
   ]
  },
  {
   "cell_type": "code",
   "execution_count": 15,
   "id": "35972abe-fcca-4f85-9f7a-439514dc4d20",
   "metadata": {},
   "outputs": [
    {
     "data": {
      "text/html": [
       "<div>\n",
       "<style scoped>\n",
       "    .dataframe tbody tr th:only-of-type {\n",
       "        vertical-align: middle;\n",
       "    }\n",
       "\n",
       "    .dataframe tbody tr th {\n",
       "        vertical-align: top;\n",
       "    }\n",
       "\n",
       "    .dataframe thead th {\n",
       "        text-align: right;\n",
       "    }\n",
       "</style>\n",
       "<table border=\"1\" class=\"dataframe\">\n",
       "  <thead>\n",
       "    <tr style=\"text-align: right;\">\n",
       "      <th></th>\n",
       "      <th>graph_id</th>\n",
       "      <th>graph_label</th>\n",
       "      <th>basic_expansion</th>\n",
       "      <th>self_walk</th>\n",
       "      <th>page_rank</th>\n",
       "      <th>degree_centrality</th>\n",
       "      <th>closeness_centrality</th>\n",
       "      <th>load_centrality</th>\n",
       "      <th>eigenvector_centrality</th>\n",
       "      <th>lsme</th>\n",
       "      <th>dataset</th>\n",
       "      <th>feat_len</th>\n",
       "    </tr>\n",
       "  </thead>\n",
       "  <tbody>\n",
       "    <tr>\n",
       "      <th>0</th>\n",
       "      <td>0</td>\n",
       "      <td>-1</td>\n",
       "      <td>1.946408e-09</td>\n",
       "      <td>-0.021841</td>\n",
       "      <td>0.216180</td>\n",
       "      <td>0.202306</td>\n",
       "      <td>0.289911</td>\n",
       "      <td>0.026240</td>\n",
       "      <td>0.199050</td>\n",
       "      <td>-0.070985</td>\n",
       "      <td>BZR</td>\n",
       "      <td>1</td>\n",
       "    </tr>\n",
       "    <tr>\n",
       "      <th>1</th>\n",
       "      <td>1</td>\n",
       "      <td>-1</td>\n",
       "      <td>4.386578e-09</td>\n",
       "      <td>-0.044379</td>\n",
       "      <td>0.097098</td>\n",
       "      <td>0.079057</td>\n",
       "      <td>0.198728</td>\n",
       "      <td>-0.028358</td>\n",
       "      <td>0.110442</td>\n",
       "      <td>0.012324</td>\n",
       "      <td>BZR</td>\n",
       "      <td>1</td>\n",
       "    </tr>\n",
       "    <tr>\n",
       "      <th>2</th>\n",
       "      <td>2</td>\n",
       "      <td>-1</td>\n",
       "      <td>1.946408e-09</td>\n",
       "      <td>-0.021841</td>\n",
       "      <td>0.216180</td>\n",
       "      <td>0.202306</td>\n",
       "      <td>0.289911</td>\n",
       "      <td>0.026240</td>\n",
       "      <td>0.199050</td>\n",
       "      <td>-0.096869</td>\n",
       "      <td>BZR</td>\n",
       "      <td>1</td>\n",
       "    </tr>\n",
       "    <tr>\n",
       "      <th>3</th>\n",
       "      <td>3</td>\n",
       "      <td>-1</td>\n",
       "      <td>4.386578e-09</td>\n",
       "      <td>-0.044379</td>\n",
       "      <td>0.097098</td>\n",
       "      <td>0.079057</td>\n",
       "      <td>0.198728</td>\n",
       "      <td>-0.028358</td>\n",
       "      <td>0.110442</td>\n",
       "      <td>-0.107305</td>\n",
       "      <td>BZR</td>\n",
       "      <td>1</td>\n",
       "    </tr>\n",
       "    <tr>\n",
       "      <th>4</th>\n",
       "      <td>4</td>\n",
       "      <td>-1</td>\n",
       "      <td>5.839223e-10</td>\n",
       "      <td>-0.021841</td>\n",
       "      <td>0.216180</td>\n",
       "      <td>0.202306</td>\n",
       "      <td>0.289911</td>\n",
       "      <td>0.026240</td>\n",
       "      <td>0.199050</td>\n",
       "      <td>-0.113180</td>\n",
       "      <td>BZR</td>\n",
       "      <td>1</td>\n",
       "    </tr>\n",
       "    <tr>\n",
       "      <th>...</th>\n",
       "      <td>...</td>\n",
       "      <td>...</td>\n",
       "      <td>...</td>\n",
       "      <td>...</td>\n",
       "      <td>...</td>\n",
       "      <td>...</td>\n",
       "      <td>...</td>\n",
       "      <td>...</td>\n",
       "      <td>...</td>\n",
       "      <td>...</td>\n",
       "      <td>...</td>\n",
       "      <td>...</td>\n",
       "    </tr>\n",
       "    <tr>\n",
       "      <th>1108</th>\n",
       "      <td>1108</td>\n",
       "      <td>2</td>\n",
       "      <td>-3.690765e-01</td>\n",
       "      <td>0.109909</td>\n",
       "      <td>0.201150</td>\n",
       "      <td>0.195601</td>\n",
       "      <td>0.321649</td>\n",
       "      <td>0.225433</td>\n",
       "      <td>0.223581</td>\n",
       "      <td>-0.001515</td>\n",
       "      <td>PROTEINS</td>\n",
       "      <td>4</td>\n",
       "    </tr>\n",
       "    <tr>\n",
       "      <th>1109</th>\n",
       "      <td>1109</td>\n",
       "      <td>2</td>\n",
       "      <td>2.159440e-02</td>\n",
       "      <td>0.062254</td>\n",
       "      <td>-0.577729</td>\n",
       "      <td>-0.555695</td>\n",
       "      <td>-0.425012</td>\n",
       "      <td>-0.181825</td>\n",
       "      <td>-0.328415</td>\n",
       "      <td>0.141617</td>\n",
       "      <td>PROTEINS</td>\n",
       "      <td>4</td>\n",
       "    </tr>\n",
       "    <tr>\n",
       "      <th>1110</th>\n",
       "      <td>1110</td>\n",
       "      <td>2</td>\n",
       "      <td>2.882937e-03</td>\n",
       "      <td>0.046296</td>\n",
       "      <td>-0.563832</td>\n",
       "      <td>-0.551371</td>\n",
       "      <td>-0.399817</td>\n",
       "      <td>-0.366948</td>\n",
       "      <td>-0.569554</td>\n",
       "      <td>0.072547</td>\n",
       "      <td>PROTEINS</td>\n",
       "      <td>4</td>\n",
       "    </tr>\n",
       "    <tr>\n",
       "      <th>1111</th>\n",
       "      <td>1111</td>\n",
       "      <td>2</td>\n",
       "      <td>-3.690765e-01</td>\n",
       "      <td>0.109909</td>\n",
       "      <td>0.201150</td>\n",
       "      <td>0.195601</td>\n",
       "      <td>0.321649</td>\n",
       "      <td>0.225433</td>\n",
       "      <td>0.223581</td>\n",
       "      <td>-0.001515</td>\n",
       "      <td>PROTEINS</td>\n",
       "      <td>4</td>\n",
       "    </tr>\n",
       "    <tr>\n",
       "      <th>1112</th>\n",
       "      <td>1112</td>\n",
       "      <td>2</td>\n",
       "      <td>5.646289e-01</td>\n",
       "      <td>0.091753</td>\n",
       "      <td>-0.054481</td>\n",
       "      <td>-0.046920</td>\n",
       "      <td>-0.104120</td>\n",
       "      <td>0.096535</td>\n",
       "      <td>-0.266453</td>\n",
       "      <td>-0.207863</td>\n",
       "      <td>PROTEINS</td>\n",
       "      <td>4</td>\n",
       "    </tr>\n",
       "  </tbody>\n",
       "</table>\n",
       "<p>27264 rows × 12 columns</p>\n",
       "</div>"
      ],
      "text/plain": [
       "      graph_id  graph_label  basic_expansion  self_walk  page_rank  \\\n",
       "0            0           -1     1.946408e-09  -0.021841   0.216180   \n",
       "1            1           -1     4.386578e-09  -0.044379   0.097098   \n",
       "2            2           -1     1.946408e-09  -0.021841   0.216180   \n",
       "3            3           -1     4.386578e-09  -0.044379   0.097098   \n",
       "4            4           -1     5.839223e-10  -0.021841   0.216180   \n",
       "...        ...          ...              ...        ...        ...   \n",
       "1108      1108            2    -3.690765e-01   0.109909   0.201150   \n",
       "1109      1109            2     2.159440e-02   0.062254  -0.577729   \n",
       "1110      1110            2     2.882937e-03   0.046296  -0.563832   \n",
       "1111      1111            2    -3.690765e-01   0.109909   0.201150   \n",
       "1112      1112            2     5.646289e-01   0.091753  -0.054481   \n",
       "\n",
       "      degree_centrality  closeness_centrality  load_centrality  \\\n",
       "0              0.202306              0.289911         0.026240   \n",
       "1              0.079057              0.198728        -0.028358   \n",
       "2              0.202306              0.289911         0.026240   \n",
       "3              0.079057              0.198728        -0.028358   \n",
       "4              0.202306              0.289911         0.026240   \n",
       "...                 ...                   ...              ...   \n",
       "1108           0.195601              0.321649         0.225433   \n",
       "1109          -0.555695             -0.425012        -0.181825   \n",
       "1110          -0.551371             -0.399817        -0.366948   \n",
       "1111           0.195601              0.321649         0.225433   \n",
       "1112          -0.046920             -0.104120         0.096535   \n",
       "\n",
       "      eigenvector_centrality      lsme   dataset  feat_len  \n",
       "0                   0.199050 -0.070985       BZR         1  \n",
       "1                   0.110442  0.012324       BZR         1  \n",
       "2                   0.199050 -0.096869       BZR         1  \n",
       "3                   0.110442 -0.107305       BZR         1  \n",
       "4                   0.199050 -0.113180       BZR         1  \n",
       "...                      ...       ...       ...       ...  \n",
       "1108                0.223581 -0.001515  PROTEINS         4  \n",
       "1109               -0.328415  0.141617  PROTEINS         4  \n",
       "1110               -0.569554  0.072547  PROTEINS         4  \n",
       "1111                0.223581 -0.001515  PROTEINS         4  \n",
       "1112               -0.266453 -0.207863  PROTEINS         4  \n",
       "\n",
       "[27264 rows x 12 columns]"
      ]
     },
     "execution_count": 15,
     "metadata": {},
     "output_type": "execute_result"
    }
   ],
   "source": [
    "ml_data"
   ]
  },
  {
   "cell_type": "code",
   "execution_count": null,
   "id": "2752c068-c187-4862-b17f-4093096bd727",
   "metadata": {},
   "outputs": [],
   "source": []
  },
  {
   "cell_type": "code",
   "execution_count": null,
   "id": "63f6fdb9-92e2-4c84-a29e-6ad7dd63313e",
   "metadata": {},
   "outputs": [],
   "source": []
  },
  {
   "cell_type": "code",
   "execution_count": 97,
   "id": "4a25929b-2682-4dae-a599-5bb48429ed7d",
   "metadata": {},
   "outputs": [],
   "source": [
    "def build_classifier(data, dataset, X_cols, y_col):\n",
    "\n",
    "    results = pd.DataFrame()\n",
    "    accuracy_list = []\n",
    "    \n",
    "    for i in range(30):\n",
    "        df = data[(data[\"dataset\"] == dataset)].copy(deep=True)    \n",
    "\n",
    "        dfdfdf = pd.DataFrame()\n",
    "        all_X_cols = []\n",
    "        for feat_len in df[\"feat_len\"].unique().tolist():\n",
    "            dfdf = df[df[\"feat_len\"] == feat_len].copy(deep=True)\n",
    "            x_cols = []\n",
    "            for col in dfdf.columns:\n",
    "                if col in X_cols:\n",
    "                    x_cols.append(col+\"_\"+str(feat_len))\n",
    "                    all_X_cols.append(col+\"_\"+str(feat_len))\n",
    "                else:\n",
    "                    x_cols.append(col)\n",
    "            dfdf.columns = x_cols\n",
    "            dfdf = dfdf.drop('dataset', axis=1)\n",
    "            dfdf = dfdf.drop('feat_len', axis=1)\n",
    "            \n",
    "            if dfdfdf.empty:\n",
    "                dfdfdf = dfdf.copy(deep=True)\n",
    "            else:\n",
    "                dfdfdf = dfdfdf.merge(dfdf, on=[\"graph_id\",\"graph_label\"])\n",
    "\n",
    "        df = dfdfdf.copy(deep=True)\n",
    "        \n",
    "        raw_classes = df[y_col].unique().tolist()\n",
    "        class_map = {}\n",
    "        class_remap = 0\n",
    "        for class_val in raw_classes:\n",
    "            class_map[class_val] = class_remap\n",
    "            class_remap += 1\n",
    "        df[y_col] = df[y_col].apply(lambda x: class_map[x])\n",
    "            \n",
    "        X = df[all_X_cols]\n",
    "        y = df[[y_col]]\n",
    "    \n",
    "        X_train, X_test, y_train, y_test = train_test_split(X, y, test_size=0.3, shuffle=True)\n",
    "    \n",
    "        scaler = StandardScaler()\n",
    "        scaler.fit(X_train)\n",
    "        X_train = scaler.fit_transform(X_train)\n",
    "        X_test = scaler.fit_transform(X_test)\n",
    "\n",
    "\n",
    "        # Random Forrest\n",
    "        model = RandomForestClassifier()\n",
    "        model.fit(X_train, y_train)\n",
    "        y_pred = model.predict(X_test).flatten()\n",
    "        accuracy = accuracy_score(y_test, y_pred)\n",
    "        importances = model.feature_importances_\n",
    "\n",
    "        \n",
    "        # # XGBoost\n",
    "        # model = xgboost.XGBClassifier(n_estimators=500, max_depth=5, eta=0.1, subsample=0.7, colsample_bytree=0.8)\n",
    "        # model.fit(X_train, y_train)\n",
    "        # y_pred = model.predict(X_test).flatten()\n",
    "        # accuracy = accuracy_score(y_test, y_pred)\n",
    "        # importances = model.feature_importances_\n",
    "\n",
    "\n",
    "        df = pd.DataFrame()\n",
    "        df[\"features\"] = all_X_cols\n",
    "        df[\"importance\"] = importances\n",
    "\n",
    "        if results.empty:\n",
    "            results = df.copy(deep=True)\n",
    "        else:\n",
    "            results = pd.concat([results, df])    \n",
    "\n",
    "        accuracy_list.append(accuracy)\n",
    "\n",
    "    accuracy_df = pd.DataFrame()\n",
    "    accuracy_df[\"accuracy\"] = accuracy_list\n",
    "    accuracy_df[\"dataset\"] = dataset\n",
    "\n",
    "    results[\"dataset\"] = dataset\n",
    "\n",
    "    return results, accuracy_df\n",
    "\n",
    "    "
   ]
  },
  {
   "cell_type": "code",
   "execution_count": 98,
   "id": "acd7ed1b-9474-470a-8b27-98bf8aedf5db",
   "metadata": {},
   "outputs": [],
   "source": [
    "feat_NCI1, accuracy_NCI1 = build_classifier(ml_data, dataset=\"NCI1\", X_cols=features, y_col=\"graph_label\")\n",
    "feat_MUTAG, accuracy_MUTAG = build_classifier(ml_data, dataset=\"MUTAG\", X_cols=features, y_col=\"graph_label\")\n",
    "feat_IMDB, accuracy_IMDB = build_classifier(ml_data, dataset=\"IMDB\", X_cols=features, y_col=\"graph_label\")\n",
    "feat_PROTEINS, accuracy_PROTEINS = build_classifier(ml_data, dataset=\"PROTEINS\", X_cols=features, y_col=\"graph_label\")\n",
    "feat_BZR, accuracy_BZR = build_classifier(ml_data, dataset=\"BZR\", X_cols=features, y_col=\"graph_label\")\n",
    "\n",
    "accuracy_df = pd.concat([accuracy_NCI1, accuracy_MUTAG, accuracy_IMDB, accuracy_PROTEINS, accuracy_BZR])\n",
    "feat_importance_df = pd.concat([feat_NCI1, feat_MUTAG, feat_IMDB, feat_PROTEINS, feat_BZR])"
   ]
  },
  {
   "cell_type": "code",
   "execution_count": 99,
   "id": "ba5a3fa0-f5b8-43e7-b2a9-5db78da7b354",
   "metadata": {},
   "outputs": [
    {
     "data": {
      "application/vnd.plotly.v1+json": {
       "config": {
        "plotlyServerURL": "https://plot.ly"
       },
       "data": [
        {
         "alignmentgroup": "True",
         "hovertemplate": "features=%{x}<br>importance=%{y}<extra></extra>",
         "legendgroup": "",
         "marker": {
          "color": "#636efa",
          "line": {
           "color": "black",
           "width": 1
          }
         },
         "name": "",
         "notched": false,
         "offsetgroup": "",
         "opacity": 1,
         "orientation": "v",
         "showlegend": false,
         "type": "box",
         "x": [
          "basic_expansion_1",
          "self_walk_1",
          "page_rank_1",
          "degree_centrality_1",
          "closeness_centrality_1",
          "load_centrality_1",
          "eigenvector_centrality_1",
          "lsme_1",
          "basic_expansion_2",
          "self_walk_2",
          "page_rank_2",
          "degree_centrality_2",
          "closeness_centrality_2",
          "load_centrality_2",
          "eigenvector_centrality_2",
          "lsme_2",
          "basic_expansion_3",
          "self_walk_3",
          "page_rank_3",
          "degree_centrality_3",
          "closeness_centrality_3",
          "load_centrality_3",
          "eigenvector_centrality_3",
          "lsme_3",
          "basic_expansion_4",
          "self_walk_4",
          "page_rank_4",
          "degree_centrality_4",
          "closeness_centrality_4",
          "load_centrality_4",
          "eigenvector_centrality_4",
          "lsme_4",
          "basic_expansion_1",
          "self_walk_1",
          "page_rank_1",
          "degree_centrality_1",
          "closeness_centrality_1",
          "load_centrality_1",
          "eigenvector_centrality_1",
          "lsme_1",
          "basic_expansion_2",
          "self_walk_2",
          "page_rank_2",
          "degree_centrality_2",
          "closeness_centrality_2",
          "load_centrality_2",
          "eigenvector_centrality_2",
          "lsme_2",
          "basic_expansion_3",
          "self_walk_3",
          "page_rank_3",
          "degree_centrality_3",
          "closeness_centrality_3",
          "load_centrality_3",
          "eigenvector_centrality_3",
          "lsme_3",
          "basic_expansion_4",
          "self_walk_4",
          "page_rank_4",
          "degree_centrality_4",
          "closeness_centrality_4",
          "load_centrality_4",
          "eigenvector_centrality_4",
          "lsme_4",
          "basic_expansion_1",
          "self_walk_1",
          "page_rank_1",
          "degree_centrality_1",
          "closeness_centrality_1",
          "load_centrality_1",
          "eigenvector_centrality_1",
          "lsme_1",
          "basic_expansion_2",
          "self_walk_2",
          "page_rank_2",
          "degree_centrality_2",
          "closeness_centrality_2",
          "load_centrality_2",
          "eigenvector_centrality_2",
          "lsme_2",
          "basic_expansion_3",
          "self_walk_3",
          "page_rank_3",
          "degree_centrality_3",
          "closeness_centrality_3",
          "load_centrality_3",
          "eigenvector_centrality_3",
          "lsme_3",
          "basic_expansion_4",
          "self_walk_4",
          "page_rank_4",
          "degree_centrality_4",
          "closeness_centrality_4",
          "load_centrality_4",
          "eigenvector_centrality_4",
          "lsme_4",
          "basic_expansion_1",
          "self_walk_1",
          "page_rank_1",
          "degree_centrality_1",
          "closeness_centrality_1",
          "load_centrality_1",
          "eigenvector_centrality_1",
          "lsme_1",
          "basic_expansion_2",
          "self_walk_2",
          "page_rank_2",
          "degree_centrality_2",
          "closeness_centrality_2",
          "load_centrality_2",
          "eigenvector_centrality_2",
          "lsme_2",
          "basic_expansion_3",
          "self_walk_3",
          "page_rank_3",
          "degree_centrality_3",
          "closeness_centrality_3",
          "load_centrality_3",
          "eigenvector_centrality_3",
          "lsme_3",
          "basic_expansion_4",
          "self_walk_4",
          "page_rank_4",
          "degree_centrality_4",
          "closeness_centrality_4",
          "load_centrality_4",
          "eigenvector_centrality_4",
          "lsme_4",
          "basic_expansion_1",
          "self_walk_1",
          "page_rank_1",
          "degree_centrality_1",
          "closeness_centrality_1",
          "load_centrality_1",
          "eigenvector_centrality_1",
          "lsme_1",
          "basic_expansion_2",
          "self_walk_2",
          "page_rank_2",
          "degree_centrality_2",
          "closeness_centrality_2",
          "load_centrality_2",
          "eigenvector_centrality_2",
          "lsme_2",
          "basic_expansion_3",
          "self_walk_3",
          "page_rank_3",
          "degree_centrality_3",
          "closeness_centrality_3",
          "load_centrality_3",
          "eigenvector_centrality_3",
          "lsme_3",
          "basic_expansion_4",
          "self_walk_4",
          "page_rank_4",
          "degree_centrality_4",
          "closeness_centrality_4",
          "load_centrality_4",
          "eigenvector_centrality_4",
          "lsme_4",
          "basic_expansion_1",
          "self_walk_1",
          "page_rank_1",
          "degree_centrality_1",
          "closeness_centrality_1",
          "load_centrality_1",
          "eigenvector_centrality_1",
          "lsme_1",
          "basic_expansion_2",
          "self_walk_2",
          "page_rank_2",
          "degree_centrality_2",
          "closeness_centrality_2",
          "load_centrality_2",
          "eigenvector_centrality_2",
          "lsme_2",
          "basic_expansion_3",
          "self_walk_3",
          "page_rank_3",
          "degree_centrality_3",
          "closeness_centrality_3",
          "load_centrality_3",
          "eigenvector_centrality_3",
          "lsme_3",
          "basic_expansion_4",
          "self_walk_4",
          "page_rank_4",
          "degree_centrality_4",
          "closeness_centrality_4",
          "load_centrality_4",
          "eigenvector_centrality_4",
          "lsme_4",
          "basic_expansion_1",
          "self_walk_1",
          "page_rank_1",
          "degree_centrality_1",
          "closeness_centrality_1",
          "load_centrality_1",
          "eigenvector_centrality_1",
          "lsme_1",
          "basic_expansion_2",
          "self_walk_2",
          "page_rank_2",
          "degree_centrality_2",
          "closeness_centrality_2",
          "load_centrality_2",
          "eigenvector_centrality_2",
          "lsme_2",
          "basic_expansion_3",
          "self_walk_3",
          "page_rank_3",
          "degree_centrality_3",
          "closeness_centrality_3",
          "load_centrality_3",
          "eigenvector_centrality_3",
          "lsme_3",
          "basic_expansion_4",
          "self_walk_4",
          "page_rank_4",
          "degree_centrality_4",
          "closeness_centrality_4",
          "load_centrality_4",
          "eigenvector_centrality_4",
          "lsme_4",
          "basic_expansion_1",
          "self_walk_1",
          "page_rank_1",
          "degree_centrality_1",
          "closeness_centrality_1",
          "load_centrality_1",
          "eigenvector_centrality_1",
          "lsme_1",
          "basic_expansion_2",
          "self_walk_2",
          "page_rank_2",
          "degree_centrality_2",
          "closeness_centrality_2",
          "load_centrality_2",
          "eigenvector_centrality_2",
          "lsme_2",
          "basic_expansion_3",
          "self_walk_3",
          "page_rank_3",
          "degree_centrality_3",
          "closeness_centrality_3",
          "load_centrality_3",
          "eigenvector_centrality_3",
          "lsme_3",
          "basic_expansion_4",
          "self_walk_4",
          "page_rank_4",
          "degree_centrality_4",
          "closeness_centrality_4",
          "load_centrality_4",
          "eigenvector_centrality_4",
          "lsme_4",
          "basic_expansion_1",
          "self_walk_1",
          "page_rank_1",
          "degree_centrality_1",
          "closeness_centrality_1",
          "load_centrality_1",
          "eigenvector_centrality_1",
          "lsme_1",
          "basic_expansion_2",
          "self_walk_2",
          "page_rank_2",
          "degree_centrality_2",
          "closeness_centrality_2",
          "load_centrality_2",
          "eigenvector_centrality_2",
          "lsme_2",
          "basic_expansion_3",
          "self_walk_3",
          "page_rank_3",
          "degree_centrality_3",
          "closeness_centrality_3",
          "load_centrality_3",
          "eigenvector_centrality_3",
          "lsme_3",
          "basic_expansion_4",
          "self_walk_4",
          "page_rank_4",
          "degree_centrality_4",
          "closeness_centrality_4",
          "load_centrality_4",
          "eigenvector_centrality_4",
          "lsme_4",
          "basic_expansion_1",
          "self_walk_1",
          "page_rank_1",
          "degree_centrality_1",
          "closeness_centrality_1",
          "load_centrality_1",
          "eigenvector_centrality_1",
          "lsme_1",
          "basic_expansion_2",
          "self_walk_2",
          "page_rank_2",
          "degree_centrality_2",
          "closeness_centrality_2",
          "load_centrality_2",
          "eigenvector_centrality_2",
          "lsme_2",
          "basic_expansion_3",
          "self_walk_3",
          "page_rank_3",
          "degree_centrality_3",
          "closeness_centrality_3",
          "load_centrality_3",
          "eigenvector_centrality_3",
          "lsme_3",
          "basic_expansion_4",
          "self_walk_4",
          "page_rank_4",
          "degree_centrality_4",
          "closeness_centrality_4",
          "load_centrality_4",
          "eigenvector_centrality_4",
          "lsme_4",
          "basic_expansion_1",
          "self_walk_1",
          "page_rank_1",
          "degree_centrality_1",
          "closeness_centrality_1",
          "load_centrality_1",
          "eigenvector_centrality_1",
          "lsme_1",
          "basic_expansion_2",
          "self_walk_2",
          "page_rank_2",
          "degree_centrality_2",
          "closeness_centrality_2",
          "load_centrality_2",
          "eigenvector_centrality_2",
          "lsme_2",
          "basic_expansion_3",
          "self_walk_3",
          "page_rank_3",
          "degree_centrality_3",
          "closeness_centrality_3",
          "load_centrality_3",
          "eigenvector_centrality_3",
          "lsme_3",
          "basic_expansion_4",
          "self_walk_4",
          "page_rank_4",
          "degree_centrality_4",
          "closeness_centrality_4",
          "load_centrality_4",
          "eigenvector_centrality_4",
          "lsme_4",
          "basic_expansion_1",
          "self_walk_1",
          "page_rank_1",
          "degree_centrality_1",
          "closeness_centrality_1",
          "load_centrality_1",
          "eigenvector_centrality_1",
          "lsme_1",
          "basic_expansion_2",
          "self_walk_2",
          "page_rank_2",
          "degree_centrality_2",
          "closeness_centrality_2",
          "load_centrality_2",
          "eigenvector_centrality_2",
          "lsme_2",
          "basic_expansion_3",
          "self_walk_3",
          "page_rank_3",
          "degree_centrality_3",
          "closeness_centrality_3",
          "load_centrality_3",
          "eigenvector_centrality_3",
          "lsme_3",
          "basic_expansion_4",
          "self_walk_4",
          "page_rank_4",
          "degree_centrality_4",
          "closeness_centrality_4",
          "load_centrality_4",
          "eigenvector_centrality_4",
          "lsme_4",
          "basic_expansion_1",
          "self_walk_1",
          "page_rank_1",
          "degree_centrality_1",
          "closeness_centrality_1",
          "load_centrality_1",
          "eigenvector_centrality_1",
          "lsme_1",
          "basic_expansion_2",
          "self_walk_2",
          "page_rank_2",
          "degree_centrality_2",
          "closeness_centrality_2",
          "load_centrality_2",
          "eigenvector_centrality_2",
          "lsme_2",
          "basic_expansion_3",
          "self_walk_3",
          "page_rank_3",
          "degree_centrality_3",
          "closeness_centrality_3",
          "load_centrality_3",
          "eigenvector_centrality_3",
          "lsme_3",
          "basic_expansion_4",
          "self_walk_4",
          "page_rank_4",
          "degree_centrality_4",
          "closeness_centrality_4",
          "load_centrality_4",
          "eigenvector_centrality_4",
          "lsme_4",
          "basic_expansion_1",
          "self_walk_1",
          "page_rank_1",
          "degree_centrality_1",
          "closeness_centrality_1",
          "load_centrality_1",
          "eigenvector_centrality_1",
          "lsme_1",
          "basic_expansion_2",
          "self_walk_2",
          "page_rank_2",
          "degree_centrality_2",
          "closeness_centrality_2",
          "load_centrality_2",
          "eigenvector_centrality_2",
          "lsme_2",
          "basic_expansion_3",
          "self_walk_3",
          "page_rank_3",
          "degree_centrality_3",
          "closeness_centrality_3",
          "load_centrality_3",
          "eigenvector_centrality_3",
          "lsme_3",
          "basic_expansion_4",
          "self_walk_4",
          "page_rank_4",
          "degree_centrality_4",
          "closeness_centrality_4",
          "load_centrality_4",
          "eigenvector_centrality_4",
          "lsme_4",
          "basic_expansion_1",
          "self_walk_1",
          "page_rank_1",
          "degree_centrality_1",
          "closeness_centrality_1",
          "load_centrality_1",
          "eigenvector_centrality_1",
          "lsme_1",
          "basic_expansion_2",
          "self_walk_2",
          "page_rank_2",
          "degree_centrality_2",
          "closeness_centrality_2",
          "load_centrality_2",
          "eigenvector_centrality_2",
          "lsme_2",
          "basic_expansion_3",
          "self_walk_3",
          "page_rank_3",
          "degree_centrality_3",
          "closeness_centrality_3",
          "load_centrality_3",
          "eigenvector_centrality_3",
          "lsme_3",
          "basic_expansion_4",
          "self_walk_4",
          "page_rank_4",
          "degree_centrality_4",
          "closeness_centrality_4",
          "load_centrality_4",
          "eigenvector_centrality_4",
          "lsme_4",
          "basic_expansion_1",
          "self_walk_1",
          "page_rank_1",
          "degree_centrality_1",
          "closeness_centrality_1",
          "load_centrality_1",
          "eigenvector_centrality_1",
          "lsme_1",
          "basic_expansion_2",
          "self_walk_2",
          "page_rank_2",
          "degree_centrality_2",
          "closeness_centrality_2",
          "load_centrality_2",
          "eigenvector_centrality_2",
          "lsme_2",
          "basic_expansion_3",
          "self_walk_3",
          "page_rank_3",
          "degree_centrality_3",
          "closeness_centrality_3",
          "load_centrality_3",
          "eigenvector_centrality_3",
          "lsme_3",
          "basic_expansion_4",
          "self_walk_4",
          "page_rank_4",
          "degree_centrality_4",
          "closeness_centrality_4",
          "load_centrality_4",
          "eigenvector_centrality_4",
          "lsme_4",
          "basic_expansion_1",
          "self_walk_1",
          "page_rank_1",
          "degree_centrality_1",
          "closeness_centrality_1",
          "load_centrality_1",
          "eigenvector_centrality_1",
          "lsme_1",
          "basic_expansion_2",
          "self_walk_2",
          "page_rank_2",
          "degree_centrality_2",
          "closeness_centrality_2",
          "load_centrality_2",
          "eigenvector_centrality_2",
          "lsme_2",
          "basic_expansion_3",
          "self_walk_3",
          "page_rank_3",
          "degree_centrality_3",
          "closeness_centrality_3",
          "load_centrality_3",
          "eigenvector_centrality_3",
          "lsme_3",
          "basic_expansion_4",
          "self_walk_4",
          "page_rank_4",
          "degree_centrality_4",
          "closeness_centrality_4",
          "load_centrality_4",
          "eigenvector_centrality_4",
          "lsme_4",
          "basic_expansion_1",
          "self_walk_1",
          "page_rank_1",
          "degree_centrality_1",
          "closeness_centrality_1",
          "load_centrality_1",
          "eigenvector_centrality_1",
          "lsme_1",
          "basic_expansion_2",
          "self_walk_2",
          "page_rank_2",
          "degree_centrality_2",
          "closeness_centrality_2",
          "load_centrality_2",
          "eigenvector_centrality_2",
          "lsme_2",
          "basic_expansion_3",
          "self_walk_3",
          "page_rank_3",
          "degree_centrality_3",
          "closeness_centrality_3",
          "load_centrality_3",
          "eigenvector_centrality_3",
          "lsme_3",
          "basic_expansion_4",
          "self_walk_4",
          "page_rank_4",
          "degree_centrality_4",
          "closeness_centrality_4",
          "load_centrality_4",
          "eigenvector_centrality_4",
          "lsme_4",
          "basic_expansion_1",
          "self_walk_1",
          "page_rank_1",
          "degree_centrality_1",
          "closeness_centrality_1",
          "load_centrality_1",
          "eigenvector_centrality_1",
          "lsme_1",
          "basic_expansion_2",
          "self_walk_2",
          "page_rank_2",
          "degree_centrality_2",
          "closeness_centrality_2",
          "load_centrality_2",
          "eigenvector_centrality_2",
          "lsme_2",
          "basic_expansion_3",
          "self_walk_3",
          "page_rank_3",
          "degree_centrality_3",
          "closeness_centrality_3",
          "load_centrality_3",
          "eigenvector_centrality_3",
          "lsme_3",
          "basic_expansion_4",
          "self_walk_4",
          "page_rank_4",
          "degree_centrality_4",
          "closeness_centrality_4",
          "load_centrality_4",
          "eigenvector_centrality_4",
          "lsme_4",
          "basic_expansion_1",
          "self_walk_1",
          "page_rank_1",
          "degree_centrality_1",
          "closeness_centrality_1",
          "load_centrality_1",
          "eigenvector_centrality_1",
          "lsme_1",
          "basic_expansion_2",
          "self_walk_2",
          "page_rank_2",
          "degree_centrality_2",
          "closeness_centrality_2",
          "load_centrality_2",
          "eigenvector_centrality_2",
          "lsme_2",
          "basic_expansion_3",
          "self_walk_3",
          "page_rank_3",
          "degree_centrality_3",
          "closeness_centrality_3",
          "load_centrality_3",
          "eigenvector_centrality_3",
          "lsme_3",
          "basic_expansion_4",
          "self_walk_4",
          "page_rank_4",
          "degree_centrality_4",
          "closeness_centrality_4",
          "load_centrality_4",
          "eigenvector_centrality_4",
          "lsme_4",
          "basic_expansion_1",
          "self_walk_1",
          "page_rank_1",
          "degree_centrality_1",
          "closeness_centrality_1",
          "load_centrality_1",
          "eigenvector_centrality_1",
          "lsme_1",
          "basic_expansion_2",
          "self_walk_2",
          "page_rank_2",
          "degree_centrality_2",
          "closeness_centrality_2",
          "load_centrality_2",
          "eigenvector_centrality_2",
          "lsme_2",
          "basic_expansion_3",
          "self_walk_3",
          "page_rank_3",
          "degree_centrality_3",
          "closeness_centrality_3",
          "load_centrality_3",
          "eigenvector_centrality_3",
          "lsme_3",
          "basic_expansion_4",
          "self_walk_4",
          "page_rank_4",
          "degree_centrality_4",
          "closeness_centrality_4",
          "load_centrality_4",
          "eigenvector_centrality_4",
          "lsme_4",
          "basic_expansion_1",
          "self_walk_1",
          "page_rank_1",
          "degree_centrality_1",
          "closeness_centrality_1",
          "load_centrality_1",
          "eigenvector_centrality_1",
          "lsme_1",
          "basic_expansion_2",
          "self_walk_2",
          "page_rank_2",
          "degree_centrality_2",
          "closeness_centrality_2",
          "load_centrality_2",
          "eigenvector_centrality_2",
          "lsme_2",
          "basic_expansion_3",
          "self_walk_3",
          "page_rank_3",
          "degree_centrality_3",
          "closeness_centrality_3",
          "load_centrality_3",
          "eigenvector_centrality_3",
          "lsme_3",
          "basic_expansion_4",
          "self_walk_4",
          "page_rank_4",
          "degree_centrality_4",
          "closeness_centrality_4",
          "load_centrality_4",
          "eigenvector_centrality_4",
          "lsme_4",
          "basic_expansion_1",
          "self_walk_1",
          "page_rank_1",
          "degree_centrality_1",
          "closeness_centrality_1",
          "load_centrality_1",
          "eigenvector_centrality_1",
          "lsme_1",
          "basic_expansion_2",
          "self_walk_2",
          "page_rank_2",
          "degree_centrality_2",
          "closeness_centrality_2",
          "load_centrality_2",
          "eigenvector_centrality_2",
          "lsme_2",
          "basic_expansion_3",
          "self_walk_3",
          "page_rank_3",
          "degree_centrality_3",
          "closeness_centrality_3",
          "load_centrality_3",
          "eigenvector_centrality_3",
          "lsme_3",
          "basic_expansion_4",
          "self_walk_4",
          "page_rank_4",
          "degree_centrality_4",
          "closeness_centrality_4",
          "load_centrality_4",
          "eigenvector_centrality_4",
          "lsme_4",
          "basic_expansion_1",
          "self_walk_1",
          "page_rank_1",
          "degree_centrality_1",
          "closeness_centrality_1",
          "load_centrality_1",
          "eigenvector_centrality_1",
          "lsme_1",
          "basic_expansion_2",
          "self_walk_2",
          "page_rank_2",
          "degree_centrality_2",
          "closeness_centrality_2",
          "load_centrality_2",
          "eigenvector_centrality_2",
          "lsme_2",
          "basic_expansion_3",
          "self_walk_3",
          "page_rank_3",
          "degree_centrality_3",
          "closeness_centrality_3",
          "load_centrality_3",
          "eigenvector_centrality_3",
          "lsme_3",
          "basic_expansion_4",
          "self_walk_4",
          "page_rank_4",
          "degree_centrality_4",
          "closeness_centrality_4",
          "load_centrality_4",
          "eigenvector_centrality_4",
          "lsme_4",
          "basic_expansion_1",
          "self_walk_1",
          "page_rank_1",
          "degree_centrality_1",
          "closeness_centrality_1",
          "load_centrality_1",
          "eigenvector_centrality_1",
          "lsme_1",
          "basic_expansion_2",
          "self_walk_2",
          "page_rank_2",
          "degree_centrality_2",
          "closeness_centrality_2",
          "load_centrality_2",
          "eigenvector_centrality_2",
          "lsme_2",
          "basic_expansion_3",
          "self_walk_3",
          "page_rank_3",
          "degree_centrality_3",
          "closeness_centrality_3",
          "load_centrality_3",
          "eigenvector_centrality_3",
          "lsme_3",
          "basic_expansion_4",
          "self_walk_4",
          "page_rank_4",
          "degree_centrality_4",
          "closeness_centrality_4",
          "load_centrality_4",
          "eigenvector_centrality_4",
          "lsme_4",
          "basic_expansion_1",
          "self_walk_1",
          "page_rank_1",
          "degree_centrality_1",
          "closeness_centrality_1",
          "load_centrality_1",
          "eigenvector_centrality_1",
          "lsme_1",
          "basic_expansion_2",
          "self_walk_2",
          "page_rank_2",
          "degree_centrality_2",
          "closeness_centrality_2",
          "load_centrality_2",
          "eigenvector_centrality_2",
          "lsme_2",
          "basic_expansion_3",
          "self_walk_3",
          "page_rank_3",
          "degree_centrality_3",
          "closeness_centrality_3",
          "load_centrality_3",
          "eigenvector_centrality_3",
          "lsme_3",
          "basic_expansion_4",
          "self_walk_4",
          "page_rank_4",
          "degree_centrality_4",
          "closeness_centrality_4",
          "load_centrality_4",
          "eigenvector_centrality_4",
          "lsme_4",
          "basic_expansion_1",
          "self_walk_1",
          "page_rank_1",
          "degree_centrality_1",
          "closeness_centrality_1",
          "load_centrality_1",
          "eigenvector_centrality_1",
          "lsme_1",
          "basic_expansion_2",
          "self_walk_2",
          "page_rank_2",
          "degree_centrality_2",
          "closeness_centrality_2",
          "load_centrality_2",
          "eigenvector_centrality_2",
          "lsme_2",
          "basic_expansion_3",
          "self_walk_3",
          "page_rank_3",
          "degree_centrality_3",
          "closeness_centrality_3",
          "load_centrality_3",
          "eigenvector_centrality_3",
          "lsme_3",
          "basic_expansion_4",
          "self_walk_4",
          "page_rank_4",
          "degree_centrality_4",
          "closeness_centrality_4",
          "load_centrality_4",
          "eigenvector_centrality_4",
          "lsme_4",
          "basic_expansion_1",
          "self_walk_1",
          "page_rank_1",
          "degree_centrality_1",
          "closeness_centrality_1",
          "load_centrality_1",
          "eigenvector_centrality_1",
          "lsme_1",
          "basic_expansion_2",
          "self_walk_2",
          "page_rank_2",
          "degree_centrality_2",
          "closeness_centrality_2",
          "load_centrality_2",
          "eigenvector_centrality_2",
          "lsme_2",
          "basic_expansion_3",
          "self_walk_3",
          "page_rank_3",
          "degree_centrality_3",
          "closeness_centrality_3",
          "load_centrality_3",
          "eigenvector_centrality_3",
          "lsme_3",
          "basic_expansion_4",
          "self_walk_4",
          "page_rank_4",
          "degree_centrality_4",
          "closeness_centrality_4",
          "load_centrality_4",
          "eigenvector_centrality_4",
          "lsme_4",
          "basic_expansion_1",
          "self_walk_1",
          "page_rank_1",
          "degree_centrality_1",
          "closeness_centrality_1",
          "load_centrality_1",
          "eigenvector_centrality_1",
          "lsme_1",
          "basic_expansion_2",
          "self_walk_2",
          "page_rank_2",
          "degree_centrality_2",
          "closeness_centrality_2",
          "load_centrality_2",
          "eigenvector_centrality_2",
          "lsme_2",
          "basic_expansion_3",
          "self_walk_3",
          "page_rank_3",
          "degree_centrality_3",
          "closeness_centrality_3",
          "load_centrality_3",
          "eigenvector_centrality_3",
          "lsme_3",
          "basic_expansion_4",
          "self_walk_4",
          "page_rank_4",
          "degree_centrality_4",
          "closeness_centrality_4",
          "load_centrality_4",
          "eigenvector_centrality_4",
          "lsme_4",
          "basic_expansion_1",
          "self_walk_1",
          "page_rank_1",
          "degree_centrality_1",
          "closeness_centrality_1",
          "load_centrality_1",
          "eigenvector_centrality_1",
          "lsme_1",
          "basic_expansion_2",
          "self_walk_2",
          "page_rank_2",
          "degree_centrality_2",
          "closeness_centrality_2",
          "load_centrality_2",
          "eigenvector_centrality_2",
          "lsme_2",
          "basic_expansion_3",
          "self_walk_3",
          "page_rank_3",
          "degree_centrality_3",
          "closeness_centrality_3",
          "load_centrality_3",
          "eigenvector_centrality_3",
          "lsme_3",
          "basic_expansion_4",
          "self_walk_4",
          "page_rank_4",
          "degree_centrality_4",
          "closeness_centrality_4",
          "load_centrality_4",
          "eigenvector_centrality_4",
          "lsme_4"
         ],
         "x0": " ",
         "xaxis": "x",
         "y": [
          0.024701657143173884,
          0.06370698761998211,
          0.007432103880407931,
          0.014809303030169701,
          0.03377320755617832,
          0.03675702006432335,
          0.022456676456713134,
          0.030879158113053015,
          0.04374303066290961,
          0.008296439634228598,
          0.01983016088286094,
          0.026418246496285835,
          0.036770311272400685,
          0.048703719291901953,
          0.025804146889295686,
          0.010571095604651947,
          0.026121802324373687,
          0.030206913122164343,
          0.0384997632005323,
          0.023274993611451515,
          0.03739956968015011,
          0.023084746979852487,
          0.039065480073566056,
          0.04942547058776351,
          0.030902151841418878,
          0.035690880049203164,
          0.02615886861302482,
          0.01683152224888295,
          0.03138758795886072,
          0.0502308135371494,
          0.033147908594968606,
          0.053918262978100755,
          0.02697965463126553,
          0.04478098152202335,
          0.015367335894810487,
          0.013755128827493633,
          0.024667764795450138,
          0.04195367259248429,
          0.02220109586051809,
          0.041483608939365695,
          0.0511702237487509,
          0.012610876817990342,
          0.030585384898397138,
          0.026228642628906614,
          0.03208876852971083,
          0.043846098069124345,
          0.025952335112551822,
          0.011500319429019074,
          0.019894358263111353,
          0.02906383244220863,
          0.026462975739727685,
          0.020052582028293818,
          0.05260782017525552,
          0.03440133896599372,
          0.035411239381905525,
          0.05172761921239421,
          0.04189335945814612,
          0.021947584693440877,
          0.018485618676089586,
          0.018754842793063668,
          0.042855344457960055,
          0.034273539562479895,
          0.03305979251963377,
          0.05393625933243331,
          0.022295575678156564,
          0.07704911875446503,
          0.014104412225545315,
          0.0112988362513615,
          0.042134837328413756,
          0.030207854510827793,
          0.023450710082566863,
          0.04392563127437358,
          0.043116438167689376,
          0.007926135194852099,
          0.02005229981907799,
          0.01679531669009167,
          0.046920324774522446,
          0.04386858380360146,
          0.023768887044722232,
          0.009627833954910165,
          0.019691499445994968,
          0.02678684108187687,
          0.029605812784708797,
          0.030018317917677395,
          0.0636946385068268,
          0.02276536740861199,
          0.033977365078847126,
          0.04287455773504926,
          0.026222842224634606,
          0.025999149126962395,
          0.023407486975433493,
          0.014156618645881698,
          0.03320972616702226,
          0.02725842980536665,
          0.033987014216331636,
          0.06980153732359634,
          0.02074927544417942,
          0.07350797433391831,
          0.012927191503865851,
          0.013183114433411938,
          0.03615639344076615,
          0.046572807963541435,
          0.0147496551865089,
          0.03488089333169469,
          0.04052459446733888,
          0.007631379357165502,
          0.01574427677847778,
          0.020530329899045054,
          0.04654374490052047,
          0.05496435617960948,
          0.01731769716036579,
          0.006642152105663023,
          0.02554204849718148,
          0.034706668062698266,
          0.026967509707467956,
          0.018803518240585293,
          0.05480204889138605,
          0.026472924767319814,
          0.04525238417914399,
          0.039205719277857674,
          0.04461451602333172,
          0.02568488443742337,
          0.03208322165208508,
          0.02465722365270081,
          0.037976938560773665,
          0.03488907381710773,
          0.02597761307323235,
          0.03973787067363214,
          0.02105413903099837,
          0.043929139296252064,
          0.011318142372414932,
          0.01370134304863789,
          0.04536089573329671,
          0.046720647563095186,
          0.016833140809707672,
          0.036371457717586146,
          0.0435746705137786,
          0.01090408392498739,
          0.0244627323296248,
          0.02428772632010432,
          0.031602207184884136,
          0.07256532318505013,
          0.024648574391667746,
          0.00785550330889153,
          0.022120866096779393,
          0.030566694669682527,
          0.03316474760456395,
          0.03530570218509527,
          0.050140753940588534,
          0.025237441013818578,
          0.035088460841252556,
          0.04083550541554275,
          0.027520808206351482,
          0.027233525085394637,
          0.02256703852882891,
          0.024955393053971285,
          0.03071883075631865,
          0.036430342892798194,
          0.028107085001117946,
          0.05481707797691768,
          0.022762391025878313,
          0.08660811704499755,
          0.013453261439878794,
          0.013059569845173672,
          0.03782912829842686,
          0.03722923190693788,
          0.02884866719788459,
          0.03545444213313501,
          0.04845442098938015,
          0.007252329568986511,
          0.0174570772226746,
          0.021867988452337124,
          0.03290292237873751,
          0.055367192297101075,
          0.027146760889752538,
          0.011075225471029359,
          0.019483947081990537,
          0.030913389869259997,
          0.031189655901995735,
          0.020773252703068762,
          0.04432377195398273,
          0.028358028916372086,
          0.038970975924289074,
          0.03540722132183216,
          0.035299011521421425,
          0.019299565482942246,
          0.022548562793177927,
          0.020747008687992174,
          0.05332054143346632,
          0.024150440992303276,
          0.03282685031520348,
          0.04561904893839052,
          0.02641785135971075,
          0.059430068120398964,
          0.006592950702991762,
          0.009904799752952281,
          0.025718404844877963,
          0.051876875246756965,
          0.02306989282772949,
          0.039820125216060924,
          0.05464350064122461,
          0.00659645040037781,
          0.016728220687147122,
          0.01771797307845838,
          0.044605584623937364,
          0.0395849549676574,
          0.02162945196510231,
          0.010091663190286504,
          0.023797262518110426,
          0.03048942715066782,
          0.030336634050404307,
          0.03518625661404211,
          0.05022552740560579,
          0.024336634640844658,
          0.04188113565771367,
          0.05158093325600897,
          0.038986131126378866,
          0.021354391557580454,
          0.02247611934411818,
          0.01649269092039783,
          0.03710993786789411,
          0.035530928361379395,
          0.0327821297624596,
          0.05300509214072317,
          0.03304498820088583,
          0.06523025411307047,
          0.013208882581758962,
          0.014121170587046865,
          0.03289800405262052,
          0.03413521247434489,
          0.01890555622725531,
          0.03363367499742638,
          0.051489718561847406,
          0.006995090646317098,
          0.010964261795446961,
          0.015452355120367984,
          0.03214198509352026,
          0.05890945440450321,
          0.024169326697082442,
          0.005142736795198489,
          0.020679129369810853,
          0.03415239293629848,
          0.04560552039937326,
          0.049624624436616686,
          0.0559888928884465,
          0.028799917309098408,
          0.027665704377329493,
          0.05138959092781367,
          0.03841961234406563,
          0.027210852703230443,
          0.01881317546626326,
          0.011596415065758234,
          0.04056657355240192,
          0.03375906824170335,
          0.023671190623540266,
          0.041614667009556544,
          0.03009812290058644,
          0.05841955431692315,
          0.00923934625706619,
          0.014256185898299814,
          0.03383934634192372,
          0.030890092380277397,
          0.01772431848777454,
          0.03312699284293994,
          0.05227157690078508,
          0.008161015976440096,
          0.023597064354571203,
          0.016854110630842835,
          0.03225048992928828,
          0.032596990776780944,
          0.019319918422967566,
          0.006267142489243408,
          0.01789111505038676,
          0.02742207442342102,
          0.03284657521840938,
          0.04854481821398507,
          0.056841864640106994,
          0.024657439894569796,
          0.054395115851945335,
          0.048110027444001745,
          0.03909760885690173,
          0.021966920942105127,
          0.03007403995562484,
          0.02760649764539134,
          0.04361401349333895,
          0.030453705323172195,
          0.02702815623316528,
          0.05053775790676389,
          0.02775991306773979,
          0.05562950265625517,
          0.012514485312726776,
          0.017837707916103628,
          0.030072821972380388,
          0.049494242891039715,
          0.02227188307632823,
          0.0306091840869095,
          0.05292552938815323,
          0.00945095803885312,
          0.030761635894212196,
          0.016672408032531047,
          0.04753087379330121,
          0.05243248040952476,
          0.029300361420648405,
          0.0055795314337217525,
          0.02075781141242908,
          0.027043593519787953,
          0.041593913131461956,
          0.03604448609679232,
          0.042128303627254046,
          0.018899891167920832,
          0.04750893622194172,
          0.03906638214854504,
          0.0254934742366555,
          0.019928930369863422,
          0.02009730353061923,
          0.02049471776383473,
          0.032715777668971775,
          0.04476420500075445,
          0.032071349337383856,
          0.04054740537535521,
          0.022842297414418553,
          0.04735161270587238,
          0.008015776969537987,
          0.014827679905309223,
          0.042883399824876316,
          0.03951621840863912,
          0.02992625200743823,
          0.03211616279973851,
          0.07256824580341645,
          0.004818941534161572,
          0.02070366386740986,
          0.022218182329321184,
          0.03213251095355348,
          0.048724380341593855,
          0.02538955697153337,
          0.012108252723752957,
          0.023858434540563193,
          0.03359332768742929,
          0.028008233698527073,
          0.038611531125099324,
          0.031816275717166886,
          0.019631380958163493,
          0.045523971908088615,
          0.04630063211049328,
          0.036983310159033715,
          0.028024977688830034,
          0.015991853477256433,
          0.02279950647098021,
          0.0249136389982117,
          0.0338628093927981,
          0.029748980842401993,
          0.06418800066438353,
          0.020833166295534434,
          0.04060871123084632,
          0.011931985170374415,
          0.01980836778995195,
          0.035870428060894285,
          0.03528681391077415,
          0.019765317840584253,
          0.03793543796382802,
          0.05576086031940336,
          0.012398578115437415,
          0.025789117339159513,
          0.02703178427670929,
          0.062132336199150776,
          0.03816532377864824,
          0.02614385575349102,
          0.014207001561178566,
          0.0159953910944322,
          0.023051617405007212,
          0.04830406338514557,
          0.02528679671169615,
          0.0655506610592603,
          0.023337914692440696,
          0.036788838462166816,
          0.04604219796657019,
          0.030201523155608867,
          0.015835795692069363,
          0.022428579106306464,
          0.016678023890665375,
          0.04119652338651502,
          0.02567038701557419,
          0.022256414279904227,
          0.05770618709067144,
          0.022438959148916523,
          0.05588934681689695,
          0.01053867977692379,
          0.016641441181475335,
          0.03158765537449022,
          0.03429866131241454,
          0.027930828184286847,
          0.032704702790314955,
          0.06773788758048377,
          0.00629664856308038,
          0.020707167980955815,
          0.0232710740341741,
          0.02917897846232568,
          0.03662201476533761,
          0.03649896543587341,
          0.008173400874547937,
          0.02037245973924219,
          0.02400160745664505,
          0.03965836199223552,
          0.022175557204353952,
          0.056618945197826294,
          0.03070606837294186,
          0.03178906832502854,
          0.045842045701612745,
          0.026393411229427274,
          0.028836575947086787,
          0.01504522271056735,
          0.017251539379122424,
          0.06289311801553739,
          0.028153657147145985,
          0.030825034693502857,
          0.05892091460522588,
          0.02288708992502273,
          0.0562753688157056,
          0.012524003277033633,
          0.012680007649273198,
          0.04418089435020052,
          0.03597768140264507,
          0.01823142167495164,
          0.035138061778766896,
          0.044092158569730706,
          0.009072138727271724,
          0.020754446221495047,
          0.028530104780050407,
          0.04353863652830274,
          0.05413509841869054,
          0.028972765750496662,
          0.009627610440187057,
          0.022470772023497967,
          0.026269583162903426,
          0.026968427107646104,
          0.025553091658933363,
          0.051144812181817656,
          0.023405054450616275,
          0.04301159459234913,
          0.03525821356987316,
          0.0265499496815488,
          0.032545068366952534,
          0.019652455037288203,
          0.018308155381369717,
          0.031262027862549766,
          0.047309451661404156,
          0.03788761525581995,
          0.055786239695605665,
          0.026944954134236435,
          0.045300491396035474,
          0.009064955442581651,
          0.02211164653798403,
          0.040430391574053995,
          0.04513880037155705,
          0.01604025458141846,
          0.038093495627411565,
          0.06406556767600145,
          0.0094620731393662,
          0.020356960843876084,
          0.021877665415136877,
          0.042216593293898035,
          0.03273879300718357,
          0.026518457733915785,
          0.011065855886841391,
          0.01694425892970238,
          0.022347482119188015,
          0.03872705783706616,
          0.034528558883282934,
          0.05006900776731269,
          0.02545821220023352,
          0.04855262712742187,
          0.04053714125225567,
          0.028766620986121837,
          0.016014179385984144,
          0.023833541003726883,
          0.017614194633234936,
          0.04441798414261243,
          0.03492804049303931,
          0.03435386444663343,
          0.05148027213068555,
          0.024028657104440847,
          0.05166551562243508,
          0.006965269530346085,
          0.014932902747248492,
          0.04019566543150846,
          0.0382585813997189,
          0.021275600077660287,
          0.02943943598284773,
          0.0497241744208069,
          0.009189210556741103,
          0.01607525753592239,
          0.01954666179275323,
          0.031144120945420396,
          0.06322400780377067,
          0.020942436965387175,
          0.009108540651229442,
          0.013677952979095721,
          0.02829501894858542,
          0.027448031851617982,
          0.03416648271089174,
          0.04642116453662869,
          0.03174591860155199,
          0.06065311096240509,
          0.04462932191895841,
          0.03240259084375946,
          0.0349819297984604,
          0.029699633038839428,
          0.02349082787606266,
          0.0312997638660276,
          0.04051096529074335,
          0.027587383514919534,
          0.0472738646932155,
          0.019466250842648428,
          0.07880014512814583,
          0.006745242365768939,
          0.011110106821805712,
          0.04028332263111836,
          0.044785705391425346,
          0.025433502419136278,
          0.028544779506990643,
          0.054569949984377156,
          0.007709152469111581,
          0.021412104017051372,
          0.016865326983081057,
          0.03285393397556832,
          0.052689225314228594,
          0.02263779032231396,
          0.007024186035433117,
          0.01683814509837535,
          0.027916420166795443,
          0.05105055486070264,
          0.021159863386265364,
          0.0547631209989987,
          0.02360073002004748,
          0.04124380993650088,
          0.0437803601366201,
          0.03270427222425913,
          0.02500890190241645,
          0.015235988102784108,
          0.018508516207041657,
          0.02866305746065629,
          0.04086873080071764,
          0.038540123919921565,
          0.04918668056969263,
          0.02801239405148595,
          0.05829203803074957,
          0.01015109819710235,
          0.01408302968206952,
          0.03785420472940533,
          0.03480143274417326,
          0.022953960345592897,
          0.03565997553711481,
          0.04522339037892558,
          0.008630018023361087,
          0.019272213128341015,
          0.015448889957920063,
          0.04181735457459694,
          0.05361122249299094,
          0.022291766448432164,
          0.01140335866071648,
          0.017042037118741526,
          0.026928253794522204,
          0.03204026585323605,
          0.024560710232502437,
          0.06321124906167579,
          0.023206746632521313,
          0.05604220911416198,
          0.04068226121045848,
          0.03529966375818747,
          0.021229618305867816,
          0.029578334319759716,
          0.016695481645684962,
          0.03740612022520591,
          0.033865174661860974,
          0.03184915634193023,
          0.0508563707407052,
          0.024703330371280304,
          0.06097466477427587,
          0.010969206417202393,
          0.010614843748062243,
          0.03420207035818281,
          0.045846961763762885,
          0.025186821955991024,
          0.03842798112039101,
          0.050750912486716454,
          0.008004292455146205,
          0.026472882286371093,
          0.025885161116099873,
          0.04635365756796404,
          0.05267009722524243,
          0.027445404237658923,
          0.007115898502827659,
          0.018818975383338248,
          0.02881874143708376,
          0.02682079644301932,
          0.020555977803892827,
          0.04862346815671751,
          0.01994331723532112,
          0.02547583119104499,
          0.046958383660219406,
          0.031239246999387325,
          0.026285973625990645,
          0.02362406370979274,
          0.02062046832905849,
          0.04872450203421125,
          0.03368329822699362,
          0.0384604850196908,
          0.04572228435706266,
          0.021995499410284294,
          0.08131470870856256,
          0.00940303983252016,
          0.01069712983255312,
          0.04269571672107246,
          0.030247966906308113,
          0.020234433513265343,
          0.03747655202989077,
          0.05337343452774832,
          0.009126240972011427,
          0.015640978484875997,
          0.02709806757700316,
          0.047002499280555006,
          0.057356655591774566,
          0.02111185579945759,
          0.00861470532743136,
          0.027463127085378188,
          0.022605529819368014,
          0.02593997111685654,
          0.02745359462840166,
          0.06559596766750525,
          0.018874743849048213,
          0.03302260164067597,
          0.03467320282684863,
          0.02948889333207174,
          0.023908557965772202,
          0.021409027640355086,
          0.021223527613347507,
          0.04398052086109378,
          0.038194346641969544,
          0.02519015591548366,
          0.0475867468805097,
          0.026035970270553883,
          0.06204285622070799,
          0.01886321040209108,
          0.015228928938604582,
          0.04068796069263128,
          0.04103562500796061,
          0.016868342145575685,
          0.037529252939377596,
          0.058654195422335124,
          0.008177982348129657,
          0.025271153411293414,
          0.013857573789615756,
          0.03887242105209849,
          0.02497023506003364,
          0.026335003292022017,
          0.009411845527320445,
          0.02015384778104635,
          0.031061624742135537,
          0.030057239986189123,
          0.025670764774131775,
          0.04403975837387994,
          0.03219870509691387,
          0.053304952275290834,
          0.034765780810704285,
          0.029680402997169182,
          0.030901693355813716,
          0.025214687466277703,
          0.019698468806888754,
          0.03768720242992721,
          0.03782514499923256,
          0.02941790723906747,
          0.054479262344980545,
          0.01986593990187763,
          0.04729983669537455,
          0.011882094803922804,
          0.01366306987323433,
          0.02762779310120391,
          0.030076893279501596,
          0.01997488909598348,
          0.04237989661639483,
          0.03932540168780906,
          0.005599340799611458,
          0.029773621529830742,
          0.0220320637467845,
          0.04960479844282916,
          0.050284310531047455,
          0.023826208300266584,
          0.0050681456735729566,
          0.022359111776298634,
          0.026333303247574772,
          0.03639576785265012,
          0.03089088287588258,
          0.06239661454813989,
          0.03612393344047121,
          0.05137094819637239,
          0.040618358562721515,
          0.03874633085896159,
          0.01982337686281017,
          0.02043954010286616,
          0.012884574304652095,
          0.0477003586761914,
          0.03482267471367346,
          0.02499319342403061,
          0.05581672647745834,
          0.023497304839522122,
          0.05786996484680907,
          0.009692845557398867,
          0.01589529496394046,
          0.039980441852097266,
          0.03332414258947477,
          0.02743642184600408,
          0.03392064286346641,
          0.039139797962657534,
          0.008605629268414274,
          0.019647280542225937,
          0.022163976959629555,
          0.04724978012451868,
          0.061811240687416655,
          0.02521420886571915,
          0.009403924855548836,
          0.02087967324725331,
          0.027025924901583686,
          0.03248522595784518,
          0.01965111587063723,
          0.05698641625624526,
          0.03520129805267149,
          0.03642766787848195,
          0.03496077509638243,
          0.03380694369954606,
          0.025344499802624657,
          0.016239904403132673,
          0.019346586779021072,
          0.04238048550522483,
          0.03534491767558887,
          0.03851248213393457,
          0.0505531841149831,
          0.023486033120328768,
          0.056324023791498055,
          0.010155391368273045,
          0.011387506825636782,
          0.03863903994229714,
          0.04502451308180632,
          0.018772951949437656,
          0.029848922440719915,
          0.047623270532436236,
          0.012210084489141343,
          0.029404929320189295,
          0.018293293288201083,
          0.04552066682952276,
          0.059565406080555675,
          0.021775089727790756,
          0.007191827400121746,
          0.02522813095244757,
          0.031829096280330677,
          0.02659484418725817,
          0.034021775665376446,
          0.052558524559576866,
          0.03434092285334522,
          0.04117025109505483,
          0.036911360574558814,
          0.02901859510220823,
          0.02485057518939136,
          0.024418891881543604,
          0.015244410512189166,
          0.037238042918876356,
          0.029042020685207517,
          0.032434640991291855,
          0.04987496636338681,
          0.02196068149524261,
          0.07413269970001816,
          0.01040177710456222,
          0.010511357606483576,
          0.03834109505419622,
          0.048036801249590935,
          0.01978059951964182,
          0.03076965567472454,
          0.06225217014449327,
          0.006839261765299893,
          0.024471908129894283,
          0.01837362875590515,
          0.035121717401186504,
          0.04716358430009322,
          0.021412060710604357,
          0.006466672241972152,
          0.022082017010770567,
          0.021550752381601836,
          0.0344738069983001,
          0.0428547110725707,
          0.04129823812848296,
          0.028232897938253426,
          0.04126244217800488,
          0.03697821350258586,
          0.038171573136961845,
          0.02894828679749328,
          0.02267123276214539,
          0.017568312053664926,
          0.036791326679364036,
          0.03360267126037665,
          0.02890614908288472,
          0.04857169816262992,
          0.0174690362643863,
          0.06736196838002766,
          0.011200564476481307,
          0.012977537896711355,
          0.03572303339420687,
          0.04484212038079991,
          0.019055392692182562,
          0.04168818985455326,
          0.03947958194795698,
          0.007716669367320124,
          0.022463699936816604,
          0.023269896799456003,
          0.034557963981704465,
          0.03920991416457699,
          0.021186271976085313,
          0.012404247770395341,
          0.02229866662969439,
          0.02837619830490907,
          0.02679081135056132,
          0.025732705715942897,
          0.06508408231623496,
          0.02942983779932768,
          0.04044817566780249,
          0.05659400738232207,
          0.026147855029889127,
          0.027282640395804976,
          0.02000259275055162,
          0.0179775872520059,
          0.04079867142394621,
          0.030739246264807656,
          0.028704726799780103,
          0.06298610563275867,
          0.022799731636180744,
          0.05176883061095471,
          0.008340614899813751,
          0.016341053012405127,
          0.036354352073521806,
          0.04129602748353996,
          0.015742261839711516,
          0.03517794373682345,
          0.040544379699773654,
          0.009950751079178708,
          0.02252947785863078,
          0.023525459774587865,
          0.04535660665766727,
          0.06879714943285964,
          0.02339342760995157,
          0.009100863397430582,
          0.017870646814178416,
          0.035500919387645664,
          0.025975048699614166,
          0.03622756071781733,
          0.04363349549403279,
          0.01677818433037561,
          0.043482877980534004,
          0.045583354500259965,
          0.035167343775601975,
          0.023896554903220898,
          0.023366122443470378,
          0.019491930441265255,
          0.03011306097778894,
          0.04779820801453793,
          0.02625685820749595,
          0.05783890250912954,
          0.017097648577742385,
          0.06493591226324953,
          0.008228529039288862,
          0.015301320995848149,
          0.029093308546986777,
          0.03461369196452976,
          0.017731012164037552,
          0.031750618537777255,
          0.056759305840850045,
          0.006162945185631459,
          0.016681578188498056,
          0.01894151159170211,
          0.03278734847623488,
          0.06772092093411544,
          0.014992505305658162,
          0.006278898589810653,
          0.023292654196422128,
          0.02884485966935948,
          0.035048638177676006,
          0.028712213700929627,
          0.052089188979875835,
          0.018291724233609707,
          0.05055000470674355,
          0.04674265911134997,
          0.030089779317242316,
          0.024830978547277244,
          0.026602227653976202,
          0.011884477519242749,
          0.048020606322163345,
          0.03858613041043259,
          0.033017751245076755,
          0.06431905000666156,
          0.031306163382533884,
          0.04555132866669453,
          0.009560993174149206,
          0.01508697588017811,
          0.04282327033408939,
          0.031421536959363255,
          0.023470909900156697,
          0.028846043522307494,
          0.05277225258795201,
          0.005913417400587295,
          0.0365538896886921,
          0.021608329718053564,
          0.03982399046869528,
          0.02765646827443518,
          0.025425236884770153,
          0.008931441648611956,
          0.022485603918572426,
          0.024358193360801726,
          0.03402485937731347,
          0.029879889725364088,
          0.08411878266427801,
          0.022054373845114467,
          0.03462714735790464,
          0.039998702635866176,
          0.05172008365676302,
          0.022028645221645316,
          0.015680121699258406,
          0.017820100686178397,
          0.04405672612534104,
          0.023577752681591485,
          0.03485410022914562,
          0.051962668323591636,
          0.024850950313275968,
          0.05331973845517335,
          0.010732967356163366,
          0.010601185613563355,
          0.03377723713274904,
          0.03982149657376216,
          0.02650296696802084,
          0.03550222206351867,
          0.047136678877917226,
          0.006933644426269481,
          0.022983717110835404,
          0.019541735936516626,
          0.04563012559382425,
          0.03778331841116184,
          0.018422553809132453,
          0.008887921048975228,
          0.026147737274441023,
          0.027839924109059146,
          0.040147843786678544,
          0.034565901768754285,
          0.0483801800109573,
          0.03515336991692924,
          0.04171650745112797,
          0.05576785407779584,
          0.02659714414850334,
          0.026129324943537136,
          0.021852814264984265,
          0.02026973342926932,
          0.04350410439657468,
          0.029754015611315493,
          0.03083481156390232,
          0.04891027355531092
         ],
         "y0": " ",
         "yaxis": "y"
        }
       ],
       "layout": {
        "boxmode": "group",
        "font": {
         "color": "black",
         "size": 18
        },
        "height": 700,
        "legend": {
         "tracegroupgap": 0
        },
        "margin": {
         "t": 60
        },
        "paper_bgcolor": "white",
        "plot_bgcolor": "white",
        "showlegend": true,
        "template": {
         "data": {
          "bar": [
           {
            "error_x": {
             "color": "#2a3f5f"
            },
            "error_y": {
             "color": "#2a3f5f"
            },
            "marker": {
             "line": {
              "color": "#E5ECF6",
              "width": 0.5
             },
             "pattern": {
              "fillmode": "overlay",
              "size": 10,
              "solidity": 0.2
             }
            },
            "type": "bar"
           }
          ],
          "barpolar": [
           {
            "marker": {
             "line": {
              "color": "#E5ECF6",
              "width": 0.5
             },
             "pattern": {
              "fillmode": "overlay",
              "size": 10,
              "solidity": 0.2
             }
            },
            "type": "barpolar"
           }
          ],
          "carpet": [
           {
            "aaxis": {
             "endlinecolor": "#2a3f5f",
             "gridcolor": "white",
             "linecolor": "white",
             "minorgridcolor": "white",
             "startlinecolor": "#2a3f5f"
            },
            "baxis": {
             "endlinecolor": "#2a3f5f",
             "gridcolor": "white",
             "linecolor": "white",
             "minorgridcolor": "white",
             "startlinecolor": "#2a3f5f"
            },
            "type": "carpet"
           }
          ],
          "choropleth": [
           {
            "colorbar": {
             "outlinewidth": 0,
             "ticks": ""
            },
            "type": "choropleth"
           }
          ],
          "contour": [
           {
            "colorbar": {
             "outlinewidth": 0,
             "ticks": ""
            },
            "colorscale": [
             [
              0,
              "#0d0887"
             ],
             [
              0.1111111111111111,
              "#46039f"
             ],
             [
              0.2222222222222222,
              "#7201a8"
             ],
             [
              0.3333333333333333,
              "#9c179e"
             ],
             [
              0.4444444444444444,
              "#bd3786"
             ],
             [
              0.5555555555555556,
              "#d8576b"
             ],
             [
              0.6666666666666666,
              "#ed7953"
             ],
             [
              0.7777777777777778,
              "#fb9f3a"
             ],
             [
              0.8888888888888888,
              "#fdca26"
             ],
             [
              1,
              "#f0f921"
             ]
            ],
            "type": "contour"
           }
          ],
          "contourcarpet": [
           {
            "colorbar": {
             "outlinewidth": 0,
             "ticks": ""
            },
            "type": "contourcarpet"
           }
          ],
          "heatmap": [
           {
            "colorbar": {
             "outlinewidth": 0,
             "ticks": ""
            },
            "colorscale": [
             [
              0,
              "#0d0887"
             ],
             [
              0.1111111111111111,
              "#46039f"
             ],
             [
              0.2222222222222222,
              "#7201a8"
             ],
             [
              0.3333333333333333,
              "#9c179e"
             ],
             [
              0.4444444444444444,
              "#bd3786"
             ],
             [
              0.5555555555555556,
              "#d8576b"
             ],
             [
              0.6666666666666666,
              "#ed7953"
             ],
             [
              0.7777777777777778,
              "#fb9f3a"
             ],
             [
              0.8888888888888888,
              "#fdca26"
             ],
             [
              1,
              "#f0f921"
             ]
            ],
            "type": "heatmap"
           }
          ],
          "heatmapgl": [
           {
            "colorbar": {
             "outlinewidth": 0,
             "ticks": ""
            },
            "colorscale": [
             [
              0,
              "#0d0887"
             ],
             [
              0.1111111111111111,
              "#46039f"
             ],
             [
              0.2222222222222222,
              "#7201a8"
             ],
             [
              0.3333333333333333,
              "#9c179e"
             ],
             [
              0.4444444444444444,
              "#bd3786"
             ],
             [
              0.5555555555555556,
              "#d8576b"
             ],
             [
              0.6666666666666666,
              "#ed7953"
             ],
             [
              0.7777777777777778,
              "#fb9f3a"
             ],
             [
              0.8888888888888888,
              "#fdca26"
             ],
             [
              1,
              "#f0f921"
             ]
            ],
            "type": "heatmapgl"
           }
          ],
          "histogram": [
           {
            "marker": {
             "pattern": {
              "fillmode": "overlay",
              "size": 10,
              "solidity": 0.2
             }
            },
            "type": "histogram"
           }
          ],
          "histogram2d": [
           {
            "colorbar": {
             "outlinewidth": 0,
             "ticks": ""
            },
            "colorscale": [
             [
              0,
              "#0d0887"
             ],
             [
              0.1111111111111111,
              "#46039f"
             ],
             [
              0.2222222222222222,
              "#7201a8"
             ],
             [
              0.3333333333333333,
              "#9c179e"
             ],
             [
              0.4444444444444444,
              "#bd3786"
             ],
             [
              0.5555555555555556,
              "#d8576b"
             ],
             [
              0.6666666666666666,
              "#ed7953"
             ],
             [
              0.7777777777777778,
              "#fb9f3a"
             ],
             [
              0.8888888888888888,
              "#fdca26"
             ],
             [
              1,
              "#f0f921"
             ]
            ],
            "type": "histogram2d"
           }
          ],
          "histogram2dcontour": [
           {
            "colorbar": {
             "outlinewidth": 0,
             "ticks": ""
            },
            "colorscale": [
             [
              0,
              "#0d0887"
             ],
             [
              0.1111111111111111,
              "#46039f"
             ],
             [
              0.2222222222222222,
              "#7201a8"
             ],
             [
              0.3333333333333333,
              "#9c179e"
             ],
             [
              0.4444444444444444,
              "#bd3786"
             ],
             [
              0.5555555555555556,
              "#d8576b"
             ],
             [
              0.6666666666666666,
              "#ed7953"
             ],
             [
              0.7777777777777778,
              "#fb9f3a"
             ],
             [
              0.8888888888888888,
              "#fdca26"
             ],
             [
              1,
              "#f0f921"
             ]
            ],
            "type": "histogram2dcontour"
           }
          ],
          "mesh3d": [
           {
            "colorbar": {
             "outlinewidth": 0,
             "ticks": ""
            },
            "type": "mesh3d"
           }
          ],
          "parcoords": [
           {
            "line": {
             "colorbar": {
              "outlinewidth": 0,
              "ticks": ""
             }
            },
            "type": "parcoords"
           }
          ],
          "pie": [
           {
            "automargin": true,
            "type": "pie"
           }
          ],
          "scatter": [
           {
            "fillpattern": {
             "fillmode": "overlay",
             "size": 10,
             "solidity": 0.2
            },
            "type": "scatter"
           }
          ],
          "scatter3d": [
           {
            "line": {
             "colorbar": {
              "outlinewidth": 0,
              "ticks": ""
             }
            },
            "marker": {
             "colorbar": {
              "outlinewidth": 0,
              "ticks": ""
             }
            },
            "type": "scatter3d"
           }
          ],
          "scattercarpet": [
           {
            "marker": {
             "colorbar": {
              "outlinewidth": 0,
              "ticks": ""
             }
            },
            "type": "scattercarpet"
           }
          ],
          "scattergeo": [
           {
            "marker": {
             "colorbar": {
              "outlinewidth": 0,
              "ticks": ""
             }
            },
            "type": "scattergeo"
           }
          ],
          "scattergl": [
           {
            "marker": {
             "colorbar": {
              "outlinewidth": 0,
              "ticks": ""
             }
            },
            "type": "scattergl"
           }
          ],
          "scattermapbox": [
           {
            "marker": {
             "colorbar": {
              "outlinewidth": 0,
              "ticks": ""
             }
            },
            "type": "scattermapbox"
           }
          ],
          "scatterpolar": [
           {
            "marker": {
             "colorbar": {
              "outlinewidth": 0,
              "ticks": ""
             }
            },
            "type": "scatterpolar"
           }
          ],
          "scatterpolargl": [
           {
            "marker": {
             "colorbar": {
              "outlinewidth": 0,
              "ticks": ""
             }
            },
            "type": "scatterpolargl"
           }
          ],
          "scatterternary": [
           {
            "marker": {
             "colorbar": {
              "outlinewidth": 0,
              "ticks": ""
             }
            },
            "type": "scatterternary"
           }
          ],
          "surface": [
           {
            "colorbar": {
             "outlinewidth": 0,
             "ticks": ""
            },
            "colorscale": [
             [
              0,
              "#0d0887"
             ],
             [
              0.1111111111111111,
              "#46039f"
             ],
             [
              0.2222222222222222,
              "#7201a8"
             ],
             [
              0.3333333333333333,
              "#9c179e"
             ],
             [
              0.4444444444444444,
              "#bd3786"
             ],
             [
              0.5555555555555556,
              "#d8576b"
             ],
             [
              0.6666666666666666,
              "#ed7953"
             ],
             [
              0.7777777777777778,
              "#fb9f3a"
             ],
             [
              0.8888888888888888,
              "#fdca26"
             ],
             [
              1,
              "#f0f921"
             ]
            ],
            "type": "surface"
           }
          ],
          "table": [
           {
            "cells": {
             "fill": {
              "color": "#EBF0F8"
             },
             "line": {
              "color": "white"
             }
            },
            "header": {
             "fill": {
              "color": "#C8D4E3"
             },
             "line": {
              "color": "white"
             }
            },
            "type": "table"
           }
          ]
         },
         "layout": {
          "annotationdefaults": {
           "arrowcolor": "#2a3f5f",
           "arrowhead": 0,
           "arrowwidth": 1
          },
          "autotypenumbers": "strict",
          "coloraxis": {
           "colorbar": {
            "outlinewidth": 0,
            "ticks": ""
           }
          },
          "colorscale": {
           "diverging": [
            [
             0,
             "#8e0152"
            ],
            [
             0.1,
             "#c51b7d"
            ],
            [
             0.2,
             "#de77ae"
            ],
            [
             0.3,
             "#f1b6da"
            ],
            [
             0.4,
             "#fde0ef"
            ],
            [
             0.5,
             "#f7f7f7"
            ],
            [
             0.6,
             "#e6f5d0"
            ],
            [
             0.7,
             "#b8e186"
            ],
            [
             0.8,
             "#7fbc41"
            ],
            [
             0.9,
             "#4d9221"
            ],
            [
             1,
             "#276419"
            ]
           ],
           "sequential": [
            [
             0,
             "#0d0887"
            ],
            [
             0.1111111111111111,
             "#46039f"
            ],
            [
             0.2222222222222222,
             "#7201a8"
            ],
            [
             0.3333333333333333,
             "#9c179e"
            ],
            [
             0.4444444444444444,
             "#bd3786"
            ],
            [
             0.5555555555555556,
             "#d8576b"
            ],
            [
             0.6666666666666666,
             "#ed7953"
            ],
            [
             0.7777777777777778,
             "#fb9f3a"
            ],
            [
             0.8888888888888888,
             "#fdca26"
            ],
            [
             1,
             "#f0f921"
            ]
           ],
           "sequentialminus": [
            [
             0,
             "#0d0887"
            ],
            [
             0.1111111111111111,
             "#46039f"
            ],
            [
             0.2222222222222222,
             "#7201a8"
            ],
            [
             0.3333333333333333,
             "#9c179e"
            ],
            [
             0.4444444444444444,
             "#bd3786"
            ],
            [
             0.5555555555555556,
             "#d8576b"
            ],
            [
             0.6666666666666666,
             "#ed7953"
            ],
            [
             0.7777777777777778,
             "#fb9f3a"
            ],
            [
             0.8888888888888888,
             "#fdca26"
            ],
            [
             1,
             "#f0f921"
            ]
           ]
          },
          "colorway": [
           "#636efa",
           "#EF553B",
           "#00cc96",
           "#ab63fa",
           "#FFA15A",
           "#19d3f3",
           "#FF6692",
           "#B6E880",
           "#FF97FF",
           "#FECB52"
          ],
          "font": {
           "color": "#2a3f5f"
          },
          "geo": {
           "bgcolor": "white",
           "lakecolor": "white",
           "landcolor": "#E5ECF6",
           "showlakes": true,
           "showland": true,
           "subunitcolor": "white"
          },
          "hoverlabel": {
           "align": "left"
          },
          "hovermode": "closest",
          "mapbox": {
           "style": "light"
          },
          "paper_bgcolor": "white",
          "plot_bgcolor": "#E5ECF6",
          "polar": {
           "angularaxis": {
            "gridcolor": "white",
            "linecolor": "white",
            "ticks": ""
           },
           "bgcolor": "#E5ECF6",
           "radialaxis": {
            "gridcolor": "white",
            "linecolor": "white",
            "ticks": ""
           }
          },
          "scene": {
           "xaxis": {
            "backgroundcolor": "#E5ECF6",
            "gridcolor": "white",
            "gridwidth": 2,
            "linecolor": "white",
            "showbackground": true,
            "ticks": "",
            "zerolinecolor": "white"
           },
           "yaxis": {
            "backgroundcolor": "#E5ECF6",
            "gridcolor": "white",
            "gridwidth": 2,
            "linecolor": "white",
            "showbackground": true,
            "ticks": "",
            "zerolinecolor": "white"
           },
           "zaxis": {
            "backgroundcolor": "#E5ECF6",
            "gridcolor": "white",
            "gridwidth": 2,
            "linecolor": "white",
            "showbackground": true,
            "ticks": "",
            "zerolinecolor": "white"
           }
          },
          "shapedefaults": {
           "line": {
            "color": "#2a3f5f"
           }
          },
          "ternary": {
           "aaxis": {
            "gridcolor": "white",
            "linecolor": "white",
            "ticks": ""
           },
           "baxis": {
            "gridcolor": "white",
            "linecolor": "white",
            "ticks": ""
           },
           "bgcolor": "#E5ECF6",
           "caxis": {
            "gridcolor": "white",
            "linecolor": "white",
            "ticks": ""
           }
          },
          "title": {
           "x": 0.05
          },
          "xaxis": {
           "automargin": true,
           "gridcolor": "white",
           "linecolor": "white",
           "ticks": "",
           "title": {
            "standoff": 15
           },
           "zerolinecolor": "white",
           "zerolinewidth": 2
          },
          "yaxis": {
           "automargin": true,
           "gridcolor": "white",
           "linecolor": "white",
           "ticks": "",
           "title": {
            "standoff": 15
           },
           "zerolinecolor": "white",
           "zerolinewidth": 2
          }
         }
        },
        "width": 1100,
        "xaxis": {
         "anchor": "y",
         "autorange": true,
         "domain": [
          0,
          1
         ],
         "linecolor": "black",
         "linewidth": 2,
         "mirror": true,
         "range": [
          -0.5,
          31.5
         ],
         "showline": true,
         "title": {
          "text": ""
         },
         "type": "category",
         "zeroline": true
        },
        "yaxis": {
         "anchor": "x",
         "autorange": true,
         "color": "black",
         "domain": [
          0,
          1
         ],
         "gridcolor": "grey",
         "gridwidth": 0.5,
         "linecolor": "black",
         "linewidth": 2,
         "mirror": true,
         "range": [
          0.00027509845022623963,
          0.09115196012893288
         ],
         "showgrid": false,
         "showline": true,
         "title": {
          "text": "Feature Importance Score"
         },
         "type": "linear",
         "zeroline": true
        }
       }
      },
      "image/png": "[encoded data removed]",
      "text/html": [
       "<div>                            <div id=\"880d1583-7599-4932-ad39-b3fa4d71874a\" class=\"plotly-graph-div\" style=\"height:700px; width:1100px;\"></div>            <script type=\"text/javascript\">                require([\"plotly\"], function(Plotly) {                    window.PLOTLYENV=window.PLOTLYENV || {};                                    if (document.getElementById(\"880d1583-7599-4932-ad39-b3fa4d71874a\")) {                    Plotly.newPlot(                        \"880d1583-7599-4932-ad39-b3fa4d71874a\",                        [{\"alignmentgroup\":\"True\",\"hovertemplate\":\"features=%{x}\\u003cbr\\u003eimportance=%{y}\\u003cextra\\u003e\\u003c\\u002fextra\\u003e\",\"legendgroup\":\"\",\"marker\":{\"color\":\"#636efa\",\"line\":{\"color\":\"black\",\"width\":1.0}},\"name\":\"\",\"notched\":false,\"offsetgroup\":\"\",\"orientation\":\"v\",\"showlegend\":false,\"x\":[\"basic_expansion_1\",\"self_walk_1\",\"page_rank_1\",\"degree_centrality_1\",\"closeness_centrality_1\",\"load_centrality_1\",\"eigenvector_centrality_1\",\"lsme_1\",\"basic_expansion_2\",\"self_walk_2\",\"page_rank_2\",\"degree_centrality_2\",\"closeness_centrality_2\",\"load_centrality_2\",\"eigenvector_centrality_2\",\"lsme_2\",\"basic_expansion_3\",\"self_walk_3\",\"page_rank_3\",\"degree_centrality_3\",\"closeness_centrality_3\",\"load_centrality_3\",\"eigenvector_centrality_3\",\"lsme_3\",\"basic_expansion_4\",\"self_walk_4\",\"page_rank_4\",\"degree_centrality_4\",\"closeness_centrality_4\",\"load_centrality_4\",\"eigenvector_centrality_4\",\"lsme_4\",\"basic_expansion_1\",\"self_walk_1\",\"page_rank_1\",\"degree_centrality_1\",\"closeness_centrality_1\",\"load_centrality_1\",\"eigenvector_centrality_1\",\"lsme_1\",\"basic_expansion_2\",\"self_walk_2\",\"page_rank_2\",\"degree_centrality_2\",\"closeness_centrality_2\",\"load_centrality_2\",\"eigenvector_centrality_2\",\"lsme_2\",\"basic_expansion_3\",\"self_walk_3\",\"page_rank_3\",\"degree_centrality_3\",\"closeness_centrality_3\",\"load_centrality_3\",\"eigenvector_centrality_3\",\"lsme_3\",\"basic_expansion_4\",\"self_walk_4\",\"page_rank_4\",\"degree_centrality_4\",\"closeness_centrality_4\",\"load_centrality_4\",\"eigenvector_centrality_4\",\"lsme_4\",\"basic_expansion_1\",\"self_walk_1\",\"page_rank_1\",\"degree_centrality_1\",\"closeness_centrality_1\",\"load_centrality_1\",\"eigenvector_centrality_1\",\"lsme_1\",\"basic_expansion_2\",\"self_walk_2\",\"page_rank_2\",\"degree_centrality_2\",\"closeness_centrality_2\",\"load_centrality_2\",\"eigenvector_centrality_2\",\"lsme_2\",\"basic_expansion_3\",\"self_walk_3\",\"page_rank_3\",\"degree_centrality_3\",\"closeness_centrality_3\",\"load_centrality_3\",\"eigenvector_centrality_3\",\"lsme_3\",\"basic_expansion_4\",\"self_walk_4\",\"page_rank_4\",\"degree_centrality_4\",\"closeness_centrality_4\",\"load_centrality_4\",\"eigenvector_centrality_4\",\"lsme_4\",\"basic_expansion_1\",\"self_walk_1\",\"page_rank_1\",\"degree_centrality_1\",\"closeness_centrality_1\",\"load_centrality_1\",\"eigenvector_centrality_1\",\"lsme_1\",\"basic_expansion_2\",\"self_walk_2\",\"page_rank_2\",\"degree_centrality_2\",\"closeness_centrality_2\",\"load_centrality_2\",\"eigenvector_centrality_2\",\"lsme_2\",\"basic_expansion_3\",\"self_walk_3\",\"page_rank_3\",\"degree_centrality_3\",\"closeness_centrality_3\",\"load_centrality_3\",\"eigenvector_centrality_3\",\"lsme_3\",\"basic_expansion_4\",\"self_walk_4\",\"page_rank_4\",\"degree_centrality_4\",\"closeness_centrality_4\",\"load_centrality_4\",\"eigenvector_centrality_4\",\"lsme_4\",\"basic_expansion_1\",\"self_walk_1\",\"page_rank_1\",\"degree_centrality_1\",\"closeness_centrality_1\",\"load_centrality_1\",\"eigenvector_centrality_1\",\"lsme_1\",\"basic_expansion_2\",\"self_walk_2\",\"page_rank_2\",\"degree_centrality_2\",\"closeness_centrality_2\",\"load_centrality_2\",\"eigenvector_centrality_2\",\"lsme_2\",\"basic_expansion_3\",\"self_walk_3\",\"page_rank_3\",\"degree_centrality_3\",\"closeness_centrality_3\",\"load_centrality_3\",\"eigenvector_centrality_3\",\"lsme_3\",\"basic_expansion_4\",\"self_walk_4\",\"page_rank_4\",\"degree_centrality_4\",\"closeness_centrality_4\",\"load_centrality_4\",\"eigenvector_centrality_4\",\"lsme_4\",\"basic_expansion_1\",\"self_walk_1\",\"page_rank_1\",\"degree_centrality_1\",\"closeness_centrality_1\",\"load_centrality_1\",\"eigenvector_centrality_1\",\"lsme_1\",\"basic_expansion_2\",\"self_walk_2\",\"page_rank_2\",\"degree_centrality_2\",\"closeness_centrality_2\",\"load_centrality_2\",\"eigenvector_centrality_2\",\"lsme_2\",\"basic_expansion_3\",\"self_walk_3\",\"page_rank_3\",\"degree_centrality_3\",\"closeness_centrality_3\",\"load_centrality_3\",\"eigenvector_centrality_3\",\"lsme_3\",\"basic_expansion_4\",\"self_walk_4\",\"page_rank_4\",\"degree_centrality_4\",\"closeness_centrality_4\",\"load_centrality_4\",\"eigenvector_centrality_4\",\"lsme_4\",\"basic_expansion_1\",\"self_walk_1\",\"page_rank_1\",\"degree_centrality_1\",\"closeness_centrality_1\",\"load_centrality_1\",\"eigenvector_centrality_1\",\"lsme_1\",\"basic_expansion_2\",\"self_walk_2\",\"page_rank_2\",\"degree_centrality_2\",\"closeness_centrality_2\",\"load_centrality_2\",\"eigenvector_centrality_2\",\"lsme_2\",\"basic_expansion_3\",\"self_walk_3\",\"page_rank_3\",\"degree_centrality_3\",\"closeness_centrality_3\",\"load_centrality_3\",\"eigenvector_centrality_3\",\"lsme_3\",\"basic_expansion_4\",\"self_walk_4\",\"page_rank_4\",\"degree_centrality_4\",\"closeness_centrality_4\",\"load_centrality_4\",\"eigenvector_centrality_4\",\"lsme_4\",\"basic_expansion_1\",\"self_walk_1\",\"page_rank_1\",\"degree_centrality_1\",\"closeness_centrality_1\",\"load_centrality_1\",\"eigenvector_centrality_1\",\"lsme_1\",\"basic_expansion_2\",\"self_walk_2\",\"page_rank_2\",\"degree_centrality_2\",\"closeness_centrality_2\",\"load_centrality_2\",\"eigenvector_centrality_2\",\"lsme_2\",\"basic_expansion_3\",\"self_walk_3\",\"page_rank_3\",\"degree_centrality_3\",\"closeness_centrality_3\",\"load_centrality_3\",\"eigenvector_centrality_3\",\"lsme_3\",\"basic_expansion_4\",\"self_walk_4\",\"page_rank_4\",\"degree_centrality_4\",\"closeness_centrality_4\",\"load_centrality_4\",\"eigenvector_centrality_4\",\"lsme_4\",\"basic_expansion_1\",\"self_walk_1\",\"page_rank_1\",\"degree_centrality_1\",\"closeness_centrality_1\",\"load_centrality_1\",\"eigenvector_centrality_1\",\"lsme_1\",\"basic_expansion_2\",\"self_walk_2\",\"page_rank_2\",\"degree_centrality_2\",\"closeness_centrality_2\",\"load_centrality_2\",\"eigenvector_centrality_2\",\"lsme_2\",\"basic_expansion_3\",\"self_walk_3\",\"page_rank_3\",\"degree_centrality_3\",\"closeness_centrality_3\",\"load_centrality_3\",\"eigenvector_centrality_3\",\"lsme_3\",\"basic_expansion_4\",\"self_walk_4\",\"page_rank_4\",\"degree_centrality_4\",\"closeness_centrality_4\",\"load_centrality_4\",\"eigenvector_centrality_4\",\"lsme_4\",\"basic_expansion_1\",\"self_walk_1\",\"page_rank_1\",\"degree_centrality_1\",\"closeness_centrality_1\",\"load_centrality_1\",\"eigenvector_centrality_1\",\"lsme_1\",\"basic_expansion_2\",\"self_walk_2\",\"page_rank_2\",\"degree_centrality_2\",\"closeness_centrality_2\",\"load_centrality_2\",\"eigenvector_centrality_2\",\"lsme_2\",\"basic_expansion_3\",\"self_walk_3\",\"page_rank_3\",\"degree_centrality_3\",\"closeness_centrality_3\",\"load_centrality_3\",\"eigenvector_centrality_3\",\"lsme_3\",\"basic_expansion_4\",\"self_walk_4\",\"page_rank_4\",\"degree_centrality_4\",\"closeness_centrality_4\",\"load_centrality_4\",\"eigenvector_centrality_4\",\"lsme_4\",\"basic_expansion_1\",\"self_walk_1\",\"page_rank_1\",\"degree_centrality_1\",\"closeness_centrality_1\",\"load_centrality_1\",\"eigenvector_centrality_1\",\"lsme_1\",\"basic_expansion_2\",\"self_walk_2\",\"page_rank_2\",\"degree_centrality_2\",\"closeness_centrality_2\",\"load_centrality_2\",\"eigenvector_centrality_2\",\"lsme_2\",\"basic_expansion_3\",\"self_walk_3\",\"page_rank_3\",\"degree_centrality_3\",\"closeness_centrality_3\",\"load_centrality_3\",\"eigenvector_centrality_3\",\"lsme_3\",\"basic_expansion_4\",\"self_walk_4\",\"page_rank_4\",\"degree_centrality_4\",\"closeness_centrality_4\",\"load_centrality_4\",\"eigenvector_centrality_4\",\"lsme_4\",\"basic_expansion_1\",\"self_walk_1\",\"page_rank_1\",\"degree_centrality_1\",\"closeness_centrality_1\",\"load_centrality_1\",\"eigenvector_centrality_1\",\"lsme_1\",\"basic_expansion_2\",\"self_walk_2\",\"page_rank_2\",\"degree_centrality_2\",\"closeness_centrality_2\",\"load_centrality_2\",\"eigenvector_centrality_2\",\"lsme_2\",\"basic_expansion_3\",\"self_walk_3\",\"page_rank_3\",\"degree_centrality_3\",\"closeness_centrality_3\",\"load_centrality_3\",\"eigenvector_centrality_3\",\"lsme_3\",\"basic_expansion_4\",\"self_walk_4\",\"page_rank_4\",\"degree_centrality_4\",\"closeness_centrality_4\",\"load_centrality_4\",\"eigenvector_centrality_4\",\"lsme_4\",\"basic_expansion_1\",\"self_walk_1\",\"page_rank_1\",\"degree_centrality_1\",\"closeness_centrality_1\",\"load_centrality_1\",\"eigenvector_centrality_1\",\"lsme_1\",\"basic_expansion_2\",\"self_walk_2\",\"page_rank_2\",\"degree_centrality_2\",\"closeness_centrality_2\",\"load_centrality_2\",\"eigenvector_centrality_2\",\"lsme_2\",\"basic_expansion_3\",\"self_walk_3\",\"page_rank_3\",\"degree_centrality_3\",\"closeness_centrality_3\",\"load_centrality_3\",\"eigenvector_centrality_3\",\"lsme_3\",\"basic_expansion_4\",\"self_walk_4\",\"page_rank_4\",\"degree_centrality_4\",\"closeness_centrality_4\",\"load_centrality_4\",\"eigenvector_centrality_4\",\"lsme_4\",\"basic_expansion_1\",\"self_walk_1\",\"page_rank_1\",\"degree_centrality_1\",\"closeness_centrality_1\",\"load_centrality_1\",\"eigenvector_centrality_1\",\"lsme_1\",\"basic_expansion_2\",\"self_walk_2\",\"page_rank_2\",\"degree_centrality_2\",\"closeness_centrality_2\",\"load_centrality_2\",\"eigenvector_centrality_2\",\"lsme_2\",\"basic_expansion_3\",\"self_walk_3\",\"page_rank_3\",\"degree_centrality_3\",\"closeness_centrality_3\",\"load_centrality_3\",\"eigenvector_centrality_3\",\"lsme_3\",\"basic_expansion_4\",\"self_walk_4\",\"page_rank_4\",\"degree_centrality_4\",\"closeness_centrality_4\",\"load_centrality_4\",\"eigenvector_centrality_4\",\"lsme_4\",\"basic_expansion_1\",\"self_walk_1\",\"page_rank_1\",\"degree_centrality_1\",\"closeness_centrality_1\",\"load_centrality_1\",\"eigenvector_centrality_1\",\"lsme_1\",\"basic_expansion_2\",\"self_walk_2\",\"page_rank_2\",\"degree_centrality_2\",\"closeness_centrality_2\",\"load_centrality_2\",\"eigenvector_centrality_2\",\"lsme_2\",\"basic_expansion_3\",\"self_walk_3\",\"page_rank_3\",\"degree_centrality_3\",\"closeness_centrality_3\",\"load_centrality_3\",\"eigenvector_centrality_3\",\"lsme_3\",\"basic_expansion_4\",\"self_walk_4\",\"page_rank_4\",\"degree_centrality_4\",\"closeness_centrality_4\",\"load_centrality_4\",\"eigenvector_centrality_4\",\"lsme_4\",\"basic_expansion_1\",\"self_walk_1\",\"page_rank_1\",\"degree_centrality_1\",\"closeness_centrality_1\",\"load_centrality_1\",\"eigenvector_centrality_1\",\"lsme_1\",\"basic_expansion_2\",\"self_walk_2\",\"page_rank_2\",\"degree_centrality_2\",\"closeness_centrality_2\",\"load_centrality_2\",\"eigenvector_centrality_2\",\"lsme_2\",\"basic_expansion_3\",\"self_walk_3\",\"page_rank_3\",\"degree_centrality_3\",\"closeness_centrality_3\",\"load_centrality_3\",\"eigenvector_centrality_3\",\"lsme_3\",\"basic_expansion_4\",\"self_walk_4\",\"page_rank_4\",\"degree_centrality_4\",\"closeness_centrality_4\",\"load_centrality_4\",\"eigenvector_centrality_4\",\"lsme_4\",\"basic_expansion_1\",\"self_walk_1\",\"page_rank_1\",\"degree_centrality_1\",\"closeness_centrality_1\",\"load_centrality_1\",\"eigenvector_centrality_1\",\"lsme_1\",\"basic_expansion_2\",\"self_walk_2\",\"page_rank_2\",\"degree_centrality_2\",\"closeness_centrality_2\",\"load_centrality_2\",\"eigenvector_centrality_2\",\"lsme_2\",\"basic_expansion_3\",\"self_walk_3\",\"page_rank_3\",\"degree_centrality_3\",\"closeness_centrality_3\",\"load_centrality_3\",\"eigenvector_centrality_3\",\"lsme_3\",\"basic_expansion_4\",\"self_walk_4\",\"page_rank_4\",\"degree_centrality_4\",\"closeness_centrality_4\",\"load_centrality_4\",\"eigenvector_centrality_4\",\"lsme_4\",\"basic_expansion_1\",\"self_walk_1\",\"page_rank_1\",\"degree_centrality_1\",\"closeness_centrality_1\",\"load_centrality_1\",\"eigenvector_centrality_1\",\"lsme_1\",\"basic_expansion_2\",\"self_walk_2\",\"page_rank_2\",\"degree_centrality_2\",\"closeness_centrality_2\",\"load_centrality_2\",\"eigenvector_centrality_2\",\"lsme_2\",\"basic_expansion_3\",\"self_walk_3\",\"page_rank_3\",\"degree_centrality_3\",\"closeness_centrality_3\",\"load_centrality_3\",\"eigenvector_centrality_3\",\"lsme_3\",\"basic_expansion_4\",\"self_walk_4\",\"page_rank_4\",\"degree_centrality_4\",\"closeness_centrality_4\",\"load_centrality_4\",\"eigenvector_centrality_4\",\"lsme_4\",\"basic_expansion_1\",\"self_walk_1\",\"page_rank_1\",\"degree_centrality_1\",\"closeness_centrality_1\",\"load_centrality_1\",\"eigenvector_centrality_1\",\"lsme_1\",\"basic_expansion_2\",\"self_walk_2\",\"page_rank_2\",\"degree_centrality_2\",\"closeness_centrality_2\",\"load_centrality_2\",\"eigenvector_centrality_2\",\"lsme_2\",\"basic_expansion_3\",\"self_walk_3\",\"page_rank_3\",\"degree_centrality_3\",\"closeness_centrality_3\",\"load_centrality_3\",\"eigenvector_centrality_3\",\"lsme_3\",\"basic_expansion_4\",\"self_walk_4\",\"page_rank_4\",\"degree_centrality_4\",\"closeness_centrality_4\",\"load_centrality_4\",\"eigenvector_centrality_4\",\"lsme_4\",\"basic_expansion_1\",\"self_walk_1\",\"page_rank_1\",\"degree_centrality_1\",\"closeness_centrality_1\",\"load_centrality_1\",\"eigenvector_centrality_1\",\"lsme_1\",\"basic_expansion_2\",\"self_walk_2\",\"page_rank_2\",\"degree_centrality_2\",\"closeness_centrality_2\",\"load_centrality_2\",\"eigenvector_centrality_2\",\"lsme_2\",\"basic_expansion_3\",\"self_walk_3\",\"page_rank_3\",\"degree_centrality_3\",\"closeness_centrality_3\",\"load_centrality_3\",\"eigenvector_centrality_3\",\"lsme_3\",\"basic_expansion_4\",\"self_walk_4\",\"page_rank_4\",\"degree_centrality_4\",\"closeness_centrality_4\",\"load_centrality_4\",\"eigenvector_centrality_4\",\"lsme_4\",\"basic_expansion_1\",\"self_walk_1\",\"page_rank_1\",\"degree_centrality_1\",\"closeness_centrality_1\",\"load_centrality_1\",\"eigenvector_centrality_1\",\"lsme_1\",\"basic_expansion_2\",\"self_walk_2\",\"page_rank_2\",\"degree_centrality_2\",\"closeness_centrality_2\",\"load_centrality_2\",\"eigenvector_centrality_2\",\"lsme_2\",\"basic_expansion_3\",\"self_walk_3\",\"page_rank_3\",\"degree_centrality_3\",\"closeness_centrality_3\",\"load_centrality_3\",\"eigenvector_centrality_3\",\"lsme_3\",\"basic_expansion_4\",\"self_walk_4\",\"page_rank_4\",\"degree_centrality_4\",\"closeness_centrality_4\",\"load_centrality_4\",\"eigenvector_centrality_4\",\"lsme_4\",\"basic_expansion_1\",\"self_walk_1\",\"page_rank_1\",\"degree_centrality_1\",\"closeness_centrality_1\",\"load_centrality_1\",\"eigenvector_centrality_1\",\"lsme_1\",\"basic_expansion_2\",\"self_walk_2\",\"page_rank_2\",\"degree_centrality_2\",\"closeness_centrality_2\",\"load_centrality_2\",\"eigenvector_centrality_2\",\"lsme_2\",\"basic_expansion_3\",\"self_walk_3\",\"page_rank_3\",\"degree_centrality_3\",\"closeness_centrality_3\",\"load_centrality_3\",\"eigenvector_centrality_3\",\"lsme_3\",\"basic_expansion_4\",\"self_walk_4\",\"page_rank_4\",\"degree_centrality_4\",\"closeness_centrality_4\",\"load_centrality_4\",\"eigenvector_centrality_4\",\"lsme_4\",\"basic_expansion_1\",\"self_walk_1\",\"page_rank_1\",\"degree_centrality_1\",\"closeness_centrality_1\",\"load_centrality_1\",\"eigenvector_centrality_1\",\"lsme_1\",\"basic_expansion_2\",\"self_walk_2\",\"page_rank_2\",\"degree_centrality_2\",\"closeness_centrality_2\",\"load_centrality_2\",\"eigenvector_centrality_2\",\"lsme_2\",\"basic_expansion_3\",\"self_walk_3\",\"page_rank_3\",\"degree_centrality_3\",\"closeness_centrality_3\",\"load_centrality_3\",\"eigenvector_centrality_3\",\"lsme_3\",\"basic_expansion_4\",\"self_walk_4\",\"page_rank_4\",\"degree_centrality_4\",\"closeness_centrality_4\",\"load_centrality_4\",\"eigenvector_centrality_4\",\"lsme_4\",\"basic_expansion_1\",\"self_walk_1\",\"page_rank_1\",\"degree_centrality_1\",\"closeness_centrality_1\",\"load_centrality_1\",\"eigenvector_centrality_1\",\"lsme_1\",\"basic_expansion_2\",\"self_walk_2\",\"page_rank_2\",\"degree_centrality_2\",\"closeness_centrality_2\",\"load_centrality_2\",\"eigenvector_centrality_2\",\"lsme_2\",\"basic_expansion_3\",\"self_walk_3\",\"page_rank_3\",\"degree_centrality_3\",\"closeness_centrality_3\",\"load_centrality_3\",\"eigenvector_centrality_3\",\"lsme_3\",\"basic_expansion_4\",\"self_walk_4\",\"page_rank_4\",\"degree_centrality_4\",\"closeness_centrality_4\",\"load_centrality_4\",\"eigenvector_centrality_4\",\"lsme_4\",\"basic_expansion_1\",\"self_walk_1\",\"page_rank_1\",\"degree_centrality_1\",\"closeness_centrality_1\",\"load_centrality_1\",\"eigenvector_centrality_1\",\"lsme_1\",\"basic_expansion_2\",\"self_walk_2\",\"page_rank_2\",\"degree_centrality_2\",\"closeness_centrality_2\",\"load_centrality_2\",\"eigenvector_centrality_2\",\"lsme_2\",\"basic_expansion_3\",\"self_walk_3\",\"page_rank_3\",\"degree_centrality_3\",\"closeness_centrality_3\",\"load_centrality_3\",\"eigenvector_centrality_3\",\"lsme_3\",\"basic_expansion_4\",\"self_walk_4\",\"page_rank_4\",\"degree_centrality_4\",\"closeness_centrality_4\",\"load_centrality_4\",\"eigenvector_centrality_4\",\"lsme_4\",\"basic_expansion_1\",\"self_walk_1\",\"page_rank_1\",\"degree_centrality_1\",\"closeness_centrality_1\",\"load_centrality_1\",\"eigenvector_centrality_1\",\"lsme_1\",\"basic_expansion_2\",\"self_walk_2\",\"page_rank_2\",\"degree_centrality_2\",\"closeness_centrality_2\",\"load_centrality_2\",\"eigenvector_centrality_2\",\"lsme_2\",\"basic_expansion_3\",\"self_walk_3\",\"page_rank_3\",\"degree_centrality_3\",\"closeness_centrality_3\",\"load_centrality_3\",\"eigenvector_centrality_3\",\"lsme_3\",\"basic_expansion_4\",\"self_walk_4\",\"page_rank_4\",\"degree_centrality_4\",\"closeness_centrality_4\",\"load_centrality_4\",\"eigenvector_centrality_4\",\"lsme_4\",\"basic_expansion_1\",\"self_walk_1\",\"page_rank_1\",\"degree_centrality_1\",\"closeness_centrality_1\",\"load_centrality_1\",\"eigenvector_centrality_1\",\"lsme_1\",\"basic_expansion_2\",\"self_walk_2\",\"page_rank_2\",\"degree_centrality_2\",\"closeness_centrality_2\",\"load_centrality_2\",\"eigenvector_centrality_2\",\"lsme_2\",\"basic_expansion_3\",\"self_walk_3\",\"page_rank_3\",\"degree_centrality_3\",\"closeness_centrality_3\",\"load_centrality_3\",\"eigenvector_centrality_3\",\"lsme_3\",\"basic_expansion_4\",\"self_walk_4\",\"page_rank_4\",\"degree_centrality_4\",\"closeness_centrality_4\",\"load_centrality_4\",\"eigenvector_centrality_4\",\"lsme_4\",\"basic_expansion_1\",\"self_walk_1\",\"page_rank_1\",\"degree_centrality_1\",\"closeness_centrality_1\",\"load_centrality_1\",\"eigenvector_centrality_1\",\"lsme_1\",\"basic_expansion_2\",\"self_walk_2\",\"page_rank_2\",\"degree_centrality_2\",\"closeness_centrality_2\",\"load_centrality_2\",\"eigenvector_centrality_2\",\"lsme_2\",\"basic_expansion_3\",\"self_walk_3\",\"page_rank_3\",\"degree_centrality_3\",\"closeness_centrality_3\",\"load_centrality_3\",\"eigenvector_centrality_3\",\"lsme_3\",\"basic_expansion_4\",\"self_walk_4\",\"page_rank_4\",\"degree_centrality_4\",\"closeness_centrality_4\",\"load_centrality_4\",\"eigenvector_centrality_4\",\"lsme_4\",\"basic_expansion_1\",\"self_walk_1\",\"page_rank_1\",\"degree_centrality_1\",\"closeness_centrality_1\",\"load_centrality_1\",\"eigenvector_centrality_1\",\"lsme_1\",\"basic_expansion_2\",\"self_walk_2\",\"page_rank_2\",\"degree_centrality_2\",\"closeness_centrality_2\",\"load_centrality_2\",\"eigenvector_centrality_2\",\"lsme_2\",\"basic_expansion_3\",\"self_walk_3\",\"page_rank_3\",\"degree_centrality_3\",\"closeness_centrality_3\",\"load_centrality_3\",\"eigenvector_centrality_3\",\"lsme_3\",\"basic_expansion_4\",\"self_walk_4\",\"page_rank_4\",\"degree_centrality_4\",\"closeness_centrality_4\",\"load_centrality_4\",\"eigenvector_centrality_4\",\"lsme_4\",\"basic_expansion_1\",\"self_walk_1\",\"page_rank_1\",\"degree_centrality_1\",\"closeness_centrality_1\",\"load_centrality_1\",\"eigenvector_centrality_1\",\"lsme_1\",\"basic_expansion_2\",\"self_walk_2\",\"page_rank_2\",\"degree_centrality_2\",\"closeness_centrality_2\",\"load_centrality_2\",\"eigenvector_centrality_2\",\"lsme_2\",\"basic_expansion_3\",\"self_walk_3\",\"page_rank_3\",\"degree_centrality_3\",\"closeness_centrality_3\",\"load_centrality_3\",\"eigenvector_centrality_3\",\"lsme_3\",\"basic_expansion_4\",\"self_walk_4\",\"page_rank_4\",\"degree_centrality_4\",\"closeness_centrality_4\",\"load_centrality_4\",\"eigenvector_centrality_4\",\"lsme_4\"],\"x0\":\" \",\"xaxis\":\"x\",\"y\":[0.024701657143173884,0.06370698761998211,0.007432103880407931,0.014809303030169701,0.03377320755617832,0.03675702006432335,0.022456676456713134,0.030879158113053015,0.04374303066290961,0.008296439634228598,0.01983016088286094,0.026418246496285835,0.036770311272400685,0.048703719291901953,0.025804146889295686,0.010571095604651947,0.026121802324373687,0.030206913122164343,0.0384997632005323,0.023274993611451515,0.03739956968015011,0.023084746979852487,0.039065480073566056,0.04942547058776351,0.030902151841418878,0.035690880049203164,0.02615886861302482,0.01683152224888295,0.03138758795886072,0.0502308135371494,0.033147908594968606,0.053918262978100755,0.02697965463126553,0.04478098152202335,0.015367335894810487,0.013755128827493633,0.024667764795450138,0.04195367259248429,0.02220109586051809,0.041483608939365695,0.0511702237487509,0.012610876817990342,0.030585384898397138,0.026228642628906614,0.03208876852971083,0.043846098069124345,0.025952335112551822,0.011500319429019074,0.019894358263111353,0.02906383244220863,0.026462975739727685,0.020052582028293818,0.05260782017525552,0.03440133896599372,0.035411239381905525,0.05172761921239421,0.04189335945814612,0.021947584693440877,0.018485618676089586,0.018754842793063668,0.042855344457960055,0.034273539562479895,0.03305979251963377,0.05393625933243331,0.022295575678156564,0.07704911875446503,0.014104412225545315,0.0112988362513615,0.042134837328413756,0.030207854510827793,0.023450710082566863,0.04392563127437358,0.043116438167689376,0.007926135194852099,0.02005229981907799,0.01679531669009167,0.046920324774522446,0.04386858380360146,0.023768887044722232,0.009627833954910165,0.019691499445994968,0.02678684108187687,0.029605812784708797,0.030018317917677395,0.0636946385068268,0.02276536740861199,0.033977365078847126,0.04287455773504926,0.026222842224634606,0.025999149126962395,0.023407486975433493,0.014156618645881698,0.03320972616702226,0.02725842980536665,0.033987014216331636,0.06980153732359634,0.02074927544417942,0.07350797433391831,0.012927191503865851,0.013183114433411938,0.03615639344076615,0.046572807963541435,0.0147496551865089,0.03488089333169469,0.04052459446733888,0.007631379357165502,0.01574427677847778,0.020530329899045054,0.04654374490052047,0.05496435617960948,0.01731769716036579,0.006642152105663023,0.02554204849718148,0.034706668062698266,0.026967509707467956,0.018803518240585293,0.05480204889138605,0.026472924767319814,0.04525238417914399,0.039205719277857674,0.04461451602333172,0.02568488443742337,0.03208322165208508,0.02465722365270081,0.037976938560773665,0.03488907381710773,0.02597761307323235,0.03973787067363214,0.02105413903099837,0.043929139296252064,0.011318142372414932,0.01370134304863789,0.04536089573329671,0.046720647563095186,0.016833140809707672,0.036371457717586146,0.0435746705137786,0.01090408392498739,0.0244627323296248,0.02428772632010432,0.031602207184884136,0.07256532318505013,0.024648574391667746,0.00785550330889153,0.022120866096779393,0.030566694669682527,0.03316474760456395,0.03530570218509527,0.050140753940588534,0.025237441013818578,0.035088460841252556,0.04083550541554275,0.027520808206351482,0.027233525085394637,0.02256703852882891,0.024955393053971285,0.03071883075631865,0.036430342892798194,0.028107085001117946,0.05481707797691768,0.022762391025878313,0.08660811704499755,0.013453261439878794,0.013059569845173672,0.03782912829842686,0.03722923190693788,0.02884866719788459,0.03545444213313501,0.04845442098938015,0.007252329568986511,0.0174570772226746,0.021867988452337124,0.03290292237873751,0.055367192297101075,0.027146760889752538,0.011075225471029359,0.019483947081990537,0.030913389869259997,0.031189655901995735,0.020773252703068762,0.04432377195398273,0.028358028916372086,0.038970975924289074,0.03540722132183216,0.035299011521421425,0.019299565482942246,0.022548562793177927,0.020747008687992174,0.05332054143346632,0.024150440992303276,0.03282685031520348,0.04561904893839052,0.02641785135971075,0.059430068120398964,0.006592950702991762,0.009904799752952281,0.025718404844877963,0.051876875246756965,0.02306989282772949,0.039820125216060924,0.05464350064122461,0.00659645040037781,0.016728220687147122,0.01771797307845838,0.044605584623937364,0.0395849549676574,0.02162945196510231,0.010091663190286504,0.023797262518110426,0.03048942715066782,0.030336634050404307,0.03518625661404211,0.05022552740560579,0.024336634640844658,0.04188113565771367,0.05158093325600897,0.038986131126378866,0.021354391557580454,0.02247611934411818,0.01649269092039783,0.03710993786789411,0.035530928361379395,0.0327821297624596,0.05300509214072317,0.03304498820088583,0.06523025411307047,0.013208882581758962,0.014121170587046865,0.03289800405262052,0.03413521247434489,0.01890555622725531,0.03363367499742638,0.051489718561847406,0.006995090646317098,0.010964261795446961,0.015452355120367984,0.03214198509352026,0.05890945440450321,0.024169326697082442,0.005142736795198489,0.020679129369810853,0.03415239293629848,0.04560552039937326,0.049624624436616686,0.0559888928884465,0.028799917309098408,0.027665704377329493,0.05138959092781367,0.03841961234406563,0.027210852703230443,0.01881317546626326,0.011596415065758234,0.04056657355240192,0.03375906824170335,0.023671190623540266,0.041614667009556544,0.03009812290058644,0.05841955431692315,0.00923934625706619,0.014256185898299814,0.03383934634192372,0.030890092380277397,0.01772431848777454,0.03312699284293994,0.05227157690078508,0.008161015976440096,0.023597064354571203,0.016854110630842835,0.03225048992928828,0.032596990776780944,0.019319918422967566,0.006267142489243408,0.01789111505038676,0.02742207442342102,0.03284657521840938,0.04854481821398507,0.056841864640106994,0.024657439894569796,0.054395115851945335,0.048110027444001745,0.03909760885690173,0.021966920942105127,0.03007403995562484,0.02760649764539134,0.04361401349333895,0.030453705323172195,0.02702815623316528,0.05053775790676389,0.02775991306773979,0.05562950265625517,0.012514485312726776,0.017837707916103628,0.030072821972380388,0.049494242891039715,0.02227188307632823,0.0306091840869095,0.05292552938815323,0.00945095803885312,0.030761635894212196,0.016672408032531047,0.04753087379330121,0.05243248040952476,0.029300361420648405,0.0055795314337217525,0.02075781141242908,0.027043593519787953,0.041593913131461956,0.03604448609679232,0.042128303627254046,0.018899891167920832,0.04750893622194172,0.03906638214854504,0.0254934742366555,0.019928930369863422,0.02009730353061923,0.02049471776383473,0.032715777668971775,0.04476420500075445,0.032071349337383856,0.04054740537535521,0.022842297414418553,0.04735161270587238,0.008015776969537987,0.014827679905309223,0.042883399824876316,0.03951621840863912,0.02992625200743823,0.03211616279973851,0.07256824580341645,0.004818941534161572,0.02070366386740986,0.022218182329321184,0.03213251095355348,0.048724380341593855,0.02538955697153337,0.012108252723752957,0.023858434540563193,0.03359332768742929,0.028008233698527073,0.038611531125099324,0.031816275717166886,0.019631380958163493,0.045523971908088615,0.04630063211049328,0.036983310159033715,0.028024977688830034,0.015991853477256433,0.02279950647098021,0.0249136389982117,0.0338628093927981,0.029748980842401993,0.06418800066438353,0.020833166295534434,0.04060871123084632,0.011931985170374415,0.01980836778995195,0.035870428060894285,0.03528681391077415,0.019765317840584253,0.03793543796382802,0.05576086031940336,0.012398578115437415,0.025789117339159513,0.02703178427670929,0.062132336199150776,0.03816532377864824,0.02614385575349102,0.014207001561178566,0.0159953910944322,0.023051617405007212,0.04830406338514557,0.02528679671169615,0.0655506610592603,0.023337914692440696,0.036788838462166816,0.04604219796657019,0.030201523155608867,0.015835795692069363,0.022428579106306464,0.016678023890665375,0.04119652338651502,0.02567038701557419,0.022256414279904227,0.05770618709067144,0.022438959148916523,0.05588934681689695,0.01053867977692379,0.016641441181475335,0.03158765537449022,0.03429866131241454,0.027930828184286847,0.032704702790314955,0.06773788758048377,0.00629664856308038,0.020707167980955815,0.0232710740341741,0.02917897846232568,0.03662201476533761,0.03649896543587341,0.008173400874547937,0.02037245973924219,0.02400160745664505,0.03965836199223552,0.022175557204353952,0.056618945197826294,0.03070606837294186,0.03178906832502854,0.045842045701612745,0.026393411229427274,0.028836575947086787,0.01504522271056735,0.017251539379122424,0.06289311801553739,0.028153657147145985,0.030825034693502857,0.05892091460522588,0.02288708992502273,0.0562753688157056,0.012524003277033633,0.012680007649273198,0.04418089435020052,0.03597768140264507,0.01823142167495164,0.035138061778766896,0.044092158569730706,0.009072138727271724,0.020754446221495047,0.028530104780050407,0.04353863652830274,0.05413509841869054,0.028972765750496662,0.009627610440187057,0.022470772023497967,0.026269583162903426,0.026968427107646104,0.025553091658933363,0.051144812181817656,0.023405054450616275,0.04301159459234913,0.03525821356987316,0.0265499496815488,0.032545068366952534,0.019652455037288203,0.018308155381369717,0.031262027862549766,0.047309451661404156,0.03788761525581995,0.055786239695605665,0.026944954134236435,0.045300491396035474,0.009064955442581651,0.02211164653798403,0.040430391574053995,0.04513880037155705,0.01604025458141846,0.038093495627411565,0.06406556767600145,0.0094620731393662,0.020356960843876084,0.021877665415136877,0.042216593293898035,0.03273879300718357,0.026518457733915785,0.011065855886841391,0.01694425892970238,0.022347482119188015,0.03872705783706616,0.034528558883282934,0.05006900776731269,0.02545821220023352,0.04855262712742187,0.04053714125225567,0.028766620986121837,0.016014179385984144,0.023833541003726883,0.017614194633234936,0.04441798414261243,0.03492804049303931,0.03435386444663343,0.05148027213068555,0.024028657104440847,0.05166551562243508,0.006965269530346085,0.014932902747248492,0.04019566543150846,0.0382585813997189,0.021275600077660287,0.02943943598284773,0.0497241744208069,0.009189210556741103,0.01607525753592239,0.01954666179275323,0.031144120945420396,0.06322400780377067,0.020942436965387175,0.009108540651229442,0.013677952979095721,0.02829501894858542,0.027448031851617982,0.03416648271089174,0.04642116453662869,0.03174591860155199,0.06065311096240509,0.04462932191895841,0.03240259084375946,0.0349819297984604,0.029699633038839428,0.02349082787606266,0.0312997638660276,0.04051096529074335,0.027587383514919534,0.0472738646932155,0.019466250842648428,0.07880014512814583,0.006745242365768939,0.011110106821805712,0.04028332263111836,0.044785705391425346,0.025433502419136278,0.028544779506990643,0.054569949984377156,0.007709152469111581,0.021412104017051372,0.016865326983081057,0.03285393397556832,0.052689225314228594,0.02263779032231396,0.007024186035433117,0.01683814509837535,0.027916420166795443,0.05105055486070264,0.021159863386265364,0.0547631209989987,0.02360073002004748,0.04124380993650088,0.0437803601366201,0.03270427222425913,0.02500890190241645,0.015235988102784108,0.018508516207041657,0.02866305746065629,0.04086873080071764,0.038540123919921565,0.04918668056969263,0.02801239405148595,0.05829203803074957,0.01015109819710235,0.01408302968206952,0.03785420472940533,0.03480143274417326,0.022953960345592897,0.03565997553711481,0.04522339037892558,0.008630018023361087,0.019272213128341015,0.015448889957920063,0.04181735457459694,0.05361122249299094,0.022291766448432164,0.01140335866071648,0.017042037118741526,0.026928253794522204,0.03204026585323605,0.024560710232502437,0.06321124906167579,0.023206746632521313,0.05604220911416198,0.04068226121045848,0.03529966375818747,0.021229618305867816,0.029578334319759716,0.016695481645684962,0.03740612022520591,0.033865174661860974,0.03184915634193023,0.0508563707407052,0.024703330371280304,0.06097466477427587,0.010969206417202393,0.010614843748062243,0.03420207035818281,0.045846961763762885,0.025186821955991024,0.03842798112039101,0.050750912486716454,0.008004292455146205,0.026472882286371093,0.025885161116099873,0.04635365756796404,0.05267009722524243,0.027445404237658923,0.007115898502827659,0.018818975383338248,0.02881874143708376,0.02682079644301932,0.020555977803892827,0.04862346815671751,0.01994331723532112,0.02547583119104499,0.046958383660219406,0.031239246999387325,0.026285973625990645,0.02362406370979274,0.02062046832905849,0.04872450203421125,0.03368329822699362,0.0384604850196908,0.04572228435706266,0.021995499410284294,0.08131470870856256,0.00940303983252016,0.01069712983255312,0.04269571672107246,0.030247966906308113,0.020234433513265343,0.03747655202989077,0.05337343452774832,0.009126240972011427,0.015640978484875997,0.02709806757700316,0.047002499280555006,0.057356655591774566,0.02111185579945759,0.00861470532743136,0.027463127085378188,0.022605529819368014,0.02593997111685654,0.02745359462840166,0.06559596766750525,0.018874743849048213,0.03302260164067597,0.03467320282684863,0.02948889333207174,0.023908557965772202,0.021409027640355086,0.021223527613347507,0.04398052086109378,0.038194346641969544,0.02519015591548366,0.0475867468805097,0.026035970270553883,0.06204285622070799,0.01886321040209108,0.015228928938604582,0.04068796069263128,0.04103562500796061,0.016868342145575685,0.037529252939377596,0.058654195422335124,0.008177982348129657,0.025271153411293414,0.013857573789615756,0.03887242105209849,0.02497023506003364,0.026335003292022017,0.009411845527320445,0.02015384778104635,0.031061624742135537,0.030057239986189123,0.025670764774131775,0.04403975837387994,0.03219870509691387,0.053304952275290834,0.034765780810704285,0.029680402997169182,0.030901693355813716,0.025214687466277703,0.019698468806888754,0.03768720242992721,0.03782514499923256,0.02941790723906747,0.054479262344980545,0.01986593990187763,0.04729983669537455,0.011882094803922804,0.01366306987323433,0.02762779310120391,0.030076893279501596,0.01997488909598348,0.04237989661639483,0.03932540168780906,0.005599340799611458,0.029773621529830742,0.0220320637467845,0.04960479844282916,0.050284310531047455,0.023826208300266584,0.0050681456735729566,0.022359111776298634,0.026333303247574772,0.03639576785265012,0.03089088287588258,0.06239661454813989,0.03612393344047121,0.05137094819637239,0.040618358562721515,0.03874633085896159,0.01982337686281017,0.02043954010286616,0.012884574304652095,0.0477003586761914,0.03482267471367346,0.02499319342403061,0.05581672647745834,0.023497304839522122,0.05786996484680907,0.009692845557398867,0.01589529496394046,0.039980441852097266,0.03332414258947477,0.02743642184600408,0.03392064286346641,0.039139797962657534,0.008605629268414274,0.019647280542225937,0.022163976959629555,0.04724978012451868,0.061811240687416655,0.02521420886571915,0.009403924855548836,0.02087967324725331,0.027025924901583686,0.03248522595784518,0.01965111587063723,0.05698641625624526,0.03520129805267149,0.03642766787848195,0.03496077509638243,0.03380694369954606,0.025344499802624657,0.016239904403132673,0.019346586779021072,0.04238048550522483,0.03534491767558887,0.03851248213393457,0.0505531841149831,0.023486033120328768,0.056324023791498055,0.010155391368273045,0.011387506825636782,0.03863903994229714,0.04502451308180632,0.018772951949437656,0.029848922440719915,0.047623270532436236,0.012210084489141343,0.029404929320189295,0.018293293288201083,0.04552066682952276,0.059565406080555675,0.021775089727790756,0.007191827400121746,0.02522813095244757,0.031829096280330677,0.02659484418725817,0.034021775665376446,0.052558524559576866,0.03434092285334522,0.04117025109505483,0.036911360574558814,0.02901859510220823,0.02485057518939136,0.024418891881543604,0.015244410512189166,0.037238042918876356,0.029042020685207517,0.032434640991291855,0.04987496636338681,0.02196068149524261,0.07413269970001816,0.01040177710456222,0.010511357606483576,0.03834109505419622,0.048036801249590935,0.01978059951964182,0.03076965567472454,0.06225217014449327,0.006839261765299893,0.024471908129894283,0.01837362875590515,0.035121717401186504,0.04716358430009322,0.021412060710604357,0.006466672241972152,0.022082017010770567,0.021550752381601836,0.0344738069983001,0.0428547110725707,0.04129823812848296,0.028232897938253426,0.04126244217800488,0.03697821350258586,0.038171573136961845,0.02894828679749328,0.02267123276214539,0.017568312053664926,0.036791326679364036,0.03360267126037665,0.02890614908288472,0.04857169816262992,0.0174690362643863,0.06736196838002766,0.011200564476481307,0.012977537896711355,0.03572303339420687,0.04484212038079991,0.019055392692182562,0.04168818985455326,0.03947958194795698,0.007716669367320124,0.022463699936816604,0.023269896799456003,0.034557963981704465,0.03920991416457699,0.021186271976085313,0.012404247770395341,0.02229866662969439,0.02837619830490907,0.02679081135056132,0.025732705715942897,0.06508408231623496,0.02942983779932768,0.04044817566780249,0.05659400738232207,0.026147855029889127,0.027282640395804976,0.02000259275055162,0.0179775872520059,0.04079867142394621,0.030739246264807656,0.028704726799780103,0.06298610563275867,0.022799731636180744,0.05176883061095471,0.008340614899813751,0.016341053012405127,0.036354352073521806,0.04129602748353996,0.015742261839711516,0.03517794373682345,0.040544379699773654,0.009950751079178708,0.02252947785863078,0.023525459774587865,0.04535660665766727,0.06879714943285964,0.02339342760995157,0.009100863397430582,0.017870646814178416,0.035500919387645664,0.025975048699614166,0.03622756071781733,0.04363349549403279,0.01677818433037561,0.043482877980534004,0.045583354500259965,0.035167343775601975,0.023896554903220898,0.023366122443470378,0.019491930441265255,0.03011306097778894,0.04779820801453793,0.02625685820749595,0.05783890250912954,0.017097648577742385,0.06493591226324953,0.008228529039288862,0.015301320995848149,0.029093308546986777,0.03461369196452976,0.017731012164037552,0.031750618537777255,0.056759305840850045,0.006162945185631459,0.016681578188498056,0.01894151159170211,0.03278734847623488,0.06772092093411544,0.014992505305658162,0.006278898589810653,0.023292654196422128,0.02884485966935948,0.035048638177676006,0.028712213700929627,0.052089188979875835,0.018291724233609707,0.05055000470674355,0.04674265911134997,0.030089779317242316,0.024830978547277244,0.026602227653976202,0.011884477519242749,0.048020606322163345,0.03858613041043259,0.033017751245076755,0.06431905000666156,0.031306163382533884,0.04555132866669453,0.009560993174149206,0.01508697588017811,0.04282327033408939,0.031421536959363255,0.023470909900156697,0.028846043522307494,0.05277225258795201,0.005913417400587295,0.0365538896886921,0.021608329718053564,0.03982399046869528,0.02765646827443518,0.025425236884770153,0.008931441648611956,0.022485603918572426,0.024358193360801726,0.03402485937731347,0.029879889725364088,0.08411878266427801,0.022054373845114467,0.03462714735790464,0.039998702635866176,0.05172008365676302,0.022028645221645316,0.015680121699258406,0.017820100686178397,0.04405672612534104,0.023577752681591485,0.03485410022914562,0.051962668323591636,0.024850950313275968,0.05331973845517335,0.010732967356163366,0.010601185613563355,0.03377723713274904,0.03982149657376216,0.02650296696802084,0.03550222206351867,0.047136678877917226,0.006933644426269481,0.022983717110835404,0.019541735936516626,0.04563012559382425,0.03778331841116184,0.018422553809132453,0.008887921048975228,0.026147737274441023,0.027839924109059146,0.040147843786678544,0.034565901768754285,0.0483801800109573,0.03515336991692924,0.04171650745112797,0.05576785407779584,0.02659714414850334,0.026129324943537136,0.021852814264984265,0.02026973342926932,0.04350410439657468,0.029754015611315493,0.03083481156390232,0.04891027355531092],\"y0\":\" \",\"yaxis\":\"y\",\"type\":\"box\",\"opacity\":1.0}],                        {\"template\":{\"data\":{\"histogram2dcontour\":[{\"type\":\"histogram2dcontour\",\"colorbar\":{\"outlinewidth\":0,\"ticks\":\"\"},\"colorscale\":[[0.0,\"#0d0887\"],[0.1111111111111111,\"#46039f\"],[0.2222222222222222,\"#7201a8\"],[0.3333333333333333,\"#9c179e\"],[0.4444444444444444,\"#bd3786\"],[0.5555555555555556,\"#d8576b\"],[0.6666666666666666,\"#ed7953\"],[0.7777777777777778,\"#fb9f3a\"],[0.8888888888888888,\"#fdca26\"],[1.0,\"#f0f921\"]]}],\"choropleth\":[{\"type\":\"choropleth\",\"colorbar\":{\"outlinewidth\":0,\"ticks\":\"\"}}],\"histogram2d\":[{\"type\":\"histogram2d\",\"colorbar\":{\"outlinewidth\":0,\"ticks\":\"\"},\"colorscale\":[[0.0,\"#0d0887\"],[0.1111111111111111,\"#46039f\"],[0.2222222222222222,\"#7201a8\"],[0.3333333333333333,\"#9c179e\"],[0.4444444444444444,\"#bd3786\"],[0.5555555555555556,\"#d8576b\"],[0.6666666666666666,\"#ed7953\"],[0.7777777777777778,\"#fb9f3a\"],[0.8888888888888888,\"#fdca26\"],[1.0,\"#f0f921\"]]}],\"heatmap\":[{\"type\":\"heatmap\",\"colorbar\":{\"outlinewidth\":0,\"ticks\":\"\"},\"colorscale\":[[0.0,\"#0d0887\"],[0.1111111111111111,\"#46039f\"],[0.2222222222222222,\"#7201a8\"],[0.3333333333333333,\"#9c179e\"],[0.4444444444444444,\"#bd3786\"],[0.5555555555555556,\"#d8576b\"],[0.6666666666666666,\"#ed7953\"],[0.7777777777777778,\"#fb9f3a\"],[0.8888888888888888,\"#fdca26\"],[1.0,\"#f0f921\"]]}],\"heatmapgl\":[{\"type\":\"heatmapgl\",\"colorbar\":{\"outlinewidth\":0,\"ticks\":\"\"},\"colorscale\":[[0.0,\"#0d0887\"],[0.1111111111111111,\"#46039f\"],[0.2222222222222222,\"#7201a8\"],[0.3333333333333333,\"#9c179e\"],[0.4444444444444444,\"#bd3786\"],[0.5555555555555556,\"#d8576b\"],[0.6666666666666666,\"#ed7953\"],[0.7777777777777778,\"#fb9f3a\"],[0.8888888888888888,\"#fdca26\"],[1.0,\"#f0f921\"]]}],\"contourcarpet\":[{\"type\":\"contourcarpet\",\"colorbar\":{\"outlinewidth\":0,\"ticks\":\"\"}}],\"contour\":[{\"type\":\"contour\",\"colorbar\":{\"outlinewidth\":0,\"ticks\":\"\"},\"colorscale\":[[0.0,\"#0d0887\"],[0.1111111111111111,\"#46039f\"],[0.2222222222222222,\"#7201a8\"],[0.3333333333333333,\"#9c179e\"],[0.4444444444444444,\"#bd3786\"],[0.5555555555555556,\"#d8576b\"],[0.6666666666666666,\"#ed7953\"],[0.7777777777777778,\"#fb9f3a\"],[0.8888888888888888,\"#fdca26\"],[1.0,\"#f0f921\"]]}],\"surface\":[{\"type\":\"surface\",\"colorbar\":{\"outlinewidth\":0,\"ticks\":\"\"},\"colorscale\":[[0.0,\"#0d0887\"],[0.1111111111111111,\"#46039f\"],[0.2222222222222222,\"#7201a8\"],[0.3333333333333333,\"#9c179e\"],[0.4444444444444444,\"#bd3786\"],[0.5555555555555556,\"#d8576b\"],[0.6666666666666666,\"#ed7953\"],[0.7777777777777778,\"#fb9f3a\"],[0.8888888888888888,\"#fdca26\"],[1.0,\"#f0f921\"]]}],\"mesh3d\":[{\"type\":\"mesh3d\",\"colorbar\":{\"outlinewidth\":0,\"ticks\":\"\"}}],\"scatter\":[{\"fillpattern\":{\"fillmode\":\"overlay\",\"size\":10,\"solidity\":0.2},\"type\":\"scatter\"}],\"parcoords\":[{\"type\":\"parcoords\",\"line\":{\"colorbar\":{\"outlinewidth\":0,\"ticks\":\"\"}}}],\"scatterpolargl\":[{\"type\":\"scatterpolargl\",\"marker\":{\"colorbar\":{\"outlinewidth\":0,\"ticks\":\"\"}}}],\"bar\":[{\"error_x\":{\"color\":\"#2a3f5f\"},\"error_y\":{\"color\":\"#2a3f5f\"},\"marker\":{\"line\":{\"color\":\"#E5ECF6\",\"width\":0.5},\"pattern\":{\"fillmode\":\"overlay\",\"size\":10,\"solidity\":0.2}},\"type\":\"bar\"}],\"scattergeo\":[{\"type\":\"scattergeo\",\"marker\":{\"colorbar\":{\"outlinewidth\":0,\"ticks\":\"\"}}}],\"scatterpolar\":[{\"type\":\"scatterpolar\",\"marker\":{\"colorbar\":{\"outlinewidth\":0,\"ticks\":\"\"}}}],\"histogram\":[{\"marker\":{\"pattern\":{\"fillmode\":\"overlay\",\"size\":10,\"solidity\":0.2}},\"type\":\"histogram\"}],\"scattergl\":[{\"type\":\"scattergl\",\"marker\":{\"colorbar\":{\"outlinewidth\":0,\"ticks\":\"\"}}}],\"scatter3d\":[{\"type\":\"scatter3d\",\"line\":{\"colorbar\":{\"outlinewidth\":0,\"ticks\":\"\"}},\"marker\":{\"colorbar\":{\"outlinewidth\":0,\"ticks\":\"\"}}}],\"scattermapbox\":[{\"type\":\"scattermapbox\",\"marker\":{\"colorbar\":{\"outlinewidth\":0,\"ticks\":\"\"}}}],\"scatterternary\":[{\"type\":\"scatterternary\",\"marker\":{\"colorbar\":{\"outlinewidth\":0,\"ticks\":\"\"}}}],\"scattercarpet\":[{\"type\":\"scattercarpet\",\"marker\":{\"colorbar\":{\"outlinewidth\":0,\"ticks\":\"\"}}}],\"carpet\":[{\"aaxis\":{\"endlinecolor\":\"#2a3f5f\",\"gridcolor\":\"white\",\"linecolor\":\"white\",\"minorgridcolor\":\"white\",\"startlinecolor\":\"#2a3f5f\"},\"baxis\":{\"endlinecolor\":\"#2a3f5f\",\"gridcolor\":\"white\",\"linecolor\":\"white\",\"minorgridcolor\":\"white\",\"startlinecolor\":\"#2a3f5f\"},\"type\":\"carpet\"}],\"table\":[{\"cells\":{\"fill\":{\"color\":\"#EBF0F8\"},\"line\":{\"color\":\"white\"}},\"header\":{\"fill\":{\"color\":\"#C8D4E3\"},\"line\":{\"color\":\"white\"}},\"type\":\"table\"}],\"barpolar\":[{\"marker\":{\"line\":{\"color\":\"#E5ECF6\",\"width\":0.5},\"pattern\":{\"fillmode\":\"overlay\",\"size\":10,\"solidity\":0.2}},\"type\":\"barpolar\"}],\"pie\":[{\"automargin\":true,\"type\":\"pie\"}]},\"layout\":{\"autotypenumbers\":\"strict\",\"colorway\":[\"#636efa\",\"#EF553B\",\"#00cc96\",\"#ab63fa\",\"#FFA15A\",\"#19d3f3\",\"#FF6692\",\"#B6E880\",\"#FF97FF\",\"#FECB52\"],\"font\":{\"color\":\"#2a3f5f\"},\"hovermode\":\"closest\",\"hoverlabel\":{\"align\":\"left\"},\"paper_bgcolor\":\"white\",\"plot_bgcolor\":\"#E5ECF6\",\"polar\":{\"bgcolor\":\"#E5ECF6\",\"angularaxis\":{\"gridcolor\":\"white\",\"linecolor\":\"white\",\"ticks\":\"\"},\"radialaxis\":{\"gridcolor\":\"white\",\"linecolor\":\"white\",\"ticks\":\"\"}},\"ternary\":{\"bgcolor\":\"#E5ECF6\",\"aaxis\":{\"gridcolor\":\"white\",\"linecolor\":\"white\",\"ticks\":\"\"},\"baxis\":{\"gridcolor\":\"white\",\"linecolor\":\"white\",\"ticks\":\"\"},\"caxis\":{\"gridcolor\":\"white\",\"linecolor\":\"white\",\"ticks\":\"\"}},\"coloraxis\":{\"colorbar\":{\"outlinewidth\":0,\"ticks\":\"\"}},\"colorscale\":{\"sequential\":[[0.0,\"#0d0887\"],[0.1111111111111111,\"#46039f\"],[0.2222222222222222,\"#7201a8\"],[0.3333333333333333,\"#9c179e\"],[0.4444444444444444,\"#bd3786\"],[0.5555555555555556,\"#d8576b\"],[0.6666666666666666,\"#ed7953\"],[0.7777777777777778,\"#fb9f3a\"],[0.8888888888888888,\"#fdca26\"],[1.0,\"#f0f921\"]],\"sequentialminus\":[[0.0,\"#0d0887\"],[0.1111111111111111,\"#46039f\"],[0.2222222222222222,\"#7201a8\"],[0.3333333333333333,\"#9c179e\"],[0.4444444444444444,\"#bd3786\"],[0.5555555555555556,\"#d8576b\"],[0.6666666666666666,\"#ed7953\"],[0.7777777777777778,\"#fb9f3a\"],[0.8888888888888888,\"#fdca26\"],[1.0,\"#f0f921\"]],\"diverging\":[[0,\"#8e0152\"],[0.1,\"#c51b7d\"],[0.2,\"#de77ae\"],[0.3,\"#f1b6da\"],[0.4,\"#fde0ef\"],[0.5,\"#f7f7f7\"],[0.6,\"#e6f5d0\"],[0.7,\"#b8e186\"],[0.8,\"#7fbc41\"],[0.9,\"#4d9221\"],[1,\"#276419\"]]},\"xaxis\":{\"gridcolor\":\"white\",\"linecolor\":\"white\",\"ticks\":\"\",\"title\":{\"standoff\":15},\"zerolinecolor\":\"white\",\"automargin\":true,\"zerolinewidth\":2},\"yaxis\":{\"gridcolor\":\"white\",\"linecolor\":\"white\",\"ticks\":\"\",\"title\":{\"standoff\":15},\"zerolinecolor\":\"white\",\"automargin\":true,\"zerolinewidth\":2},\"scene\":{\"xaxis\":{\"backgroundcolor\":\"#E5ECF6\",\"gridcolor\":\"white\",\"linecolor\":\"white\",\"showbackground\":true,\"ticks\":\"\",\"zerolinecolor\":\"white\",\"gridwidth\":2},\"yaxis\":{\"backgroundcolor\":\"#E5ECF6\",\"gridcolor\":\"white\",\"linecolor\":\"white\",\"showbackground\":true,\"ticks\":\"\",\"zerolinecolor\":\"white\",\"gridwidth\":2},\"zaxis\":{\"backgroundcolor\":\"#E5ECF6\",\"gridcolor\":\"white\",\"linecolor\":\"white\",\"showbackground\":true,\"ticks\":\"\",\"zerolinecolor\":\"white\",\"gridwidth\":2}},\"shapedefaults\":{\"line\":{\"color\":\"#2a3f5f\"}},\"annotationdefaults\":{\"arrowcolor\":\"#2a3f5f\",\"arrowhead\":0,\"arrowwidth\":1},\"geo\":{\"bgcolor\":\"white\",\"landcolor\":\"#E5ECF6\",\"subunitcolor\":\"white\",\"showland\":true,\"showlakes\":true,\"lakecolor\":\"white\"},\"title\":{\"x\":0.05},\"mapbox\":{\"style\":\"light\"}}},\"xaxis\":{\"anchor\":\"y\",\"domain\":[0.0,1.0],\"title\":{\"text\":\"\"},\"mirror\":true,\"zeroline\":true,\"showline\":true,\"linecolor\":\"black\",\"linewidth\":2},\"yaxis\":{\"anchor\":\"x\",\"domain\":[0.0,1.0],\"title\":{\"text\":\"Feature Importance Score\"},\"color\":\"black\",\"zeroline\":true,\"showline\":true,\"linecolor\":\"black\",\"mirror\":true,\"linewidth\":2,\"showgrid\":false,\"gridwidth\":0.5,\"gridcolor\":\"grey\"},\"legend\":{\"tracegroupgap\":0},\"margin\":{\"t\":60},\"boxmode\":\"group\",\"paper_bgcolor\":\"white\",\"plot_bgcolor\":\"white\",\"font\":{\"size\":18,\"color\":\"black\"},\"width\":1100,\"height\":700,\"showlegend\":true},                        {\"responsive\": true}                    ).then(function(){\n",
       "                            \n",
       "var gd = document.getElementById('880d1583-7599-4932-ad39-b3fa4d71874a');\n",
       "var x = new MutationObserver(function (mutations, observer) {{\n",
       "        var display = window.getComputedStyle(gd).display;\n",
       "        if (!display || display === 'none') {{\n",
       "            console.log([gd, 'removed!']);\n",
       "            Plotly.purge(gd);\n",
       "            observer.disconnect();\n",
       "        }}\n",
       "}});\n",
       "\n",
       "// Listen for the removal of the full notebook cells\n",
       "var notebookContainer = gd.closest('#notebook-container');\n",
       "if (notebookContainer) {{\n",
       "    x.observe(notebookContainer, {childList: true});\n",
       "}}\n",
       "\n",
       "// Listen for the clearing of the current output cell\n",
       "var outputEl = gd.closest('.output');\n",
       "if (outputEl) {{\n",
       "    x.observe(outputEl, {childList: true});\n",
       "}}\n",
       "\n",
       "                        })                };                });            </script>        </div>"
      ]
     },
     "metadata": {},
     "output_type": "display_data"
    }
   ],
   "source": [
    "fig = px.box(feat_BZR, x=\"features\", y=\"importance\")\n",
    "\n",
    "fig.update_layout(paper_bgcolor='white')\n",
    "fig.update_layout(plot_bgcolor='white')\n",
    "fig.update_yaxes(color='black')\n",
    "fig.update_layout(\n",
    "    yaxis = dict(\n",
    "        title = \"Feature Importance Score\",\n",
    "        zeroline=True,\n",
    "        showline = True,\n",
    "        linecolor = 'black',\n",
    "        mirror=True,\n",
    "        linewidth = 2\n",
    "    ),\n",
    "    xaxis = dict(\n",
    "        title = \"\",\n",
    "        mirror=True,\n",
    "        zeroline=True,\n",
    "        showline = True,\n",
    "        linecolor = 'black',\n",
    "        linewidth = 2,\n",
    "    ),\n",
    "    width=1100,\n",
    "    height=700,\n",
    "    font=dict(\n",
    "    size=18,\n",
    "    color=\"black\")  \n",
    ")\n",
    "fig.update_layout(showlegend=True)\n",
    "# fig.update_layout(yaxis_range=[0.0,0.35])\n",
    "# fig.update_xaxes(showgrid=True, gridwidth=2.0, gridcolor='#e3e1e1')\n",
    "fig.update_yaxes(showgrid=False, gridwidth=0.5, gridcolor='grey')\n",
    "fig.update_traces(marker_line_color='black', marker_line_width=1.0, opacity=1.0)\n",
    "\n",
    "fig.show()"
   ]
  },
  {
   "cell_type": "code",
   "execution_count": 100,
   "id": "4bb162ed-81ab-4992-9979-efc206af6f4e",
   "metadata": {},
   "outputs": [
    {
     "data": {
      "application/vnd.plotly.v1+json": {
       "config": {
        "plotlyServerURL": "https://plot.ly"
       },
       "data": [
        {
         "alignmentgroup": "True",
         "hovertemplate": "dataset=%{x}<br>accuracy=%{y}<extra></extra>",
         "legendgroup": "",
         "marker": {
          "color": "#636efa",
          "line": {
           "color": "black",
           "width": 1
          }
         },
         "name": "",
         "notched": false,
         "offsetgroup": "",
         "opacity": 1,
         "orientation": "v",
         "showlegend": false,
         "type": "box",
         "x": [
          "NCI1",
          "NCI1",
          "NCI1",
          "NCI1",
          "NCI1",
          "NCI1",
          "NCI1",
          "NCI1",
          "NCI1",
          "NCI1",
          "NCI1",
          "NCI1",
          "NCI1",
          "NCI1",
          "NCI1",
          "NCI1",
          "NCI1",
          "NCI1",
          "NCI1",
          "NCI1",
          "NCI1",
          "NCI1",
          "NCI1",
          "NCI1",
          "NCI1",
          "NCI1",
          "NCI1",
          "NCI1",
          "NCI1",
          "NCI1",
          "MUTAG",
          "MUTAG",
          "MUTAG",
          "MUTAG",
          "MUTAG",
          "MUTAG",
          "MUTAG",
          "MUTAG",
          "MUTAG",
          "MUTAG",
          "MUTAG",
          "MUTAG",
          "MUTAG",
          "MUTAG",
          "MUTAG",
          "MUTAG",
          "MUTAG",
          "MUTAG",
          "MUTAG",
          "MUTAG",
          "MUTAG",
          "MUTAG",
          "MUTAG",
          "MUTAG",
          "MUTAG",
          "MUTAG",
          "MUTAG",
          "MUTAG",
          "MUTAG",
          "MUTAG",
          "IMDB",
          "IMDB",
          "IMDB",
          "IMDB",
          "IMDB",
          "IMDB",
          "IMDB",
          "IMDB",
          "IMDB",
          "IMDB",
          "IMDB",
          "IMDB",
          "IMDB",
          "IMDB",
          "IMDB",
          "IMDB",
          "IMDB",
          "IMDB",
          "IMDB",
          "IMDB",
          "IMDB",
          "IMDB",
          "IMDB",
          "IMDB",
          "IMDB",
          "IMDB",
          "IMDB",
          "IMDB",
          "IMDB",
          "IMDB",
          "PROTEINS",
          "PROTEINS",
          "PROTEINS",
          "PROTEINS",
          "PROTEINS",
          "PROTEINS",
          "PROTEINS",
          "PROTEINS",
          "PROTEINS",
          "PROTEINS",
          "PROTEINS",
          "PROTEINS",
          "PROTEINS",
          "PROTEINS",
          "PROTEINS",
          "PROTEINS",
          "PROTEINS",
          "PROTEINS",
          "PROTEINS",
          "PROTEINS",
          "PROTEINS",
          "PROTEINS",
          "PROTEINS",
          "PROTEINS",
          "PROTEINS",
          "PROTEINS",
          "PROTEINS",
          "PROTEINS",
          "PROTEINS",
          "PROTEINS",
          "BZR",
          "BZR",
          "BZR",
          "BZR",
          "BZR",
          "BZR",
          "BZR",
          "BZR",
          "BZR",
          "BZR",
          "BZR",
          "BZR",
          "BZR",
          "BZR",
          "BZR",
          "BZR",
          "BZR",
          "BZR",
          "BZR",
          "BZR",
          "BZR",
          "BZR",
          "BZR",
          "BZR",
          "BZR",
          "BZR",
          "BZR",
          "BZR",
          "BZR",
          "BZR"
         ],
         "x0": " ",
         "xaxis": "x",
         "y": [
          0.7047850770478508,
          0.7364152473641524,
          0.7412814274128142,
          0.7283049472830495,
          0.7364152473641524,
          0.7356042173560422,
          0.7493917274939172,
          0.7331711273317113,
          0.7266828872668288,
          0.7429034874290349,
          0.7356042173560422,
          0.7510137875101379,
          0.7469586374695864,
          0.7461476074614761,
          0.7493917274939172,
          0.7266828872668288,
          0.7347931873479319,
          0.7429034874290349,
          0.7356042173560422,
          0.7266828872668288,
          0.7088402270884022,
          0.7274939172749392,
          0.7177615571776156,
          0.7169505271695052,
          0.7283049472830495,
          0.7469586374695864,
          0.7145174371451744,
          0.7201946472019465,
          0.7112733171127331,
          0.7266828872668288,
          0.8596491228070176,
          0.8421052631578947,
          0.8245614035087719,
          0.8421052631578947,
          0.8771929824561403,
          0.8771929824561403,
          0.8947368421052632,
          0.8947368421052632,
          0.8771929824561403,
          0.8771929824561403,
          0.8596491228070176,
          0.8947368421052632,
          0.8947368421052632,
          0.7894736842105263,
          0.8421052631578947,
          0.9122807017543859,
          0.7894736842105263,
          0.8245614035087719,
          0.8771929824561403,
          0.9298245614035088,
          0.8245614035087719,
          0.7543859649122807,
          0.8771929824561403,
          0.9298245614035088,
          0.8421052631578947,
          0.8947368421052632,
          0.8596491228070176,
          0.9298245614035088,
          0.8596491228070176,
          0.8771929824561403,
          0.6833333333333333,
          0.6866666666666666,
          0.7133333333333334,
          0.7166666666666667,
          0.6733333333333333,
          0.6666666666666666,
          0.7166666666666667,
          0.7533333333333333,
          0.71,
          0.6866666666666666,
          0.73,
          0.6933333333333334,
          0.68,
          0.71,
          0.7,
          0.7166666666666667,
          0.72,
          0.7433333333333333,
          0.7433333333333333,
          0.72,
          0.6833333333333333,
          0.6666666666666666,
          0.71,
          0.6933333333333334,
          0.7,
          0.6633333333333333,
          0.68,
          0.6733333333333333,
          0.6866666666666666,
          0.72,
          0.8053892215568862,
          0.6706586826347305,
          0.7544910179640718,
          0.7305389221556886,
          0.7335329341317365,
          0.7604790419161677,
          0.7395209580838323,
          0.7574850299401198,
          0.7455089820359282,
          0.7275449101796407,
          0.718562874251497,
          0.7395209580838323,
          0.7365269461077845,
          0.7365269461077845,
          0.7485029940119761,
          0.7395209580838323,
          0.7544910179640718,
          0.6616766467065869,
          0.7065868263473054,
          0.7335329341317365,
          0.7095808383233533,
          0.7604790419161677,
          0.7335329341317365,
          0.7215568862275449,
          0.7544910179640718,
          0.718562874251497,
          0.7395209580838323,
          0.7155688622754491,
          0.7305389221556886,
          0.7395209580838323,
          0.8770491803278688,
          0.860655737704918,
          0.8442622950819673,
          0.8524590163934426,
          0.9016393442622951,
          0.8278688524590164,
          0.8934426229508197,
          0.8114754098360656,
          0.8114754098360656,
          0.7950819672131147,
          0.8278688524590164,
          0.8360655737704918,
          0.8524590163934426,
          0.9098360655737705,
          0.8360655737704918,
          0.8524590163934426,
          0.8524590163934426,
          0.8524590163934426,
          0.8770491803278688,
          0.860655737704918,
          0.860655737704918,
          0.860655737704918,
          0.8360655737704918,
          0.8770491803278688,
          0.8770491803278688,
          0.9344262295081968,
          0.8770491803278688,
          0.819672131147541,
          0.8524590163934426,
          0.8442622950819673
         ],
         "y0": " ",
         "yaxis": "y"
        }
       ],
       "layout": {
        "boxmode": "group",
        "font": {
         "color": "black",
         "size": 16
        },
        "height": 700,
        "legend": {
         "tracegroupgap": 0
        },
        "margin": {
         "t": 60
        },
        "paper_bgcolor": "white",
        "plot_bgcolor": "white",
        "showlegend": true,
        "template": {
         "data": {
          "bar": [
           {
            "error_x": {
             "color": "#2a3f5f"
            },
            "error_y": {
             "color": "#2a3f5f"
            },
            "marker": {
             "line": {
              "color": "#E5ECF6",
              "width": 0.5
             },
             "pattern": {
              "fillmode": "overlay",
              "size": 10,
              "solidity": 0.2
             }
            },
            "type": "bar"
           }
          ],
          "barpolar": [
           {
            "marker": {
             "line": {
              "color": "#E5ECF6",
              "width": 0.5
             },
             "pattern": {
              "fillmode": "overlay",
              "size": 10,
              "solidity": 0.2
             }
            },
            "type": "barpolar"
           }
          ],
          "carpet": [
           {
            "aaxis": {
             "endlinecolor": "#2a3f5f",
             "gridcolor": "white",
             "linecolor": "white",
             "minorgridcolor": "white",
             "startlinecolor": "#2a3f5f"
            },
            "baxis": {
             "endlinecolor": "#2a3f5f",
             "gridcolor": "white",
             "linecolor": "white",
             "minorgridcolor": "white",
             "startlinecolor": "#2a3f5f"
            },
            "type": "carpet"
           }
          ],
          "choropleth": [
           {
            "colorbar": {
             "outlinewidth": 0,
             "ticks": ""
            },
            "type": "choropleth"
           }
          ],
          "contour": [
           {
            "colorbar": {
             "outlinewidth": 0,
             "ticks": ""
            },
            "colorscale": [
             [
              0,
              "#0d0887"
             ],
             [
              0.1111111111111111,
              "#46039f"
             ],
             [
              0.2222222222222222,
              "#7201a8"
             ],
             [
              0.3333333333333333,
              "#9c179e"
             ],
             [
              0.4444444444444444,
              "#bd3786"
             ],
             [
              0.5555555555555556,
              "#d8576b"
             ],
             [
              0.6666666666666666,
              "#ed7953"
             ],
             [
              0.7777777777777778,
              "#fb9f3a"
             ],
             [
              0.8888888888888888,
              "#fdca26"
             ],
             [
              1,
              "#f0f921"
             ]
            ],
            "type": "contour"
           }
          ],
          "contourcarpet": [
           {
            "colorbar": {
             "outlinewidth": 0,
             "ticks": ""
            },
            "type": "contourcarpet"
           }
          ],
          "heatmap": [
           {
            "colorbar": {
             "outlinewidth": 0,
             "ticks": ""
            },
            "colorscale": [
             [
              0,
              "#0d0887"
             ],
             [
              0.1111111111111111,
              "#46039f"
             ],
             [
              0.2222222222222222,
              "#7201a8"
             ],
             [
              0.3333333333333333,
              "#9c179e"
             ],
             [
              0.4444444444444444,
              "#bd3786"
             ],
             [
              0.5555555555555556,
              "#d8576b"
             ],
             [
              0.6666666666666666,
              "#ed7953"
             ],
             [
              0.7777777777777778,
              "#fb9f3a"
             ],
             [
              0.8888888888888888,
              "#fdca26"
             ],
             [
              1,
              "#f0f921"
             ]
            ],
            "type": "heatmap"
           }
          ],
          "heatmapgl": [
           {
            "colorbar": {
             "outlinewidth": 0,
             "ticks": ""
            },
            "colorscale": [
             [
              0,
              "#0d0887"
             ],
             [
              0.1111111111111111,
              "#46039f"
             ],
             [
              0.2222222222222222,
              "#7201a8"
             ],
             [
              0.3333333333333333,
              "#9c179e"
             ],
             [
              0.4444444444444444,
              "#bd3786"
             ],
             [
              0.5555555555555556,
              "#d8576b"
             ],
             [
              0.6666666666666666,
              "#ed7953"
             ],
             [
              0.7777777777777778,
              "#fb9f3a"
             ],
             [
              0.8888888888888888,
              "#fdca26"
             ],
             [
              1,
              "#f0f921"
             ]
            ],
            "type": "heatmapgl"
           }
          ],
          "histogram": [
           {
            "marker": {
             "pattern": {
              "fillmode": "overlay",
              "size": 10,
              "solidity": 0.2
             }
            },
            "type": "histogram"
           }
          ],
          "histogram2d": [
           {
            "colorbar": {
             "outlinewidth": 0,
             "ticks": ""
            },
            "colorscale": [
             [
              0,
              "#0d0887"
             ],
             [
              0.1111111111111111,
              "#46039f"
             ],
             [
              0.2222222222222222,
              "#7201a8"
             ],
             [
              0.3333333333333333,
              "#9c179e"
             ],
             [
              0.4444444444444444,
              "#bd3786"
             ],
             [
              0.5555555555555556,
              "#d8576b"
             ],
             [
              0.6666666666666666,
              "#ed7953"
             ],
             [
              0.7777777777777778,
              "#fb9f3a"
             ],
             [
              0.8888888888888888,
              "#fdca26"
             ],
             [
              1,
              "#f0f921"
             ]
            ],
            "type": "histogram2d"
           }
          ],
          "histogram2dcontour": [
           {
            "colorbar": {
             "outlinewidth": 0,
             "ticks": ""
            },
            "colorscale": [
             [
              0,
              "#0d0887"
             ],
             [
              0.1111111111111111,
              "#46039f"
             ],
             [
              0.2222222222222222,
              "#7201a8"
             ],
             [
              0.3333333333333333,
              "#9c179e"
             ],
             [
              0.4444444444444444,
              "#bd3786"
             ],
             [
              0.5555555555555556,
              "#d8576b"
             ],
             [
              0.6666666666666666,
              "#ed7953"
             ],
             [
              0.7777777777777778,
              "#fb9f3a"
             ],
             [
              0.8888888888888888,
              "#fdca26"
             ],
             [
              1,
              "#f0f921"
             ]
            ],
            "type": "histogram2dcontour"
           }
          ],
          "mesh3d": [
           {
            "colorbar": {
             "outlinewidth": 0,
             "ticks": ""
            },
            "type": "mesh3d"
           }
          ],
          "parcoords": [
           {
            "line": {
             "colorbar": {
              "outlinewidth": 0,
              "ticks": ""
             }
            },
            "type": "parcoords"
           }
          ],
          "pie": [
           {
            "automargin": true,
            "type": "pie"
           }
          ],
          "scatter": [
           {
            "fillpattern": {
             "fillmode": "overlay",
             "size": 10,
             "solidity": 0.2
            },
            "type": "scatter"
           }
          ],
          "scatter3d": [
           {
            "line": {
             "colorbar": {
              "outlinewidth": 0,
              "ticks": ""
             }
            },
            "marker": {
             "colorbar": {
              "outlinewidth": 0,
              "ticks": ""
             }
            },
            "type": "scatter3d"
           }
          ],
          "scattercarpet": [
           {
            "marker": {
             "colorbar": {
              "outlinewidth": 0,
              "ticks": ""
             }
            },
            "type": "scattercarpet"
           }
          ],
          "scattergeo": [
           {
            "marker": {
             "colorbar": {
              "outlinewidth": 0,
              "ticks": ""
             }
            },
            "type": "scattergeo"
           }
          ],
          "scattergl": [
           {
            "marker": {
             "colorbar": {
              "outlinewidth": 0,
              "ticks": ""
             }
            },
            "type": "scattergl"
           }
          ],
          "scattermapbox": [
           {
            "marker": {
             "colorbar": {
              "outlinewidth": 0,
              "ticks": ""
             }
            },
            "type": "scattermapbox"
           }
          ],
          "scatterpolar": [
           {
            "marker": {
             "colorbar": {
              "outlinewidth": 0,
              "ticks": ""
             }
            },
            "type": "scatterpolar"
           }
          ],
          "scatterpolargl": [
           {
            "marker": {
             "colorbar": {
              "outlinewidth": 0,
              "ticks": ""
             }
            },
            "type": "scatterpolargl"
           }
          ],
          "scatterternary": [
           {
            "marker": {
             "colorbar": {
              "outlinewidth": 0,
              "ticks": ""
             }
            },
            "type": "scatterternary"
           }
          ],
          "surface": [
           {
            "colorbar": {
             "outlinewidth": 0,
             "ticks": ""
            },
            "colorscale": [
             [
              0,
              "#0d0887"
             ],
             [
              0.1111111111111111,
              "#46039f"
             ],
             [
              0.2222222222222222,
              "#7201a8"
             ],
             [
              0.3333333333333333,
              "#9c179e"
             ],
             [
              0.4444444444444444,
              "#bd3786"
             ],
             [
              0.5555555555555556,
              "#d8576b"
             ],
             [
              0.6666666666666666,
              "#ed7953"
             ],
             [
              0.7777777777777778,
              "#fb9f3a"
             ],
             [
              0.8888888888888888,
              "#fdca26"
             ],
             [
              1,
              "#f0f921"
             ]
            ],
            "type": "surface"
           }
          ],
          "table": [
           {
            "cells": {
             "fill": {
              "color": "#EBF0F8"
             },
             "line": {
              "color": "white"
             }
            },
            "header": {
             "fill": {
              "color": "#C8D4E3"
             },
             "line": {
              "color": "white"
             }
            },
            "type": "table"
           }
          ]
         },
         "layout": {
          "annotationdefaults": {
           "arrowcolor": "#2a3f5f",
           "arrowhead": 0,
           "arrowwidth": 1
          },
          "autotypenumbers": "strict",
          "coloraxis": {
           "colorbar": {
            "outlinewidth": 0,
            "ticks": ""
           }
          },
          "colorscale": {
           "diverging": [
            [
             0,
             "#8e0152"
            ],
            [
             0.1,
             "#c51b7d"
            ],
            [
             0.2,
             "#de77ae"
            ],
            [
             0.3,
             "#f1b6da"
            ],
            [
             0.4,
             "#fde0ef"
            ],
            [
             0.5,
             "#f7f7f7"
            ],
            [
             0.6,
             "#e6f5d0"
            ],
            [
             0.7,
             "#b8e186"
            ],
            [
             0.8,
             "#7fbc41"
            ],
            [
             0.9,
             "#4d9221"
            ],
            [
             1,
             "#276419"
            ]
           ],
           "sequential": [
            [
             0,
             "#0d0887"
            ],
            [
             0.1111111111111111,
             "#46039f"
            ],
            [
             0.2222222222222222,
             "#7201a8"
            ],
            [
             0.3333333333333333,
             "#9c179e"
            ],
            [
             0.4444444444444444,
             "#bd3786"
            ],
            [
             0.5555555555555556,
             "#d8576b"
            ],
            [
             0.6666666666666666,
             "#ed7953"
            ],
            [
             0.7777777777777778,
             "#fb9f3a"
            ],
            [
             0.8888888888888888,
             "#fdca26"
            ],
            [
             1,
             "#f0f921"
            ]
           ],
           "sequentialminus": [
            [
             0,
             "#0d0887"
            ],
            [
             0.1111111111111111,
             "#46039f"
            ],
            [
             0.2222222222222222,
             "#7201a8"
            ],
            [
             0.3333333333333333,
             "#9c179e"
            ],
            [
             0.4444444444444444,
             "#bd3786"
            ],
            [
             0.5555555555555556,
             "#d8576b"
            ],
            [
             0.6666666666666666,
             "#ed7953"
            ],
            [
             0.7777777777777778,
             "#fb9f3a"
            ],
            [
             0.8888888888888888,
             "#fdca26"
            ],
            [
             1,
             "#f0f921"
            ]
           ]
          },
          "colorway": [
           "#636efa",
           "#EF553B",
           "#00cc96",
           "#ab63fa",
           "#FFA15A",
           "#19d3f3",
           "#FF6692",
           "#B6E880",
           "#FF97FF",
           "#FECB52"
          ],
          "font": {
           "color": "#2a3f5f"
          },
          "geo": {
           "bgcolor": "white",
           "lakecolor": "white",
           "landcolor": "#E5ECF6",
           "showlakes": true,
           "showland": true,
           "subunitcolor": "white"
          },
          "hoverlabel": {
           "align": "left"
          },
          "hovermode": "closest",
          "mapbox": {
           "style": "light"
          },
          "paper_bgcolor": "white",
          "plot_bgcolor": "#E5ECF6",
          "polar": {
           "angularaxis": {
            "gridcolor": "white",
            "linecolor": "white",
            "ticks": ""
           },
           "bgcolor": "#E5ECF6",
           "radialaxis": {
            "gridcolor": "white",
            "linecolor": "white",
            "ticks": ""
           }
          },
          "scene": {
           "xaxis": {
            "backgroundcolor": "#E5ECF6",
            "gridcolor": "white",
            "gridwidth": 2,
            "linecolor": "white",
            "showbackground": true,
            "ticks": "",
            "zerolinecolor": "white"
           },
           "yaxis": {
            "backgroundcolor": "#E5ECF6",
            "gridcolor": "white",
            "gridwidth": 2,
            "linecolor": "white",
            "showbackground": true,
            "ticks": "",
            "zerolinecolor": "white"
           },
           "zaxis": {
            "backgroundcolor": "#E5ECF6",
            "gridcolor": "white",
            "gridwidth": 2,
            "linecolor": "white",
            "showbackground": true,
            "ticks": "",
            "zerolinecolor": "white"
           }
          },
          "shapedefaults": {
           "line": {
            "color": "#2a3f5f"
           }
          },
          "ternary": {
           "aaxis": {
            "gridcolor": "white",
            "linecolor": "white",
            "ticks": ""
           },
           "baxis": {
            "gridcolor": "white",
            "linecolor": "white",
            "ticks": ""
           },
           "bgcolor": "#E5ECF6",
           "caxis": {
            "gridcolor": "white",
            "linecolor": "white",
            "ticks": ""
           }
          },
          "title": {
           "x": 0.05
          },
          "xaxis": {
           "automargin": true,
           "gridcolor": "white",
           "linecolor": "white",
           "ticks": "",
           "title": {
            "standoff": 15
           },
           "zerolinecolor": "white",
           "zerolinewidth": 2
          },
          "yaxis": {
           "automargin": true,
           "gridcolor": "white",
           "linecolor": "white",
           "ticks": "",
           "title": {
            "standoff": 15
           },
           "zerolinecolor": "white",
           "zerolinewidth": 2
          }
         }
        },
        "width": 800,
        "xaxis": {
         "anchor": "y",
         "autorange": true,
         "domain": [
          0,
          1
         ],
         "gridcolor": "#e3e1e1",
         "gridwidth": 0.5,
         "linecolor": "black",
         "linewidth": 2,
         "mirror": true,
         "range": [
          -0.5,
          4.5
         ],
         "showgrid": false,
         "showline": true,
         "title": {
          "text": ""
         },
         "type": "category",
         "zeroline": true
        },
        "yaxis": {
         "anchor": "x",
         "autorange": true,
         "color": "black",
         "domain": [
          0,
          1
         ],
         "gridcolor": "grey",
         "gridwidth": 0.5,
         "linecolor": "black",
         "linewidth": 2,
         "mirror": true,
         "range": [
          0.6465238921064974,
          0.9495789841082862
         ],
         "showgrid": false,
         "showline": true,
         "title": {
          "text": "Feature Importance Score"
         },
         "type": "linear",
         "zeroline": true
        }
       }
      },
      "image/png": "[encoded data removed]",
      "text/html": [
       "<div>                            <div id=\"f7477244-3056-4162-badb-0f60960b5918\" class=\"plotly-graph-div\" style=\"height:700px; width:800px;\"></div>            <script type=\"text/javascript\">                require([\"plotly\"], function(Plotly) {                    window.PLOTLYENV=window.PLOTLYENV || {};                                    if (document.getElementById(\"f7477244-3056-4162-badb-0f60960b5918\")) {                    Plotly.newPlot(                        \"f7477244-3056-4162-badb-0f60960b5918\",                        [{\"alignmentgroup\":\"True\",\"hovertemplate\":\"dataset=%{x}\\u003cbr\\u003eaccuracy=%{y}\\u003cextra\\u003e\\u003c\\u002fextra\\u003e\",\"legendgroup\":\"\",\"marker\":{\"color\":\"#636efa\",\"line\":{\"color\":\"black\",\"width\":1.0}},\"name\":\"\",\"notched\":false,\"offsetgroup\":\"\",\"orientation\":\"v\",\"showlegend\":false,\"x\":[\"NCI1\",\"NCI1\",\"NCI1\",\"NCI1\",\"NCI1\",\"NCI1\",\"NCI1\",\"NCI1\",\"NCI1\",\"NCI1\",\"NCI1\",\"NCI1\",\"NCI1\",\"NCI1\",\"NCI1\",\"NCI1\",\"NCI1\",\"NCI1\",\"NCI1\",\"NCI1\",\"NCI1\",\"NCI1\",\"NCI1\",\"NCI1\",\"NCI1\",\"NCI1\",\"NCI1\",\"NCI1\",\"NCI1\",\"NCI1\",\"MUTAG\",\"MUTAG\",\"MUTAG\",\"MUTAG\",\"MUTAG\",\"MUTAG\",\"MUTAG\",\"MUTAG\",\"MUTAG\",\"MUTAG\",\"MUTAG\",\"MUTAG\",\"MUTAG\",\"MUTAG\",\"MUTAG\",\"MUTAG\",\"MUTAG\",\"MUTAG\",\"MUTAG\",\"MUTAG\",\"MUTAG\",\"MUTAG\",\"MUTAG\",\"MUTAG\",\"MUTAG\",\"MUTAG\",\"MUTAG\",\"MUTAG\",\"MUTAG\",\"MUTAG\",\"IMDB\",\"IMDB\",\"IMDB\",\"IMDB\",\"IMDB\",\"IMDB\",\"IMDB\",\"IMDB\",\"IMDB\",\"IMDB\",\"IMDB\",\"IMDB\",\"IMDB\",\"IMDB\",\"IMDB\",\"IMDB\",\"IMDB\",\"IMDB\",\"IMDB\",\"IMDB\",\"IMDB\",\"IMDB\",\"IMDB\",\"IMDB\",\"IMDB\",\"IMDB\",\"IMDB\",\"IMDB\",\"IMDB\",\"IMDB\",\"PROTEINS\",\"PROTEINS\",\"PROTEINS\",\"PROTEINS\",\"PROTEINS\",\"PROTEINS\",\"PROTEINS\",\"PROTEINS\",\"PROTEINS\",\"PROTEINS\",\"PROTEINS\",\"PROTEINS\",\"PROTEINS\",\"PROTEINS\",\"PROTEINS\",\"PROTEINS\",\"PROTEINS\",\"PROTEINS\",\"PROTEINS\",\"PROTEINS\",\"PROTEINS\",\"PROTEINS\",\"PROTEINS\",\"PROTEINS\",\"PROTEINS\",\"PROTEINS\",\"PROTEINS\",\"PROTEINS\",\"PROTEINS\",\"PROTEINS\",\"BZR\",\"BZR\",\"BZR\",\"BZR\",\"BZR\",\"BZR\",\"BZR\",\"BZR\",\"BZR\",\"BZR\",\"BZR\",\"BZR\",\"BZR\",\"BZR\",\"BZR\",\"BZR\",\"BZR\",\"BZR\",\"BZR\",\"BZR\",\"BZR\",\"BZR\",\"BZR\",\"BZR\",\"BZR\",\"BZR\",\"BZR\",\"BZR\",\"BZR\",\"BZR\"],\"x0\":\" \",\"xaxis\":\"x\",\"y\":[0.7047850770478508,0.7364152473641524,0.7412814274128142,0.7283049472830495,0.7364152473641524,0.7356042173560422,0.7493917274939172,0.7331711273317113,0.7266828872668288,0.7429034874290349,0.7356042173560422,0.7510137875101379,0.7469586374695864,0.7461476074614761,0.7493917274939172,0.7266828872668288,0.7347931873479319,0.7429034874290349,0.7356042173560422,0.7266828872668288,0.7088402270884022,0.7274939172749392,0.7177615571776156,0.7169505271695052,0.7283049472830495,0.7469586374695864,0.7145174371451744,0.7201946472019465,0.7112733171127331,0.7266828872668288,0.8596491228070176,0.8421052631578947,0.8245614035087719,0.8421052631578947,0.8771929824561403,0.8771929824561403,0.8947368421052632,0.8947368421052632,0.8771929824561403,0.8771929824561403,0.8596491228070176,0.8947368421052632,0.8947368421052632,0.7894736842105263,0.8421052631578947,0.9122807017543859,0.7894736842105263,0.8245614035087719,0.8771929824561403,0.9298245614035088,0.8245614035087719,0.7543859649122807,0.8771929824561403,0.9298245614035088,0.8421052631578947,0.8947368421052632,0.8596491228070176,0.9298245614035088,0.8596491228070176,0.8771929824561403,0.6833333333333333,0.6866666666666666,0.7133333333333334,0.7166666666666667,0.6733333333333333,0.6666666666666666,0.7166666666666667,0.7533333333333333,0.71,0.6866666666666666,0.73,0.6933333333333334,0.68,0.71,0.7,0.7166666666666667,0.72,0.7433333333333333,0.7433333333333333,0.72,0.6833333333333333,0.6666666666666666,0.71,0.6933333333333334,0.7,0.6633333333333333,0.68,0.6733333333333333,0.6866666666666666,0.72,0.8053892215568862,0.6706586826347305,0.7544910179640718,0.7305389221556886,0.7335329341317365,0.7604790419161677,0.7395209580838323,0.7574850299401198,0.7455089820359282,0.7275449101796407,0.718562874251497,0.7395209580838323,0.7365269461077845,0.7365269461077845,0.7485029940119761,0.7395209580838323,0.7544910179640718,0.6616766467065869,0.7065868263473054,0.7335329341317365,0.7095808383233533,0.7604790419161677,0.7335329341317365,0.7215568862275449,0.7544910179640718,0.718562874251497,0.7395209580838323,0.7155688622754491,0.7305389221556886,0.7395209580838323,0.8770491803278688,0.860655737704918,0.8442622950819673,0.8524590163934426,0.9016393442622951,0.8278688524590164,0.8934426229508197,0.8114754098360656,0.8114754098360656,0.7950819672131147,0.8278688524590164,0.8360655737704918,0.8524590163934426,0.9098360655737705,0.8360655737704918,0.8524590163934426,0.8524590163934426,0.8524590163934426,0.8770491803278688,0.860655737704918,0.860655737704918,0.860655737704918,0.8360655737704918,0.8770491803278688,0.8770491803278688,0.9344262295081968,0.8770491803278688,0.819672131147541,0.8524590163934426,0.8442622950819673],\"y0\":\" \",\"yaxis\":\"y\",\"type\":\"box\",\"opacity\":1.0}],                        {\"template\":{\"data\":{\"histogram2dcontour\":[{\"type\":\"histogram2dcontour\",\"colorbar\":{\"outlinewidth\":0,\"ticks\":\"\"},\"colorscale\":[[0.0,\"#0d0887\"],[0.1111111111111111,\"#46039f\"],[0.2222222222222222,\"#7201a8\"],[0.3333333333333333,\"#9c179e\"],[0.4444444444444444,\"#bd3786\"],[0.5555555555555556,\"#d8576b\"],[0.6666666666666666,\"#ed7953\"],[0.7777777777777778,\"#fb9f3a\"],[0.8888888888888888,\"#fdca26\"],[1.0,\"#f0f921\"]]}],\"choropleth\":[{\"type\":\"choropleth\",\"colorbar\":{\"outlinewidth\":0,\"ticks\":\"\"}}],\"histogram2d\":[{\"type\":\"histogram2d\",\"colorbar\":{\"outlinewidth\":0,\"ticks\":\"\"},\"colorscale\":[[0.0,\"#0d0887\"],[0.1111111111111111,\"#46039f\"],[0.2222222222222222,\"#7201a8\"],[0.3333333333333333,\"#9c179e\"],[0.4444444444444444,\"#bd3786\"],[0.5555555555555556,\"#d8576b\"],[0.6666666666666666,\"#ed7953\"],[0.7777777777777778,\"#fb9f3a\"],[0.8888888888888888,\"#fdca26\"],[1.0,\"#f0f921\"]]}],\"heatmap\":[{\"type\":\"heatmap\",\"colorbar\":{\"outlinewidth\":0,\"ticks\":\"\"},\"colorscale\":[[0.0,\"#0d0887\"],[0.1111111111111111,\"#46039f\"],[0.2222222222222222,\"#7201a8\"],[0.3333333333333333,\"#9c179e\"],[0.4444444444444444,\"#bd3786\"],[0.5555555555555556,\"#d8576b\"],[0.6666666666666666,\"#ed7953\"],[0.7777777777777778,\"#fb9f3a\"],[0.8888888888888888,\"#fdca26\"],[1.0,\"#f0f921\"]]}],\"heatmapgl\":[{\"type\":\"heatmapgl\",\"colorbar\":{\"outlinewidth\":0,\"ticks\":\"\"},\"colorscale\":[[0.0,\"#0d0887\"],[0.1111111111111111,\"#46039f\"],[0.2222222222222222,\"#7201a8\"],[0.3333333333333333,\"#9c179e\"],[0.4444444444444444,\"#bd3786\"],[0.5555555555555556,\"#d8576b\"],[0.6666666666666666,\"#ed7953\"],[0.7777777777777778,\"#fb9f3a\"],[0.8888888888888888,\"#fdca26\"],[1.0,\"#f0f921\"]]}],\"contourcarpet\":[{\"type\":\"contourcarpet\",\"colorbar\":{\"outlinewidth\":0,\"ticks\":\"\"}}],\"contour\":[{\"type\":\"contour\",\"colorbar\":{\"outlinewidth\":0,\"ticks\":\"\"},\"colorscale\":[[0.0,\"#0d0887\"],[0.1111111111111111,\"#46039f\"],[0.2222222222222222,\"#7201a8\"],[0.3333333333333333,\"#9c179e\"],[0.4444444444444444,\"#bd3786\"],[0.5555555555555556,\"#d8576b\"],[0.6666666666666666,\"#ed7953\"],[0.7777777777777778,\"#fb9f3a\"],[0.8888888888888888,\"#fdca26\"],[1.0,\"#f0f921\"]]}],\"surface\":[{\"type\":\"surface\",\"colorbar\":{\"outlinewidth\":0,\"ticks\":\"\"},\"colorscale\":[[0.0,\"#0d0887\"],[0.1111111111111111,\"#46039f\"],[0.2222222222222222,\"#7201a8\"],[0.3333333333333333,\"#9c179e\"],[0.4444444444444444,\"#bd3786\"],[0.5555555555555556,\"#d8576b\"],[0.6666666666666666,\"#ed7953\"],[0.7777777777777778,\"#fb9f3a\"],[0.8888888888888888,\"#fdca26\"],[1.0,\"#f0f921\"]]}],\"mesh3d\":[{\"type\":\"mesh3d\",\"colorbar\":{\"outlinewidth\":0,\"ticks\":\"\"}}],\"scatter\":[{\"fillpattern\":{\"fillmode\":\"overlay\",\"size\":10,\"solidity\":0.2},\"type\":\"scatter\"}],\"parcoords\":[{\"type\":\"parcoords\",\"line\":{\"colorbar\":{\"outlinewidth\":0,\"ticks\":\"\"}}}],\"scatterpolargl\":[{\"type\":\"scatterpolargl\",\"marker\":{\"colorbar\":{\"outlinewidth\":0,\"ticks\":\"\"}}}],\"bar\":[{\"error_x\":{\"color\":\"#2a3f5f\"},\"error_y\":{\"color\":\"#2a3f5f\"},\"marker\":{\"line\":{\"color\":\"#E5ECF6\",\"width\":0.5},\"pattern\":{\"fillmode\":\"overlay\",\"size\":10,\"solidity\":0.2}},\"type\":\"bar\"}],\"scattergeo\":[{\"type\":\"scattergeo\",\"marker\":{\"colorbar\":{\"outlinewidth\":0,\"ticks\":\"\"}}}],\"scatterpolar\":[{\"type\":\"scatterpolar\",\"marker\":{\"colorbar\":{\"outlinewidth\":0,\"ticks\":\"\"}}}],\"histogram\":[{\"marker\":{\"pattern\":{\"fillmode\":\"overlay\",\"size\":10,\"solidity\":0.2}},\"type\":\"histogram\"}],\"scattergl\":[{\"type\":\"scattergl\",\"marker\":{\"colorbar\":{\"outlinewidth\":0,\"ticks\":\"\"}}}],\"scatter3d\":[{\"type\":\"scatter3d\",\"line\":{\"colorbar\":{\"outlinewidth\":0,\"ticks\":\"\"}},\"marker\":{\"colorbar\":{\"outlinewidth\":0,\"ticks\":\"\"}}}],\"scattermapbox\":[{\"type\":\"scattermapbox\",\"marker\":{\"colorbar\":{\"outlinewidth\":0,\"ticks\":\"\"}}}],\"scatterternary\":[{\"type\":\"scatterternary\",\"marker\":{\"colorbar\":{\"outlinewidth\":0,\"ticks\":\"\"}}}],\"scattercarpet\":[{\"type\":\"scattercarpet\",\"marker\":{\"colorbar\":{\"outlinewidth\":0,\"ticks\":\"\"}}}],\"carpet\":[{\"aaxis\":{\"endlinecolor\":\"#2a3f5f\",\"gridcolor\":\"white\",\"linecolor\":\"white\",\"minorgridcolor\":\"white\",\"startlinecolor\":\"#2a3f5f\"},\"baxis\":{\"endlinecolor\":\"#2a3f5f\",\"gridcolor\":\"white\",\"linecolor\":\"white\",\"minorgridcolor\":\"white\",\"startlinecolor\":\"#2a3f5f\"},\"type\":\"carpet\"}],\"table\":[{\"cells\":{\"fill\":{\"color\":\"#EBF0F8\"},\"line\":{\"color\":\"white\"}},\"header\":{\"fill\":{\"color\":\"#C8D4E3\"},\"line\":{\"color\":\"white\"}},\"type\":\"table\"}],\"barpolar\":[{\"marker\":{\"line\":{\"color\":\"#E5ECF6\",\"width\":0.5},\"pattern\":{\"fillmode\":\"overlay\",\"size\":10,\"solidity\":0.2}},\"type\":\"barpolar\"}],\"pie\":[{\"automargin\":true,\"type\":\"pie\"}]},\"layout\":{\"autotypenumbers\":\"strict\",\"colorway\":[\"#636efa\",\"#EF553B\",\"#00cc96\",\"#ab63fa\",\"#FFA15A\",\"#19d3f3\",\"#FF6692\",\"#B6E880\",\"#FF97FF\",\"#FECB52\"],\"font\":{\"color\":\"#2a3f5f\"},\"hovermode\":\"closest\",\"hoverlabel\":{\"align\":\"left\"},\"paper_bgcolor\":\"white\",\"plot_bgcolor\":\"#E5ECF6\",\"polar\":{\"bgcolor\":\"#E5ECF6\",\"angularaxis\":{\"gridcolor\":\"white\",\"linecolor\":\"white\",\"ticks\":\"\"},\"radialaxis\":{\"gridcolor\":\"white\",\"linecolor\":\"white\",\"ticks\":\"\"}},\"ternary\":{\"bgcolor\":\"#E5ECF6\",\"aaxis\":{\"gridcolor\":\"white\",\"linecolor\":\"white\",\"ticks\":\"\"},\"baxis\":{\"gridcolor\":\"white\",\"linecolor\":\"white\",\"ticks\":\"\"},\"caxis\":{\"gridcolor\":\"white\",\"linecolor\":\"white\",\"ticks\":\"\"}},\"coloraxis\":{\"colorbar\":{\"outlinewidth\":0,\"ticks\":\"\"}},\"colorscale\":{\"sequential\":[[0.0,\"#0d0887\"],[0.1111111111111111,\"#46039f\"],[0.2222222222222222,\"#7201a8\"],[0.3333333333333333,\"#9c179e\"],[0.4444444444444444,\"#bd3786\"],[0.5555555555555556,\"#d8576b\"],[0.6666666666666666,\"#ed7953\"],[0.7777777777777778,\"#fb9f3a\"],[0.8888888888888888,\"#fdca26\"],[1.0,\"#f0f921\"]],\"sequentialminus\":[[0.0,\"#0d0887\"],[0.1111111111111111,\"#46039f\"],[0.2222222222222222,\"#7201a8\"],[0.3333333333333333,\"#9c179e\"],[0.4444444444444444,\"#bd3786\"],[0.5555555555555556,\"#d8576b\"],[0.6666666666666666,\"#ed7953\"],[0.7777777777777778,\"#fb9f3a\"],[0.8888888888888888,\"#fdca26\"],[1.0,\"#f0f921\"]],\"diverging\":[[0,\"#8e0152\"],[0.1,\"#c51b7d\"],[0.2,\"#de77ae\"],[0.3,\"#f1b6da\"],[0.4,\"#fde0ef\"],[0.5,\"#f7f7f7\"],[0.6,\"#e6f5d0\"],[0.7,\"#b8e186\"],[0.8,\"#7fbc41\"],[0.9,\"#4d9221\"],[1,\"#276419\"]]},\"xaxis\":{\"gridcolor\":\"white\",\"linecolor\":\"white\",\"ticks\":\"\",\"title\":{\"standoff\":15},\"zerolinecolor\":\"white\",\"automargin\":true,\"zerolinewidth\":2},\"yaxis\":{\"gridcolor\":\"white\",\"linecolor\":\"white\",\"ticks\":\"\",\"title\":{\"standoff\":15},\"zerolinecolor\":\"white\",\"automargin\":true,\"zerolinewidth\":2},\"scene\":{\"xaxis\":{\"backgroundcolor\":\"#E5ECF6\",\"gridcolor\":\"white\",\"linecolor\":\"white\",\"showbackground\":true,\"ticks\":\"\",\"zerolinecolor\":\"white\",\"gridwidth\":2},\"yaxis\":{\"backgroundcolor\":\"#E5ECF6\",\"gridcolor\":\"white\",\"linecolor\":\"white\",\"showbackground\":true,\"ticks\":\"\",\"zerolinecolor\":\"white\",\"gridwidth\":2},\"zaxis\":{\"backgroundcolor\":\"#E5ECF6\",\"gridcolor\":\"white\",\"linecolor\":\"white\",\"showbackground\":true,\"ticks\":\"\",\"zerolinecolor\":\"white\",\"gridwidth\":2}},\"shapedefaults\":{\"line\":{\"color\":\"#2a3f5f\"}},\"annotationdefaults\":{\"arrowcolor\":\"#2a3f5f\",\"arrowhead\":0,\"arrowwidth\":1},\"geo\":{\"bgcolor\":\"white\",\"landcolor\":\"#E5ECF6\",\"subunitcolor\":\"white\",\"showland\":true,\"showlakes\":true,\"lakecolor\":\"white\"},\"title\":{\"x\":0.05},\"mapbox\":{\"style\":\"light\"}}},\"xaxis\":{\"anchor\":\"y\",\"domain\":[0.0,1.0],\"title\":{\"text\":\"\"},\"mirror\":true,\"zeroline\":true,\"showline\":true,\"linecolor\":\"black\",\"linewidth\":2,\"showgrid\":false,\"gridwidth\":0.5,\"gridcolor\":\"#e3e1e1\"},\"yaxis\":{\"anchor\":\"x\",\"domain\":[0.0,1.0],\"title\":{\"text\":\"Feature Importance Score\"},\"color\":\"black\",\"zeroline\":true,\"showline\":true,\"linecolor\":\"black\",\"mirror\":true,\"linewidth\":2,\"showgrid\":false,\"gridwidth\":0.5,\"gridcolor\":\"grey\"},\"legend\":{\"tracegroupgap\":0},\"margin\":{\"t\":60},\"boxmode\":\"group\",\"paper_bgcolor\":\"white\",\"plot_bgcolor\":\"white\",\"font\":{\"size\":16,\"color\":\"black\"},\"width\":800,\"height\":700,\"showlegend\":true},                        {\"responsive\": true}                    ).then(function(){\n",
       "                            \n",
       "var gd = document.getElementById('f7477244-3056-4162-badb-0f60960b5918');\n",
       "var x = new MutationObserver(function (mutations, observer) {{\n",
       "        var display = window.getComputedStyle(gd).display;\n",
       "        if (!display || display === 'none') {{\n",
       "            console.log([gd, 'removed!']);\n",
       "            Plotly.purge(gd);\n",
       "            observer.disconnect();\n",
       "        }}\n",
       "}});\n",
       "\n",
       "// Listen for the removal of the full notebook cells\n",
       "var notebookContainer = gd.closest('#notebook-container');\n",
       "if (notebookContainer) {{\n",
       "    x.observe(notebookContainer, {childList: true});\n",
       "}}\n",
       "\n",
       "// Listen for the clearing of the current output cell\n",
       "var outputEl = gd.closest('.output');\n",
       "if (outputEl) {{\n",
       "    x.observe(outputEl, {childList: true});\n",
       "}}\n",
       "\n",
       "                        })                };                });            </script>        </div>"
      ]
     },
     "metadata": {},
     "output_type": "display_data"
    }
   ],
   "source": [
    "fig = px.box(accuracy_df, x=\"dataset\", y=\"accuracy\")\n",
    "\n",
    "fig.update_layout(paper_bgcolor='white')\n",
    "fig.update_layout(plot_bgcolor='white')\n",
    "fig.update_yaxes(color='black')\n",
    "fig.update_layout(\n",
    "    yaxis = dict(\n",
    "        title = \"Feature Importance Score\",\n",
    "        zeroline=True,\n",
    "        showline = True,\n",
    "        linecolor = 'black',\n",
    "        mirror=True,\n",
    "        linewidth = 2\n",
    "    ),\n",
    "    xaxis = dict(\n",
    "        title = \"\",\n",
    "        mirror=True,\n",
    "        zeroline=True,\n",
    "        showline = True,\n",
    "        linecolor = 'black',\n",
    "        linewidth = 2,\n",
    "    ),\n",
    "    width=800,\n",
    "    height=700,\n",
    "    font=dict(\n",
    "    size=16,\n",
    "    color=\"black\")  \n",
    ")\n",
    "fig.update_layout(showlegend=True)\n",
    "\n",
    "# fig.update_layout(legend=dict(\n",
    "#     yanchor=\"top\",\n",
    "#     y=0.99,\n",
    "#     xanchor=\"left\",\n",
    "#     x=0.85,\n",
    "#     bgcolor=\"white\",\n",
    "#     bordercolor=\"Black\",\n",
    "#     borderwidth=1\n",
    "# ))\n",
    "\n",
    "fig.update_xaxes(showgrid=False, gridwidth=0.5, gridcolor='#e3e1e1')\n",
    "fig.update_yaxes(showgrid=False, gridwidth=0.5, gridcolor='grey')\n",
    "fig.update_traces(marker_line_color='black', marker_line_width=1.0, opacity=1.0)\n",
    "\n",
    "fig.show()"
   ]
  },
  {
   "cell_type": "code",
   "execution_count": 101,
   "id": "c1c55566-f70f-4b27-911d-e065c029dc44",
   "metadata": {},
   "outputs": [
    {
     "data": {
      "text/html": [
       "<div>\n",
       "<style scoped>\n",
       "    .dataframe tbody tr th:only-of-type {\n",
       "        vertical-align: middle;\n",
       "    }\n",
       "\n",
       "    .dataframe tbody tr th {\n",
       "        vertical-align: top;\n",
       "    }\n",
       "\n",
       "    .dataframe thead th {\n",
       "        text-align: right;\n",
       "    }\n",
       "</style>\n",
       "<table border=\"1\" class=\"dataframe\">\n",
       "  <thead>\n",
       "    <tr style=\"text-align: right;\">\n",
       "      <th></th>\n",
       "      <th>accuracy</th>\n",
       "    </tr>\n",
       "    <tr>\n",
       "      <th>dataset</th>\n",
       "      <th></th>\n",
       "    </tr>\n",
       "  </thead>\n",
       "  <tbody>\n",
       "    <tr>\n",
       "      <th>BZR</th>\n",
       "      <td>0.855738</td>\n",
       "    </tr>\n",
       "    <tr>\n",
       "      <th>IMDB</th>\n",
       "      <td>0.701333</td>\n",
       "    </tr>\n",
       "    <tr>\n",
       "      <th>MUTAG</th>\n",
       "      <td>0.864327</td>\n",
       "    </tr>\n",
       "    <tr>\n",
       "      <th>NCI1</th>\n",
       "      <td>0.731657</td>\n",
       "    </tr>\n",
       "    <tr>\n",
       "      <th>PROTEINS</th>\n",
       "      <td>0.734132</td>\n",
       "    </tr>\n",
       "  </tbody>\n",
       "</table>\n",
       "</div>"
      ],
      "text/plain": [
       "          accuracy\n",
       "dataset           \n",
       "BZR       0.855738\n",
       "IMDB      0.701333\n",
       "MUTAG     0.864327\n",
       "NCI1      0.731657\n",
       "PROTEINS  0.734132"
      ]
     },
     "execution_count": 101,
     "metadata": {},
     "output_type": "execute_result"
    }
   ],
   "source": [
    "accuracy_df.groupby(by=[\"dataset\"]).mean()"
   ]
  },
  {
   "cell_type": "code",
   "execution_count": 103,
   "id": "efec5149-7420-4a4f-8de2-4946b407030a",
   "metadata": {},
   "outputs": [],
   "source": [
    "feat_importance_df.to_csv(\"./data/feat_importance.csv\", index=False)"
   ]
  },
  {
   "cell_type": "code",
   "execution_count": null,
   "id": "3792133c-3266-4a3e-9253-0b83285c23ac",
   "metadata": {},
   "outputs": [],
   "source": []
  },
  {
   "cell_type": "code",
   "execution_count": null,
   "id": "193db0d7-0b51-40f1-8404-e1ce6d837119",
   "metadata": {},
   "outputs": [],
   "source": []
  }
 ],
 "metadata": {
  "kernelspec": {
   "display_name": "Python 3 (ipykernel)",
   "language": "python",
   "name": "python3"
  },
  "language_info": {
   "codemirror_mode": {
    "name": "ipython",
    "version": 3
   },
   "file_extension": ".py",
   "mimetype": "text/x-python",
   "name": "python",
   "nbconvert_exporter": "python",
   "pygments_lexer": "ipython3",
   "version": "3.11.8"
  }
 },
 "nbformat": 4,
 "nbformat_minor": 5
}
